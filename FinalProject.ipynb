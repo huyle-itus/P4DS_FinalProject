{
 "cells": [
  {
   "cell_type": "markdown",
   "id": "97fe17fd",
   "metadata": {},
   "source": [
    "# 1. Thông tin chung\n",
    "Thông tin của nhóm"
   ]
  },
  {
   "cell_type": "markdown",
   "id": "a64d3ee1",
   "metadata": {},
   "source": [
    "# 2. Thông tin về dữ liệu"
   ]
  },
  {
   "cell_type": "markdown",
   "id": "06bb09a8",
   "metadata": {},
   "source": [
    "## 2.1 Thông tin chung\n",
    "- Thu thập ở đâu?\n",
    "- License ra sao?\n",
    "- Người ta thu thập ra sao?"
   ]
  },
  {
   "cell_type": "markdown",
   "id": "e1e41c09",
   "metadata": {},
   "source": [
    "## 2.2 Khám phá dữ liệu"
   ]
  },
  {
   "cell_type": "markdown",
   "id": "76ab1bc8",
   "metadata": {},
   "source": [
    "# 3. Câu hỏi cần trả lời"
   ]
  },
  {
   "cell_type": "markdown",
   "id": "aa2162b3",
   "metadata": {},
   "source": [
    "## 3.1 Câu hỏi 1"
   ]
  },
  {
   "cell_type": "markdown",
   "id": "5db3855a",
   "metadata": {},
   "source": [
    "### 3.1.1 Nêu vấn đề"
   ]
  },
  {
   "cell_type": "markdown",
   "id": "325fd600",
   "metadata": {},
   "source": [
    "### 3.1.2 Data Preprocessing"
   ]
  },
  {
   "cell_type": "markdown",
   "id": "e98d0b71",
   "metadata": {},
   "source": [
    "### 3.1.3 Analysis, Visualization"
   ]
  },
  {
   "cell_type": "markdown",
   "id": "3a46a20e",
   "metadata": {},
   "source": [
    "### 3.1.4 Kết luận"
   ]
  },
  {
   "cell_type": "markdown",
   "id": "55c97ef7",
   "metadata": {},
   "source": [
    "## 3.2 Câu hỏi 2"
   ]
  },
  {
   "cell_type": "markdown",
   "id": "20355d57",
   "metadata": {},
   "source": [
    "### 3.2.1 Nêu vấn đề"
   ]
  },
  {
   "cell_type": "markdown",
   "id": "b1cfcee6",
   "metadata": {},
   "source": [
    "### 3.2.2 Data Preprocessing"
   ]
  },
  {
   "cell_type": "markdown",
   "id": "057a6d94",
   "metadata": {},
   "source": [
    "### 3.2.3 Analysis, Visualization"
   ]
  },
  {
   "cell_type": "markdown",
   "id": "d44c5a11",
   "metadata": {},
   "source": [
    "### 3.2.4 Kết luận"
   ]
  },
  {
   "cell_type": "markdown",
   "id": "62b26be3",
   "metadata": {},
   "source": [
    "## 3.3 Phương hướng phát triển nếu còn thời gian"
   ]
  },
  {
   "cell_type": "markdown",
   "id": "0aeaed66",
   "metadata": {},
   "source": [
    "# 4. Cảm nhận sau khi kết thúc môn học"
   ]
  },
  {
   "cell_type": "markdown",
   "id": "68872f4a",
   "metadata": {},
   "source": [
    "## 4.1 Lê Đức Huy - 19120080"
   ]
  },
  {
   "cell_type": "markdown",
   "id": "d941c710",
   "metadata": {},
   "source": [
    "## 4.2 Mai Duy Nam - 19120298"
   ]
  },
  {
   "cell_type": "markdown",
   "id": "a108f516",
   "metadata": {},
   "source": [
    "# 5. Tài liệu tham khảo"
   ]
  }
 ],
 "metadata": {
  "kernelspec": {
   "display_name": "Python 3 (ipykernel)",
   "language": "python",
   "name": "python3"
  },
  "language_info": {
   "codemirror_mode": {
    "name": "ipython",
    "version": 3
   },
   "file_extension": ".py",
   "mimetype": "text/x-python",
   "name": "python",
   "nbconvert_exporter": "python",
   "pygments_lexer": "ipython3",
   "version": "3.8.8"
  }
 },
 "nbformat": 4,
 "nbformat_minor": 5
}

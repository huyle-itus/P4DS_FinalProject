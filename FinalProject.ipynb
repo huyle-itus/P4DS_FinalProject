{
 "cells": [
  {
   "cell_type": "markdown",
   "id": "97fe17fd",
   "metadata": {},
   "source": [
    "# 1. Thông tin chung\n",
    "Thành viên:\n",
    "\n",
    "|MSSV|Họ tên|\n",
    "|----|-----|\n",
    "|19120080|Lê Đức Huy|\n",
    "|19120298|Mai Duy Nam|"
   ]
  },
  {
   "cell_type": "markdown",
   "id": "a64d3ee1",
   "metadata": {},
   "source": [
    "# 2. Thông tin về dữ liệu"
   ]
  },
  {
   "cell_type": "markdown",
   "id": "06bb09a8",
   "metadata": {},
   "source": [
    "## 2.1 Thông tin chung\n",
    "Dataset trong đồ án này được lấy từ Kaggle tại [đây](https://www.kaggle.com/halhuynh/it-jobs-dataset).\n",
    "\n",
    "Dataset này chứa thông tin về các công ty IT ở Việt Nam và các công việc được đăng tải bởi các công ty này. Dữ liệu này được tác giả crawl từ trang web [ITviec](https://itviec.com/). Dataset này bao gồm 2 file:\n",
    "* `companies.csv` chứa thông tin về các công ty (tên công ty, lượt rating, lượt review, địa chỉ, v.v.) có tăng tải việc làm trên ITviec\n",
    "* `jobs.csv` chứa thông tin về việc làm được đăng tải bởi các công ty (tên công việc, mô tả, yêu cầu kỹ năng, v.v.)\n",
    "\n",
    "Hai tập dữ liệu này có mối liên hệ với nhau thông qua cột `company_id`."
   ]
  },
  {
   "cell_type": "markdown",
   "id": "e1e41c09",
   "metadata": {},
   "source": [
    "## 2.2 Khám phá dữ liệu"
   ]
  },
  {
   "cell_type": "markdown",
   "id": "theoretical-suffering",
   "metadata": {},
   "source": [
    "Ở các phần sau, ta lần lượt khám phá 2 bộ dữ liệu `companies` và `jobs` thu thập được"
   ]
  },
  {
   "cell_type": "markdown",
   "id": "interpreted-gospel",
   "metadata": {},
   "source": [
    "### 2.2.1 `companies`"
   ]
  },
  {
   "cell_type": "markdown",
   "id": "north-vector",
   "metadata": {},
   "source": [
    "#### Nạp dữ liệu"
   ]
  },
  {
   "cell_type": "code",
   "execution_count": 54,
   "id": "grateful-controversy",
   "metadata": {},
   "outputs": [],
   "source": [
    "import numpy as np\n",
    "import pandas as pd\n",
    "import matplotlib.pyplot as plt"
   ]
  },
  {
   "cell_type": "code",
   "execution_count": 55,
   "id": "million-stopping",
   "metadata": {},
   "outputs": [
    {
     "data": {
      "text/html": [
       "<div>\n",
       "<style scoped>\n",
       "    .dataframe tbody tr th:only-of-type {\n",
       "        vertical-align: middle;\n",
       "    }\n",
       "\n",
       "    .dataframe tbody tr th {\n",
       "        vertical-align: top;\n",
       "    }\n",
       "\n",
       "    .dataframe thead th {\n",
       "        text-align: right;\n",
       "    }\n",
       "</style>\n",
       "<table border=\"1\" class=\"dataframe\">\n",
       "  <thead>\n",
       "    <tr style=\"text-align: right;\">\n",
       "      <th></th>\n",
       "      <th>company_id</th>\n",
       "      <th>company_name</th>\n",
       "      <th>average_rating</th>\n",
       "      <th>num_review</th>\n",
       "      <th>city</th>\n",
       "      <th>type</th>\n",
       "      <th>num_employee</th>\n",
       "      <th>country</th>\n",
       "      <th>working_day</th>\n",
       "      <th>OT</th>\n",
       "      <th>overview</th>\n",
       "      <th>expertise</th>\n",
       "      <th>benifit</th>\n",
       "      <th>logo_link</th>\n",
       "    </tr>\n",
       "  </thead>\n",
       "  <tbody>\n",
       "    <tr>\n",
       "      <th>0</th>\n",
       "      <td>kms-technology</td>\n",
       "      <td>KMS Technology</td>\n",
       "      <td>4.0</td>\n",
       "      <td>197 Reviews</td>\n",
       "      <td>Ho Chi Minh, Da Nang, Ha Noi</td>\n",
       "      <td>Outsourcing</td>\n",
       "      <td>1000+</td>\n",
       "      <td>United States</td>\n",
       "      <td>Monday - Friday</td>\n",
       "      <td>No OT</td>\n",
       "      <td>Established in 2009, KMS Technology is a U.S.-...</td>\n",
       "      <td>NaN</td>\n",
       "      <td>Want to be the Best? Join KMS!\\n\\n\\nIt’s posit...</td>\n",
       "      <td>https://itviec.com/rails/active_storage/repres...</td>\n",
       "    </tr>\n",
       "    <tr>\n",
       "      <th>1</th>\n",
       "      <td>nab-in-collaboration-with-positive-thinking-co...</td>\n",
       "      <td>NAB in collaboration with Positive Thinking Co...</td>\n",
       "      <td>4.4</td>\n",
       "      <td>11 Reviews</td>\n",
       "      <td>Ho Chi Minh</td>\n",
       "      <td>Product</td>\n",
       "      <td>501-1000</td>\n",
       "      <td>Australia</td>\n",
       "      <td>Monday - Friday</td>\n",
       "      <td>No OT</td>\n",
       "      <td>NAB in collaboration with Positive Thinking Co...</td>\n",
       "      <td>Languages &amp;amp; Frameworks\\n\\n\\nJavaScript ES6...</td>\n",
       "      <td>THE BENEFITS AND PERKS\\n\\n\\n\\n\\nVery competiti...</td>\n",
       "      <td>https://itviec.com/rails/active_storage/repres...</td>\n",
       "    </tr>\n",
       "    <tr>\n",
       "      <th>2</th>\n",
       "      <td>robert-bosch-engineering-and-business-solutions</td>\n",
       "      <td>Robert Bosch Engineering And Business Solutions</td>\n",
       "      <td>3.2</td>\n",
       "      <td>217 Reviews</td>\n",
       "      <td>Ho Chi Minh, Ha Noi</td>\n",
       "      <td>Product</td>\n",
       "      <td>1-50</td>\n",
       "      <td>Germany</td>\n",
       "      <td>Monday - Friday</td>\n",
       "      <td>No OT</td>\n",
       "      <td>Robert BOSCH Engineering and Business Solution...</td>\n",
       "      <td>Embedded Software for Automotive Applications\\...</td>\n",
       "      <td>Why \\nBOSCH\\n?\\n\\nBecause we don't just follow...</td>\n",
       "      <td>https://itviec.com/rails/active_storage/repres...</td>\n",
       "    </tr>\n",
       "    <tr>\n",
       "      <th>3</th>\n",
       "      <td>gft-technologies-vietnam</td>\n",
       "      <td>GFT Technologies Vietnam</td>\n",
       "      <td>NaN</td>\n",
       "      <td>Reviews</td>\n",
       "      <td>Ho Chi Minh, Ha Noi</td>\n",
       "      <td>Outsourcing</td>\n",
       "      <td>51-150</td>\n",
       "      <td>Germany</td>\n",
       "      <td>Monday - Friday</td>\n",
       "      <td>No OT</td>\n",
       "      <td>Working at GFT Vietnam\\n\\n\\nGFT is driving the...</td>\n",
       "      <td>Technical frameworks\\n\\n\\nJava/Kotlin, Spring ...</td>\n",
       "      <td>HR benefits\\n\\n\\n\\n\\nCompetitive salary\\n\\n\\nS...</td>\n",
       "      <td>https://itviec.com/rails/active_storage/repres...</td>\n",
       "    </tr>\n",
       "    <tr>\n",
       "      <th>4</th>\n",
       "      <td>tyme</td>\n",
       "      <td>Tyme</td>\n",
       "      <td>4.6</td>\n",
       "      <td>29 Reviews</td>\n",
       "      <td>Ho Chi Minh, Ha Noi</td>\n",
       "      <td>Product</td>\n",
       "      <td>151-300</td>\n",
       "      <td>Vietnam</td>\n",
       "      <td>Monday - Friday</td>\n",
       "      <td>No OT</td>\n",
       "      <td>Tyme Vietnam\\n is the international arm of \\nT...</td>\n",
       "      <td>Mobile/ Tablet Development: \\nNative Android/i...</td>\n",
       "      <td>Our goal is simple: to be the #1 digital techn...</td>\n",
       "      <td>https://itviec.com/rails/active_storage/repres...</td>\n",
       "    </tr>\n",
       "  </tbody>\n",
       "</table>\n",
       "</div>"
      ],
      "text/plain": [
       "                                          company_id  \\\n",
       "0                                     kms-technology   \n",
       "1  nab-in-collaboration-with-positive-thinking-co...   \n",
       "2    robert-bosch-engineering-and-business-solutions   \n",
       "3                           gft-technologies-vietnam   \n",
       "4                                               tyme   \n",
       "\n",
       "                                        company_name  average_rating  \\\n",
       "0                                     KMS Technology             4.0   \n",
       "1  NAB in collaboration with Positive Thinking Co...             4.4   \n",
       "2    Robert Bosch Engineering And Business Solutions             3.2   \n",
       "3                           GFT Technologies Vietnam             NaN   \n",
       "4                                               Tyme             4.6   \n",
       "\n",
       "    num_review                          city         type num_employee  \\\n",
       "0  197 Reviews  Ho Chi Minh, Da Nang, Ha Noi  Outsourcing        1000+   \n",
       "1   11 Reviews                   Ho Chi Minh      Product     501-1000   \n",
       "2  217 Reviews           Ho Chi Minh, Ha Noi      Product         1-50   \n",
       "3      Reviews           Ho Chi Minh, Ha Noi  Outsourcing       51-150   \n",
       "4   29 Reviews           Ho Chi Minh, Ha Noi      Product      151-300   \n",
       "\n",
       "         country      working_day     OT  \\\n",
       "0  United States  Monday - Friday  No OT   \n",
       "1      Australia  Monday - Friday  No OT   \n",
       "2        Germany  Monday - Friday  No OT   \n",
       "3        Germany  Monday - Friday  No OT   \n",
       "4        Vietnam  Monday - Friday  No OT   \n",
       "\n",
       "                                            overview  \\\n",
       "0  Established in 2009, KMS Technology is a U.S.-...   \n",
       "1  NAB in collaboration with Positive Thinking Co...   \n",
       "2  Robert BOSCH Engineering and Business Solution...   \n",
       "3  Working at GFT Vietnam\\n\\n\\nGFT is driving the...   \n",
       "4  Tyme Vietnam\\n is the international arm of \\nT...   \n",
       "\n",
       "                                           expertise  \\\n",
       "0                                                NaN   \n",
       "1  Languages &amp; Frameworks\\n\\n\\nJavaScript ES6...   \n",
       "2  Embedded Software for Automotive Applications\\...   \n",
       "3  Technical frameworks\\n\\n\\nJava/Kotlin, Spring ...   \n",
       "4  Mobile/ Tablet Development: \\nNative Android/i...   \n",
       "\n",
       "                                             benifit  \\\n",
       "0  Want to be the Best? Join KMS!\\n\\n\\nIt’s posit...   \n",
       "1  THE BENEFITS AND PERKS\\n\\n\\n\\n\\nVery competiti...   \n",
       "2  Why \\nBOSCH\\n?\\n\\nBecause we don't just follow...   \n",
       "3  HR benefits\\n\\n\\n\\n\\nCompetitive salary\\n\\n\\nS...   \n",
       "4  Our goal is simple: to be the #1 digital techn...   \n",
       "\n",
       "                                           logo_link  \n",
       "0  https://itviec.com/rails/active_storage/repres...  \n",
       "1  https://itviec.com/rails/active_storage/repres...  \n",
       "2  https://itviec.com/rails/active_storage/repres...  \n",
       "3  https://itviec.com/rails/active_storage/repres...  \n",
       "4  https://itviec.com/rails/active_storage/repres...  "
      ]
     },
     "execution_count": 55,
     "metadata": {},
     "output_type": "execute_result"
    }
   ],
   "source": [
    "companies_df = pd.read_csv('dataset/companies.csv')\n",
    "companies_df.head()"
   ]
  },
  {
   "cell_type": "markdown",
   "id": "retained-advance",
   "metadata": {},
   "source": [
    "#### Số lượng dòng và cột"
   ]
  },
  {
   "cell_type": "code",
   "execution_count": 56,
   "id": "introductory-preference",
   "metadata": {},
   "outputs": [
    {
     "name": "stdout",
     "output_type": "stream",
     "text": [
      "Number of rows: 2041\n",
      "Number of columns: 14\n"
     ]
    }
   ],
   "source": [
    "print('Number of rows: {}\\nNumber of columns: {}'.format(*companies_df.shape))"
   ]
  },
  {
   "cell_type": "markdown",
   "id": "colonial-amateur",
   "metadata": {},
   "source": [
    "#### Các dòng có ý nghĩa gì?\n",
    "Mỗi dòng chứa thông tin của một công ty dựa theo trang ITviec. Mỗi công ty có một ID duy nhất."
   ]
  },
  {
   "cell_type": "markdown",
   "id": "valued-august",
   "metadata": {},
   "source": [
    "Kiểm tra có dòng nào bị lặp hay không."
   ]
  },
  {
   "cell_type": "code",
   "execution_count": 57,
   "id": "seeing-scholar",
   "metadata": {},
   "outputs": [
    {
     "data": {
      "text/plain": [
       "False"
      ]
     },
     "execution_count": 57,
     "metadata": {},
     "output_type": "execute_result"
    }
   ],
   "source": [
    "companies_df.duplicated().sum() != 0"
   ]
  },
  {
   "cell_type": "markdown",
   "id": "democratic-sunset",
   "metadata": {},
   "source": [
    "Kiểm tra có ID công ty nào bị lặp hay không."
   ]
  },
  {
   "cell_type": "code",
   "execution_count": 58,
   "id": "concrete-shakespeare",
   "metadata": {},
   "outputs": [
    {
     "data": {
      "text/plain": [
       "False"
      ]
     },
     "execution_count": 58,
     "metadata": {},
     "output_type": "execute_result"
    }
   ],
   "source": [
    "companies_df.duplicated('company_id').sum() != 0"
   ]
  },
  {
   "cell_type": "markdown",
   "id": "judicial-executive",
   "metadata": {},
   "source": [
    "#### Các cột có ý nghĩa gì?\n",
    "Tác giả của bộ dữ liệu không mô tả chi tiết về ý nghĩa của các một mà chỉ nói \"The column names are self-explained\". Do đó ta phải tự suy luận về ý nghĩa của các cột:\n",
    "* `company_id`: ID của công ty\n",
    "* `company_name`: tên công ty\n",
    "* `average_rating`: số điểm rating trung bình của công ty trên thang điểm 5\n",
    "* `num_review`: số lượt review công ty\n",
    "* `city`: thành phố\n",
    "* `type`: loại hình công ty (outsourcing hay product)\n",
    "* `num_employee`: số lượng nhân viên\n",
    "* `country`: quốc gia\n",
    "* `working_day`: ngày làm việc trong tuần\n",
    "* `OT`: các chính sách về làm thêm giờ\n",
    "* `overview`: tổng quan về công ty\n",
    "* `expertise`: lĩnh vực chuyên ngành\n",
    "* `benifit` (sai chính tả, phải là `benefit`): lợi ích khi tham gia công ty\n",
    "* `logo_link`: đường dẫn đến logo công ty\n",
    "\n",
    "Có một vấn đề về ý nghĩa các cột: cột `city` không thống nhất với cột `country` (có công ty có thành phố là `Ho Chi Minh` nhưng quốc gia là `Australia`). Do các công ty có thể có nhiều trụ sở đặt ở nhiều quốc gia, trong cùng quốc gia cũng được đặt ở nhiều thành phố khác nhau, cho nên trong các bước phân tích tiếp theo ta sẽ giả sử hai cột `city` và `country` có ý nghĩa như sau:\n",
    "* Cột `city` chứa các thành phố ở Việt Nam nơi các văn phòng của công ty được đặt.\n",
    "* Cột `country` chứa quốc gia nơi trụ sở chính của công ty được đặt.\n",
    "\n",
    "Các cột còn lại đều có ý nghĩa rõ ràng, không có gì gây khó hiểu."
   ]
  },
  {
   "cell_type": "markdown",
   "id": "major-flavor",
   "metadata": {},
   "source": [
    "Trước khi đến bước phân tích tiếp theo, ta thực hiện một số thay đổi về các cột như sau:\n",
    "* Đổi tên các cột cho hợp lý:\n",
    "    * Đổi tên cột `benifit` bị sai chính tả\n",
    "    * Đổi tên cột `city`, `num_review`, `num_employee` và `working_day` thành số nhiều\n",
    "    * Đổi tên cột `OT` thành `overtime` để thống nhất với các tên cột còn lại\n",
    "* Loại bỏ cột `logo_link` do không cần thiết"
   ]
  },
  {
   "cell_type": "code",
   "execution_count": 59,
   "id": "convinced-honolulu",
   "metadata": {},
   "outputs": [],
   "source": [
    "companies_df.rename(columns={'benifit': 'benefit',\n",
    "                             'city': 'cities',\n",
    "                             'num_review': 'num_reviews',\n",
    "                             'num_employee': 'num_employees',\n",
    "                             'working_day': 'working_days',\n",
    "                             'OT': 'overtime'}, inplace=True)\n",
    "companies_df.drop(columns='logo_link', inplace=True)"
   ]
  },
  {
   "cell_type": "markdown",
   "id": "practical-appointment",
   "metadata": {},
   "source": [
    "#### Mỗi cột có kiểu dữ liệu thế nào và có phù hợp để xử lý tiếp không?"
   ]
  },
  {
   "cell_type": "code",
   "execution_count": 60,
   "id": "available-review",
   "metadata": {},
   "outputs": [
    {
     "data": {
      "text/plain": [
       "company_id         object\n",
       "company_name       object\n",
       "average_rating    float64\n",
       "num_reviews        object\n",
       "cities             object\n",
       "type               object\n",
       "num_employees      object\n",
       "country            object\n",
       "working_days       object\n",
       "overtime           object\n",
       "overview           object\n",
       "expertise          object\n",
       "benefit            object\n",
       "dtype: object"
      ]
     },
     "execution_count": 60,
     "metadata": {},
     "output_type": "execute_result"
    }
   ],
   "source": [
    "companies_df.dtypes"
   ]
  },
  {
   "cell_type": "markdown",
   "id": "standing-symposium",
   "metadata": {},
   "source": [
    "Có hai cột có thể phải cân nhắc chuyển về dạng số là `num_reviews` và `num_employees`. Các cột khác đều đã có kiểu dữ liệu phù hợp.\n",
    "\n",
    "Đối với cột `num_employees`, dữ liệu của ta được thu thập theo dạng một khoảng giá trị. Việc chuyển đổi cột này về dạng số hay không phụ thuộc vào phân tích nào mà ta đang thực hiện. Do đó tạm thời ở bước này ta không thay đổi cột `num_employees`."
   ]
  },
  {
   "cell_type": "code",
   "execution_count": 61,
   "id": "dressed-force",
   "metadata": {},
   "outputs": [
    {
     "data": {
      "text/plain": [
       "array(['1000+', '501-1000', '1-50', '51-150', '151-300', '301-500'],\n",
       "      dtype=object)"
      ]
     },
     "execution_count": 61,
     "metadata": {},
     "output_type": "execute_result"
    }
   ],
   "source": [
    "companies_df.num_employees.unique()"
   ]
  },
  {
   "cell_type": "markdown",
   "id": "shared-maryland",
   "metadata": {},
   "source": [
    "Đối với `num_reviews`, kiểm tra các giá trị unique của nó, ta thấy các giá trị đều có dạng: `\"<một số> Review[s]\"`, ngoại trừ giá trị duy nhất không tuân theo pattern này là `Reviews`. Vì vậy, ta có thể lấy ra giá trị số, lọc bỏ chuỗi ` Reviews` dư thừa và chuyển kiểu dữ liệu cột thành dạng float. Đối với giá trị `Reviews`, ta gán bằng NaN."
   ]
  },
  {
   "cell_type": "code",
   "execution_count": 62,
   "id": "middle-annual",
   "metadata": {},
   "outputs": [
    {
     "data": {
      "text/plain": [
       "array(['197 Reviews', '11 Reviews', '217 Reviews', 'Reviews',\n",
       "       '29 Reviews', '16 Reviews', '8 Reviews', '60 Reviews', '9 Reviews',\n",
       "       '127 Reviews', '6 Reviews', '34 Reviews', '3 Reviews',\n",
       "       '20 Reviews', '185 Reviews', '1486 Reviews', '57 Reviews',\n",
       "       '22 Reviews', '68 Reviews', '1 Review', '21 Reviews', '12 Reviews',\n",
       "       '23 Reviews', '7 Reviews', '17 Reviews', '5 Reviews', '96 Reviews',\n",
       "       '37 Reviews', '207 Reviews', '109 Reviews', '4 Reviews',\n",
       "       '33 Reviews', '76 Reviews', '18 Reviews', '10 Reviews',\n",
       "       '2 Reviews', '65 Reviews', '15 Reviews', '41 Reviews',\n",
       "       '19 Reviews', '27 Reviews', '13 Reviews', '26 Reviews',\n",
       "       '42 Reviews', '183 Reviews', '24 Reviews', '54 Reviews',\n",
       "       '14 Reviews', '38 Reviews', '451 Reviews', '28 Reviews',\n",
       "       '36 Reviews', '52 Reviews', '31 Reviews', '92 Reviews',\n",
       "       '30 Reviews', '86 Reviews', '32 Reviews', '25 Reviews',\n",
       "       '43 Reviews', '46 Reviews', '97 Reviews', '44 Reviews',\n",
       "       '226 Reviews', '179 Reviews', '66 Reviews', '45 Reviews',\n",
       "       '49 Reviews', '58 Reviews', '232 Reviews', '87 Reviews'],\n",
       "      dtype=object)"
      ]
     },
     "execution_count": 62,
     "metadata": {},
     "output_type": "execute_result"
    }
   ],
   "source": [
    "companies_df.num_reviews.unique()"
   ]
  },
  {
   "cell_type": "code",
   "execution_count": 63,
   "id": "minute-picking",
   "metadata": {},
   "outputs": [
    {
     "data": {
      "text/plain": [
       "array([1.970e+02, 1.100e+01, 2.170e+02,       nan, 2.900e+01, 1.600e+01,\n",
       "       8.000e+00, 6.000e+01, 9.000e+00, 1.270e+02, 6.000e+00, 3.400e+01,\n",
       "       3.000e+00, 2.000e+01, 1.850e+02, 1.486e+03, 5.700e+01, 2.200e+01,\n",
       "       6.800e+01, 1.000e+00, 2.100e+01, 1.200e+01, 2.300e+01, 7.000e+00,\n",
       "       1.700e+01, 5.000e+00, 9.600e+01, 3.700e+01, 2.070e+02, 1.090e+02,\n",
       "       4.000e+00, 3.300e+01, 7.600e+01, 1.800e+01, 1.000e+01, 2.000e+00,\n",
       "       6.500e+01, 1.500e+01, 4.100e+01, 1.900e+01, 2.700e+01, 1.300e+01,\n",
       "       2.600e+01, 4.200e+01, 1.830e+02, 2.400e+01, 5.400e+01, 1.400e+01,\n",
       "       3.800e+01, 4.510e+02, 2.800e+01, 3.600e+01, 5.200e+01, 3.100e+01,\n",
       "       9.200e+01, 3.000e+01, 8.600e+01, 3.200e+01, 2.500e+01, 4.300e+01,\n",
       "       4.600e+01, 9.700e+01, 4.400e+01, 2.260e+02, 1.790e+02, 6.600e+01,\n",
       "       4.500e+01, 4.900e+01, 5.800e+01, 2.320e+02, 8.700e+01])"
      ]
     },
     "execution_count": 63,
     "metadata": {},
     "output_type": "execute_result"
    }
   ],
   "source": [
    "import re\n",
    "def get_num_reviews(x):\n",
    "    result = re.match('^(\\d+) Reviews?$', x)\n",
    "    return float(result.group(1)) if result != None else np.nan\n",
    "companies_df.num_reviews = companies_df.num_reviews.map(get_num_reviews, na_action='ignore')\n",
    "companies_df.num_reviews.unique()"
   ]
  },
  {
   "cell_type": "markdown",
   "id": "detailed-korea",
   "metadata": {},
   "source": [
    "#### Với mỗi cột kiểu dữ liệu dạng số, các giá trị được phân bố như thế nào?"
   ]
  },
  {
   "cell_type": "code",
   "execution_count": 64,
   "id": "juvenile-feedback",
   "metadata": {},
   "outputs": [],
   "source": [
    "numerical_columns = ['average_rating', 'num_reviews']\n",
    "categorical_columns = companies_df.columns.to_list()\n",
    "categorical_columns.remove('average_rating')\n",
    "categorical_columns.remove('num_reviews')"
   ]
  },
  {
   "cell_type": "code",
   "execution_count": 65,
   "id": "bottom-traveler",
   "metadata": {},
   "outputs": [
    {
     "data": {
      "text/html": [
       "<div>\n",
       "<style scoped>\n",
       "    .dataframe tbody tr th:only-of-type {\n",
       "        vertical-align: middle;\n",
       "    }\n",
       "\n",
       "    .dataframe tbody tr th {\n",
       "        vertical-align: top;\n",
       "    }\n",
       "\n",
       "    .dataframe thead th {\n",
       "        text-align: right;\n",
       "    }\n",
       "</style>\n",
       "<table border=\"1\" class=\"dataframe\">\n",
       "  <thead>\n",
       "    <tr style=\"text-align: right;\">\n",
       "      <th></th>\n",
       "      <th>average_rating</th>\n",
       "      <th>num_reviews</th>\n",
       "    </tr>\n",
       "  </thead>\n",
       "  <tbody>\n",
       "    <tr>\n",
       "      <th>count</th>\n",
       "      <td>563.000000</td>\n",
       "      <td>869.000000</td>\n",
       "    </tr>\n",
       "    <tr>\n",
       "      <th>mean</th>\n",
       "      <td>3.987034</td>\n",
       "      <td>12.989643</td>\n",
       "    </tr>\n",
       "    <tr>\n",
       "      <th>std</th>\n",
       "      <td>0.597378</td>\n",
       "      <td>57.202636</td>\n",
       "    </tr>\n",
       "    <tr>\n",
       "      <th>min</th>\n",
       "      <td>2.000000</td>\n",
       "      <td>1.000000</td>\n",
       "    </tr>\n",
       "    <tr>\n",
       "      <th>25%</th>\n",
       "      <td>3.600000</td>\n",
       "      <td>2.000000</td>\n",
       "    </tr>\n",
       "    <tr>\n",
       "      <th>50%</th>\n",
       "      <td>4.000000</td>\n",
       "      <td>4.000000</td>\n",
       "    </tr>\n",
       "    <tr>\n",
       "      <th>75%</th>\n",
       "      <td>4.400000</td>\n",
       "      <td>10.000000</td>\n",
       "    </tr>\n",
       "    <tr>\n",
       "      <th>max</th>\n",
       "      <td>5.000000</td>\n",
       "      <td>1486.000000</td>\n",
       "    </tr>\n",
       "  </tbody>\n",
       "</table>\n",
       "</div>"
      ],
      "text/plain": [
       "       average_rating  num_reviews\n",
       "count      563.000000   869.000000\n",
       "mean         3.987034    12.989643\n",
       "std          0.597378    57.202636\n",
       "min          2.000000     1.000000\n",
       "25%          3.600000     2.000000\n",
       "50%          4.000000     4.000000\n",
       "75%          4.400000    10.000000\n",
       "max          5.000000  1486.000000"
      ]
     },
     "execution_count": 65,
     "metadata": {},
     "output_type": "execute_result"
    }
   ],
   "source": [
    "companies_df[numerical_columns].describe()"
   ]
  },
  {
   "cell_type": "code",
   "execution_count": 66,
   "id": "joint-midwest",
   "metadata": {},
   "outputs": [
    {
     "data": {
      "text/plain": [
       "average_rating    72.415483\n",
       "num_reviews       57.422832\n",
       "dtype: float64"
      ]
     },
     "execution_count": 66,
     "metadata": {},
     "output_type": "execute_result"
    }
   ],
   "source": [
    "companies_df[numerical_columns].isna().sum() / companies_df[numerical_columns].shape[0] * 100"
   ]
  },
  {
   "cell_type": "markdown",
   "id": "expressed-chapter",
   "metadata": {},
   "source": [
    "Có thể thấy, số lượng giá trị thiếu của các cột số là khá lớn. Còn lại, các số liệu thống kê khác đều ổn, không có điều gì bất thường."
   ]
  },
  {
   "cell_type": "markdown",
   "id": "accepting-gibson",
   "metadata": {},
   "source": [
    "#### Với mỗi cột dạng phân loại, các giá trị được phân bố thế nào"
   ]
  },
  {
   "cell_type": "code",
   "execution_count": 67,
   "id": "exclusive-transparency",
   "metadata": {},
   "outputs": [
    {
     "data": {
      "text/html": [
       "<div>\n",
       "<style scoped>\n",
       "    .dataframe tbody tr th:only-of-type {\n",
       "        vertical-align: middle;\n",
       "    }\n",
       "\n",
       "    .dataframe tbody tr th {\n",
       "        vertical-align: top;\n",
       "    }\n",
       "\n",
       "    .dataframe thead th {\n",
       "        text-align: right;\n",
       "    }\n",
       "</style>\n",
       "<table border=\"1\" class=\"dataframe\">\n",
       "  <thead>\n",
       "    <tr style=\"text-align: right;\">\n",
       "      <th></th>\n",
       "      <th>company_id</th>\n",
       "      <th>company_name</th>\n",
       "      <th>cities</th>\n",
       "      <th>type</th>\n",
       "      <th>num_employees</th>\n",
       "      <th>country</th>\n",
       "      <th>working_days</th>\n",
       "      <th>overtime</th>\n",
       "      <th>overview</th>\n",
       "      <th>expertise</th>\n",
       "      <th>benefit</th>\n",
       "    </tr>\n",
       "  </thead>\n",
       "  <tbody>\n",
       "    <tr>\n",
       "      <th>count</th>\n",
       "      <td>2041</td>\n",
       "      <td>2041</td>\n",
       "      <td>2041</td>\n",
       "      <td>2041</td>\n",
       "      <td>2041</td>\n",
       "      <td>2041</td>\n",
       "      <td>2026</td>\n",
       "      <td>1865</td>\n",
       "      <td>2040</td>\n",
       "      <td>477</td>\n",
       "      <td>1576</td>\n",
       "    </tr>\n",
       "    <tr>\n",
       "      <th>unique</th>\n",
       "      <td>2041</td>\n",
       "      <td>2041</td>\n",
       "      <td>71</td>\n",
       "      <td>2</td>\n",
       "      <td>6</td>\n",
       "      <td>39</td>\n",
       "      <td>2</td>\n",
       "      <td>4</td>\n",
       "      <td>2022</td>\n",
       "      <td>474</td>\n",
       "      <td>1573</td>\n",
       "    </tr>\n",
       "    <tr>\n",
       "      <th>top</th>\n",
       "      <td>kms-technology</td>\n",
       "      <td>KMS Technology</td>\n",
       "      <td>District 1, Ho Chi Minh</td>\n",
       "      <td>Product</td>\n",
       "      <td>1-50</td>\n",
       "      <td>Vietnam</td>\n",
       "      <td>Monday - Friday</td>\n",
       "      <td>No OT</td>\n",
       "      <td>.</td>\n",
       "      <td>C++, VC++, C# .NET Framework Web Framework Jav...</td>\n",
       "      <td>Salary: Competitive (based on skills and exper...</td>\n",
       "    </tr>\n",
       "    <tr>\n",
       "      <th>freq</th>\n",
       "      <td>1</td>\n",
       "      <td>1</td>\n",
       "      <td>190</td>\n",
       "      <td>1534</td>\n",
       "      <td>1054</td>\n",
       "      <td>1202</td>\n",
       "      <td>1855</td>\n",
       "      <td>1589</td>\n",
       "      <td>12</td>\n",
       "      <td>2</td>\n",
       "      <td>2</td>\n",
       "    </tr>\n",
       "  </tbody>\n",
       "</table>\n",
       "</div>"
      ],
      "text/plain": [
       "            company_id    company_name                   cities     type  \\\n",
       "count             2041            2041                     2041     2041   \n",
       "unique            2041            2041                       71        2   \n",
       "top     kms-technology  KMS Technology  District 1, Ho Chi Minh  Product   \n",
       "freq                 1               1                      190     1534   \n",
       "\n",
       "       num_employees  country     working_days overtime overview  \\\n",
       "count           2041     2041             2026     1865     2040   \n",
       "unique             6       39                2        4     2022   \n",
       "top             1-50  Vietnam  Monday - Friday    No OT        .   \n",
       "freq            1054     1202             1855     1589       12   \n",
       "\n",
       "                                                expertise  \\\n",
       "count                                                 477   \n",
       "unique                                                474   \n",
       "top     C++, VC++, C# .NET Framework Web Framework Jav...   \n",
       "freq                                                    2   \n",
       "\n",
       "                                                  benefit  \n",
       "count                                                1576  \n",
       "unique                                               1573  \n",
       "top     Salary: Competitive (based on skills and exper...  \n",
       "freq                                                    2  "
      ]
     },
     "execution_count": 67,
     "metadata": {},
     "output_type": "execute_result"
    }
   ],
   "source": [
    "desc = companies_df[categorical_columns].describe()\n",
    "desc"
   ]
  },
  {
   "cell_type": "markdown",
   "id": "nervous-special",
   "metadata": {},
   "source": [
    "Tỷ lệ giá trị thiếu"
   ]
  },
  {
   "cell_type": "code",
   "execution_count": 68,
   "id": "hired-cherry",
   "metadata": {},
   "outputs": [
    {
     "data": {
      "text/plain": [
       "company_id             0.0\n",
       "company_name           0.0\n",
       "cities                 0.0\n",
       "type                   0.0\n",
       "num_employees          0.0\n",
       "country                0.0\n",
       "working_days      0.734934\n",
       "overtime          8.623224\n",
       "overview          0.048996\n",
       "expertise        76.629103\n",
       "benefit           22.78295\n",
       "Name: count, dtype: object"
      ]
     },
     "execution_count": 68,
     "metadata": {},
     "output_type": "execute_result"
    }
   ],
   "source": [
    "(1 - desc.loc['count'] / companies_df.shape[0]) * 100"
   ]
  },
  {
   "cell_type": "markdown",
   "id": "exposed-classroom",
   "metadata": {},
   "source": [
    "Một số giá trị ngẫu nhiên"
   ]
  },
  {
   "cell_type": "code",
   "execution_count": 69,
   "id": "needed-parliament",
   "metadata": {},
   "outputs": [
    {
     "data": {
      "text/html": [
       "<div>\n",
       "<style scoped>\n",
       "    .dataframe tbody tr th:only-of-type {\n",
       "        vertical-align: middle;\n",
       "    }\n",
       "\n",
       "    .dataframe tbody tr th {\n",
       "        vertical-align: top;\n",
       "    }\n",
       "\n",
       "    .dataframe thead th {\n",
       "        text-align: right;\n",
       "    }\n",
       "</style>\n",
       "<table border=\"1\" class=\"dataframe\">\n",
       "  <thead>\n",
       "    <tr style=\"text-align: right;\">\n",
       "      <th></th>\n",
       "      <th>company_id</th>\n",
       "      <th>company_name</th>\n",
       "      <th>cities</th>\n",
       "      <th>type</th>\n",
       "      <th>num_employees</th>\n",
       "      <th>country</th>\n",
       "      <th>working_days</th>\n",
       "      <th>overtime</th>\n",
       "      <th>overview</th>\n",
       "      <th>expertise</th>\n",
       "      <th>benefit</th>\n",
       "    </tr>\n",
       "  </thead>\n",
       "  <tbody>\n",
       "    <tr>\n",
       "      <th>1389</th>\n",
       "      <td>skylink-group</td>\n",
       "      <td>Skylink Group</td>\n",
       "      <td>District 2, Ho Chi Minh</td>\n",
       "      <td>Product</td>\n",
       "      <td>301-500</td>\n",
       "      <td>Vietnam</td>\n",
       "      <td>Monday - Friday</td>\n",
       "      <td>No OT</td>\n",
       "      <td>Skylink Group có mặt trên thị trường vào năm 2...</td>\n",
       "      <td>NaN</td>\n",
       "      <td>Môi trường làm việc mở, thoải mái, khuyến khíc...</td>\n",
       "    </tr>\n",
       "    <tr>\n",
       "      <th>1611</th>\n",
       "      <td>ezm</td>\n",
       "      <td>EZM</td>\n",
       "      <td>Thanh Xuan, Ha Noi</td>\n",
       "      <td>Product</td>\n",
       "      <td>51-150</td>\n",
       "      <td>Vietnam</td>\n",
       "      <td>Monday - Friday</td>\n",
       "      <td>No OT</td>\n",
       "      <td>EZM chuyên thiết kế đồ họa và hoạt động, phát ...</td>\n",
       "      <td>NaN</td>\n",
       "      <td>Chế độ lương thưởng:\\n\\n\\n- Mức lương: 18.000...</td>\n",
       "    </tr>\n",
       "    <tr>\n",
       "      <th>1458</th>\n",
       "      <td>edso-labs</td>\n",
       "      <td>Edso Labs</td>\n",
       "      <td>Cau Giay, Ha Noi</td>\n",
       "      <td>Product</td>\n",
       "      <td>51-150</td>\n",
       "      <td>Vietnam</td>\n",
       "      <td>Monday - Friday</td>\n",
       "      <td>No OT</td>\n",
       "      <td>We create an internal culture of innovation an...</td>\n",
       "      <td>Agile, scrum\\n\\n\\nTechstack: .NET, Vue js, Jav...</td>\n",
       "      <td>Attractive salary and package\\n\\n\\nWorking tim...</td>\n",
       "    </tr>\n",
       "    <tr>\n",
       "      <th>1175</th>\n",
       "      <td>colibri-growth</td>\n",
       "      <td>Colibri Growth</td>\n",
       "      <td>Ho Chi Minh, Ha Noi</td>\n",
       "      <td>Product</td>\n",
       "      <td>1-50</td>\n",
       "      <td>Singapore</td>\n",
       "      <td>Monday - Friday</td>\n",
       "      <td>No OT</td>\n",
       "      <td>Colibri is all about growth. Tech startups in ...</td>\n",
       "      <td>Each of our teams focuses on different product...</td>\n",
       "      <td>We are an organisation of talented (product) d...</td>\n",
       "    </tr>\n",
       "    <tr>\n",
       "      <th>1674</th>\n",
       "      <td>trung-tam-kinh-doanh-vnpt-ha-noi</td>\n",
       "      <td>Trung tâm kinh doanh VNPT - Hà Nội</td>\n",
       "      <td>Hoan Kiem, Ha Noi</td>\n",
       "      <td>Product</td>\n",
       "      <td>1000+</td>\n",
       "      <td>Vietnam</td>\n",
       "      <td>Monday - Saturday</td>\n",
       "      <td>No OT</td>\n",
       "      <td>Trung tâm kinh doanh VNPT – Hà Nội là chi nhán...</td>\n",
       "      <td>NaN</td>\n",
       "      <td>Ứng viên trúng tuyển được ký hợp đồng lao động...</td>\n",
       "    </tr>\n",
       "    <tr>\n",
       "      <th>1711</th>\n",
       "      <td>vina-chg</td>\n",
       "      <td>Vina CHG</td>\n",
       "      <td>District 12, Ho Chi Minh</td>\n",
       "      <td>Product</td>\n",
       "      <td>1-50</td>\n",
       "      <td>Vietnam</td>\n",
       "      <td>Monday - Saturday</td>\n",
       "      <td>No OT</td>\n",
       "      <td>Được thành lập từ 2008, với sứ mệnh đặt ra từ ...</td>\n",
       "      <td>NaN</td>\n",
       "      <td>Thưởng lương tháng 13, thưởng các ngày lễ, tết...</td>\n",
       "    </tr>\n",
       "    <tr>\n",
       "      <th>1699</th>\n",
       "      <td>admon-co-ltd</td>\n",
       "      <td>ADMON Co.ltd</td>\n",
       "      <td>Binh Thanh, Ho Chi Minh</td>\n",
       "      <td>Product</td>\n",
       "      <td>1-50</td>\n",
       "      <td>Vietnam</td>\n",
       "      <td>Monday - Friday</td>\n",
       "      <td>No OT</td>\n",
       "      <td>.</td>\n",
       "      <td>NaN</td>\n",
       "      <td>NaN</td>\n",
       "    </tr>\n",
       "    <tr>\n",
       "      <th>25</th>\n",
       "      <td>contemi-vietnam</td>\n",
       "      <td>Contemi Vietnam</td>\n",
       "      <td>District 3, Ho Chi Minh</td>\n",
       "      <td>Product</td>\n",
       "      <td>51-150</td>\n",
       "      <td>Norway</td>\n",
       "      <td>Monday - Friday</td>\n",
       "      <td>No OT</td>\n",
       "      <td>You probably know many IT companies from US, J...</td>\n",
       "      <td>NaN</td>\n",
       "      <td>Our benefits package includes:\\n\\n\\n\\n\\nAttrac...</td>\n",
       "    </tr>\n",
       "  </tbody>\n",
       "</table>\n",
       "</div>"
      ],
      "text/plain": [
       "                            company_id                        company_name  \\\n",
       "1389                     skylink-group                       Skylink Group   \n",
       "1611                               ezm                                 EZM   \n",
       "1458                         edso-labs                           Edso Labs   \n",
       "1175                    colibri-growth                      Colibri Growth   \n",
       "1674  trung-tam-kinh-doanh-vnpt-ha-noi  Trung tâm kinh doanh VNPT - Hà Nội   \n",
       "1711                          vina-chg                            Vina CHG   \n",
       "1699                      admon-co-ltd                        ADMON Co.ltd   \n",
       "25                     contemi-vietnam                     Contemi Vietnam   \n",
       "\n",
       "                        cities     type num_employees    country  \\\n",
       "1389   District 2, Ho Chi Minh  Product       301-500    Vietnam   \n",
       "1611        Thanh Xuan, Ha Noi  Product        51-150    Vietnam   \n",
       "1458          Cau Giay, Ha Noi  Product        51-150    Vietnam   \n",
       "1175       Ho Chi Minh, Ha Noi  Product          1-50  Singapore   \n",
       "1674         Hoan Kiem, Ha Noi  Product         1000+    Vietnam   \n",
       "1711  District 12, Ho Chi Minh  Product          1-50    Vietnam   \n",
       "1699   Binh Thanh, Ho Chi Minh  Product          1-50    Vietnam   \n",
       "25     District 3, Ho Chi Minh  Product        51-150     Norway   \n",
       "\n",
       "           working_days overtime  \\\n",
       "1389    Monday - Friday    No OT   \n",
       "1611    Monday - Friday    No OT   \n",
       "1458    Monday - Friday    No OT   \n",
       "1175    Monday - Friday    No OT   \n",
       "1674  Monday - Saturday    No OT   \n",
       "1711  Monday - Saturday    No OT   \n",
       "1699    Monday - Friday    No OT   \n",
       "25      Monday - Friday    No OT   \n",
       "\n",
       "                                               overview  \\\n",
       "1389  Skylink Group có mặt trên thị trường vào năm 2...   \n",
       "1611  EZM chuyên thiết kế đồ họa và hoạt động, phát ...   \n",
       "1458  We create an internal culture of innovation an...   \n",
       "1175  Colibri is all about growth. Tech startups in ...   \n",
       "1674  Trung tâm kinh doanh VNPT – Hà Nội là chi nhán...   \n",
       "1711  Được thành lập từ 2008, với sứ mệnh đặt ra từ ...   \n",
       "1699                                                  .   \n",
       "25    You probably know many IT companies from US, J...   \n",
       "\n",
       "                                              expertise  \\\n",
       "1389                                                NaN   \n",
       "1611                                                NaN   \n",
       "1458  Agile, scrum\\n\\n\\nTechstack: .NET, Vue js, Jav...   \n",
       "1175  Each of our teams focuses on different product...   \n",
       "1674                                                NaN   \n",
       "1711                                                NaN   \n",
       "1699                                                NaN   \n",
       "25                                                  NaN   \n",
       "\n",
       "                                                benefit  \n",
       "1389  Môi trường làm việc mở, thoải mái, khuyến khíc...  \n",
       "1611  Chế độ lương thưởng:\\n\\n\\n- Mức lương: 18.000...  \n",
       "1458  Attractive salary and package\\n\\n\\nWorking tim...  \n",
       "1175  We are an organisation of talented (product) d...  \n",
       "1674  Ứng viên trúng tuyển được ký hợp đồng lao động...  \n",
       "1711  Thưởng lương tháng 13, thưởng các ngày lễ, tết...  \n",
       "1699                                                NaN  \n",
       "25    Our benefits package includes:\\n\\n\\n\\n\\nAttrac...  "
      ]
     },
     "execution_count": 69,
     "metadata": {},
     "output_type": "execute_result"
    }
   ],
   "source": [
    "companies_df[categorical_columns].sample(8)"
   ]
  },
  {
   "cell_type": "markdown",
   "id": "heard-testing",
   "metadata": {},
   "source": [
    "Có thể thấy dữ liệu dạng phân loại khá đầy đủ (ngoại trừ cột `expertise` số lượng giá trị thiếu lên đến 70%)."
   ]
  },
  {
   "cell_type": "markdown",
   "id": "7a6f95ff",
   "metadata": {},
   "source": [
    "### 2.2.2 `jobs`"
   ]
  },
  {
   "cell_type": "markdown",
   "id": "3e5a417a",
   "metadata": {},
   "source": [
    "#### Nạp dữ liệu"
   ]
  },
  {
   "cell_type": "code",
   "execution_count": 70,
   "id": "8c1b72bd",
   "metadata": {},
   "outputs": [
    {
     "data": {
      "text/html": [
       "<div>\n",
       "<style scoped>\n",
       "    .dataframe tbody tr th:only-of-type {\n",
       "        vertical-align: middle;\n",
       "    }\n",
       "\n",
       "    .dataframe tbody tr th {\n",
       "        vertical-align: top;\n",
       "    }\n",
       "\n",
       "    .dataframe thead th {\n",
       "        text-align: right;\n",
       "    }\n",
       "</style>\n",
       "<table border=\"1\" class=\"dataframe\">\n",
       "  <thead>\n",
       "    <tr style=\"text-align: right;\">\n",
       "      <th></th>\n",
       "      <th>job_id</th>\n",
       "      <th>company_id</th>\n",
       "      <th>job_name</th>\n",
       "      <th>taglist</th>\n",
       "      <th>location</th>\n",
       "      <th>three_reasons</th>\n",
       "      <th>description</th>\n",
       "    </tr>\n",
       "  </thead>\n",
       "  <tbody>\n",
       "    <tr>\n",
       "      <th>0</th>\n",
       "      <td>kms-technology:jrsr_qa_engineer_kms_labs_bonus</td>\n",
       "      <td>kms-technology</td>\n",
       "      <td>(Jr/Sr) QA Engineer, KMS Labs - BONUS</td>\n",
       "      <td>QA QC   English   Tester</td>\n",
       "      <td>290/26 Nam Ky Khoi Nghia, ward 8, District 3, ...</td>\n",
       "      <td>Inspired Leadership Team and Talented Colleagu...</td>\n",
       "      <td>KMS Labs is the startup incubation arm of KMS ...</td>\n",
       "    </tr>\n",
       "    <tr>\n",
       "      <th>1</th>\n",
       "      <td>kms-technology:engineering_manager_bonus</td>\n",
       "      <td>kms-technology</td>\n",
       "      <td>Engineering Manager - BONUS</td>\n",
       "      <td>Project Manager   Agile   English</td>\n",
       "      <td>02 Tan Vien, ward 2, Tan Binh, Ho Chi Minh</td>\n",
       "      <td>Inspired Leadership Team and Talented Colleagu...</td>\n",
       "      <td>Full 13th Month Salary. ***Apply and Join in S...</td>\n",
       "    </tr>\n",
       "    <tr>\n",
       "      <th>2</th>\n",
       "      <td>kms-technology:fullstack_mobile_mobilenodejs_k...</td>\n",
       "      <td>kms-technology</td>\n",
       "      <td>Fullstack Mobile (Mobile,NodeJs) Kobiton</td>\n",
       "      <td>NodeJS   React Native   Fresher Accepted</td>\n",
       "      <td>02 Tan Vien, ward 2, Tan Binh, Ho Chi Minh</td>\n",
       "      <td>Inspired Leadership Team and Talented Colleagu...</td>\n",
       "      <td>is the mobile experience platform trusted by l...</td>\n",
       "    </tr>\n",
       "    <tr>\n",
       "      <th>3</th>\n",
       "      <td>kms-technology:jrsrprincipal_java_developer_bonus</td>\n",
       "      <td>kms-technology</td>\n",
       "      <td>(Jr/Sr/Principal) Java Developer- BONUS</td>\n",
       "      <td>Java   JavaScript   Spring</td>\n",
       "      <td>174 Thai Ha, Dong Da, Ha Noi</td>\n",
       "      <td>Inspired Leadership Team and Talented Colleagu...</td>\n",
       "      <td>Full 13th Month Salary ***Apply and Join in Se...</td>\n",
       "    </tr>\n",
       "    <tr>\n",
       "      <th>4</th>\n",
       "      <td>kms-technology:product_manager_kms_labs_bonus</td>\n",
       "      <td>kms-technology</td>\n",
       "      <td>Product Manager, KMS Labs - BONUS</td>\n",
       "      <td>Product Manager   English   Manager</td>\n",
       "      <td>290/26 Nam Ky Khoi Nghia, ward 8, District 3, ...</td>\n",
       "      <td>Inspired Leadership Team and Talented Colleagu...</td>\n",
       "      <td>KMS Labs\\n is the startup incubation arm of KM...</td>\n",
       "    </tr>\n",
       "  </tbody>\n",
       "</table>\n",
       "</div>"
      ],
      "text/plain": [
       "                                              job_id      company_id  \\\n",
       "0     kms-technology:jrsr_qa_engineer_kms_labs_bonus  kms-technology   \n",
       "1           kms-technology:engineering_manager_bonus  kms-technology   \n",
       "2  kms-technology:fullstack_mobile_mobilenodejs_k...  kms-technology   \n",
       "3  kms-technology:jrsrprincipal_java_developer_bonus  kms-technology   \n",
       "4      kms-technology:product_manager_kms_labs_bonus  kms-technology   \n",
       "\n",
       "                                   job_name  \\\n",
       "0     (Jr/Sr) QA Engineer, KMS Labs - BONUS   \n",
       "1               Engineering Manager - BONUS   \n",
       "2  Fullstack Mobile (Mobile,NodeJs) Kobiton   \n",
       "3   (Jr/Sr/Principal) Java Developer- BONUS   \n",
       "4         Product Manager, KMS Labs - BONUS   \n",
       "\n",
       "                                      taglist  \\\n",
       "0                   QA QC   English   Tester    \n",
       "1          Project Manager   Agile   English    \n",
       "2   NodeJS   React Native   Fresher Accepted    \n",
       "3                 Java   JavaScript   Spring    \n",
       "4        Product Manager   English   Manager    \n",
       "\n",
       "                                            location  \\\n",
       "0  290/26 Nam Ky Khoi Nghia, ward 8, District 3, ...   \n",
       "1         02 Tan Vien, ward 2, Tan Binh, Ho Chi Minh   \n",
       "2         02 Tan Vien, ward 2, Tan Binh, Ho Chi Minh   \n",
       "3                       174 Thai Ha, Dong Da, Ha Noi   \n",
       "4  290/26 Nam Ky Khoi Nghia, ward 8, District 3, ...   \n",
       "\n",
       "                                       three_reasons  \\\n",
       "0  Inspired Leadership Team and Talented Colleagu...   \n",
       "1  Inspired Leadership Team and Talented Colleagu...   \n",
       "2  Inspired Leadership Team and Talented Colleagu...   \n",
       "3  Inspired Leadership Team and Talented Colleagu...   \n",
       "4  Inspired Leadership Team and Talented Colleagu...   \n",
       "\n",
       "                                         description  \n",
       "0  KMS Labs is the startup incubation arm of KMS ...  \n",
       "1  Full 13th Month Salary. ***Apply and Join in S...  \n",
       "2  is the mobile experience platform trusted by l...  \n",
       "3  Full 13th Month Salary ***Apply and Join in Se...  \n",
       "4  KMS Labs\\n is the startup incubation arm of KM...  "
      ]
     },
     "execution_count": 70,
     "metadata": {},
     "output_type": "execute_result"
    }
   ],
   "source": [
    "jobs_df = pd.read_csv('dataset/jobs.csv')\n",
    "jobs_df.head()"
   ]
  },
  {
   "cell_type": "markdown",
   "id": "d4b5e67d",
   "metadata": {},
   "source": [
    "#### Số lượng dòng và cột"
   ]
  },
  {
   "cell_type": "code",
   "execution_count": 71,
   "id": "d863156d",
   "metadata": {},
   "outputs": [
    {
     "name": "stdout",
     "output_type": "stream",
     "text": [
      "Number of rows:  1412\n",
      "Number of columns:  7\n"
     ]
    }
   ],
   "source": [
    "print('Number of rows: ', jobs_df.shape[0])\n",
    "print('Number of columns: ', jobs_df.shape[1])"
   ]
  },
  {
   "cell_type": "markdown",
   "id": "af58ba45",
   "metadata": {},
   "source": [
    "#### Mỗi dòng có ý nghĩa gì ?"
   ]
  },
  {
   "cell_type": "markdown",
   "id": "fe3a78e7",
   "metadata": {},
   "source": [
    "Mỗi dòng là thông tin của một công việc đang được đăng tin tuyển dụng trên ITViec."
   ]
  },
  {
   "cell_type": "markdown",
   "id": "973b3dc4",
   "metadata": {},
   "source": [
    "Mỗi dòng được phân biệt bởi `job_id`"
   ]
  },
  {
   "cell_type": "markdown",
   "id": "ecb18c49",
   "metadata": {},
   "source": [
    "#### Dữ liệu có bị lặp không?"
   ]
  },
  {
   "cell_type": "code",
   "execution_count": 72,
   "id": "c50a7ceb",
   "metadata": {},
   "outputs": [
    {
     "data": {
      "text/plain": [
       "False"
      ]
     },
     "execution_count": 72,
     "metadata": {},
     "output_type": "execute_result"
    }
   ],
   "source": [
    "jobs_df.duplicated().sum() != 0"
   ]
  },
  {
   "cell_type": "markdown",
   "id": "1ac90dc0",
   "metadata": {},
   "source": [
    "Như vậy dữ liệu không bị trùng lặp giữa các dòng."
   ]
  },
  {
   "cell_type": "markdown",
   "id": "716c7507",
   "metadata": {},
   "source": [
    "Kiểm tra cột `job_id` có bị lặp không?"
   ]
  },
  {
   "cell_type": "code",
   "execution_count": 73,
   "id": "e1073974",
   "metadata": {},
   "outputs": [
    {
     "data": {
      "text/plain": [
       "True"
      ]
     },
     "execution_count": 73,
     "metadata": {},
     "output_type": "execute_result"
    }
   ],
   "source": [
    "jobs_df.duplicated('job_id').sum() != 0"
   ]
  },
  {
   "cell_type": "markdown",
   "id": "e29010ab",
   "metadata": {},
   "source": [
    "Như vậy ở cột `job_id` có dữ liệu trùng lặp. Ta sẽ kiểm tra tiếp ở dưới."
   ]
  },
  {
   "cell_type": "markdown",
   "id": "7b722b0c",
   "metadata": {},
   "source": [
    "Trích xuất các dòng có dữ liệu lặp:"
   ]
  },
  {
   "cell_type": "code",
   "execution_count": 74,
   "id": "7a4bba5b",
   "metadata": {},
   "outputs": [
    {
     "data": {
      "text/html": [
       "<div>\n",
       "<style scoped>\n",
       "    .dataframe tbody tr th:only-of-type {\n",
       "        vertical-align: middle;\n",
       "    }\n",
       "\n",
       "    .dataframe tbody tr th {\n",
       "        vertical-align: top;\n",
       "    }\n",
       "\n",
       "    .dataframe thead th {\n",
       "        text-align: right;\n",
       "    }\n",
       "</style>\n",
       "<table border=\"1\" class=\"dataframe\">\n",
       "  <thead>\n",
       "    <tr style=\"text-align: right;\">\n",
       "      <th></th>\n",
       "      <th>job_id</th>\n",
       "      <th>company_id</th>\n",
       "      <th>job_name</th>\n",
       "      <th>taglist</th>\n",
       "      <th>location</th>\n",
       "      <th>three_reasons</th>\n",
       "      <th>description</th>\n",
       "    </tr>\n",
       "  </thead>\n",
       "  <tbody>\n",
       "    <tr>\n",
       "      <th>301</th>\n",
       "      <td>houze-group:backend_lead_pythongolangnodejs</td>\n",
       "      <td>houze-group</td>\n",
       "      <td>Backend Lead ( Python/Golang/NodeJS)</td>\n",
       "      <td>NodeJS   Python   Golang</td>\n",
       "      <td>114-116 Ngô Quyền, Phường 8, District 5, Ho Ch...</td>\n",
       "      <td>Attractive salary and benefits package\\nCareer...</td>\n",
       "      <td>Define, code, test, and deploy new features to...</td>\n",
       "    </tr>\n",
       "    <tr>\n",
       "      <th>303</th>\n",
       "      <td>houze-group:backend_lead_pythongolangnodejs</td>\n",
       "      <td>houze-group</td>\n",
       "      <td>Backend Lead ( Python/Golang/NodeJS/...)</td>\n",
       "      <td>Team Leader   Python   Golang</td>\n",
       "      <td>114-116 Ngô Quyền, Phường 8, District 5, Ho Ch...</td>\n",
       "      <td>Attractive salary and benefits package\\nCareer...</td>\n",
       "      <td>Define, code, test, and deploy new features to...</td>\n",
       "    </tr>\n",
       "  </tbody>\n",
       "</table>\n",
       "</div>"
      ],
      "text/plain": [
       "                                          job_id   company_id  \\\n",
       "301  houze-group:backend_lead_pythongolangnodejs  houze-group   \n",
       "303  houze-group:backend_lead_pythongolangnodejs  houze-group   \n",
       "\n",
       "                                     job_name  \\\n",
       "301      Backend Lead ( Python/Golang/NodeJS)   \n",
       "303  Backend Lead ( Python/Golang/NodeJS/...)   \n",
       "\n",
       "                             taglist  \\\n",
       "301        NodeJS   Python   Golang    \n",
       "303   Team Leader   Python   Golang    \n",
       "\n",
       "                                              location  \\\n",
       "301  114-116 Ngô Quyền, Phường 8, District 5, Ho Ch...   \n",
       "303  114-116 Ngô Quyền, Phường 8, District 5, Ho Ch...   \n",
       "\n",
       "                                         three_reasons  \\\n",
       "301  Attractive salary and benefits package\\nCareer...   \n",
       "303  Attractive salary and benefits package\\nCareer...   \n",
       "\n",
       "                                           description  \n",
       "301  Define, code, test, and deploy new features to...  \n",
       "303  Define, code, test, and deploy new features to...  "
      ]
     },
     "execution_count": 74,
     "metadata": {},
     "output_type": "execute_result"
    }
   ],
   "source": [
    "jobs_df[jobs_df.duplicated('job_id', keep=False)]"
   ]
  },
  {
   "cell_type": "markdown",
   "id": "4edf33cc",
   "metadata": {},
   "source": [
    "Như vậy theo quan sát, ta thấy giữa 2 dòng chỉ khác biệt ở cột `taglist`, tất cả các cột còn lại đều giống nhau.\n",
    "\n",
    "Ở đây cả bộ dữ liệu chỉ duy nhất 1 `job_id` bị trùng lặp. Để tiện xử lý ta sẽ loại bỏ 1 hàng (cụ thể hàng cuối)."
   ]
  },
  {
   "cell_type": "code",
   "execution_count": 75,
   "id": "9c5684e5",
   "metadata": {},
   "outputs": [],
   "source": [
    "jobs_df = jobs_df.drop_duplicates('job_id', keep = 'first')"
   ]
  },
  {
   "cell_type": "markdown",
   "id": "652fcda9",
   "metadata": {},
   "source": [
    "Số lượng dòng sau khi xử lý:"
   ]
  },
  {
   "cell_type": "code",
   "execution_count": 53,
   "id": "e7603538",
   "metadata": {},
   "outputs": [
    {
     "name": "stdout",
     "output_type": "stream",
     "text": [
      "Number of rows:  1411\n"
     ]
    }
   ],
   "source": [
    "print('Number of rows: ', len(jobs_df))"
   ]
  },
  {
   "cell_type": "markdown",
   "id": "fae88d57",
   "metadata": {},
   "source": [
    "#### Mỗi cột có ý nghĩa gì?"
   ]
  },
  {
   "cell_type": "markdown",
   "id": "96ba71e4",
   "metadata": {},
   "source": [
    "Bởi dữ liệu được thu thập trên Kaggle, tuy nhiên tác giả không cung cấp thông tin về ý nghĩa của các cột, chính vì thế, dựa vào ý nghĩa của dữ liệu ta sẽ định nghĩa các cột như sau:\n",
    "   * `job_id`: ID của công việc\n",
    "   * `company_id`: ID của công ty đăng tuyển công việc\n",
    "   * `job_name`: tên công việc\n",
    "   * `taglist`: danh sách tag liên quan đến công việc\n",
    "   * `location`: địa điểm làm việc\n",
    "   * `three_reasons`: phúc lợi/lý do nên làm việc ở đây\n",
    "   * `description`: mô tả công việc"
   ]
  },
  {
   "cell_type": "markdown",
   "id": "0c810423",
   "metadata": {},
   "source": [
    "#### Mỗi cột có kiểu dữ liệu gì? Có phù hợp để xử lý tiếp không?"
   ]
  },
  {
   "cell_type": "code",
   "execution_count": 79,
   "id": "91e49f89",
   "metadata": {},
   "outputs": [
    {
     "data": {
      "text/plain": [
       "job_id           object\n",
       "company_id       object\n",
       "job_name         object\n",
       "taglist          object\n",
       "location         object\n",
       "three_reasons    object\n",
       "description      object\n",
       "dtype: object"
      ]
     },
     "execution_count": 79,
     "metadata": {},
     "output_type": "execute_result"
    }
   ],
   "source": [
    "jobs_df.dtypes"
   ]
  },
  {
   "cell_type": "markdown",
   "id": "51e37fb3",
   "metadata": {},
   "source": [
    "Như đã thấy tất cả thông tin về công việc không có cột nào nên đưa về dạng số nên ta không cần xử lý gì thêm ở bước này, tất cả dữ liệu đã có kiểu dữ liệu phù hợp để xử lý."
   ]
  },
  {
   "cell_type": "markdown",
   "id": "c28f75ad",
   "metadata": {},
   "source": [
    "#### Phân tích các cột dữ liệu dạng số"
   ]
  },
  {
   "cell_type": "markdown",
   "id": "ea0d3d0b",
   "metadata": {},
   "source": [
    "Trong các cột dữ liệu trên, không có cột dữ liệu nào dạng số nên ta không thể thống kê các giá trị được."
   ]
  },
  {
   "cell_type": "markdown",
   "id": "4448bb6b",
   "metadata": {},
   "source": [
    "#### Với mỗi cột dang phân loại, các giá trị được phân bố như thế nào?"
   ]
  },
  {
   "cell_type": "code",
   "execution_count": 81,
   "id": "fb918bab",
   "metadata": {},
   "outputs": [
    {
     "data": {
      "text/html": [
       "<div>\n",
       "<style scoped>\n",
       "    .dataframe tbody tr th:only-of-type {\n",
       "        vertical-align: middle;\n",
       "    }\n",
       "\n",
       "    .dataframe tbody tr th {\n",
       "        vertical-align: top;\n",
       "    }\n",
       "\n",
       "    .dataframe thead th {\n",
       "        text-align: right;\n",
       "    }\n",
       "</style>\n",
       "<table border=\"1\" class=\"dataframe\">\n",
       "  <thead>\n",
       "    <tr style=\"text-align: right;\">\n",
       "      <th></th>\n",
       "      <th>job_id</th>\n",
       "      <th>company_id</th>\n",
       "      <th>job_name</th>\n",
       "      <th>taglist</th>\n",
       "      <th>location</th>\n",
       "      <th>three_reasons</th>\n",
       "      <th>description</th>\n",
       "    </tr>\n",
       "  </thead>\n",
       "  <tbody>\n",
       "    <tr>\n",
       "      <th>count</th>\n",
       "      <td>1411</td>\n",
       "      <td>1411</td>\n",
       "      <td>1411</td>\n",
       "      <td>1411</td>\n",
       "      <td>1411</td>\n",
       "      <td>1097</td>\n",
       "      <td>1411</td>\n",
       "    </tr>\n",
       "    <tr>\n",
       "      <th>unique</th>\n",
       "      <td>1411</td>\n",
       "      <td>682</td>\n",
       "      <td>1358</td>\n",
       "      <td>923</td>\n",
       "      <td>696</td>\n",
       "      <td>492</td>\n",
       "      <td>1408</td>\n",
       "    </tr>\n",
       "    <tr>\n",
       "      <th>top</th>\n",
       "      <td>kms-technology:jrsr_qa_engineer_kms_labs_bonus</td>\n",
       "      <td>vietnam-international-bank-vib</td>\n",
       "      <td>Frontend Dev (JavaScript, HTML5, CSS)</td>\n",
       "      <td>JavaScript   HTML5   CSS</td>\n",
       "      <td>Sailing Tower Building, District 1, Ho Chi Minh</td>\n",
       "      <td>Global Exposure\\nFast Track Career\\nDiversifie...</td>\n",
       "      <td>Asilla là một startup công nghệ tiên phong phá...</td>\n",
       "    </tr>\n",
       "    <tr>\n",
       "      <th>freq</th>\n",
       "      <td>1</td>\n",
       "      <td>27</td>\n",
       "      <td>8</td>\n",
       "      <td>20</td>\n",
       "      <td>19</td>\n",
       "      <td>17</td>\n",
       "      <td>2</td>\n",
       "    </tr>\n",
       "  </tbody>\n",
       "</table>\n",
       "</div>"
      ],
      "text/plain": [
       "                                                job_id  \\\n",
       "count                                             1411   \n",
       "unique                                            1411   \n",
       "top     kms-technology:jrsr_qa_engineer_kms_labs_bonus   \n",
       "freq                                                 1   \n",
       "\n",
       "                            company_id                               job_name  \\\n",
       "count                             1411                                   1411   \n",
       "unique                             682                                   1358   \n",
       "top     vietnam-international-bank-vib  Frontend Dev (JavaScript, HTML5, CSS)   \n",
       "freq                                27                                      8   \n",
       "\n",
       "                           taglist  \\\n",
       "count                         1411   \n",
       "unique                         923   \n",
       "top      JavaScript   HTML5   CSS    \n",
       "freq                            20   \n",
       "\n",
       "                                               location  \\\n",
       "count                                              1411   \n",
       "unique                                              696   \n",
       "top     Sailing Tower Building, District 1, Ho Chi Minh   \n",
       "freq                                                 19   \n",
       "\n",
       "                                            three_reasons  \\\n",
       "count                                                1097   \n",
       "unique                                                492   \n",
       "top     Global Exposure\\nFast Track Career\\nDiversifie...   \n",
       "freq                                                   17   \n",
       "\n",
       "                                              description  \n",
       "count                                                1411  \n",
       "unique                                               1408  \n",
       "top     Asilla là một startup công nghệ tiên phong phá...  \n",
       "freq                                                    2  "
      ]
     },
     "execution_count": 81,
     "metadata": {},
     "output_type": "execute_result"
    }
   ],
   "source": [
    "statistic = jobs_df.describe()\n",
    "statistic"
   ]
  },
  {
   "cell_type": "markdown",
   "id": "5918ac86",
   "metadata": {},
   "source": [
    "Số lượng giá trị thiếu ở mỗi cột:"
   ]
  },
  {
   "cell_type": "code",
   "execution_count": 85,
   "id": "f2a96ada",
   "metadata": {},
   "outputs": [
    {
     "data": {
      "text/plain": [
       "job_id             0\n",
       "company_id         0\n",
       "job_name           0\n",
       "taglist            0\n",
       "location           0\n",
       "three_reasons    314\n",
       "description        0\n",
       "Name: count, dtype: object"
      ]
     },
     "execution_count": 85,
     "metadata": {},
     "output_type": "execute_result"
    }
   ],
   "source": [
    "miss_info = len(jobs_df) - statistic.loc['count']\n",
    "miss_info"
   ]
  },
  {
   "cell_type": "markdown",
   "id": "c2aaa2b9",
   "metadata": {},
   "source": [
    "Tỉ lệ giá trị thiếu:"
   ]
  },
  {
   "cell_type": "code",
   "execution_count": 87,
   "id": "2126834f",
   "metadata": {},
   "outputs": [
    {
     "data": {
      "text/plain": [
       "job_id                 0.0\n",
       "company_id             0.0\n",
       "job_name               0.0\n",
       "taglist                0.0\n",
       "location               0.0\n",
       "three_reasons    22.253721\n",
       "description            0.0\n",
       "Name: count, dtype: object"
      ]
     },
     "execution_count": 87,
     "metadata": {},
     "output_type": "execute_result"
    }
   ],
   "source": [
    "miss_info/len(jobs_df) * 100"
   ]
  },
  {
   "cell_type": "markdown",
   "id": "94014be7",
   "metadata": {},
   "source": [
    "Như đã thống kê, đa phần các cột có đầy đủ các dữ liệu trừ cột `three_reason` tỉ lệ thiếu lên tới 22,25\\%.\n",
    "Nhìn vào hàng `unique`, đa phần có giá trị khá lớn, cho thấy được sự đa dạng của việc tuyển dụng ở lĩnh vực IT."
   ]
  },
  {
   "cell_type": "markdown",
   "id": "e317816d",
   "metadata": {},
   "source": [
    "Một số giá trị ngẫu nhiên:"
   ]
  },
  {
   "cell_type": "code",
   "execution_count": 100,
   "id": "96a76e3a",
   "metadata": {},
   "outputs": [
    {
     "data": {
      "text/html": [
       "<div>\n",
       "<style scoped>\n",
       "    .dataframe tbody tr th:only-of-type {\n",
       "        vertical-align: middle;\n",
       "    }\n",
       "\n",
       "    .dataframe tbody tr th {\n",
       "        vertical-align: top;\n",
       "    }\n",
       "\n",
       "    .dataframe thead th {\n",
       "        text-align: right;\n",
       "    }\n",
       "</style>\n",
       "<table border=\"1\" class=\"dataframe\">\n",
       "  <thead>\n",
       "    <tr style=\"text-align: right;\">\n",
       "      <th></th>\n",
       "      <th>job_id</th>\n",
       "      <th>company_id</th>\n",
       "      <th>job_name</th>\n",
       "      <th>taglist</th>\n",
       "      <th>location</th>\n",
       "      <th>three_reasons</th>\n",
       "      <th>description</th>\n",
       "    </tr>\n",
       "  </thead>\n",
       "  <tbody>\n",
       "    <tr>\n",
       "      <th>1279</th>\n",
       "      <td>finviet:nodejs_backend_dev_javascript_1800</td>\n",
       "      <td>finviet</td>\n",
       "      <td>NodeJS Backend Dev (JavaScript) ~ 1800$</td>\n",
       "      <td>NodeJS   HTML5   JavaScript</td>\n",
       "      <td>34 Hoang Viet, Tan Binh, Ho Chi Minh</td>\n",
       "      <td>A fast growing start-up company in FIN TECH\\nC...</td>\n",
       "      <td>Design, develop, improve, and maintain core an...</td>\n",
       "    </tr>\n",
       "    <tr>\n",
       "      <th>104</th>\n",
       "      <td>vietnam-international-bank-vib:digital_data_sc...</td>\n",
       "      <td>vietnam-international-bank-vib</td>\n",
       "      <td>Digital Data Scientist</td>\n",
       "      <td>MySQL   Python</td>\n",
       "      <td>Sailing Tower Building, District 1, Ho Chi Minh</td>\n",
       "      <td>NaN</td>\n",
       "      <td>* Mục đích công việc:\\n\\n\\nChịu trách nhiệm th...</td>\n",
       "    </tr>\n",
       "    <tr>\n",
       "      <th>789</th>\n",
       "      <td>flynk:midsr_backend_developer_net_c</td>\n",
       "      <td>flynk</td>\n",
       "      <td>Mid/Sr. Backend Developer (.NET, C#)</td>\n",
       "      <td>C#   English   .NET</td>\n",
       "      <td>Bcons Tower, Nguyen Van Thuong, Binh Thanh, Ho...</td>\n",
       "      <td>We believe you are our most valuable asset\\nEx...</td>\n",
       "      <td>We are recruiting Backend Developer. Details a...</td>\n",
       "    </tr>\n",
       "    <tr>\n",
       "      <th>153</th>\n",
       "      <td>vng-corporation:leadsenior_qa_engineer_auto_za...</td>\n",
       "      <td>vng-corporation</td>\n",
       "      <td>Lead/Senior QA Engineer (Auto) - ZaloPay</td>\n",
       "      <td>Tester   Agile   Java</td>\n",
       "      <td>VNG Campus, Tân Thuận Đông, District 7, Ho Chi...</td>\n",
       "      <td>Attractive salary &amp; benefits you'll love\\nBuil...</td>\n",
       "      <td>Working closely with the manual members to get...</td>\n",
       "    </tr>\n",
       "    <tr>\n",
       "      <th>751</th>\n",
       "      <td>port-cities-vietnam:project_manager_vietnam</td>\n",
       "      <td>port-cities-vietnam</td>\n",
       "      <td>Project Manager Vietnam</td>\n",
       "      <td>Project Manager   ERP   Business Analyst</td>\n",
       "      <td>H3 building, District 4, Ho Chi Minh</td>\n",
       "      <td>Working on big B2B project for interesting cli...</td>\n",
       "      <td>We are hiring a Project Manager/ ERP Consultan...</td>\n",
       "    </tr>\n",
       "    <tr>\n",
       "      <th>168</th>\n",
       "      <td>fpt-software:sap_functional_consultant_no_prob...</td>\n",
       "      <td>fpt-software</td>\n",
       "      <td>SAP Functional Consultant - NO PROBATION</td>\n",
       "      <td>SAP   System Engineer   English</td>\n",
       "      <td>FPT Software Đường D1 Phường Tân Phú , Distric...</td>\n",
       "      <td>Global Exposure\\nFast Track Career\\nDiversifie...</td>\n",
       "      <td>Special offers: No Probation, get sign on bonu...</td>\n",
       "    </tr>\n",
       "    <tr>\n",
       "      <th>141</th>\n",
       "      <td>skedulo-vietnam:partner_enablement_program_man...</td>\n",
       "      <td>skedulo-vietnam</td>\n",
       "      <td>Partner Enablement Program Manager</td>\n",
       "      <td>Manager   English   Project Manager</td>\n",
       "      <td>An Phú Plaza, 117-119 Ly Chinh Thang street, w...</td>\n",
       "      <td>Sign on bonus to all level (*)\\nGreat healthca...</td>\n",
       "      <td>The Global Partner Delivery team is looking fo...</td>\n",
       "    </tr>\n",
       "    <tr>\n",
       "      <th>159</th>\n",
       "      <td>niteco-vietnam-co-ltd:senior_project_managers_x6</td>\n",
       "      <td>niteco-vietnam-co-ltd</td>\n",
       "      <td>Senior Project Managers (x6)</td>\n",
       "      <td>Project Manager   Agile   English</td>\n",
       "      <td>14th Floor, CLand Tower, 156 Xa Dan II, Dong D...</td>\n",
       "      <td>Attractive salary package\\nPremium healthcare ...</td>\n",
       "      <td>We are looking for experienced Project Manager...</td>\n",
       "    </tr>\n",
       "    <tr>\n",
       "      <th>1310</th>\n",
       "      <td>cong-ty-co-phan-cong-nghe-dng:php_developer_ja...</td>\n",
       "      <td>cong-ty-co-phan-cong-nghe-dng</td>\n",
       "      <td>PHP Developer (JavaScript, HTML5)</td>\n",
       "      <td>PHP   HTML5   JavaScript</td>\n",
       "      <td>84 Nguyen Hao Vinh, Tan Quy Ward, Tan Phu, Ho ...</td>\n",
       "      <td>NaN</td>\n",
       "      <td>Tham gia phát triển CRM bằng PHP, mysql. \\n\\n\\...</td>\n",
       "    </tr>\n",
       "    <tr>\n",
       "      <th>53</th>\n",
       "      <td>tyme:business_analyst_manager_agile</td>\n",
       "      <td>tyme</td>\n",
       "      <td>Business Analyst Manager (Agile)</td>\n",
       "      <td>Business Analyst   Agile   Manager</td>\n",
       "      <td>HIU Tower, 215 Điện Biên Phủ, Phường 15, Binh ...</td>\n",
       "      <td>Excellent environment and team to help you gro...</td>\n",
       "      <td>Business Analyst Manager is responsible for le...</td>\n",
       "    </tr>\n",
       "  </tbody>\n",
       "</table>\n",
       "</div>"
      ],
      "text/plain": [
       "                                                 job_id  \\\n",
       "1279         finviet:nodejs_backend_dev_javascript_1800   \n",
       "104   vietnam-international-bank-vib:digital_data_sc...   \n",
       "789                 flynk:midsr_backend_developer_net_c   \n",
       "153   vng-corporation:leadsenior_qa_engineer_auto_za...   \n",
       "751         port-cities-vietnam:project_manager_vietnam   \n",
       "168   fpt-software:sap_functional_consultant_no_prob...   \n",
       "141   skedulo-vietnam:partner_enablement_program_man...   \n",
       "159    niteco-vietnam-co-ltd:senior_project_managers_x6   \n",
       "1310  cong-ty-co-phan-cong-nghe-dng:php_developer_ja...   \n",
       "53                  tyme:business_analyst_manager_agile   \n",
       "\n",
       "                          company_id  \\\n",
       "1279                         finviet   \n",
       "104   vietnam-international-bank-vib   \n",
       "789                            flynk   \n",
       "153                  vng-corporation   \n",
       "751              port-cities-vietnam   \n",
       "168                     fpt-software   \n",
       "141                  skedulo-vietnam   \n",
       "159            niteco-vietnam-co-ltd   \n",
       "1310   cong-ty-co-phan-cong-nghe-dng   \n",
       "53                              tyme   \n",
       "\n",
       "                                      job_name  \\\n",
       "1279   NodeJS Backend Dev (JavaScript) ~ 1800$   \n",
       "104                     Digital Data Scientist   \n",
       "789       Mid/Sr. Backend Developer (.NET, C#)   \n",
       "153   Lead/Senior QA Engineer (Auto) - ZaloPay   \n",
       "751                   Project Manager Vietnam    \n",
       "168   SAP Functional Consultant - NO PROBATION   \n",
       "141         Partner Enablement Program Manager   \n",
       "159               Senior Project Managers (x6)   \n",
       "1310         PHP Developer (JavaScript, HTML5)   \n",
       "53            Business Analyst Manager (Agile)   \n",
       "\n",
       "                                         taglist  \\\n",
       "1279                NodeJS   HTML5   JavaScript    \n",
       "104                              MySQL   Python    \n",
       "789                         C#   English   .NET    \n",
       "153                       Tester   Agile   Java    \n",
       "751    Project Manager   ERP   Business Analyst    \n",
       "168             SAP   System Engineer   English    \n",
       "141         Manager   English   Project Manager    \n",
       "159           Project Manager   Agile   English    \n",
       "1310                   PHP   HTML5   JavaScript    \n",
       "53           Business Analyst   Agile   Manager    \n",
       "\n",
       "                                               location  \\\n",
       "1279               34 Hoang Viet, Tan Binh, Ho Chi Minh   \n",
       "104     Sailing Tower Building, District 1, Ho Chi Minh   \n",
       "789   Bcons Tower, Nguyen Van Thuong, Binh Thanh, Ho...   \n",
       "153   VNG Campus, Tân Thuận Đông, District 7, Ho Chi...   \n",
       "751                H3 building, District 4, Ho Chi Minh   \n",
       "168   FPT Software Đường D1 Phường Tân Phú , Distric...   \n",
       "141   An Phú Plaza, 117-119 Ly Chinh Thang street, w...   \n",
       "159   14th Floor, CLand Tower, 156 Xa Dan II, Dong D...   \n",
       "1310  84 Nguyen Hao Vinh, Tan Quy Ward, Tan Phu, Ho ...   \n",
       "53    HIU Tower, 215 Điện Biên Phủ, Phường 15, Binh ...   \n",
       "\n",
       "                                          three_reasons  \\\n",
       "1279  A fast growing start-up company in FIN TECH\\nC...   \n",
       "104                                                 NaN   \n",
       "789   We believe you are our most valuable asset\\nEx...   \n",
       "153   Attractive salary & benefits you'll love\\nBuil...   \n",
       "751   Working on big B2B project for interesting cli...   \n",
       "168   Global Exposure\\nFast Track Career\\nDiversifie...   \n",
       "141   Sign on bonus to all level (*)\\nGreat healthca...   \n",
       "159   Attractive salary package\\nPremium healthcare ...   \n",
       "1310                                                NaN   \n",
       "53    Excellent environment and team to help you gro...   \n",
       "\n",
       "                                            description  \n",
       "1279  Design, develop, improve, and maintain core an...  \n",
       "104   * Mục đích công việc:\\n\\n\\nChịu trách nhiệm th...  \n",
       "789   We are recruiting Backend Developer. Details a...  \n",
       "153   Working closely with the manual members to get...  \n",
       "751   We are hiring a Project Manager/ ERP Consultan...  \n",
       "168   Special offers: No Probation, get sign on bonu...  \n",
       "141   The Global Partner Delivery team is looking fo...  \n",
       "159   We are looking for experienced Project Manager...  \n",
       "1310  Tham gia phát triển CRM bằng PHP, mysql. \\n\\n\\...  \n",
       "53    Business Analyst Manager is responsible for le...  "
      ]
     },
     "execution_count": 100,
     "metadata": {},
     "output_type": "execute_result"
    }
   ],
   "source": [
    "jobs_df.sample(10)"
   ]
  },
  {
   "cell_type": "markdown",
   "id": "9945a99b",
   "metadata": {},
   "source": [
    "Dữ liệu cho thấy được không có sự bất thường ở bộ dữ liệu này.\n",
    "Tuy nhiên dữ liệu ở 2 cột `three_reasons` và `description` có các dòng dữ liệu thuộc 2 ngôn ngữ khác nhau (Việt và Anh) có thể gây khó khăn trong việc phân tích."
   ]
  },
  {
   "cell_type": "markdown",
   "id": "76ab1bc8",
   "metadata": {},
   "source": [
    "# 3. Câu hỏi cần trả lời"
   ]
  },
  {
   "cell_type": "markdown",
   "id": "aa2162b3",
   "metadata": {},
   "source": [
    "## 3.1 Câu hỏi 1"
   ]
  },
  {
   "cell_type": "markdown",
   "id": "5db3855a",
   "metadata": {},
   "source": [
    "### 3.1.1 Nêu vấn đề"
   ]
  },
  {
   "cell_type": "markdown",
   "id": "325fd600",
   "metadata": {},
   "source": [
    "### 3.1.2 Data Preprocessing"
   ]
  },
  {
   "cell_type": "markdown",
   "id": "e98d0b71",
   "metadata": {},
   "source": [
    "### 3.1.3 Analysis, Visualization"
   ]
  },
  {
   "cell_type": "markdown",
   "id": "3a46a20e",
   "metadata": {},
   "source": [
    "### 3.1.4 Kết luận"
   ]
  },
  {
   "cell_type": "markdown",
   "id": "55c97ef7",
   "metadata": {},
   "source": [
    "## 3.2 Câu hỏi 2"
   ]
  },
  {
   "cell_type": "markdown",
   "id": "20355d57",
   "metadata": {},
   "source": [
    "### 3.2.1 Nêu vấn đề"
   ]
  },
  {
   "cell_type": "markdown",
   "id": "b1cfcee6",
   "metadata": {},
   "source": [
    "### 3.2.2 Data Preprocessing"
   ]
  },
  {
   "cell_type": "markdown",
   "id": "057a6d94",
   "metadata": {},
   "source": [
    "### 3.2.3 Analysis, Visualization"
   ]
  },
  {
   "cell_type": "markdown",
   "id": "d44c5a11",
   "metadata": {},
   "source": [
    "### 3.2.4 Kết luận"
   ]
  },
  {
   "cell_type": "markdown",
   "id": "62b26be3",
   "metadata": {},
   "source": [
    "## 3.3 Phương hướng phát triển nếu còn thời gian"
   ]
  },
  {
   "cell_type": "markdown",
   "id": "0aeaed66",
   "metadata": {},
   "source": [
    "# 4. Cảm nhận sau khi kết thúc môn học"
   ]
  },
  {
   "cell_type": "markdown",
   "id": "68872f4a",
   "metadata": {},
   "source": [
    "## 4.1 Lê Đức Huy - 19120080"
   ]
  },
  {
   "cell_type": "markdown",
   "id": "d941c710",
   "metadata": {},
   "source": [
    "## 4.2 Mai Duy Nam - 19120298"
   ]
  },
  {
   "cell_type": "markdown",
   "id": "a108f516",
   "metadata": {},
   "source": [
    "# 5. Tài liệu tham khảo"
   ]
  }
 ],
 "metadata": {
  "kernelspec": {
   "display_name": "Python 3 (ipykernel)",
   "language": "python",
   "name": "python3"
  },
  "language_info": {
   "codemirror_mode": {
    "name": "ipython",
    "version": 3
   },
   "file_extension": ".py",
   "mimetype": "text/x-python",
   "name": "python",
   "nbconvert_exporter": "python",
   "pygments_lexer": "ipython3",
   "version": "3.8.8"
  }
 },
 "nbformat": 4,
 "nbformat_minor": 5
}

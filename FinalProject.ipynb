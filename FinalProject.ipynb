{
 "cells": [
  {
   "cell_type": "markdown",
   "id": "97fe17fd",
   "metadata": {
    "heading_collapsed": true
   },
   "source": [
    "# 1. Thông tin chung\n",
    "Thành viên:\n",
    "\n",
    "|MSSV|Họ tên|\n",
    "|----|-----|\n",
    "|19120080|Lê Đức Huy|\n",
    "|19120298|Mai Duy Nam|"
   ]
  },
  {
   "cell_type": "markdown",
   "id": "a64d3ee1",
   "metadata": {},
   "source": [
    "# 2. Thông tin về dữ liệu"
   ]
  },
  {
   "cell_type": "markdown",
   "id": "06bb09a8",
   "metadata": {
    "heading_collapsed": true
   },
   "source": [
    "## 2.1 Thông tin chung\n",
    "Dataset trong đồ án này được lấy từ Kaggle tại [đây](https://www.kaggle.com/halhuynh/it-jobs-dataset).\n",
    "\n",
    "Dataset này chứa thông tin về các công ty IT ở Việt Nam và các công việc được đăng tải bởi các công ty này. Dữ liệu này được tác giả crawl từ trang web [ITviec](https://itviec.com/). Dataset này bao gồm 2 file:\n",
    "* `companies.csv` chứa thông tin về các công ty (tên công ty, lượt rating, lượt review, địa chỉ, v.v.) có tăng tải việc làm trên ITviec\n",
    "* `jobs.csv` chứa thông tin về việc làm được đăng tải bởi các công ty (tên công việc, mô tả, yêu cầu kỹ năng, v.v.)\n",
    "\n",
    "Hai tập dữ liệu này có mối liên hệ với nhau thông qua cột `company_id`."
   ]
  },
  {
   "cell_type": "markdown",
   "id": "e1e41c09",
   "metadata": {},
   "source": [
    "## 2.2 Khám phá dữ liệu"
   ]
  },
  {
   "cell_type": "markdown",
   "id": "theoretical-suffering",
   "metadata": {},
   "source": [
    "Ở các phần sau, ta lần lượt khám phá 2 bộ dữ liệu `companies` và `jobs` thu thập được"
   ]
  },
  {
   "cell_type": "markdown",
   "id": "interpreted-gospel",
   "metadata": {},
   "source": [
    "### 2.2.1 `companies`"
   ]
  },
  {
   "cell_type": "markdown",
   "id": "north-vector",
   "metadata": {},
   "source": [
    "#### Nạp dữ liệu"
   ]
  },
  {
   "cell_type": "code",
   "execution_count": 1,
   "id": "grateful-controversy",
   "metadata": {},
   "outputs": [],
   "source": [
    "import numpy as np\n",
    "import pandas as pd\n",
    "import matplotlib.pyplot as plt"
   ]
  },
  {
   "cell_type": "code",
   "execution_count": 2,
   "id": "million-stopping",
   "metadata": {},
   "outputs": [
    {
     "data": {
      "text/html": [
       "<div>\n",
       "<style scoped>\n",
       "    .dataframe tbody tr th:only-of-type {\n",
       "        vertical-align: middle;\n",
       "    }\n",
       "\n",
       "    .dataframe tbody tr th {\n",
       "        vertical-align: top;\n",
       "    }\n",
       "\n",
       "    .dataframe thead th {\n",
       "        text-align: right;\n",
       "    }\n",
       "</style>\n",
       "<table border=\"1\" class=\"dataframe\">\n",
       "  <thead>\n",
       "    <tr style=\"text-align: right;\">\n",
       "      <th></th>\n",
       "      <th>company_id</th>\n",
       "      <th>company_name</th>\n",
       "      <th>average_rating</th>\n",
       "      <th>num_review</th>\n",
       "      <th>city</th>\n",
       "      <th>type</th>\n",
       "      <th>num_employee</th>\n",
       "      <th>country</th>\n",
       "      <th>working_day</th>\n",
       "      <th>OT</th>\n",
       "      <th>overview</th>\n",
       "      <th>expertise</th>\n",
       "      <th>benifit</th>\n",
       "      <th>logo_link</th>\n",
       "    </tr>\n",
       "  </thead>\n",
       "  <tbody>\n",
       "    <tr>\n",
       "      <th>0</th>\n",
       "      <td>kms-technology</td>\n",
       "      <td>KMS Technology</td>\n",
       "      <td>4.0</td>\n",
       "      <td>197 Reviews</td>\n",
       "      <td>Ho Chi Minh, Da Nang, Ha Noi</td>\n",
       "      <td>Outsourcing</td>\n",
       "      <td>1000+</td>\n",
       "      <td>United States</td>\n",
       "      <td>Monday - Friday</td>\n",
       "      <td>No OT</td>\n",
       "      <td>Established in 2009, KMS Technology is a U.S.-...</td>\n",
       "      <td>NaN</td>\n",
       "      <td>Want to be the Best? Join KMS!\\n\\n\\nIt’s posit...</td>\n",
       "      <td>https://itviec.com/rails/active_storage/repres...</td>\n",
       "    </tr>\n",
       "    <tr>\n",
       "      <th>1</th>\n",
       "      <td>nab-in-collaboration-with-positive-thinking-co...</td>\n",
       "      <td>NAB in collaboration with Positive Thinking Co...</td>\n",
       "      <td>4.4</td>\n",
       "      <td>11 Reviews</td>\n",
       "      <td>Ho Chi Minh</td>\n",
       "      <td>Product</td>\n",
       "      <td>501-1000</td>\n",
       "      <td>Australia</td>\n",
       "      <td>Monday - Friday</td>\n",
       "      <td>No OT</td>\n",
       "      <td>NAB in collaboration with Positive Thinking Co...</td>\n",
       "      <td>Languages &amp;amp; Frameworks\\n\\n\\nJavaScript ES6...</td>\n",
       "      <td>THE BENEFITS AND PERKS\\n\\n\\n\\n\\nVery competiti...</td>\n",
       "      <td>https://itviec.com/rails/active_storage/repres...</td>\n",
       "    </tr>\n",
       "    <tr>\n",
       "      <th>2</th>\n",
       "      <td>robert-bosch-engineering-and-business-solutions</td>\n",
       "      <td>Robert Bosch Engineering And Business Solutions</td>\n",
       "      <td>3.2</td>\n",
       "      <td>217 Reviews</td>\n",
       "      <td>Ho Chi Minh, Ha Noi</td>\n",
       "      <td>Product</td>\n",
       "      <td>1-50</td>\n",
       "      <td>Germany</td>\n",
       "      <td>Monday - Friday</td>\n",
       "      <td>No OT</td>\n",
       "      <td>Robert BOSCH Engineering and Business Solution...</td>\n",
       "      <td>Embedded Software for Automotive Applications\\...</td>\n",
       "      <td>Why \\nBOSCH\\n?\\n\\nBecause we don't just follow...</td>\n",
       "      <td>https://itviec.com/rails/active_storage/repres...</td>\n",
       "    </tr>\n",
       "    <tr>\n",
       "      <th>3</th>\n",
       "      <td>gft-technologies-vietnam</td>\n",
       "      <td>GFT Technologies Vietnam</td>\n",
       "      <td>NaN</td>\n",
       "      <td>Reviews</td>\n",
       "      <td>Ho Chi Minh, Ha Noi</td>\n",
       "      <td>Outsourcing</td>\n",
       "      <td>51-150</td>\n",
       "      <td>Germany</td>\n",
       "      <td>Monday - Friday</td>\n",
       "      <td>No OT</td>\n",
       "      <td>Working at GFT Vietnam\\n\\n\\nGFT is driving the...</td>\n",
       "      <td>Technical frameworks\\n\\n\\nJava/Kotlin, Spring ...</td>\n",
       "      <td>HR benefits\\n\\n\\n\\n\\nCompetitive salary\\n\\n\\nS...</td>\n",
       "      <td>https://itviec.com/rails/active_storage/repres...</td>\n",
       "    </tr>\n",
       "    <tr>\n",
       "      <th>4</th>\n",
       "      <td>tyme</td>\n",
       "      <td>Tyme</td>\n",
       "      <td>4.6</td>\n",
       "      <td>29 Reviews</td>\n",
       "      <td>Ho Chi Minh, Ha Noi</td>\n",
       "      <td>Product</td>\n",
       "      <td>151-300</td>\n",
       "      <td>Vietnam</td>\n",
       "      <td>Monday - Friday</td>\n",
       "      <td>No OT</td>\n",
       "      <td>Tyme Vietnam\\n is the international arm of \\nT...</td>\n",
       "      <td>Mobile/ Tablet Development: \\nNative Android/i...</td>\n",
       "      <td>Our goal is simple: to be the #1 digital techn...</td>\n",
       "      <td>https://itviec.com/rails/active_storage/repres...</td>\n",
       "    </tr>\n",
       "  </tbody>\n",
       "</table>\n",
       "</div>"
      ],
      "text/plain": [
       "                                          company_id  \\\n",
       "0                                     kms-technology   \n",
       "1  nab-in-collaboration-with-positive-thinking-co...   \n",
       "2    robert-bosch-engineering-and-business-solutions   \n",
       "3                           gft-technologies-vietnam   \n",
       "4                                               tyme   \n",
       "\n",
       "                                        company_name  average_rating  \\\n",
       "0                                     KMS Technology             4.0   \n",
       "1  NAB in collaboration with Positive Thinking Co...             4.4   \n",
       "2    Robert Bosch Engineering And Business Solutions             3.2   \n",
       "3                           GFT Technologies Vietnam             NaN   \n",
       "4                                               Tyme             4.6   \n",
       "\n",
       "    num_review                          city         type num_employee  \\\n",
       "0  197 Reviews  Ho Chi Minh, Da Nang, Ha Noi  Outsourcing        1000+   \n",
       "1   11 Reviews                   Ho Chi Minh      Product     501-1000   \n",
       "2  217 Reviews           Ho Chi Minh, Ha Noi      Product         1-50   \n",
       "3      Reviews           Ho Chi Minh, Ha Noi  Outsourcing       51-150   \n",
       "4   29 Reviews           Ho Chi Minh, Ha Noi      Product      151-300   \n",
       "\n",
       "         country      working_day     OT  \\\n",
       "0  United States  Monday - Friday  No OT   \n",
       "1      Australia  Monday - Friday  No OT   \n",
       "2        Germany  Monday - Friday  No OT   \n",
       "3        Germany  Monday - Friday  No OT   \n",
       "4        Vietnam  Monday - Friday  No OT   \n",
       "\n",
       "                                            overview  \\\n",
       "0  Established in 2009, KMS Technology is a U.S.-...   \n",
       "1  NAB in collaboration with Positive Thinking Co...   \n",
       "2  Robert BOSCH Engineering and Business Solution...   \n",
       "3  Working at GFT Vietnam\\n\\n\\nGFT is driving the...   \n",
       "4  Tyme Vietnam\\n is the international arm of \\nT...   \n",
       "\n",
       "                                           expertise  \\\n",
       "0                                                NaN   \n",
       "1  Languages &amp; Frameworks\\n\\n\\nJavaScript ES6...   \n",
       "2  Embedded Software for Automotive Applications\\...   \n",
       "3  Technical frameworks\\n\\n\\nJava/Kotlin, Spring ...   \n",
       "4  Mobile/ Tablet Development: \\nNative Android/i...   \n",
       "\n",
       "                                             benifit  \\\n",
       "0  Want to be the Best? Join KMS!\\n\\n\\nIt’s posit...   \n",
       "1  THE BENEFITS AND PERKS\\n\\n\\n\\n\\nVery competiti...   \n",
       "2  Why \\nBOSCH\\n?\\n\\nBecause we don't just follow...   \n",
       "3  HR benefits\\n\\n\\n\\n\\nCompetitive salary\\n\\n\\nS...   \n",
       "4  Our goal is simple: to be the #1 digital techn...   \n",
       "\n",
       "                                           logo_link  \n",
       "0  https://itviec.com/rails/active_storage/repres...  \n",
       "1  https://itviec.com/rails/active_storage/repres...  \n",
       "2  https://itviec.com/rails/active_storage/repres...  \n",
       "3  https://itviec.com/rails/active_storage/repres...  \n",
       "4  https://itviec.com/rails/active_storage/repres...  "
      ]
     },
     "execution_count": 2,
     "metadata": {},
     "output_type": "execute_result"
    }
   ],
   "source": [
    "companies_df = pd.read_csv('dataset/companies.csv')\n",
    "companies_df.head()"
   ]
  },
  {
   "cell_type": "markdown",
   "id": "retained-advance",
   "metadata": {
    "heading_collapsed": true
   },
   "source": [
    "#### Số lượng dòng và cột"
   ]
  },
  {
   "cell_type": "code",
   "execution_count": 3,
   "id": "introductory-preference",
   "metadata": {
    "hidden": true
   },
   "outputs": [
    {
     "name": "stdout",
     "output_type": "stream",
     "text": [
      "Number of rows: 2041\n",
      "Number of columns: 14\n"
     ]
    }
   ],
   "source": [
    "print('Number of rows: {}\\nNumber of columns: {}'.format(*companies_df.shape))"
   ]
  },
  {
   "cell_type": "markdown",
   "id": "colonial-amateur",
   "metadata": {
    "heading_collapsed": true
   },
   "source": [
    "#### Các dòng có ý nghĩa gì?\n",
    "Mỗi dòng chứa thông tin của một công ty dựa theo trang ITviec. Mỗi công ty có một ID duy nhất."
   ]
  },
  {
   "cell_type": "markdown",
   "id": "valued-august",
   "metadata": {
    "hidden": true
   },
   "source": [
    "Kiểm tra có dòng nào bị lặp hay không."
   ]
  },
  {
   "cell_type": "code",
   "execution_count": 4,
   "id": "seeing-scholar",
   "metadata": {
    "hidden": true
   },
   "outputs": [
    {
     "data": {
      "text/plain": [
       "False"
      ]
     },
     "execution_count": 4,
     "metadata": {},
     "output_type": "execute_result"
    }
   ],
   "source": [
    "companies_df.duplicated().sum() != 0"
   ]
  },
  {
   "cell_type": "markdown",
   "id": "democratic-sunset",
   "metadata": {
    "hidden": true
   },
   "source": [
    "Kiểm tra có ID công ty nào bị lặp hay không."
   ]
  },
  {
   "cell_type": "code",
   "execution_count": 5,
   "id": "concrete-shakespeare",
   "metadata": {
    "hidden": true
   },
   "outputs": [
    {
     "data": {
      "text/plain": [
       "False"
      ]
     },
     "execution_count": 5,
     "metadata": {},
     "output_type": "execute_result"
    }
   ],
   "source": [
    "companies_df.duplicated('company_id').sum() != 0"
   ]
  },
  {
   "cell_type": "markdown",
   "id": "judicial-executive",
   "metadata": {
    "heading_collapsed": true
   },
   "source": [
    "#### Các cột có ý nghĩa gì?\n",
    "Tác giả của bộ dữ liệu không mô tả chi tiết về ý nghĩa của các một mà chỉ nói \"The column names are self-explained\". Do đó ta phải tự suy luận về ý nghĩa của các cột:\n",
    "* `company_id`: ID của công ty\n",
    "* `company_name`: tên công ty\n",
    "* `average_rating`: số điểm rating trung bình của công ty trên thang điểm 5\n",
    "* `num_review`: số lượt review công ty\n",
    "* `city`: thành phố\n",
    "* `type`: loại hình công ty (outsourcing hay product)\n",
    "* `num_employee`: số lượng nhân viên\n",
    "* `country`: quốc gia\n",
    "* `working_day`: ngày làm việc trong tuần\n",
    "* `OT`: các chính sách về làm thêm giờ\n",
    "* `overview`: tổng quan về công ty\n",
    "* `expertise`: lĩnh vực chuyên ngành\n",
    "* `benifit` (sai chính tả, phải là `benefit`): lợi ích khi tham gia công ty\n",
    "* `logo_link`: đường dẫn đến logo công ty\n",
    "\n",
    "Có một vấn đề về ý nghĩa các cột: cột `city` không thống nhất với cột `country` (có công ty có thành phố là `Ho Chi Minh` nhưng quốc gia là `Australia`). Do các công ty có thể có nhiều trụ sở đặt ở nhiều quốc gia, trong cùng quốc gia cũng được đặt ở nhiều thành phố khác nhau, cho nên trong các bước phân tích tiếp theo ta sẽ giả sử hai cột `city` và `country` có ý nghĩa như sau:\n",
    "* Cột `city` chứa các thành phố ở Việt Nam nơi các văn phòng của công ty được đặt.\n",
    "* Cột `country` chứa quốc gia nơi trụ sở chính của công ty được đặt.\n",
    "\n",
    "Các cột còn lại đều có ý nghĩa rõ ràng, không có gì gây khó hiểu."
   ]
  },
  {
   "cell_type": "markdown",
   "id": "major-flavor",
   "metadata": {
    "hidden": true
   },
   "source": [
    "Trước khi đến bước phân tích tiếp theo, ta thực hiện một số thay đổi về các cột như sau:\n",
    "* Đổi tên các cột cho hợp lý:\n",
    "    * Đổi tên cột `benifit` bị sai chính tả\n",
    "    * Đổi tên cột `city`, `num_review`, `num_employee` và `working_day` thành số nhiều\n",
    "    * Đổi tên cột `OT` thành `overtime` để thống nhất với các tên cột còn lại\n",
    "* Loại bỏ cột `logo_link` do không cần thiết"
   ]
  },
  {
   "cell_type": "code",
   "execution_count": 6,
   "id": "convinced-honolulu",
   "metadata": {
    "hidden": true
   },
   "outputs": [],
   "source": [
    "companies_df.rename(columns={'benifit': 'benefit',\n",
    "                             'city': 'cities',\n",
    "                             'num_review': 'num_reviews',\n",
    "                             'num_employee': 'num_employees',\n",
    "                             'working_day': 'working_days',\n",
    "                             'OT': 'overtime'}, inplace=True)\n",
    "companies_df.drop(columns='logo_link', inplace=True)"
   ]
  },
  {
   "cell_type": "markdown",
   "id": "practical-appointment",
   "metadata": {
    "heading_collapsed": true
   },
   "source": [
    "#### Mỗi cột có kiểu dữ liệu thế nào và có phù hợp để xử lý tiếp không?"
   ]
  },
  {
   "cell_type": "code",
   "execution_count": 7,
   "id": "available-review",
   "metadata": {
    "hidden": true
   },
   "outputs": [
    {
     "data": {
      "text/plain": [
       "company_id         object\n",
       "company_name       object\n",
       "average_rating    float64\n",
       "num_reviews        object\n",
       "cities             object\n",
       "type               object\n",
       "num_employees      object\n",
       "country            object\n",
       "working_days       object\n",
       "overtime           object\n",
       "overview           object\n",
       "expertise          object\n",
       "benefit            object\n",
       "dtype: object"
      ]
     },
     "execution_count": 7,
     "metadata": {},
     "output_type": "execute_result"
    }
   ],
   "source": [
    "companies_df.dtypes"
   ]
  },
  {
   "cell_type": "markdown",
   "id": "standing-symposium",
   "metadata": {
    "hidden": true
   },
   "source": [
    "Có hai cột có thể phải cân nhắc chuyển về dạng số là `num_reviews` và `num_employees`. Các cột khác đều đã có kiểu dữ liệu phù hợp.\n",
    "\n",
    "Đối với cột `num_employees`, dữ liệu của ta được thu thập theo dạng một khoảng giá trị. Việc chuyển đổi cột này về dạng số hay không phụ thuộc vào phân tích nào mà ta đang thực hiện. Do đó tạm thời ở bước này ta không thay đổi cột `num_employees`."
   ]
  },
  {
   "cell_type": "code",
   "execution_count": 8,
   "id": "dressed-force",
   "metadata": {
    "hidden": true
   },
   "outputs": [
    {
     "data": {
      "text/plain": [
       "array(['1000+', '501-1000', '1-50', '51-150', '151-300', '301-500'],\n",
       "      dtype=object)"
      ]
     },
     "execution_count": 8,
     "metadata": {},
     "output_type": "execute_result"
    }
   ],
   "source": [
    "companies_df.num_employees.unique()"
   ]
  },
  {
   "cell_type": "markdown",
   "id": "shared-maryland",
   "metadata": {
    "hidden": true
   },
   "source": [
    "Đối với `num_reviews`, kiểm tra các giá trị unique của nó, ta thấy các giá trị đều có dạng: `\"<một số> Review[s]\"`, ngoại trừ giá trị duy nhất không tuân theo pattern này là `Reviews`. Vì vậy, ta có thể lấy ra giá trị số, lọc bỏ chuỗi ` Reviews` dư thừa và chuyển kiểu dữ liệu cột thành dạng float. Đối với giá trị `Reviews`, ta gán bằng NaN."
   ]
  },
  {
   "cell_type": "code",
   "execution_count": 9,
   "id": "middle-annual",
   "metadata": {
    "hidden": true
   },
   "outputs": [
    {
     "data": {
      "text/plain": [
       "array(['197 Reviews', '11 Reviews', '217 Reviews', 'Reviews',\n",
       "       '29 Reviews', '16 Reviews', '8 Reviews', '60 Reviews', '9 Reviews',\n",
       "       '127 Reviews', '6 Reviews', '34 Reviews', '3 Reviews',\n",
       "       '20 Reviews', '185 Reviews', '1486 Reviews', '57 Reviews',\n",
       "       '22 Reviews', '68 Reviews', '1 Review', '21 Reviews', '12 Reviews',\n",
       "       '23 Reviews', '7 Reviews', '17 Reviews', '5 Reviews', '96 Reviews',\n",
       "       '37 Reviews', '207 Reviews', '109 Reviews', '4 Reviews',\n",
       "       '33 Reviews', '76 Reviews', '18 Reviews', '10 Reviews',\n",
       "       '2 Reviews', '65 Reviews', '15 Reviews', '41 Reviews',\n",
       "       '19 Reviews', '27 Reviews', '13 Reviews', '26 Reviews',\n",
       "       '42 Reviews', '183 Reviews', '24 Reviews', '54 Reviews',\n",
       "       '14 Reviews', '38 Reviews', '451 Reviews', '28 Reviews',\n",
       "       '36 Reviews', '52 Reviews', '31 Reviews', '92 Reviews',\n",
       "       '30 Reviews', '86 Reviews', '32 Reviews', '25 Reviews',\n",
       "       '43 Reviews', '46 Reviews', '97 Reviews', '44 Reviews',\n",
       "       '226 Reviews', '179 Reviews', '66 Reviews', '45 Reviews',\n",
       "       '49 Reviews', '58 Reviews', '232 Reviews', '87 Reviews'],\n",
       "      dtype=object)"
      ]
     },
     "execution_count": 9,
     "metadata": {},
     "output_type": "execute_result"
    }
   ],
   "source": [
    "companies_df.num_reviews.unique()"
   ]
  },
  {
   "cell_type": "code",
   "execution_count": 10,
   "id": "minute-picking",
   "metadata": {
    "hidden": true
   },
   "outputs": [
    {
     "data": {
      "text/plain": [
       "array([1.970e+02, 1.100e+01, 2.170e+02,       nan, 2.900e+01, 1.600e+01,\n",
       "       8.000e+00, 6.000e+01, 9.000e+00, 1.270e+02, 6.000e+00, 3.400e+01,\n",
       "       3.000e+00, 2.000e+01, 1.850e+02, 1.486e+03, 5.700e+01, 2.200e+01,\n",
       "       6.800e+01, 1.000e+00, 2.100e+01, 1.200e+01, 2.300e+01, 7.000e+00,\n",
       "       1.700e+01, 5.000e+00, 9.600e+01, 3.700e+01, 2.070e+02, 1.090e+02,\n",
       "       4.000e+00, 3.300e+01, 7.600e+01, 1.800e+01, 1.000e+01, 2.000e+00,\n",
       "       6.500e+01, 1.500e+01, 4.100e+01, 1.900e+01, 2.700e+01, 1.300e+01,\n",
       "       2.600e+01, 4.200e+01, 1.830e+02, 2.400e+01, 5.400e+01, 1.400e+01,\n",
       "       3.800e+01, 4.510e+02, 2.800e+01, 3.600e+01, 5.200e+01, 3.100e+01,\n",
       "       9.200e+01, 3.000e+01, 8.600e+01, 3.200e+01, 2.500e+01, 4.300e+01,\n",
       "       4.600e+01, 9.700e+01, 4.400e+01, 2.260e+02, 1.790e+02, 6.600e+01,\n",
       "       4.500e+01, 4.900e+01, 5.800e+01, 2.320e+02, 8.700e+01])"
      ]
     },
     "execution_count": 10,
     "metadata": {},
     "output_type": "execute_result"
    }
   ],
   "source": [
    "import re\n",
    "def get_num_reviews(x):\n",
    "    result = re.match('^(\\d+) Reviews?$', x)\n",
    "    return float(result.group(1)) if result != None else np.nan\n",
    "companies_df.num_reviews = companies_df.num_reviews.map(get_num_reviews, na_action='ignore')\n",
    "companies_df.num_reviews.unique()"
   ]
  },
  {
   "cell_type": "markdown",
   "id": "detailed-korea",
   "metadata": {
    "heading_collapsed": true
   },
   "source": [
    "#### Với mỗi cột kiểu dữ liệu dạng số, các giá trị được phân bố như thế nào?"
   ]
  },
  {
   "cell_type": "code",
   "execution_count": 11,
   "id": "juvenile-feedback",
   "metadata": {
    "hidden": true
   },
   "outputs": [],
   "source": [
    "numerical_columns = ['average_rating', 'num_reviews']\n",
    "categorical_columns = companies_df.columns.to_list()\n",
    "categorical_columns.remove('average_rating')\n",
    "categorical_columns.remove('num_reviews')"
   ]
  },
  {
   "cell_type": "code",
   "execution_count": 12,
   "id": "bottom-traveler",
   "metadata": {
    "hidden": true
   },
   "outputs": [
    {
     "data": {
      "text/html": [
       "<div>\n",
       "<style scoped>\n",
       "    .dataframe tbody tr th:only-of-type {\n",
       "        vertical-align: middle;\n",
       "    }\n",
       "\n",
       "    .dataframe tbody tr th {\n",
       "        vertical-align: top;\n",
       "    }\n",
       "\n",
       "    .dataframe thead th {\n",
       "        text-align: right;\n",
       "    }\n",
       "</style>\n",
       "<table border=\"1\" class=\"dataframe\">\n",
       "  <thead>\n",
       "    <tr style=\"text-align: right;\">\n",
       "      <th></th>\n",
       "      <th>average_rating</th>\n",
       "      <th>num_reviews</th>\n",
       "    </tr>\n",
       "  </thead>\n",
       "  <tbody>\n",
       "    <tr>\n",
       "      <th>count</th>\n",
       "      <td>563.000000</td>\n",
       "      <td>869.000000</td>\n",
       "    </tr>\n",
       "    <tr>\n",
       "      <th>mean</th>\n",
       "      <td>3.987034</td>\n",
       "      <td>12.989643</td>\n",
       "    </tr>\n",
       "    <tr>\n",
       "      <th>std</th>\n",
       "      <td>0.597378</td>\n",
       "      <td>57.202636</td>\n",
       "    </tr>\n",
       "    <tr>\n",
       "      <th>min</th>\n",
       "      <td>2.000000</td>\n",
       "      <td>1.000000</td>\n",
       "    </tr>\n",
       "    <tr>\n",
       "      <th>25%</th>\n",
       "      <td>3.600000</td>\n",
       "      <td>2.000000</td>\n",
       "    </tr>\n",
       "    <tr>\n",
       "      <th>50%</th>\n",
       "      <td>4.000000</td>\n",
       "      <td>4.000000</td>\n",
       "    </tr>\n",
       "    <tr>\n",
       "      <th>75%</th>\n",
       "      <td>4.400000</td>\n",
       "      <td>10.000000</td>\n",
       "    </tr>\n",
       "    <tr>\n",
       "      <th>max</th>\n",
       "      <td>5.000000</td>\n",
       "      <td>1486.000000</td>\n",
       "    </tr>\n",
       "  </tbody>\n",
       "</table>\n",
       "</div>"
      ],
      "text/plain": [
       "       average_rating  num_reviews\n",
       "count      563.000000   869.000000\n",
       "mean         3.987034    12.989643\n",
       "std          0.597378    57.202636\n",
       "min          2.000000     1.000000\n",
       "25%          3.600000     2.000000\n",
       "50%          4.000000     4.000000\n",
       "75%          4.400000    10.000000\n",
       "max          5.000000  1486.000000"
      ]
     },
     "execution_count": 12,
     "metadata": {},
     "output_type": "execute_result"
    }
   ],
   "source": [
    "companies_df[numerical_columns].describe()"
   ]
  },
  {
   "cell_type": "code",
   "execution_count": 13,
   "id": "joint-midwest",
   "metadata": {
    "hidden": true
   },
   "outputs": [
    {
     "data": {
      "text/plain": [
       "average_rating    72.415483\n",
       "num_reviews       57.422832\n",
       "dtype: float64"
      ]
     },
     "execution_count": 13,
     "metadata": {},
     "output_type": "execute_result"
    }
   ],
   "source": [
    "companies_df[numerical_columns].isna().sum() / companies_df[numerical_columns].shape[0] * 100"
   ]
  },
  {
   "cell_type": "markdown",
   "id": "expressed-chapter",
   "metadata": {
    "hidden": true
   },
   "source": [
    "Có thể thấy, số lượng giá trị thiếu của các cột số là khá lớn. Còn lại, các số liệu thống kê khác đều ổn, không có điều gì bất thường."
   ]
  },
  {
   "cell_type": "markdown",
   "id": "accepting-gibson",
   "metadata": {
    "heading_collapsed": true
   },
   "source": [
    "#### Với mỗi cột dạng phân loại, các giá trị được phân bố thế nào"
   ]
  },
  {
   "cell_type": "code",
   "execution_count": 14,
   "id": "exclusive-transparency",
   "metadata": {
    "hidden": true
   },
   "outputs": [
    {
     "data": {
      "text/html": [
       "<div>\n",
       "<style scoped>\n",
       "    .dataframe tbody tr th:only-of-type {\n",
       "        vertical-align: middle;\n",
       "    }\n",
       "\n",
       "    .dataframe tbody tr th {\n",
       "        vertical-align: top;\n",
       "    }\n",
       "\n",
       "    .dataframe thead th {\n",
       "        text-align: right;\n",
       "    }\n",
       "</style>\n",
       "<table border=\"1\" class=\"dataframe\">\n",
       "  <thead>\n",
       "    <tr style=\"text-align: right;\">\n",
       "      <th></th>\n",
       "      <th>company_id</th>\n",
       "      <th>company_name</th>\n",
       "      <th>cities</th>\n",
       "      <th>type</th>\n",
       "      <th>num_employees</th>\n",
       "      <th>country</th>\n",
       "      <th>working_days</th>\n",
       "      <th>overtime</th>\n",
       "      <th>overview</th>\n",
       "      <th>expertise</th>\n",
       "      <th>benefit</th>\n",
       "    </tr>\n",
       "  </thead>\n",
       "  <tbody>\n",
       "    <tr>\n",
       "      <th>count</th>\n",
       "      <td>2041</td>\n",
       "      <td>2041</td>\n",
       "      <td>2041</td>\n",
       "      <td>2041</td>\n",
       "      <td>2041</td>\n",
       "      <td>2041</td>\n",
       "      <td>2026</td>\n",
       "      <td>1865</td>\n",
       "      <td>2040</td>\n",
       "      <td>477</td>\n",
       "      <td>1576</td>\n",
       "    </tr>\n",
       "    <tr>\n",
       "      <th>unique</th>\n",
       "      <td>2041</td>\n",
       "      <td>2041</td>\n",
       "      <td>71</td>\n",
       "      <td>2</td>\n",
       "      <td>6</td>\n",
       "      <td>39</td>\n",
       "      <td>2</td>\n",
       "      <td>4</td>\n",
       "      <td>2022</td>\n",
       "      <td>474</td>\n",
       "      <td>1573</td>\n",
       "    </tr>\n",
       "    <tr>\n",
       "      <th>top</th>\n",
       "      <td>headway</td>\n",
       "      <td>CÔNG TY CỔ PHẦN GKIM VIỆT NAM</td>\n",
       "      <td>District 1, Ho Chi Minh</td>\n",
       "      <td>Product</td>\n",
       "      <td>1-50</td>\n",
       "      <td>Vietnam</td>\n",
       "      <td>Monday - Friday</td>\n",
       "      <td>No OT</td>\n",
       "      <td>.</td>\n",
       "      <td>We are specialized in Digital Architecture, We...</td>\n",
       "      <td>Salary: Competitive (based on skills and exper...</td>\n",
       "    </tr>\n",
       "    <tr>\n",
       "      <th>freq</th>\n",
       "      <td>1</td>\n",
       "      <td>1</td>\n",
       "      <td>190</td>\n",
       "      <td>1534</td>\n",
       "      <td>1054</td>\n",
       "      <td>1202</td>\n",
       "      <td>1855</td>\n",
       "      <td>1589</td>\n",
       "      <td>12</td>\n",
       "      <td>2</td>\n",
       "      <td>2</td>\n",
       "    </tr>\n",
       "  </tbody>\n",
       "</table>\n",
       "</div>"
      ],
      "text/plain": [
       "       company_id                   company_name                   cities  \\\n",
       "count        2041                           2041                     2041   \n",
       "unique       2041                           2041                       71   \n",
       "top       headway  CÔNG TY CỔ PHẦN GKIM VIỆT NAM  District 1, Ho Chi Minh   \n",
       "freq            1                              1                      190   \n",
       "\n",
       "           type num_employees  country     working_days overtime overview  \\\n",
       "count      2041          2041     2041             2026     1865     2040   \n",
       "unique        2             6       39                2        4     2022   \n",
       "top     Product          1-50  Vietnam  Monday - Friday    No OT        .   \n",
       "freq       1534          1054     1202             1855     1589       12   \n",
       "\n",
       "                                                expertise  \\\n",
       "count                                                 477   \n",
       "unique                                                474   \n",
       "top     We are specialized in Digital Architecture, We...   \n",
       "freq                                                    2   \n",
       "\n",
       "                                                  benefit  \n",
       "count                                                1576  \n",
       "unique                                               1573  \n",
       "top     Salary: Competitive (based on skills and exper...  \n",
       "freq                                                    2  "
      ]
     },
     "execution_count": 14,
     "metadata": {},
     "output_type": "execute_result"
    }
   ],
   "source": [
    "desc = companies_df[categorical_columns].describe()\n",
    "desc"
   ]
  },
  {
   "cell_type": "markdown",
   "id": "nervous-special",
   "metadata": {
    "hidden": true
   },
   "source": [
    "Tỷ lệ giá trị thiếu"
   ]
  },
  {
   "cell_type": "code",
   "execution_count": 15,
   "id": "hired-cherry",
   "metadata": {
    "hidden": true
   },
   "outputs": [
    {
     "data": {
      "text/plain": [
       "company_id             0.0\n",
       "company_name           0.0\n",
       "cities                 0.0\n",
       "type                   0.0\n",
       "num_employees          0.0\n",
       "country                0.0\n",
       "working_days      0.734934\n",
       "overtime          8.623224\n",
       "overview          0.048996\n",
       "expertise        76.629103\n",
       "benefit           22.78295\n",
       "Name: count, dtype: object"
      ]
     },
     "execution_count": 15,
     "metadata": {},
     "output_type": "execute_result"
    }
   ],
   "source": [
    "(1 - desc.loc['count'] / companies_df.shape[0]) * 100"
   ]
  },
  {
   "cell_type": "markdown",
   "id": "exposed-classroom",
   "metadata": {
    "hidden": true
   },
   "source": [
    "Một số giá trị ngẫu nhiên"
   ]
  },
  {
   "cell_type": "code",
   "execution_count": 16,
   "id": "needed-parliament",
   "metadata": {
    "hidden": true
   },
   "outputs": [
    {
     "data": {
      "text/html": [
       "<div>\n",
       "<style scoped>\n",
       "    .dataframe tbody tr th:only-of-type {\n",
       "        vertical-align: middle;\n",
       "    }\n",
       "\n",
       "    .dataframe tbody tr th {\n",
       "        vertical-align: top;\n",
       "    }\n",
       "\n",
       "    .dataframe thead th {\n",
       "        text-align: right;\n",
       "    }\n",
       "</style>\n",
       "<table border=\"1\" class=\"dataframe\">\n",
       "  <thead>\n",
       "    <tr style=\"text-align: right;\">\n",
       "      <th></th>\n",
       "      <th>company_id</th>\n",
       "      <th>company_name</th>\n",
       "      <th>cities</th>\n",
       "      <th>type</th>\n",
       "      <th>num_employees</th>\n",
       "      <th>country</th>\n",
       "      <th>working_days</th>\n",
       "      <th>overtime</th>\n",
       "      <th>overview</th>\n",
       "      <th>expertise</th>\n",
       "      <th>benefit</th>\n",
       "    </tr>\n",
       "  </thead>\n",
       "  <tbody>\n",
       "    <tr>\n",
       "      <th>1523</th>\n",
       "      <td>piacom</td>\n",
       "      <td>PIACOM</td>\n",
       "      <td>Nam Tu Liem, Ha Noi</td>\n",
       "      <td>Product</td>\n",
       "      <td>51-150</td>\n",
       "      <td>Vietnam</td>\n",
       "      <td>Monday - Friday</td>\n",
       "      <td>NaN</td>\n",
       "      <td>Công ty Cổ phần Tin học Viễn thông Petrolimex ...</td>\n",
       "      <td>NaN</td>\n",
       "      <td>Thời gian làm việc: 05 ngày/ tuần (nghỉ Thứ 7,...</td>\n",
       "    </tr>\n",
       "    <tr>\n",
       "      <th>1600</th>\n",
       "      <td>resola-inc</td>\n",
       "      <td>Resola Inc</td>\n",
       "      <td>Others, Ho Chi Minh, Da Nang, Ha Noi</td>\n",
       "      <td>Product</td>\n",
       "      <td>1-50</td>\n",
       "      <td>Japan</td>\n",
       "      <td>Monday - Friday</td>\n",
       "      <td>No OT</td>\n",
       "      <td>Established in 2016 Resola is a leader in the ...</td>\n",
       "      <td>Backend\\n\\n\\n\\nPython\\n\\n\\nDjango\\n\\n\\nFastAPI...</td>\n",
       "      <td>Interesting challenges \\n\\n\\nDevelop Your Care...</td>\n",
       "    </tr>\n",
       "    <tr>\n",
       "      <th>1212</th>\n",
       "      <td>tkg-vietnam</td>\n",
       "      <td>TKG VIETNAM</td>\n",
       "      <td>District 1, Ho Chi Minh</td>\n",
       "      <td>Outsourcing</td>\n",
       "      <td>1-50</td>\n",
       "      <td>Australia</td>\n",
       "      <td>Monday - Friday</td>\n",
       "      <td>No OT</td>\n",
       "      <td>A subsidiary of The Kho Group, TKG Vietnam is ...</td>\n",
       "      <td>NaN</td>\n",
       "      <td>Equipment:\\n Macbook + display\\n\\n\\n\\n\\nTravel...</td>\n",
       "    </tr>\n",
       "    <tr>\n",
       "      <th>1063</th>\n",
       "      <td>ila-viet-nam</td>\n",
       "      <td>ILA Viet Nam</td>\n",
       "      <td>Ho Chi Minh, Ha Noi, Da Nang, Others</td>\n",
       "      <td>Outsourcing</td>\n",
       "      <td>1000+</td>\n",
       "      <td>Vietnam</td>\n",
       "      <td>Monday - Friday</td>\n",
       "      <td>Extra salary for OT</td>\n",
       "      <td>ILA là trung tâm đào tạo Anh ngữ có vốn sở hữu...</td>\n",
       "      <td>NaN</td>\n",
       "      <td>Competitive salary\\n\\n\\nProfessional working e...</td>\n",
       "    </tr>\n",
       "    <tr>\n",
       "      <th>400</th>\n",
       "      <td>ecotek</td>\n",
       "      <td>Ecotek</td>\n",
       "      <td>Ha Noi, Others</td>\n",
       "      <td>Product</td>\n",
       "      <td>1-50</td>\n",
       "      <td>Vietnam</td>\n",
       "      <td>Monday - Friday</td>\n",
       "      <td>No OT</td>\n",
       "      <td>Ecotek was founded in 2018 under Ecopark Group...</td>\n",
       "      <td>NaN</td>\n",
       "      <td>NaN</td>\n",
       "    </tr>\n",
       "    <tr>\n",
       "      <th>516</th>\n",
       "      <td>cty-cp-vien-thong-tin-hoc-buu-dien-ct-in</td>\n",
       "      <td>Cty CP Viễn thông - Tin học Bưu điện | CT- IN</td>\n",
       "      <td>Hai Ba Trung, Ha Noi</td>\n",
       "      <td>Outsourcing</td>\n",
       "      <td>301-500</td>\n",
       "      <td>Vietnam</td>\n",
       "      <td>Monday - Friday</td>\n",
       "      <td>NaN</td>\n",
       "      <td>Là đơn vị thành viên của Tập đoàn Bưu chính Vi...</td>\n",
       "      <td>NaN</td>\n",
       "      <td>- Môi trường làm việc hiện đại, năng động, chu...</td>\n",
       "    </tr>\n",
       "    <tr>\n",
       "      <th>34</th>\n",
       "      <td>deliveree-on-demand-logistics</td>\n",
       "      <td>Deliveree On-Demand Logistics</td>\n",
       "      <td>Tan Binh, Ho Chi Minh</td>\n",
       "      <td>Product</td>\n",
       "      <td>51-150</td>\n",
       "      <td>Singapore</td>\n",
       "      <td>Monday - Friday</td>\n",
       "      <td>NaN</td>\n",
       "      <td>LEARN ABOUT OUR CULTURE\\n\\n\\n\\n\\nCulture &amp;amp;...</td>\n",
       "      <td>NaN</td>\n",
       "      <td>REGIONAL COMPANY\\n\\n\\n\\n\\nAn exciting opportun...</td>\n",
       "    </tr>\n",
       "    <tr>\n",
       "      <th>1951</th>\n",
       "      <td>moveek</td>\n",
       "      <td>MOVEEK</td>\n",
       "      <td>District 1, Ho Chi Minh</td>\n",
       "      <td>Outsourcing</td>\n",
       "      <td>1-50</td>\n",
       "      <td>Vietnam</td>\n",
       "      <td>Monday - Friday</td>\n",
       "      <td>No OT</td>\n",
       "      <td>We are full service, creative mobile team, spe...</td>\n",
       "      <td>NaN</td>\n",
       "      <td>Very attractive salaries that commensurate wit...</td>\n",
       "    </tr>\n",
       "  </tbody>\n",
       "</table>\n",
       "</div>"
      ],
      "text/plain": [
       "                                    company_id  \\\n",
       "1523                                    piacom   \n",
       "1600                                resola-inc   \n",
       "1212                               tkg-vietnam   \n",
       "1063                              ila-viet-nam   \n",
       "400                                     ecotek   \n",
       "516   cty-cp-vien-thong-tin-hoc-buu-dien-ct-in   \n",
       "34               deliveree-on-demand-logistics   \n",
       "1951                                    moveek   \n",
       "\n",
       "                                       company_name  \\\n",
       "1523                                         PIACOM   \n",
       "1600                                     Resola Inc   \n",
       "1212                                    TKG VIETNAM   \n",
       "1063                                   ILA Viet Nam   \n",
       "400                                          Ecotek   \n",
       "516   Cty CP Viễn thông - Tin học Bưu điện | CT- IN   \n",
       "34                    Deliveree On-Demand Logistics   \n",
       "1951                                         MOVEEK   \n",
       "\n",
       "                                    cities         type num_employees  \\\n",
       "1523                   Nam Tu Liem, Ha Noi      Product        51-150   \n",
       "1600  Others, Ho Chi Minh, Da Nang, Ha Noi      Product          1-50   \n",
       "1212               District 1, Ho Chi Minh  Outsourcing          1-50   \n",
       "1063  Ho Chi Minh, Ha Noi, Da Nang, Others  Outsourcing         1000+   \n",
       "400                         Ha Noi, Others      Product          1-50   \n",
       "516                   Hai Ba Trung, Ha Noi  Outsourcing       301-500   \n",
       "34                   Tan Binh, Ho Chi Minh      Product        51-150   \n",
       "1951               District 1, Ho Chi Minh  Outsourcing          1-50   \n",
       "\n",
       "        country     working_days             overtime  \\\n",
       "1523    Vietnam  Monday - Friday                  NaN   \n",
       "1600      Japan  Monday - Friday                No OT   \n",
       "1212  Australia  Monday - Friday                No OT   \n",
       "1063    Vietnam  Monday - Friday  Extra salary for OT   \n",
       "400     Vietnam  Monday - Friday                No OT   \n",
       "516     Vietnam  Monday - Friday                  NaN   \n",
       "34    Singapore  Monday - Friday                  NaN   \n",
       "1951    Vietnam  Monday - Friday                No OT   \n",
       "\n",
       "                                               overview  \\\n",
       "1523  Công ty Cổ phần Tin học Viễn thông Petrolimex ...   \n",
       "1600  Established in 2016 Resola is a leader in the ...   \n",
       "1212  A subsidiary of The Kho Group, TKG Vietnam is ...   \n",
       "1063  ILA là trung tâm đào tạo Anh ngữ có vốn sở hữu...   \n",
       "400   Ecotek was founded in 2018 under Ecopark Group...   \n",
       "516   Là đơn vị thành viên của Tập đoàn Bưu chính Vi...   \n",
       "34    LEARN ABOUT OUR CULTURE\\n\\n\\n\\n\\nCulture &amp;...   \n",
       "1951  We are full service, creative mobile team, spe...   \n",
       "\n",
       "                                              expertise  \\\n",
       "1523                                                NaN   \n",
       "1600  Backend\\n\\n\\n\\nPython\\n\\n\\nDjango\\n\\n\\nFastAPI...   \n",
       "1212                                                NaN   \n",
       "1063                                                NaN   \n",
       "400                                                 NaN   \n",
       "516                                                 NaN   \n",
       "34                                                  NaN   \n",
       "1951                                                NaN   \n",
       "\n",
       "                                                benefit  \n",
       "1523  Thời gian làm việc: 05 ngày/ tuần (nghỉ Thứ 7,...  \n",
       "1600  Interesting challenges \\n\\n\\nDevelop Your Care...  \n",
       "1212  Equipment:\\n Macbook + display\\n\\n\\n\\n\\nTravel...  \n",
       "1063  Competitive salary\\n\\n\\nProfessional working e...  \n",
       "400                                                 NaN  \n",
       "516   - Môi trường làm việc hiện đại, năng động, chu...  \n",
       "34    REGIONAL COMPANY\\n\\n\\n\\n\\nAn exciting opportun...  \n",
       "1951  Very attractive salaries that commensurate wit...  "
      ]
     },
     "execution_count": 16,
     "metadata": {},
     "output_type": "execute_result"
    }
   ],
   "source": [
    "companies_df[categorical_columns].sample(8)"
   ]
  },
  {
   "cell_type": "markdown",
   "id": "heard-testing",
   "metadata": {
    "hidden": true
   },
   "source": [
    "Có thể thấy dữ liệu dạng phân loại khá đầy đủ (ngoại trừ cột `expertise` số lượng giá trị thiếu lên đến 70%)."
   ]
  },
  {
   "cell_type": "markdown",
   "id": "7a6f95ff",
   "metadata": {},
   "source": [
    "### 2.2.2 `jobs`"
   ]
  },
  {
   "cell_type": "markdown",
   "id": "3e5a417a",
   "metadata": {
    "heading_collapsed": true
   },
   "source": [
    "#### Nạp dữ liệu"
   ]
  },
  {
   "cell_type": "code",
   "execution_count": 17,
   "id": "8c1b72bd",
   "metadata": {
    "hidden": true
   },
   "outputs": [
    {
     "data": {
      "text/html": [
       "<div>\n",
       "<style scoped>\n",
       "    .dataframe tbody tr th:only-of-type {\n",
       "        vertical-align: middle;\n",
       "    }\n",
       "\n",
       "    .dataframe tbody tr th {\n",
       "        vertical-align: top;\n",
       "    }\n",
       "\n",
       "    .dataframe thead th {\n",
       "        text-align: right;\n",
       "    }\n",
       "</style>\n",
       "<table border=\"1\" class=\"dataframe\">\n",
       "  <thead>\n",
       "    <tr style=\"text-align: right;\">\n",
       "      <th></th>\n",
       "      <th>job_id</th>\n",
       "      <th>company_id</th>\n",
       "      <th>job_name</th>\n",
       "      <th>taglist</th>\n",
       "      <th>location</th>\n",
       "      <th>three_reasons</th>\n",
       "      <th>description</th>\n",
       "    </tr>\n",
       "  </thead>\n",
       "  <tbody>\n",
       "    <tr>\n",
       "      <th>0</th>\n",
       "      <td>kms-technology:jrsr_qa_engineer_kms_labs_bonus</td>\n",
       "      <td>kms-technology</td>\n",
       "      <td>(Jr/Sr) QA Engineer, KMS Labs - BONUS</td>\n",
       "      <td>QA QC   English   Tester</td>\n",
       "      <td>290/26 Nam Ky Khoi Nghia, ward 8, District 3, ...</td>\n",
       "      <td>Inspired Leadership Team and Talented Colleagu...</td>\n",
       "      <td>KMS Labs is the startup incubation arm of KMS ...</td>\n",
       "    </tr>\n",
       "    <tr>\n",
       "      <th>1</th>\n",
       "      <td>kms-technology:engineering_manager_bonus</td>\n",
       "      <td>kms-technology</td>\n",
       "      <td>Engineering Manager - BONUS</td>\n",
       "      <td>Project Manager   Agile   English</td>\n",
       "      <td>02 Tan Vien, ward 2, Tan Binh, Ho Chi Minh</td>\n",
       "      <td>Inspired Leadership Team and Talented Colleagu...</td>\n",
       "      <td>Full 13th Month Salary. ***Apply and Join in S...</td>\n",
       "    </tr>\n",
       "    <tr>\n",
       "      <th>2</th>\n",
       "      <td>kms-technology:fullstack_mobile_mobilenodejs_k...</td>\n",
       "      <td>kms-technology</td>\n",
       "      <td>Fullstack Mobile (Mobile,NodeJs) Kobiton</td>\n",
       "      <td>NodeJS   React Native   Fresher Accepted</td>\n",
       "      <td>02 Tan Vien, ward 2, Tan Binh, Ho Chi Minh</td>\n",
       "      <td>Inspired Leadership Team and Talented Colleagu...</td>\n",
       "      <td>is the mobile experience platform trusted by l...</td>\n",
       "    </tr>\n",
       "    <tr>\n",
       "      <th>3</th>\n",
       "      <td>kms-technology:jrsrprincipal_java_developer_bonus</td>\n",
       "      <td>kms-technology</td>\n",
       "      <td>(Jr/Sr/Principal) Java Developer- BONUS</td>\n",
       "      <td>Java   JavaScript   Spring</td>\n",
       "      <td>174 Thai Ha, Dong Da, Ha Noi</td>\n",
       "      <td>Inspired Leadership Team and Talented Colleagu...</td>\n",
       "      <td>Full 13th Month Salary ***Apply and Join in Se...</td>\n",
       "    </tr>\n",
       "    <tr>\n",
       "      <th>4</th>\n",
       "      <td>kms-technology:product_manager_kms_labs_bonus</td>\n",
       "      <td>kms-technology</td>\n",
       "      <td>Product Manager, KMS Labs - BONUS</td>\n",
       "      <td>Product Manager   English   Manager</td>\n",
       "      <td>290/26 Nam Ky Khoi Nghia, ward 8, District 3, ...</td>\n",
       "      <td>Inspired Leadership Team and Talented Colleagu...</td>\n",
       "      <td>KMS Labs\\n is the startup incubation arm of KM...</td>\n",
       "    </tr>\n",
       "  </tbody>\n",
       "</table>\n",
       "</div>"
      ],
      "text/plain": [
       "                                              job_id      company_id  \\\n",
       "0     kms-technology:jrsr_qa_engineer_kms_labs_bonus  kms-technology   \n",
       "1           kms-technology:engineering_manager_bonus  kms-technology   \n",
       "2  kms-technology:fullstack_mobile_mobilenodejs_k...  kms-technology   \n",
       "3  kms-technology:jrsrprincipal_java_developer_bonus  kms-technology   \n",
       "4      kms-technology:product_manager_kms_labs_bonus  kms-technology   \n",
       "\n",
       "                                   job_name  \\\n",
       "0     (Jr/Sr) QA Engineer, KMS Labs - BONUS   \n",
       "1               Engineering Manager - BONUS   \n",
       "2  Fullstack Mobile (Mobile,NodeJs) Kobiton   \n",
       "3   (Jr/Sr/Principal) Java Developer- BONUS   \n",
       "4         Product Manager, KMS Labs - BONUS   \n",
       "\n",
       "                                      taglist  \\\n",
       "0                   QA QC   English   Tester    \n",
       "1          Project Manager   Agile   English    \n",
       "2   NodeJS   React Native   Fresher Accepted    \n",
       "3                 Java   JavaScript   Spring    \n",
       "4        Product Manager   English   Manager    \n",
       "\n",
       "                                            location  \\\n",
       "0  290/26 Nam Ky Khoi Nghia, ward 8, District 3, ...   \n",
       "1         02 Tan Vien, ward 2, Tan Binh, Ho Chi Minh   \n",
       "2         02 Tan Vien, ward 2, Tan Binh, Ho Chi Minh   \n",
       "3                       174 Thai Ha, Dong Da, Ha Noi   \n",
       "4  290/26 Nam Ky Khoi Nghia, ward 8, District 3, ...   \n",
       "\n",
       "                                       three_reasons  \\\n",
       "0  Inspired Leadership Team and Talented Colleagu...   \n",
       "1  Inspired Leadership Team and Talented Colleagu...   \n",
       "2  Inspired Leadership Team and Talented Colleagu...   \n",
       "3  Inspired Leadership Team and Talented Colleagu...   \n",
       "4  Inspired Leadership Team and Talented Colleagu...   \n",
       "\n",
       "                                         description  \n",
       "0  KMS Labs is the startup incubation arm of KMS ...  \n",
       "1  Full 13th Month Salary. ***Apply and Join in S...  \n",
       "2  is the mobile experience platform trusted by l...  \n",
       "3  Full 13th Month Salary ***Apply and Join in Se...  \n",
       "4  KMS Labs\\n is the startup incubation arm of KM...  "
      ]
     },
     "execution_count": 17,
     "metadata": {},
     "output_type": "execute_result"
    }
   ],
   "source": [
    "jobs_df = pd.read_csv('dataset/jobs.csv')\n",
    "jobs_df.head()"
   ]
  },
  {
   "cell_type": "markdown",
   "id": "d4b5e67d",
   "metadata": {
    "heading_collapsed": true
   },
   "source": [
    "#### Số lượng dòng và cột"
   ]
  },
  {
   "cell_type": "code",
   "execution_count": 18,
   "id": "d863156d",
   "metadata": {
    "hidden": true
   },
   "outputs": [
    {
     "name": "stdout",
     "output_type": "stream",
     "text": [
      "Number of rows:  1412\n",
      "Number of columns:  7\n"
     ]
    }
   ],
   "source": [
    "print('Number of rows: ', jobs_df.shape[0])\n",
    "print('Number of columns: ', jobs_df.shape[1])"
   ]
  },
  {
   "cell_type": "markdown",
   "id": "af58ba45",
   "metadata": {
    "heading_collapsed": true
   },
   "source": [
    "#### Mỗi dòng có ý nghĩa gì ?"
   ]
  },
  {
   "cell_type": "markdown",
   "id": "fe3a78e7",
   "metadata": {
    "hidden": true
   },
   "source": [
    "Mỗi dòng là thông tin của một công việc đang được đăng tin tuyển dụng trên ITViec."
   ]
  },
  {
   "cell_type": "markdown",
   "id": "973b3dc4",
   "metadata": {
    "hidden": true
   },
   "source": [
    "Mỗi dòng được phân biệt bởi `job_id`"
   ]
  },
  {
   "cell_type": "markdown",
   "id": "ecb18c49",
   "metadata": {
    "heading_collapsed": true
   },
   "source": [
    "#### Dữ liệu có bị lặp không?"
   ]
  },
  {
   "cell_type": "code",
   "execution_count": 19,
   "id": "c50a7ceb",
   "metadata": {
    "hidden": true
   },
   "outputs": [
    {
     "data": {
      "text/plain": [
       "False"
      ]
     },
     "execution_count": 19,
     "metadata": {},
     "output_type": "execute_result"
    }
   ],
   "source": [
    "jobs_df.duplicated().sum() != 0"
   ]
  },
  {
   "cell_type": "markdown",
   "id": "1ac90dc0",
   "metadata": {
    "hidden": true
   },
   "source": [
    "Như vậy dữ liệu không bị trùng lặp giữa các dòng."
   ]
  },
  {
   "cell_type": "markdown",
   "id": "716c7507",
   "metadata": {
    "hidden": true
   },
   "source": [
    "Kiểm tra cột `job_id` có bị lặp không?"
   ]
  },
  {
   "cell_type": "code",
   "execution_count": 20,
   "id": "e1073974",
   "metadata": {
    "hidden": true
   },
   "outputs": [
    {
     "data": {
      "text/plain": [
       "True"
      ]
     },
     "execution_count": 20,
     "metadata": {},
     "output_type": "execute_result"
    }
   ],
   "source": [
    "jobs_df.duplicated('job_id').sum() != 0"
   ]
  },
  {
   "cell_type": "markdown",
   "id": "e29010ab",
   "metadata": {
    "hidden": true
   },
   "source": [
    "Như vậy ở cột `job_id` có dữ liệu trùng lặp. Ta sẽ kiểm tra tiếp ở dưới."
   ]
  },
  {
   "cell_type": "markdown",
   "id": "7b722b0c",
   "metadata": {
    "hidden": true
   },
   "source": [
    "Trích xuất các dòng có dữ liệu lặp:"
   ]
  },
  {
   "cell_type": "code",
   "execution_count": 21,
   "id": "7a4bba5b",
   "metadata": {
    "hidden": true
   },
   "outputs": [
    {
     "data": {
      "text/html": [
       "<div>\n",
       "<style scoped>\n",
       "    .dataframe tbody tr th:only-of-type {\n",
       "        vertical-align: middle;\n",
       "    }\n",
       "\n",
       "    .dataframe tbody tr th {\n",
       "        vertical-align: top;\n",
       "    }\n",
       "\n",
       "    .dataframe thead th {\n",
       "        text-align: right;\n",
       "    }\n",
       "</style>\n",
       "<table border=\"1\" class=\"dataframe\">\n",
       "  <thead>\n",
       "    <tr style=\"text-align: right;\">\n",
       "      <th></th>\n",
       "      <th>job_id</th>\n",
       "      <th>company_id</th>\n",
       "      <th>job_name</th>\n",
       "      <th>taglist</th>\n",
       "      <th>location</th>\n",
       "      <th>three_reasons</th>\n",
       "      <th>description</th>\n",
       "    </tr>\n",
       "  </thead>\n",
       "  <tbody>\n",
       "    <tr>\n",
       "      <th>301</th>\n",
       "      <td>houze-group:backend_lead_pythongolangnodejs</td>\n",
       "      <td>houze-group</td>\n",
       "      <td>Backend Lead ( Python/Golang/NodeJS)</td>\n",
       "      <td>NodeJS   Python   Golang</td>\n",
       "      <td>114-116 Ngô Quyền, Phường 8, District 5, Ho Ch...</td>\n",
       "      <td>Attractive salary and benefits package\\nCareer...</td>\n",
       "      <td>Define, code, test, and deploy new features to...</td>\n",
       "    </tr>\n",
       "    <tr>\n",
       "      <th>303</th>\n",
       "      <td>houze-group:backend_lead_pythongolangnodejs</td>\n",
       "      <td>houze-group</td>\n",
       "      <td>Backend Lead ( Python/Golang/NodeJS/...)</td>\n",
       "      <td>Team Leader   Python   Golang</td>\n",
       "      <td>114-116 Ngô Quyền, Phường 8, District 5, Ho Ch...</td>\n",
       "      <td>Attractive salary and benefits package\\nCareer...</td>\n",
       "      <td>Define, code, test, and deploy new features to...</td>\n",
       "    </tr>\n",
       "  </tbody>\n",
       "</table>\n",
       "</div>"
      ],
      "text/plain": [
       "                                          job_id   company_id  \\\n",
       "301  houze-group:backend_lead_pythongolangnodejs  houze-group   \n",
       "303  houze-group:backend_lead_pythongolangnodejs  houze-group   \n",
       "\n",
       "                                     job_name  \\\n",
       "301      Backend Lead ( Python/Golang/NodeJS)   \n",
       "303  Backend Lead ( Python/Golang/NodeJS/...)   \n",
       "\n",
       "                             taglist  \\\n",
       "301        NodeJS   Python   Golang    \n",
       "303   Team Leader   Python   Golang    \n",
       "\n",
       "                                              location  \\\n",
       "301  114-116 Ngô Quyền, Phường 8, District 5, Ho Ch...   \n",
       "303  114-116 Ngô Quyền, Phường 8, District 5, Ho Ch...   \n",
       "\n",
       "                                         three_reasons  \\\n",
       "301  Attractive salary and benefits package\\nCareer...   \n",
       "303  Attractive salary and benefits package\\nCareer...   \n",
       "\n",
       "                                           description  \n",
       "301  Define, code, test, and deploy new features to...  \n",
       "303  Define, code, test, and deploy new features to...  "
      ]
     },
     "execution_count": 21,
     "metadata": {},
     "output_type": "execute_result"
    }
   ],
   "source": [
    "jobs_df[jobs_df.duplicated('job_id', keep=False)]"
   ]
  },
  {
   "cell_type": "markdown",
   "id": "4edf33cc",
   "metadata": {
    "hidden": true
   },
   "source": [
    "Như vậy theo quan sát, ta thấy giữa 2 dòng chỉ khác biệt ở cột `taglist`, tất cả các cột còn lại đều giống nhau.\n",
    "\n",
    "Ở đây cả bộ dữ liệu chỉ duy nhất 1 `job_id` bị trùng lặp. Để tiện xử lý ta sẽ loại bỏ 1 hàng (cụ thể hàng cuối)."
   ]
  },
  {
   "cell_type": "code",
   "execution_count": 22,
   "id": "9c5684e5",
   "metadata": {
    "hidden": true
   },
   "outputs": [],
   "source": [
    "jobs_df = jobs_df.drop_duplicates('job_id', keep = 'first')"
   ]
  },
  {
   "cell_type": "markdown",
   "id": "652fcda9",
   "metadata": {
    "hidden": true
   },
   "source": [
    "Số lượng dòng sau khi xử lý:"
   ]
  },
  {
   "cell_type": "code",
   "execution_count": 23,
   "id": "e7603538",
   "metadata": {
    "hidden": true
   },
   "outputs": [
    {
     "name": "stdout",
     "output_type": "stream",
     "text": [
      "Number of rows:  1411\n"
     ]
    }
   ],
   "source": [
    "print('Number of rows: ', len(jobs_df))"
   ]
  },
  {
   "cell_type": "markdown",
   "id": "fae88d57",
   "metadata": {
    "heading_collapsed": true
   },
   "source": [
    "#### Mỗi cột có ý nghĩa gì?"
   ]
  },
  {
   "cell_type": "markdown",
   "id": "96ba71e4",
   "metadata": {
    "hidden": true
   },
   "source": [
    "Bởi dữ liệu được thu thập trên Kaggle, tuy nhiên tác giả không cung cấp thông tin về ý nghĩa của các cột, chính vì thế, dựa vào ý nghĩa của dữ liệu ta sẽ định nghĩa các cột như sau:\n",
    "   * `job_id`: ID của công việc\n",
    "   * `company_id`: ID của công ty đăng tuyển công việc\n",
    "   * `job_name`: tên công việc\n",
    "   * `taglist`: danh sách tag liên quan đến công việc\n",
    "   * `location`: địa điểm làm việc\n",
    "   * `three_reasons`: phúc lợi/lý do nên làm việc ở đây\n",
    "   * `description`: mô tả công việc"
   ]
  },
  {
   "cell_type": "markdown",
   "id": "0c810423",
   "metadata": {
    "heading_collapsed": true
   },
   "source": [
    "#### Mỗi cột có kiểu dữ liệu gì? Có phù hợp để xử lý tiếp không?"
   ]
  },
  {
   "cell_type": "code",
   "execution_count": 24,
   "id": "91e49f89",
   "metadata": {
    "hidden": true
   },
   "outputs": [
    {
     "data": {
      "text/plain": [
       "job_id           object\n",
       "company_id       object\n",
       "job_name         object\n",
       "taglist          object\n",
       "location         object\n",
       "three_reasons    object\n",
       "description      object\n",
       "dtype: object"
      ]
     },
     "execution_count": 24,
     "metadata": {},
     "output_type": "execute_result"
    }
   ],
   "source": [
    "jobs_df.dtypes"
   ]
  },
  {
   "cell_type": "markdown",
   "id": "51e37fb3",
   "metadata": {
    "hidden": true
   },
   "source": [
    "Như đã thấy tất cả thông tin về công việc không có cột nào nên đưa về dạng số nên ta không cần xử lý gì thêm ở bước này, tất cả dữ liệu đã có kiểu dữ liệu phù hợp để xử lý."
   ]
  },
  {
   "cell_type": "markdown",
   "id": "c28f75ad",
   "metadata": {
    "heading_collapsed": true
   },
   "source": [
    "#### Phân tích các cột dữ liệu dạng số"
   ]
  },
  {
   "cell_type": "markdown",
   "id": "ea0d3d0b",
   "metadata": {
    "hidden": true
   },
   "source": [
    "Trong các cột dữ liệu trên, không có cột dữ liệu nào dạng số nên ta không thể thống kê các giá trị được."
   ]
  },
  {
   "cell_type": "markdown",
   "id": "4448bb6b",
   "metadata": {},
   "source": [
    "#### Với mỗi cột dang phân loại, các giá trị được phân bố như thế nào?"
   ]
  },
  {
   "cell_type": "code",
   "execution_count": 25,
   "id": "fb918bab",
   "metadata": {},
   "outputs": [
    {
     "data": {
      "text/html": [
       "<div>\n",
       "<style scoped>\n",
       "    .dataframe tbody tr th:only-of-type {\n",
       "        vertical-align: middle;\n",
       "    }\n",
       "\n",
       "    .dataframe tbody tr th {\n",
       "        vertical-align: top;\n",
       "    }\n",
       "\n",
       "    .dataframe thead th {\n",
       "        text-align: right;\n",
       "    }\n",
       "</style>\n",
       "<table border=\"1\" class=\"dataframe\">\n",
       "  <thead>\n",
       "    <tr style=\"text-align: right;\">\n",
       "      <th></th>\n",
       "      <th>job_id</th>\n",
       "      <th>company_id</th>\n",
       "      <th>job_name</th>\n",
       "      <th>taglist</th>\n",
       "      <th>location</th>\n",
       "      <th>three_reasons</th>\n",
       "      <th>description</th>\n",
       "    </tr>\n",
       "  </thead>\n",
       "  <tbody>\n",
       "    <tr>\n",
       "      <th>count</th>\n",
       "      <td>1411</td>\n",
       "      <td>1411</td>\n",
       "      <td>1411</td>\n",
       "      <td>1411</td>\n",
       "      <td>1411</td>\n",
       "      <td>1097</td>\n",
       "      <td>1411</td>\n",
       "    </tr>\n",
       "    <tr>\n",
       "      <th>unique</th>\n",
       "      <td>1411</td>\n",
       "      <td>682</td>\n",
       "      <td>1358</td>\n",
       "      <td>923</td>\n",
       "      <td>696</td>\n",
       "      <td>492</td>\n",
       "      <td>1408</td>\n",
       "    </tr>\n",
       "    <tr>\n",
       "      <th>top</th>\n",
       "      <td>gft-technologies-vietnam:senior_python_develop...</td>\n",
       "      <td>vietnam-international-bank-vib</td>\n",
       "      <td>Frontend Dev (JavaScript, HTML5, CSS)</td>\n",
       "      <td>JavaScript   HTML5   CSS</td>\n",
       "      <td>Sailing Tower Building, District 1, Ho Chi Minh</td>\n",
       "      <td>Global Exposure\\nFast Track Career\\nDiversifie...</td>\n",
       "      <td>Asilla là một startup công nghệ tiên phong phá...</td>\n",
       "    </tr>\n",
       "    <tr>\n",
       "      <th>freq</th>\n",
       "      <td>1</td>\n",
       "      <td>27</td>\n",
       "      <td>8</td>\n",
       "      <td>20</td>\n",
       "      <td>19</td>\n",
       "      <td>17</td>\n",
       "      <td>2</td>\n",
       "    </tr>\n",
       "  </tbody>\n",
       "</table>\n",
       "</div>"
      ],
      "text/plain": [
       "                                                   job_id  \\\n",
       "count                                                1411   \n",
       "unique                                               1411   \n",
       "top     gft-technologies-vietnam:senior_python_develop...   \n",
       "freq                                                    1   \n",
       "\n",
       "                            company_id                               job_name  \\\n",
       "count                             1411                                   1411   \n",
       "unique                             682                                   1358   \n",
       "top     vietnam-international-bank-vib  Frontend Dev (JavaScript, HTML5, CSS)   \n",
       "freq                                27                                      8   \n",
       "\n",
       "                           taglist  \\\n",
       "count                         1411   \n",
       "unique                         923   \n",
       "top      JavaScript   HTML5   CSS    \n",
       "freq                            20   \n",
       "\n",
       "                                               location  \\\n",
       "count                                              1411   \n",
       "unique                                              696   \n",
       "top     Sailing Tower Building, District 1, Ho Chi Minh   \n",
       "freq                                                 19   \n",
       "\n",
       "                                            three_reasons  \\\n",
       "count                                                1097   \n",
       "unique                                                492   \n",
       "top     Global Exposure\\nFast Track Career\\nDiversifie...   \n",
       "freq                                                   17   \n",
       "\n",
       "                                              description  \n",
       "count                                                1411  \n",
       "unique                                               1408  \n",
       "top     Asilla là một startup công nghệ tiên phong phá...  \n",
       "freq                                                    2  "
      ]
     },
     "execution_count": 25,
     "metadata": {},
     "output_type": "execute_result"
    }
   ],
   "source": [
    "statistic = jobs_df.describe()\n",
    "statistic"
   ]
  },
  {
   "cell_type": "markdown",
   "id": "5918ac86",
   "metadata": {},
   "source": [
    "Số lượng giá trị thiếu ở mỗi cột:"
   ]
  },
  {
   "cell_type": "code",
   "execution_count": 26,
   "id": "f2a96ada",
   "metadata": {},
   "outputs": [
    {
     "data": {
      "text/plain": [
       "job_id             0\n",
       "company_id         0\n",
       "job_name           0\n",
       "taglist            0\n",
       "location           0\n",
       "three_reasons    314\n",
       "description        0\n",
       "Name: count, dtype: object"
      ]
     },
     "execution_count": 26,
     "metadata": {},
     "output_type": "execute_result"
    }
   ],
   "source": [
    "miss_info = len(jobs_df) - statistic.loc['count']\n",
    "miss_info"
   ]
  },
  {
   "cell_type": "markdown",
   "id": "c2aaa2b9",
   "metadata": {},
   "source": [
    "Tỉ lệ giá trị thiếu:"
   ]
  },
  {
   "cell_type": "code",
   "execution_count": 27,
   "id": "2126834f",
   "metadata": {},
   "outputs": [
    {
     "data": {
      "text/plain": [
       "job_id                 0.0\n",
       "company_id             0.0\n",
       "job_name               0.0\n",
       "taglist                0.0\n",
       "location               0.0\n",
       "three_reasons    22.253721\n",
       "description            0.0\n",
       "Name: count, dtype: object"
      ]
     },
     "execution_count": 27,
     "metadata": {},
     "output_type": "execute_result"
    }
   ],
   "source": [
    "miss_info/len(jobs_df) * 100"
   ]
  },
  {
   "cell_type": "markdown",
   "id": "94014be7",
   "metadata": {},
   "source": [
    "Như đã thống kê, đa phần các cột có đầy đủ các dữ liệu trừ cột `three_reason` tỉ lệ thiếu lên tới 22,25\\%.\n",
    "Nhìn vào hàng `unique`, đa phần có giá trị khá lớn, cho thấy được sự đa dạng của việc tuyển dụng ở lĩnh vực IT."
   ]
  },
  {
   "cell_type": "markdown",
   "id": "e317816d",
   "metadata": {},
   "source": [
    "Một số giá trị ngẫu nhiên:"
   ]
  },
  {
   "cell_type": "code",
   "execution_count": 28,
   "id": "96a76e3a",
   "metadata": {},
   "outputs": [
    {
     "data": {
      "text/html": [
       "<div>\n",
       "<style scoped>\n",
       "    .dataframe tbody tr th:only-of-type {\n",
       "        vertical-align: middle;\n",
       "    }\n",
       "\n",
       "    .dataframe tbody tr th {\n",
       "        vertical-align: top;\n",
       "    }\n",
       "\n",
       "    .dataframe thead th {\n",
       "        text-align: right;\n",
       "    }\n",
       "</style>\n",
       "<table border=\"1\" class=\"dataframe\">\n",
       "  <thead>\n",
       "    <tr style=\"text-align: right;\">\n",
       "      <th></th>\n",
       "      <th>job_id</th>\n",
       "      <th>company_id</th>\n",
       "      <th>job_name</th>\n",
       "      <th>taglist</th>\n",
       "      <th>location</th>\n",
       "      <th>three_reasons</th>\n",
       "      <th>description</th>\n",
       "    </tr>\n",
       "  </thead>\n",
       "  <tbody>\n",
       "    <tr>\n",
       "      <th>418</th>\n",
       "      <td>greenfeed:web_application_developer</td>\n",
       "      <td>greenfeed</td>\n",
       "      <td>Web Application Developer</td>\n",
       "      <td>ASP.NET   ReactJS   .NET</td>\n",
       "      <td>72 Tầng 22, tòa nhà Centec, Nguyễn Thị Minh Kh...</td>\n",
       "      <td>Top 100 Nơi làm việc tốt nhất tại Việt Nam \\nS...</td>\n",
       "      <td>- Phát triển các ứng dụng web Application theo...</td>\n",
       "    </tr>\n",
       "    <tr>\n",
       "      <th>157</th>\n",
       "      <td>niteco-vietnam-co-ltd:senior_tester_x3</td>\n",
       "      <td>niteco-vietnam-co-ltd</td>\n",
       "      <td>Senior Tester (x3)</td>\n",
       "      <td>Tester   English   QA QC</td>\n",
       "      <td>Unit 2.3, 2nd Floor, Etown 1, 364 Cong Hoa str...</td>\n",
       "      <td>Attractive salary package\\nPremium healthcare ...</td>\n",
       "      <td>Niteco is looking for a Senior Tester who will...</td>\n",
       "    </tr>\n",
       "    <tr>\n",
       "      <th>13</th>\n",
       "      <td>nab-in-collaboration-with-positive-thinking-co...</td>\n",
       "      <td>nab-in-collaboration-with-positive-thinking-co...</td>\n",
       "      <td>Engineering Manager</td>\n",
       "      <td>Java   JavaScript   Manager</td>\n",
       "      <td>E. Town 3, Cộng Hòa, Tan Binh, Ho Chi Minh</td>\n",
       "      <td>Job security - probation skipped during Covid\\...</td>\n",
       "      <td>We are seeking a motivated \\nEngineering Manag...</td>\n",
       "    </tr>\n",
       "    <tr>\n",
       "      <th>714</th>\n",
       "      <td>kamereo:backend_leader_java_kotlin_spring</td>\n",
       "      <td>kamereo</td>\n",
       "      <td>Backend Leader (Java, Kotlin, Spring)</td>\n",
       "      <td>Java   Team Leader   Spring</td>\n",
       "      <td>18/40 Nguyen Cuu Van, Ward 17, Binh Thanh, Ho ...</td>\n",
       "      <td>We're a startup company and a small team\\nNew ...</td>\n",
       "      <td>In this role, you discuss the architectural de...</td>\n",
       "    </tr>\n",
       "    <tr>\n",
       "      <th>901</th>\n",
       "      <td>posapp:backend_developer_php_laravel</td>\n",
       "      <td>posapp</td>\n",
       "      <td>Back-end Developer (PHP, Laravel)</td>\n",
       "      <td>PHP   Laravel   Angular</td>\n",
       "      <td>260/11 Nguyễn Thái Bình P.12 Tân Bình HS Build...</td>\n",
       "      <td>Bonus based on project and performance\\nIncrea...</td>\n",
       "      <td>Lập trình  Web sử dụng MVC framework PHP Larav...</td>\n",
       "    </tr>\n",
       "    <tr>\n",
       "      <th>113</th>\n",
       "      <td>m_service-momo:mobile_dev_react_native_androidios</td>\n",
       "      <td>m_service-momo</td>\n",
       "      <td>Mobile Dev (React Native - Android/iOS)</td>\n",
       "      <td>React Native   Android   iOS</td>\n",
       "      <td>M Floor, PetroLand Building, 12 Tan Trao, Dist...</td>\n",
       "      <td>Big Data\\nMachine Learning\\nBig scale</td>\n",
       "      <td>Develop new module for company's product - MoM...</td>\n",
       "    </tr>\n",
       "    <tr>\n",
       "      <th>1135</th>\n",
       "      <td>telio:software_engineer_nodejs_reactjs_go</td>\n",
       "      <td>telio</td>\n",
       "      <td>Software Engineer (NodeJS / ReactJS /Go)</td>\n",
       "      <td>NodeJS   JavaScript   ReactJS   Fresher Accep...</td>\n",
       "      <td>Lầu 6, tòa nhà An Phong, số 518B Điện Biên Phủ...</td>\n",
       "      <td>Môi trường trẻ trung, năng động\\nLàm hết sức, ...</td>\n",
       "      <td>Research, Design and Develop highly reliable, ...</td>\n",
       "    </tr>\n",
       "    <tr>\n",
       "      <th>89</th>\n",
       "      <td>vietnam-international-bank-vib:data_science_da...</td>\n",
       "      <td>vietnam-international-bank-vib</td>\n",
       "      <td>Data Science/ Data Analyst (BI)</td>\n",
       "      <td>English   Cloud   Scrum</td>\n",
       "      <td>Sailing Tower Building, District 1, Ho Chi Minh</td>\n",
       "      <td>NaN</td>\n",
       "      <td>Mục đích công việc:\\n\\n\\nChịu trách nhiệm xây ...</td>\n",
       "    </tr>\n",
       "    <tr>\n",
       "      <th>819</th>\n",
       "      <td>pacific-technology:ai_engineer_python_c_c</td>\n",
       "      <td>pacific-technology</td>\n",
       "      <td>AI Engineer (Python, C++, C#)</td>\n",
       "      <td>C#   Python   C++</td>\n",
       "      <td>6 Thăng Long, Tan Binh, Ho Chi Minh</td>\n",
       "      <td>Interview online !\\nWork from home !\\nAttracti...</td>\n",
       "      <td>1. Build AI / ML solutions to solve business p...</td>\n",
       "    </tr>\n",
       "    <tr>\n",
       "      <th>454</th>\n",
       "      <td>vincere:website_designer_uiux_csshtml5</td>\n",
       "      <td>vincere</td>\n",
       "      <td>Website Designer (UI-UX, CSS/HTML5)</td>\n",
       "      <td>Designer   HTML5   UI-UX</td>\n",
       "      <td>21-23 Nguyễn Thị Minh Khai, Bến Nghé, District...</td>\n",
       "      <td>Sign on bonus when applicable\\nUp to 14th mont...</td>\n",
       "      <td>Your Role\\n\\n\\nWe’re looking for an experience...</td>\n",
       "    </tr>\n",
       "  </tbody>\n",
       "</table>\n",
       "</div>"
      ],
      "text/plain": [
       "                                                 job_id  \\\n",
       "418                 greenfeed:web_application_developer   \n",
       "157              niteco-vietnam-co-ltd:senior_tester_x3   \n",
       "13    nab-in-collaboration-with-positive-thinking-co...   \n",
       "714           kamereo:backend_leader_java_kotlin_spring   \n",
       "901                posapp:backend_developer_php_laravel   \n",
       "113   m_service-momo:mobile_dev_react_native_androidios   \n",
       "1135          telio:software_engineer_nodejs_reactjs_go   \n",
       "89    vietnam-international-bank-vib:data_science_da...   \n",
       "819           pacific-technology:ai_engineer_python_c_c   \n",
       "454              vincere:website_designer_uiux_csshtml5   \n",
       "\n",
       "                                             company_id  \\\n",
       "418                                           greenfeed   \n",
       "157                               niteco-vietnam-co-ltd   \n",
       "13    nab-in-collaboration-with-positive-thinking-co...   \n",
       "714                                             kamereo   \n",
       "901                                              posapp   \n",
       "113                                      m_service-momo   \n",
       "1135                                              telio   \n",
       "89                       vietnam-international-bank-vib   \n",
       "819                                  pacific-technology   \n",
       "454                                             vincere   \n",
       "\n",
       "                                      job_name  \\\n",
       "418                  Web Application Developer   \n",
       "157                        Senior Tester (x3)    \n",
       "13                         Engineering Manager   \n",
       "714      Backend Leader (Java, Kotlin, Spring)   \n",
       "901          Back-end Developer (PHP, Laravel)   \n",
       "113    Mobile Dev (React Native - Android/iOS)   \n",
       "1135  Software Engineer (NodeJS / ReactJS /Go)   \n",
       "89             Data Science/ Data Analyst (BI)   \n",
       "819              AI Engineer (Python, C++, C#)   \n",
       "454        Website Designer (UI-UX, CSS/HTML5)   \n",
       "\n",
       "                                                taglist  \\\n",
       "418                           ASP.NET   ReactJS   .NET    \n",
       "157                           Tester   English   QA QC    \n",
       "13                         Java   JavaScript   Manager    \n",
       "714                        Java   Team Leader   Spring    \n",
       "901                            PHP   Laravel   Angular    \n",
       "113                       React Native   Android   iOS    \n",
       "1135   NodeJS   JavaScript   ReactJS   Fresher Accep...   \n",
       "89                             English   Cloud   Scrum    \n",
       "819                                  C#   Python   C++    \n",
       "454                           Designer   HTML5   UI-UX    \n",
       "\n",
       "                                               location  \\\n",
       "418   72 Tầng 22, tòa nhà Centec, Nguyễn Thị Minh Kh...   \n",
       "157   Unit 2.3, 2nd Floor, Etown 1, 364 Cong Hoa str...   \n",
       "13           E. Town 3, Cộng Hòa, Tan Binh, Ho Chi Minh   \n",
       "714   18/40 Nguyen Cuu Van, Ward 17, Binh Thanh, Ho ...   \n",
       "901   260/11 Nguyễn Thái Bình P.12 Tân Bình HS Build...   \n",
       "113   M Floor, PetroLand Building, 12 Tan Trao, Dist...   \n",
       "1135  Lầu 6, tòa nhà An Phong, số 518B Điện Biên Phủ...   \n",
       "89      Sailing Tower Building, District 1, Ho Chi Minh   \n",
       "819                 6 Thăng Long, Tan Binh, Ho Chi Minh   \n",
       "454   21-23 Nguyễn Thị Minh Khai, Bến Nghé, District...   \n",
       "\n",
       "                                          three_reasons  \\\n",
       "418   Top 100 Nơi làm việc tốt nhất tại Việt Nam \\nS...   \n",
       "157   Attractive salary package\\nPremium healthcare ...   \n",
       "13    Job security - probation skipped during Covid\\...   \n",
       "714   We're a startup company and a small team\\nNew ...   \n",
       "901   Bonus based on project and performance\\nIncrea...   \n",
       "113               Big Data\\nMachine Learning\\nBig scale   \n",
       "1135  Môi trường trẻ trung, năng động\\nLàm hết sức, ...   \n",
       "89                                                  NaN   \n",
       "819   Interview online !\\nWork from home !\\nAttracti...   \n",
       "454   Sign on bonus when applicable\\nUp to 14th mont...   \n",
       "\n",
       "                                            description  \n",
       "418   - Phát triển các ứng dụng web Application theo...  \n",
       "157   Niteco is looking for a Senior Tester who will...  \n",
       "13    We are seeking a motivated \\nEngineering Manag...  \n",
       "714   In this role, you discuss the architectural de...  \n",
       "901   Lập trình  Web sử dụng MVC framework PHP Larav...  \n",
       "113   Develop new module for company's product - MoM...  \n",
       "1135  Research, Design and Develop highly reliable, ...  \n",
       "89    Mục đích công việc:\\n\\n\\nChịu trách nhiệm xây ...  \n",
       "819   1. Build AI / ML solutions to solve business p...  \n",
       "454   Your Role\\n\\n\\nWe’re looking for an experience...  "
      ]
     },
     "execution_count": 28,
     "metadata": {},
     "output_type": "execute_result"
    }
   ],
   "source": [
    "jobs_df.sample(10)"
   ]
  },
  {
   "cell_type": "markdown",
   "id": "9945a99b",
   "metadata": {},
   "source": [
    "Dữ liệu cho thấy được không có sự bất thường ở bộ dữ liệu này.\n",
    "Tuy nhiên dữ liệu ở 2 cột `three_reasons` và `description` có các dòng dữ liệu thuộc 2 ngôn ngữ khác nhau (Việt và Anh) có thể gây khó khăn trong việc phân tích."
   ]
  },
  {
   "cell_type": "code",
   "execution_count": 29,
   "id": "extra-container",
   "metadata": {},
   "outputs": [],
   "source": [
    "a = jobs_df.taglist.map(lambda x: x.strip().split('   '))"
   ]
  },
  {
   "cell_type": "code",
   "execution_count": 30,
   "id": "genetic-interval",
   "metadata": {},
   "outputs": [],
   "source": [
    "b = a.explode()"
   ]
  },
  {
   "cell_type": "code",
   "execution_count": 31,
   "id": "requested-reform",
   "metadata": {},
   "outputs": [
    {
     "data": {
      "image/png": "[encoded data removed]",
      "text/plain": [
       "<Figure size 1080x576 with 1 Axes>"
      ]
     },
     "metadata": {
      "needs_background": "light"
     },
     "output_type": "display_data"
    }
   ],
   "source": [
    "fig, ax = plt.subplots(figsize=(15, 8))\n",
    "vc = b.value_counts(normalize=True)\n",
    "ax.bar(vc.index[:15], vc[:15])\n",
    "plt.show()"
   ]
  },
  {
   "cell_type": "markdown",
   "id": "4404e194",
   "metadata": {},
   "source": [
    "# 3. Câu hỏi cần trả lời"
   ]
  },
  {
   "cell_type": "markdown",
   "id": "55c97ef7",
   "metadata": {
    "heading_collapsed": true,
    "hidden": true
   },
   "source": [
    "## 3.1 Câu hỏi 1"
   ]
  },
  {
   "cell_type": "markdown",
   "id": "20355d57",
   "metadata": {
    "heading_collapsed": true,
    "hidden": true
   },
   "source": [
    "### 3.1.1 Nêu vấn đề"
   ]
  },
  {
   "cell_type": "markdown",
   "id": "b1cfcee6",
   "metadata": {
    "heading_collapsed": true,
    "hidden": true
   },
   "source": [
    "### 3.1.2 Data Preprocessing"
   ]
  },
  {
   "cell_type": "markdown",
   "id": "057a6d94",
   "metadata": {
    "heading_collapsed": true,
    "hidden": true
   },
   "source": [
    "### 3.1.3 Analysis, Visualization"
   ]
  },
  {
   "cell_type": "markdown",
   "id": "d44c5a11",
   "metadata": {
    "heading_collapsed": true,
    "hidden": true
   },
   "source": [
    "### 3.1.4 Kết luận"
   ]
  },
  {
   "cell_type": "markdown",
   "id": "55c97ef7",
   "metadata": {
    "heading_collapsed": true,
    "hidden": true
   },
   "source": [
    "## 3.2 Câu hỏi 2"
   ]
  },
  {
   "cell_type": "markdown",
   "id": "20355d57",
   "metadata": {
    "heading_collapsed": true,
    "hidden": true
   },
   "source": [
    "### 3.2.1 Nêu vấn đề"
   ]
  },
  {
   "cell_type": "markdown",
   "id": "b1cfcee6",
   "metadata": {
    "heading_collapsed": true,
    "hidden": true
   },
   "source": [
    "### 3.2.2 Data Preprocessing"
   ]
  },
  {
   "cell_type": "markdown",
   "id": "057a6d94",
   "metadata": {
    "heading_collapsed": true,
    "hidden": true
   },
   "source": [
    "### 3.2.3 Analysis, Visualization"
   ]
  },
  {
   "cell_type": "markdown",
   "id": "d44c5a11",
   "metadata": {
    "heading_collapsed": true,
    "hidden": true
   },
   "source": [
    "### 3.2.4 Kết luận"
   ]
  },
  {
   "cell_type": "markdown",
   "id": "cf72eec7",
   "metadata": {},
   "source": [
    "## 3.3 Câu hỏi 3"
   ]
  },
  {
   "cell_type": "markdown",
   "id": "e816d4d9",
   "metadata": {},
   "source": [
    "### 3.3.1 Nêu vấn đề\n",
    "\n",
    "Với lượng dữ liệu công việc lớn như hiện tại, việc lọc ra một công việc tốt về khoa học dữ liệu là một việc tương đối khó khăn. Trong phần này, ta sẽ phân tích và biến đổi trên dữ liệu để trả lời về vấn đề: _Tìm ra trên tập dữ liệu này những công việc nào tốt nhất liên quan đến khoa học dữ liệu_. Trả lời được cho vấn đề này sẽ giúp cho những người có mong muốn ứng tuyển vào vị trí liên quan đến khoa học dữ liệu tìm cho mình công việc được đánh giá tốt nhất. Ngoài ra, các trang web đăng tải thông tin tuyển dụng có thể ứng dụng phương thức này để gợi ý cho người dùng có nhu cầu được tuyển dụng vào lĩnh vực khoa học dữ liệu.\n",
    "\n",
    "Để trả lời được cho câu hỏi trên, ta cần trả lời được hai câu hỏi phụ sau:\n",
    "1. Công việc như thế nào là có liên quan đến khoa học dữ liệu?\n",
    "2. Trong những công việc đó, công việc nào là tốt nhất?"
   ]
  },
  {
   "cell_type": "markdown",
   "id": "325fd600",
   "metadata": {
    "heading_collapsed": true,
    "hidden": true
   },
   "source": [
    "### 3.3.2 Data Preprocessing"
   ]
  },
  {
   "cell_type": "markdown",
   "id": "6fce7e5b",
   "metadata": {},
   "source": [
    "Hướng tiếp cận chung của ta như sau:\n",
    "1. Ta sẽ cố gắng đánh giá _độ liên quan_ của một công việc đối với ngành khoa học dữ liệu. Cụ thể, ta sẽ dựa vào tiêu đề, taglist và mô tả của công việc để đánh giá và đưa ra một con số cho biết công việc đó liên quan nhiều hay ít đến khoa học dữ liệu.\n",
    "2. Từ tập công việc này, ta đánh giá mức độ tốt hay không tốt dựa trên điểm đánh giá trung bình và số lượt đánh giá của công ty đăng tải bài ứng tuyển. Để gợi ý đến cho người dùng, ta sẽ sắp xếp tập công việc này lần lượt theo các giá trị: độ liên quan, điểm đánh giá trung bình của công ty, và số lượt đánh giá công ty."
   ]
  },
  {
   "cell_type": "markdown",
   "id": "5309bd5d",
   "metadata": {},
   "source": [
    "Đầu tiên, ta tách ra những trường cần thiết để đánh giá và tiền xử lý."
   ]
  },
  {
   "cell_type": "code",
   "execution_count": 32,
   "id": "57cf9231",
   "metadata": {},
   "outputs": [],
   "source": [
    "job_list_df = jobs_df[['job_id', 'job_name', 'description', 'taglist']].copy()"
   ]
  },
  {
   "cell_type": "markdown",
   "id": "28fb46a7",
   "metadata": {},
   "source": [
    "Ta thực hiện bước tiền xử lý như sau:\n",
    "1. Vì ta đang xử lý trên chuỗi, ta đưa chúng về dạng chữ viết thường để tiện lợi. \n",
    "2. Ta nhận thấy cột `taglist` có cấu trúc cụ thể - các tag cách nhau bằng 3 ký tự khoảng trắng, do đó ta chuyển các giá trị của cột này về dạng list.\n",
    "3. Đặt `job_id` làm index"
   ]
  },
  {
   "cell_type": "code",
   "execution_count": 33,
   "id": "2cfce71c",
   "metadata": {},
   "outputs": [],
   "source": [
    "job_list_df.job_name = job_list_df.job_name.map(lambda x: x.lower())\n",
    "job_list_df.description = job_list_df.description.map(lambda x: x.lower())\n",
    "job_list_df.taglist = job_list_df.taglist.map(lambda x: x.lower().split('   '))\n",
    "job_list_df = job_list_df.set_index('job_id')"
   ]
  },
  {
   "cell_type": "markdown",
   "id": "c7fa7017",
   "metadata": {},
   "source": [
    "Để đánh giá độ liên quan đến khoa học dữ liệu của một công việc, ý tưởng chính như sau: ta kiểm tra xem các trường `job_name`, `taglist` và `description` có chứa những từ khóa nào liên quan đến khoa học dữ liệu hay không\n",
    "* Ta chọn ra các từ khóa đặc trưng cho ngành khoa học dữ liệu. Ta phân chúng thành 5 tier, `t1` đến `t5`.\n",
    "* Gán cho mỗi tier một trọng số đánh giá _mức độ đặc trưng_ của tier đối với ngành khoa học dữ liệu. Gán `t1` điểm 1, ..., `t5` điểm 5.\n",
    "\n",
    "Dưới đây em đã chọn ra và sắp xếp các từ khóa đặc trưng cho ngành khoa học dữ liệu. Các từ khóa này được em chọn thông qua việc đọc description của công việc từ dữ liệu, tham khảo, tìm kiếm trên Internet và cảm nhận của bản thân. Cách chia các tier này là hoàn toàn chủ quan."
   ]
  },
  {
   "cell_type": "code",
   "execution_count": 34,
   "id": "d9e7dd0d",
   "metadata": {},
   "outputs": [],
   "source": [
    "t5 = ['data science', 'data scientist', 'khoa học dữ liệu'] \n",
    "t4 = ['data analysis', 'data analyst', 'data analytics', 'phân tích dữ liệu',\n",
    "      'data visualization', 'data preprocessing', 'data mining', 'trực quan hóa', 'xử lý dữ liệu', 'khai thác dữ liệu',\n",
    "      'data engineer', 'data warehouse', 'kỹ sư dữ liệu', 'nhà kho dữ liệu',\n",
    "      'data pipelining', 'aws', 'business intelligence',\n",
    "      'ssps', 'tableau',\n",
    "      'pytorch', 'tensorflow',\n",
    "      'pandas', 'numpy', 'scikit-learn', 'scipy', \n",
    "      'spark', 'keras', 'hadoop',\n",
    "      'nltk', 'scala']\n",
    "t3 = ['statistics', 'thống kê',\n",
    "      'ai', 'artificial intelligence', 'trí tuệ nhân tạo',\n",
    "      'big data', 'machine learning', 'học máy', 'máy học', 'dữ liệu lớn',\n",
    "      'deep learning', 'học sâu',\n",
    "      'data architect']\n",
    "t2 = ['sql', 'nosql', 'julia',\n",
    "      'cloud computing', 'điện toán đám mây']\n",
    "t1 = ['data', 'database', 'dữ liệu', 'cơ sở dữ liệu',\n",
    "      'english', 'python', 'tiếng anh',\n",
    "      'analyst', 'phân tích', 'cloud', 'đám mây'\n",
    "      'java']\n",
    "\n",
    "weights = np.array([1, 2, 3, 4, 5])"
   ]
  },
  {
   "cell_type": "markdown",
   "id": "e98d0b71",
   "metadata": {
    "heading_collapsed": true,
    "hidden": true
   },
   "source": [
    "### 3.3.3 Analysis, Visualization"
   ]
  },
  {
   "cell_type": "markdown",
   "id": "31bba3b8",
   "metadata": {},
   "source": [
    "Ta chấm điểm cho các trường như sau:\n",
    "* Với mỗi tier, ta kiểm tra từng trường `job_name`, `taglist` và `description`, nếu trường có chứa ít nhất 1 từ khóa trong tier, ta chấm điểm cho trường đó bằng trọng số của tier. Nếu không, ta chấm điểm 0.\n",
    "\t* Ví dụ, giả sử ta xét trên tier 5, trường `job_name` và `description` có chứa từ khóa `\"data science\"`, trường `taglist` thì không => điểm của các trường lần lượt là `[5, 0, 5]`.\n",
    "* _Độ liên quan_ của một công việc được tính bằng tổng số điểm của các trường, trên tất cả các tier. Số điểm càng cao thì độ liên quan càng lớn. Cách tính tổng này sẽ được trình bày ở phần dưới.\n",
    "\n",
    "Dưới đây, hàm `contains()` kiểm tra xem một giá trị có chứa keyword nào trong danh sách các keyword hay không. Hàm `grade()` chấm điểm cho từng giá trị của các trường (lưu ý `tier` trong `grade` là chỉ số). Sau đó, ta xây dựng một mảng 3 chiều `grade_board`, sao cho `grade_board[:, :, x]` là một ma trận điểm của các trường xét trên `tier[x]`. Các hàm `reshape` chuyển đổi `shape` của các ma trận sao cho phù hợp để broadcast.\n"
   ]
  },
  {
   "cell_type": "code",
   "execution_count": 35,
   "id": "f052d8d0",
   "metadata": {},
   "outputs": [],
   "source": [
    "tiers = [t1, t2, t3, t4, t5]\n",
    "\n",
    "def contains(x, tier):\n",
    "    return any(keyword in x for keyword in tier)\n",
    "\n",
    "def grade(x, tier):\n",
    "    return contains(x, tiers[tier]) * weights[tier]\n",
    "\n",
    "f = np.vectorize(grade)\n",
    "grade_board = f(job_list_df.values.reshape((*job_list_df.shape, 1)), np.arange(5).reshape((1, 1, 5)))"
   ]
  },
  {
   "cell_type": "markdown",
   "id": "b415f2d8",
   "metadata": {},
   "source": [
    "Có được ma trận điểm, ta sẽ tiến hành tính tổng số điểm cho các công việc. Ở đây ta định nghĩa thêm một loại trọng số nữa cho ba trường `job_name`, `taglist`, `description`, cụ thể là `[0.5, 0.3, 0.2]`. Lý do là vì:\n",
    "* Thông thường tiêu đề của công việc có ý nghĩa quan trọng nhất cho việc xác định lĩnh vực của công việc đó.\n",
    "* `taglist` chỉ có tối đa 3 tag, không đủ để xác định lĩnh vực của công việc, do đó không quan trọng bằng `job_name`.\n",
    "* Một số mô tả công việc có thể chứa các từ khóa có liên quan đến khoa học dữ liệu, nhưng với mục đích chỉ là nhắc đến lĩnh vực khoa học dữ liệu, chứ không phải mô tả những vấn đề cụ thể của công việc.\n",
    "\t* Ví dụ trong mô tả công việc về mobile developer có thể có đoạn như sau: \"Knowledge in machine learning or artificial intelligence is a plus\". Mô tả này có chứa hai keyword thuộc tier 3 (machine learning và artificial intelligence), tuy nhiên mục đích chỉ là nhắc đến hai kỹ năng là điểm cộng, nội dung chính của mô tả vẫn là về mobile developer. Do đó, đặt trọng số thấp cho trường `description` sẽ giúp giảm thiểu khả năng gặp trường hợp này.\n",
    "\n",
    "Ta tiến hành tính tổng cho các trường trên các tier, sau đó gom tất cả các trường lại theo trọng số để ra được độ liên quan của từng công việc. Ta thêm kết quả này vào cột `score` trong `job_list_df`."
   ]
  },
  {
   "cell_type": "code",
   "execution_count": 36,
   "id": "ce6eb9c0",
   "metadata": {},
   "outputs": [],
   "source": [
    "field_weights = np.array([0.5, 0.3, 0.2])\n",
    "scores = ((grade_board).sum(axis=2) * field_weights).sum(axis=1)\n",
    "job_list_df['score'] = scores"
   ]
  },
  {
   "cell_type": "markdown",
   "id": "696abc1e",
   "metadata": {},
   "source": [
    "Dưới đây là phân bố số điểm của các công việc. Có thể thấy hầu hết các số điểm công việc rơi vào khoảng 2 đến 4 (lưu ý, số điểm tối đa cho một công việc là 15 (1 + 2 + ... + 5)), không có nhiều công việc liên quan đến khoa học dữ liệu trong dữ liệu này."
   ]
  },
  {
   "cell_type": "code",
   "execution_count": 37,
   "id": "4b480fb1",
   "metadata": {},
   "outputs": [
    {
     "data": {
      "image/png": "[encoded data removed]",
      "text/plain": [
       "<Figure size 432x288 with 1 Axes>"
      ]
     },
     "metadata": {
      "needs_background": "light"
     },
     "output_type": "display_data"
    }
   ],
   "source": [
    "job_list_df['score'].plot(kind='hist', edgecolor='black')\n",
    "plt.show()"
   ]
  },
  {
   "cell_type": "markdown",
   "id": "795e1410",
   "metadata": {},
   "source": [
    "Dưới đây là top 15 công việc có liên quan nhất đến ngành khoa học dữ liệu. Có thể thấy phương pháp ta thực hiện cho ra kết quả tương đối khả quan."
   ]
  },
  {
   "cell_type": "code",
   "execution_count": 38,
   "id": "169847f0",
   "metadata": {},
   "outputs": [
    {
     "data": {
      "text/html": [
       "<div>\n",
       "<style scoped>\n",
       "    .dataframe tbody tr th:only-of-type {\n",
       "        vertical-align: middle;\n",
       "    }\n",
       "\n",
       "    .dataframe tbody tr th {\n",
       "        vertical-align: top;\n",
       "    }\n",
       "\n",
       "    .dataframe thead th {\n",
       "        text-align: right;\n",
       "    }\n",
       "</style>\n",
       "<table border=\"1\" class=\"dataframe\">\n",
       "  <thead>\n",
       "    <tr style=\"text-align: right;\">\n",
       "      <th></th>\n",
       "      <th>job_name</th>\n",
       "      <th>description</th>\n",
       "      <th>taglist</th>\n",
       "      <th>score</th>\n",
       "    </tr>\n",
       "    <tr>\n",
       "      <th>job_id</th>\n",
       "      <th></th>\n",
       "      <th></th>\n",
       "      <th></th>\n",
       "      <th></th>\n",
       "    </tr>\n",
       "  </thead>\n",
       "  <tbody>\n",
       "    <tr>\n",
       "      <th>adverttu:data_scientist_python_sql_aws_remote</th>\n",
       "      <td>data scientist (python, sql, aws) remote</td>\n",
       "      <td>adverttu is hiring an experienced data scienti...</td>\n",
       "      <td>[ python, sql, aws ]</td>\n",
       "      <td>10.0</td>\n",
       "    </tr>\n",
       "    <tr>\n",
       "      <th>zalora-group:sr_data_scientist_machine_learning_r</th>\n",
       "      <td>sr data scientist (machine learning, r)</td>\n",
       "      <td>we are looking for an exceptional senior data ...</td>\n",
       "      <td>[ java, python, scala ]</td>\n",
       "      <td>9.2</td>\n",
       "    </tr>\n",
       "    <tr>\n",
       "      <th>viettel-group:10_bigdata_engineers_java_scala_sql</th>\n",
       "      <td>10 bigdata engineers (java, scala, sql)</td>\n",
       "      <td>khối cntt trực thuộc tổng công ty (tct) viễn t...</td>\n",
       "      <td>[ java, sql, scala ]</td>\n",
       "      <td>8.4</td>\n",
       "    </tr>\n",
       "    <tr>\n",
       "      <th>haravan:senior_data_engineer_bi_python_sql</th>\n",
       "      <td>senior data engineer (bi, python, sql)</td>\n",
       "      <td>we are looking for a senior business intellige...</td>\n",
       "      <td>[ business analyst, sql, data analyst ]</td>\n",
       "      <td>8.4</td>\n",
       "    </tr>\n",
       "    <tr>\n",
       "      <th>parcel-perform:data_engineer_database_sql_python</th>\n",
       "      <td>data engineer (database, sql, python)</td>\n",
       "      <td>parcel perform is looking for an amazing team ...</td>\n",
       "      <td>[ database, python, sql ]</td>\n",
       "      <td>8.2</td>\n",
       "    </tr>\n",
       "    <tr>\n",
       "      <th>chotot:data_engineer_sql_python</th>\n",
       "      <td>data engineer (sql, python)</td>\n",
       "      <td>cho tot technology foundation is growing and e...</td>\n",
       "      <td>[ database, python, sql ]</td>\n",
       "      <td>8.2</td>\n",
       "    </tr>\n",
       "    <tr>\n",
       "      <th>ihouzz-tech:data_analyst_python_java_sql</th>\n",
       "      <td>data analyst (python, java, sql)</td>\n",
       "      <td>·       understand business processes, applica...</td>\n",
       "      <td>[ java, python, sql ]</td>\n",
       "      <td>8.2</td>\n",
       "    </tr>\n",
       "    <tr>\n",
       "      <th>eplus-research:data_analyst_sql_online_interview</th>\n",
       "      <td>data analyst (sql) - (online interview)</td>\n",
       "      <td>công ty \\neplus research\\n là đơn vị cung cấp ...</td>\n",
       "      <td>[ python, database, sql ]</td>\n",
       "      <td>8.2</td>\n",
       "    </tr>\n",
       "    <tr>\n",
       "      <th>deliveree-on-demand-logistics:data_scientist</th>\n",
       "      <td>data scientist</td>\n",
       "      <td>company description\\n\\n\\nwe own and operate so...</td>\n",
       "      <td>[ database, python, postgresql ]</td>\n",
       "      <td>7.7</td>\n",
       "    </tr>\n",
       "    <tr>\n",
       "      <th>treehouse-finance:data_scientist_data_quant_analyst</th>\n",
       "      <td>data scientist / data quant analyst</td>\n",
       "      <td>treehouse provides defi users with live analyt...</td>\n",
       "      <td>[ data analyst, database, blockchain ]</td>\n",
       "      <td>7.7</td>\n",
       "    </tr>\n",
       "    <tr>\n",
       "      <th>vietnam-international-bank-vib:data_science_data_analyst_bi</th>\n",
       "      <td>data science/ data analyst (bi)</td>\n",
       "      <td>mục đích công việc:\\n\\n\\nchịu trách nhiệm xây ...</td>\n",
       "      <td>[ english, cloud, scrum ]</td>\n",
       "      <td>7.6</td>\n",
       "    </tr>\n",
       "    <tr>\n",
       "      <th>mb-bank:jrsr_data_scientist_javapythonscala</th>\n",
       "      <td>jr/sr data scientist (java/python/scala)</td>\n",
       "      <td>- làm việc với các đơn vị nghiệp vụ để xác địn...</td>\n",
       "      <td>[ java, python, scala ]</td>\n",
       "      <td>7.6</td>\n",
       "    </tr>\n",
       "    <tr>\n",
       "      <th>greenfeed:sap_data_engineer</th>\n",
       "      <td>sap data engineer</td>\n",
       "      <td>designs, develops, modifies, configures, debug...</td>\n",
       "      <td>[ sap, database, erp ]</td>\n",
       "      <td>7.2</td>\n",
       "    </tr>\n",
       "    <tr>\n",
       "      <th>gft-technologies-vietnam:python_developer_data_engineerairflow</th>\n",
       "      <td>python developer (data engineer/airflow)</td>\n",
       "      <td>we are looking for a candidate with 5+ years o...</td>\n",
       "      <td>[ python, database, data analyst ]</td>\n",
       "      <td>7.2</td>\n",
       "    </tr>\n",
       "    <tr>\n",
       "      <th>quoine:data_engineer</th>\n",
       "      <td>data engineer</td>\n",
       "      <td>create and maintain optimal data pipeline arch...</td>\n",
       "      <td>[ sql, database, postgresql ]</td>\n",
       "      <td>7.2</td>\n",
       "    </tr>\n",
       "  </tbody>\n",
       "</table>\n",
       "</div>"
      ],
      "text/plain": [
       "                                                                                    job_name  \\\n",
       "job_id                                                                                         \n",
       "adverttu:data_scientist_python_sql_aws_remote       data scientist (python, sql, aws) remote   \n",
       "zalora-group:sr_data_scientist_machine_learning_r    sr data scientist (machine learning, r)   \n",
       "viettel-group:10_bigdata_engineers_java_scala_sql    10 bigdata engineers (java, scala, sql)   \n",
       "haravan:senior_data_engineer_bi_python_sql            senior data engineer (bi, python, sql)   \n",
       "parcel-perform:data_engineer_database_sql_python       data engineer (database, sql, python)   \n",
       "chotot:data_engineer_sql_python                                  data engineer (sql, python)   \n",
       "ihouzz-tech:data_analyst_python_java_sql                    data analyst (python, java, sql)   \n",
       "eplus-research:data_analyst_sql_online_interview     data analyst (sql) - (online interview)   \n",
       "deliveree-on-demand-logistics:data_scientist                                  data scientist   \n",
       "treehouse-finance:data_scientist_data_quant_ana...       data scientist / data quant analyst   \n",
       "vietnam-international-bank-vib:data_science_dat...           data science/ data analyst (bi)   \n",
       "mb-bank:jrsr_data_scientist_javapythonscala         jr/sr data scientist (java/python/scala)   \n",
       "greenfeed:sap_data_engineer                                                sap data engineer   \n",
       "gft-technologies-vietnam:python_developer_data_...  python developer (data engineer/airflow)   \n",
       "quoine:data_engineer                                                           data engineer   \n",
       "\n",
       "                                                                                          description  \\\n",
       "job_id                                                                                                  \n",
       "adverttu:data_scientist_python_sql_aws_remote       adverttu is hiring an experienced data scienti...   \n",
       "zalora-group:sr_data_scientist_machine_learning_r   we are looking for an exceptional senior data ...   \n",
       "viettel-group:10_bigdata_engineers_java_scala_sql   khối cntt trực thuộc tổng công ty (tct) viễn t...   \n",
       "haravan:senior_data_engineer_bi_python_sql          we are looking for a senior business intellige...   \n",
       "parcel-perform:data_engineer_database_sql_python    parcel perform is looking for an amazing team ...   \n",
       "chotot:data_engineer_sql_python                     cho tot technology foundation is growing and e...   \n",
       "ihouzz-tech:data_analyst_python_java_sql            ·       understand business processes, applica...   \n",
       "eplus-research:data_analyst_sql_online_interview    công ty \\neplus research\\n là đơn vị cung cấp ...   \n",
       "deliveree-on-demand-logistics:data_scientist        company description\\n\\n\\nwe own and operate so...   \n",
       "treehouse-finance:data_scientist_data_quant_ana...  treehouse provides defi users with live analyt...   \n",
       "vietnam-international-bank-vib:data_science_dat...  mục đích công việc:\\n\\n\\nchịu trách nhiệm xây ...   \n",
       "mb-bank:jrsr_data_scientist_javapythonscala         - làm việc với các đơn vị nghiệp vụ để xác địn...   \n",
       "greenfeed:sap_data_engineer                         designs, develops, modifies, configures, debug...   \n",
       "gft-technologies-vietnam:python_developer_data_...  we are looking for a candidate with 5+ years o...   \n",
       "quoine:data_engineer                                create and maintain optimal data pipeline arch...   \n",
       "\n",
       "                                                                                    taglist  \\\n",
       "job_id                                                                                        \n",
       "adverttu:data_scientist_python_sql_aws_remote                          [ python, sql, aws ]   \n",
       "zalora-group:sr_data_scientist_machine_learning_r                   [ java, python, scala ]   \n",
       "viettel-group:10_bigdata_engineers_java_scala_sql                      [ java, sql, scala ]   \n",
       "haravan:senior_data_engineer_bi_python_sql          [ business analyst, sql, data analyst ]   \n",
       "parcel-perform:data_engineer_database_sql_python                  [ database, python, sql ]   \n",
       "chotot:data_engineer_sql_python                                   [ database, python, sql ]   \n",
       "ihouzz-tech:data_analyst_python_java_sql                              [ java, python, sql ]   \n",
       "eplus-research:data_analyst_sql_online_interview                  [ python, database, sql ]   \n",
       "deliveree-on-demand-logistics:data_scientist               [ database, python, postgresql ]   \n",
       "treehouse-finance:data_scientist_data_quant_ana...   [ data analyst, database, blockchain ]   \n",
       "vietnam-international-bank-vib:data_science_dat...                [ english, cloud, scrum ]   \n",
       "mb-bank:jrsr_data_scientist_javapythonscala                         [ java, python, scala ]   \n",
       "greenfeed:sap_data_engineer                                          [ sap, database, erp ]   \n",
       "gft-technologies-vietnam:python_developer_data_...       [ python, database, data analyst ]   \n",
       "quoine:data_engineer                                          [ sql, database, postgresql ]   \n",
       "\n",
       "                                                    score  \n",
       "job_id                                                     \n",
       "adverttu:data_scientist_python_sql_aws_remote        10.0  \n",
       "zalora-group:sr_data_scientist_machine_learning_r     9.2  \n",
       "viettel-group:10_bigdata_engineers_java_scala_sql     8.4  \n",
       "haravan:senior_data_engineer_bi_python_sql            8.4  \n",
       "parcel-perform:data_engineer_database_sql_python      8.2  \n",
       "chotot:data_engineer_sql_python                       8.2  \n",
       "ihouzz-tech:data_analyst_python_java_sql              8.2  \n",
       "eplus-research:data_analyst_sql_online_interview      8.2  \n",
       "deliveree-on-demand-logistics:data_scientist          7.7  \n",
       "treehouse-finance:data_scientist_data_quant_ana...    7.7  \n",
       "vietnam-international-bank-vib:data_science_dat...    7.6  \n",
       "mb-bank:jrsr_data_scientist_javapythonscala           7.6  \n",
       "greenfeed:sap_data_engineer                           7.2  \n",
       "gft-technologies-vietnam:python_developer_data_...    7.2  \n",
       "quoine:data_engineer                                  7.2  "
      ]
     },
     "execution_count": 38,
     "metadata": {},
     "output_type": "execute_result"
    }
   ],
   "source": [
    "job_list_df.sort_values('score', ascending=False)[:15]"
   ]
  },
  {
   "cell_type": "markdown",
   "id": "dacb1e99",
   "metadata": {},
   "source": [
    "Để dễ sắp xếp, ta làm tròn giá trị cột `score` thành số nguyên."
   ]
  },
  {
   "cell_type": "code",
   "execution_count": 39,
   "id": "9208ff1e",
   "metadata": {},
   "outputs": [],
   "source": [
    "job_list_df['score'] = job_list_df['score'].round().map(int)"
   ]
  },
  {
   "cell_type": "markdown",
   "id": "51bce46c",
   "metadata": {},
   "source": [
    "Ta join cột `score` vào cùng với các thông tin gốc về công ty và công việc để chuẩn bị cho bước kết luận."
   ]
  },
  {
   "cell_type": "code",
   "execution_count": 40,
   "id": "25b01b4a",
   "metadata": {},
   "outputs": [],
   "source": [
    "final = jobs_df[['job_id', 'company_id', 'job_name', 'description']]\\\n",
    "    .merge(companies_df[['company_id', 'company_name', 'average_rating', 'num_reviews']], on='company_id', how='inner')\\\n",
    "    .merge(job_list_df['score'], on='job_id', how='inner')"
   ]
  },
  {
   "cell_type": "markdown",
   "id": "3a46a20e",
   "metadata": {
    "heading_collapsed": true,
    "hidden": true
   },
   "source": [
    "### 3.3.4 Kết luận"
   ]
  },
  {
   "cell_type": "markdown",
   "id": "14839339",
   "metadata": {},
   "source": [
    "Dưới đây là top 10 công việc tốt nhất liên quan đến khoa học dữ liệu dựa theo phương thức đánh giá của ta. Theo đó, công việc của công ty  Adverttu được xếp lên trên cùng do có độ liên quan lớn nhất. Nhưng có vẻ như công việc tốt nhất phải là công việc của công ty ZALORA Group với độ hợp cao, điểm đánh giá trung bình cùng số lượt đánh giá cũng khả quan. Các công việc còn lại trong nhóm 8 điểm cũng tương đối ổn."
   ]
  },
  {
   "cell_type": "code",
   "execution_count": 41,
   "id": "cd9cfb9a",
   "metadata": {},
   "outputs": [
    {
     "data": {
      "text/html": [
       "<div>\n",
       "<style scoped>\n",
       "    .dataframe tbody tr th:only-of-type {\n",
       "        vertical-align: middle;\n",
       "    }\n",
       "\n",
       "    .dataframe tbody tr th {\n",
       "        vertical-align: top;\n",
       "    }\n",
       "\n",
       "    .dataframe thead th {\n",
       "        text-align: right;\n",
       "    }\n",
       "</style>\n",
       "<table border=\"1\" class=\"dataframe\">\n",
       "  <thead>\n",
       "    <tr style=\"text-align: right;\">\n",
       "      <th></th>\n",
       "      <th>job_name</th>\n",
       "      <th>score</th>\n",
       "      <th>company_name</th>\n",
       "      <th>average_rating</th>\n",
       "      <th>num_reviews</th>\n",
       "      <th>description</th>\n",
       "    </tr>\n",
       "  </thead>\n",
       "  <tbody>\n",
       "    <tr>\n",
       "      <th>1317</th>\n",
       "      <td>Data Scientist (Python, SQL, AWS) REMOTE</td>\n",
       "      <td>10</td>\n",
       "      <td>Adverttu</td>\n",
       "      <td>NaN</td>\n",
       "      <td>NaN</td>\n",
       "      <td>Adverttu is hiring an experienced Data Scienti...</td>\n",
       "    </tr>\n",
       "    <tr>\n",
       "      <th>583</th>\n",
       "      <td>Sr Data Scientist (Machine Learning, R)</td>\n",
       "      <td>9</td>\n",
       "      <td>ZALORA Group</td>\n",
       "      <td>4.6</td>\n",
       "      <td>54.0</td>\n",
       "      <td>We are looking for an exceptional Senior Data ...</td>\n",
       "    </tr>\n",
       "    <tr>\n",
       "      <th>287</th>\n",
       "      <td>Data Engineer (Database, SQL, Python)</td>\n",
       "      <td>8</td>\n",
       "      <td>Parcel Perform</td>\n",
       "      <td>4.9</td>\n",
       "      <td>17.0</td>\n",
       "      <td>Parcel Perform is looking for an amazing team ...</td>\n",
       "    </tr>\n",
       "    <tr>\n",
       "      <th>620</th>\n",
       "      <td>Senior Data Engineer (BI, Python, SQL)</td>\n",
       "      <td>8</td>\n",
       "      <td>HARAVAN</td>\n",
       "      <td>4.3</td>\n",
       "      <td>38.0</td>\n",
       "      <td>We are looking for a Senior Business Intellige...</td>\n",
       "    </tr>\n",
       "    <tr>\n",
       "      <th>239</th>\n",
       "      <td>Data Scientist</td>\n",
       "      <td>8</td>\n",
       "      <td>Deliveree On-Demand Logistics</td>\n",
       "      <td>4.0</td>\n",
       "      <td>12.0</td>\n",
       "      <td>Company Description\\n\\n\\nWe own and operate So...</td>\n",
       "    </tr>\n",
       "    <tr>\n",
       "      <th>241</th>\n",
       "      <td>Data Engineer (SQL, Python)</td>\n",
       "      <td>8</td>\n",
       "      <td>Chotot</td>\n",
       "      <td>3.6</td>\n",
       "      <td>20.0</td>\n",
       "      <td>Cho Tot technology foundation is growing and e...</td>\n",
       "    </tr>\n",
       "    <tr>\n",
       "      <th>226</th>\n",
       "      <td>10 BigData Engineers (Java, Scala, SQL)</td>\n",
       "      <td>8</td>\n",
       "      <td>Viettel Group</td>\n",
       "      <td>3.5</td>\n",
       "      <td>22.0</td>\n",
       "      <td>Khối CNTT trực thuộc Tổng công ty (TCT) Viễn T...</td>\n",
       "    </tr>\n",
       "    <tr>\n",
       "      <th>89</th>\n",
       "      <td>Data Science/ Data Analyst (BI)</td>\n",
       "      <td>8</td>\n",
       "      <td>Vietnam International Bank (VIB)</td>\n",
       "      <td>2.8</td>\n",
       "      <td>6.0</td>\n",
       "      <td>Mục đích công việc:\\n\\n\\nChịu trách nhiệm xây ...</td>\n",
       "    </tr>\n",
       "    <tr>\n",
       "      <th>401</th>\n",
       "      <td>Data Analyst (Python, Java, SQL)</td>\n",
       "      <td>8</td>\n",
       "      <td>IHOUZZ TECH</td>\n",
       "      <td>NaN</td>\n",
       "      <td>4.0</td>\n",
       "      <td>·       Understand business processes, applica...</td>\n",
       "    </tr>\n",
       "    <tr>\n",
       "      <th>1074</th>\n",
       "      <td>Jr/Sr Data Scientist (Java/Python/Scala)</td>\n",
       "      <td>8</td>\n",
       "      <td>MB Bank</td>\n",
       "      <td>NaN</td>\n",
       "      <td>1.0</td>\n",
       "      <td>- Làm việc với các đơn vị nghiệp vụ để xác địn...</td>\n",
       "    </tr>\n",
       "  </tbody>\n",
       "</table>\n",
       "</div>"
      ],
      "text/plain": [
       "                                      job_name  score  \\\n",
       "1317  Data Scientist (Python, SQL, AWS) REMOTE     10   \n",
       "583    Sr Data Scientist (Machine Learning, R)      9   \n",
       "287      Data Engineer (Database, SQL, Python)      8   \n",
       "620     Senior Data Engineer (BI, Python, SQL)      8   \n",
       "239                             Data Scientist      8   \n",
       "241                Data Engineer (SQL, Python)      8   \n",
       "226    10 BigData Engineers (Java, Scala, SQL)      8   \n",
       "89             Data Science/ Data Analyst (BI)      8   \n",
       "401           Data Analyst (Python, Java, SQL)      8   \n",
       "1074  Jr/Sr Data Scientist (Java/Python/Scala)      8   \n",
       "\n",
       "                          company_name  average_rating  num_reviews  \\\n",
       "1317                          Adverttu             NaN          NaN   \n",
       "583                       ZALORA Group             4.6         54.0   \n",
       "287                     Parcel Perform             4.9         17.0   \n",
       "620                            HARAVAN             4.3         38.0   \n",
       "239      Deliveree On-Demand Logistics             4.0         12.0   \n",
       "241                             Chotot             3.6         20.0   \n",
       "226                      Viettel Group             3.5         22.0   \n",
       "89    Vietnam International Bank (VIB)             2.8          6.0   \n",
       "401                        IHOUZZ TECH             NaN          4.0   \n",
       "1074                           MB Bank             NaN          1.0   \n",
       "\n",
       "                                            description  \n",
       "1317  Adverttu is hiring an experienced Data Scienti...  \n",
       "583   We are looking for an exceptional Senior Data ...  \n",
       "287   Parcel Perform is looking for an amazing team ...  \n",
       "620   We are looking for a Senior Business Intellige...  \n",
       "239   Company Description\\n\\n\\nWe own and operate So...  \n",
       "241   Cho Tot technology foundation is growing and e...  \n",
       "226   Khối CNTT trực thuộc Tổng công ty (TCT) Viễn T...  \n",
       "89    Mục đích công việc:\\n\\n\\nChịu trách nhiệm xây ...  \n",
       "401   ·       Understand business processes, applica...  \n",
       "1074  - Làm việc với các đơn vị nghiệp vụ để xác địn...  "
      ]
     },
     "execution_count": 41,
     "metadata": {},
     "output_type": "execute_result"
    }
   ],
   "source": [
    "final.sort_values(\n",
    "    ['score', 'average_rating', 'num_reviews'],\n",
    "    ascending=[False, False, False])[['job_name', 'score', 'company_name', 'average_rating', 'num_reviews', 'description']][:10]"
   ]
  },
  {
   "cell_type": "markdown",
   "id": "ef7e9bd7",
   "metadata": {},
   "source": [
    "Như vậy ta đã trả lời được cho câu hỏi công việc nào tốt nhất liên quan đến khoa học dữ liệu. Bên cạnh đó, ta cũng tạo ra được một phương pháp đánh giá độ liên quan của công việc đến một lĩnh vực. Việc sử dụng lại phương pháp này cũng đơn giản, ta có thể:\n",
    "* Thay đổi các từ khóa trong từng tier theo lĩnh vực mong muốn\n",
    "* Thêm hoặc xóa bớt tier\n",
    "* Thay đổi trọng số cho các tier\n",
    "* Thay đổi trọng số cho các trường"
   ]
  },
  {
   "cell_type": "markdown",
   "id": "0aeaed66",
   "metadata": {
    "heading_collapsed": true
   },
   "source": [
    "# 4. Cảm nhận sau khi kết thúc môn học"
   ]
  },
  {
   "cell_type": "markdown",
   "id": "68872f4a",
   "metadata": {
    "heading_collapsed": true,
    "hidden": true
   },
   "source": [
    "## 4.1 Lê Đức Huy - 19120080"
   ]
  },
  {
   "cell_type": "markdown",
   "id": "d941c710",
   "metadata": {
    "heading_collapsed": true,
    "hidden": true
   },
   "source": [
    "## 4.2 Mai Duy Nam - 19120298\n",
    "Đối với em, quá trình làm đồ án diễn ra tương đối thuận lợi. Các bước làm đồ án, từ tìm kiếm dữ liệu, phân chia việc với Huy, khám phá, phân tích dữ liệu đều diễn ra suôn sẻ. Em chỉ gặp khó khăn trong giai đoạn suy nghĩ câu hỏi có ý nghĩa để trả lời, vì bộ dữ liệu này có tương đối ít dữ liệu số. Tuy nhiên sau khi tìm ra được bài toán ưng ý để giải thì mọi bước sau đó diễn ra thuận lợi và không gặp trở ngại gì lớn.\n",
    "\n",
    "Trong quá trình làm đồ án, em không thực sự học thêm kiến thức mới ngoài những kỹ năng đã học trên lớp (NumPy, pandas, matplotlib). Tuy nhiên em được dịp luyện tập sử dụng các công cụ quan trọng này, luyện tập các kiến thức như xử lý dữ liệu nhiều chiều, array programming. Có thể nói, sau đồ án này em cũng đạt được độ thành thạo nhất định trong việc làm việc với các công cụ quan trọng của khoa học dữ liệu."
   ]
  },
  {
   "cell_type": "markdown",
   "id": "62b26be3",
   "metadata": {
    "heading_collapsed": true,
    "hidden": true
   },
   "source": [
    "## 4.3 Phương hướng phát triển nếu còn thời gian"
   ]
  },
  {
   "cell_type": "markdown",
   "id": "f01e5384",
   "metadata": {},
   "source": [
    "Đối với câu hỏi của Nam, nếu có thêm thời gian, em sẽ cải thiện một số điều như sau:\n",
    "* Trong phân tích này, các từ khóa được lựa chọn và sắp xếp một cách chủ quan. Em có thể thay đổi điều này bằng cách áp dụng các mô hình học máy để xác định các từ khóa đặc trưng cho từng lĩnh vực.\n",
    "* Làm tốt hơn trong việc tiền xử lý chuỗi bằng tokenization và lemmatization.\n",
    "* Thêm các cách đánh giá mới cho một trường, thay vì chỉ xác định xem có từ khóa nào nằm trong trường hay không, ví dụ: kiểm tra trường có chứa một _bộ_ các từ khóa hay không."
   ]
  },
  {
   "cell_type": "markdown",
   "id": "a108f516",
   "metadata": {
    "heading_collapsed": true
   },
   "source": [
    "# 5. Tài liệu tham khảo"
   ]
  },
  {
   "cell_type": "markdown",
   "id": "e1cf2c63",
   "metadata": {},
   "source": [
    "* [NumPy Documentation](https://numpy.org/doc/)\n",
    "* [Matplotlib 3.5.1 documentation](https://matplotlib.org/stable/)"
   ]
  }
 ],
 "metadata": {
  "jupytext": {
   "formats": "ipynb,md"
  },
  "kernelspec": {
   "display_name": "Python 3 (ipykernel)",
   "language": "python",
   "name": "python3"
  },
  "language_info": {
   "codemirror_mode": {
    "name": "ipython",
    "version": 3
   },
   "file_extension": ".py",
   "mimetype": "text/x-python",
   "name": "python",
   "nbconvert_exporter": "python",
   "pygments_lexer": "ipython3",
   "version": "3.8.8"
  }
 },
 "nbformat": 4,
 "nbformat_minor": 5
}

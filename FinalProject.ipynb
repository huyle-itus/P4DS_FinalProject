{
 "cells": [
  {
   "cell_type": "markdown",
   "id": "521f91c3",
   "metadata": {},
   "source": [
    "# 1. Thông tin chung\n",
    "Thành viên:\n",
    "\n",
    "|MSSV|Họ tên|\n",
    "|----|-----|\n",
    "|19120080|Lê Đức Huy|\n",
    "|19120298|Mai Duy Nam|"
   ]
  },
  {
   "cell_type": "markdown",
   "id": "a64d3ee1",
   "metadata": {},
   "source": [
    "# 2. Thông tin về dữ liệu"
   ]
  },
  {
   "cell_type": "markdown",
   "id": "06bb09a8",
   "metadata": {},
   "source": [
    "## 2.1 Thông tin chung\n",
    "Dataset trong đồ án này được lấy từ Kaggle tại [đây](https://www.kaggle.com/halhuynh/it-jobs-dataset).\n",
    "\n",
    "Dataset này chứa thông tin về các công ty IT ở Việt Nam và các công việc được đăng tải bởi các công ty này. Dữ liệu này được tác giả crawl từ trang web [ITviec](https://itviec.com/). Dataset này bao gồm 2 file:\n",
    "* `companies.csv` chứa thông tin về các công ty (tên công ty, lượt rating, lượt review, địa chỉ, v.v.) có tăng tải việc làm trên ITviec\n",
    "* `jobs.csv` chứa thông tin về việc làm được đăng tải bởi các công ty (tên công việc, mô tả, yêu cầu kỹ năng, v.v.)\n",
    "\n",
    "Hai tập dữ liệu này có mối liên hệ với nhau thông qua cột `company_id`."
   ]
  },
  {
   "cell_type": "markdown",
   "id": "e1e41c09",
   "metadata": {},
   "source": [
    "## 2.2 Khám phá dữ liệu"
   ]
  },
  {
   "cell_type": "markdown",
   "id": "theoretical-suffering",
   "metadata": {},
   "source": [
    "Ở các phần sau, ta lần lượt khám phá 2 bộ dữ liệu `companies` và `jobs` thu thập được"
   ]
  },
  {
   "cell_type": "markdown",
   "id": "interpreted-gospel",
   "metadata": {},
   "source": [
    "### 2.2.1 `companies`"
   ]
  },
  {
   "cell_type": "markdown",
   "id": "north-vector",
   "metadata": {},
   "source": [
    "#### Nạp dữ liệu"
   ]
  },
  {
   "cell_type": "code",
   "execution_count": 200,
   "id": "grateful-controversy",
   "metadata": {},
   "outputs": [],
   "source": [
    "import numpy as np\n",
    "import pandas as pd\n",
    "import matplotlib.pyplot as plt"
   ]
  },
  {
   "cell_type": "code",
   "execution_count": 201,
   "id": "million-stopping",
   "metadata": {},
   "outputs": [
    {
     "data": {
      "text/html": [
       "<div>\n",
       "<style scoped>\n",
       "    .dataframe tbody tr th:only-of-type {\n",
       "        vertical-align: middle;\n",
       "    }\n",
       "\n",
       "    .dataframe tbody tr th {\n",
       "        vertical-align: top;\n",
       "    }\n",
       "\n",
       "    .dataframe thead th {\n",
       "        text-align: right;\n",
       "    }\n",
       "</style>\n",
       "<table border=\"1\" class=\"dataframe\">\n",
       "  <thead>\n",
       "    <tr style=\"text-align: right;\">\n",
       "      <th></th>\n",
       "      <th>company_id</th>\n",
       "      <th>company_name</th>\n",
       "      <th>average_rating</th>\n",
       "      <th>num_review</th>\n",
       "      <th>city</th>\n",
       "      <th>type</th>\n",
       "      <th>num_employee</th>\n",
       "      <th>country</th>\n",
       "      <th>working_day</th>\n",
       "      <th>OT</th>\n",
       "      <th>overview</th>\n",
       "      <th>expertise</th>\n",
       "      <th>benifit</th>\n",
       "      <th>logo_link</th>\n",
       "    </tr>\n",
       "  </thead>\n",
       "  <tbody>\n",
       "    <tr>\n",
       "      <th>0</th>\n",
       "      <td>kms-technology</td>\n",
       "      <td>KMS Technology</td>\n",
       "      <td>4.0</td>\n",
       "      <td>197 Reviews</td>\n",
       "      <td>Ho Chi Minh, Da Nang, Ha Noi</td>\n",
       "      <td>Outsourcing</td>\n",
       "      <td>1000+</td>\n",
       "      <td>United States</td>\n",
       "      <td>Monday - Friday</td>\n",
       "      <td>No OT</td>\n",
       "      <td>Established in 2009, KMS Technology is a U.S.-...</td>\n",
       "      <td>NaN</td>\n",
       "      <td>Want to be the Best? Join KMS!\\n\\n\\nIt’s posit...</td>\n",
       "      <td>https://itviec.com/rails/active_storage/repres...</td>\n",
       "    </tr>\n",
       "    <tr>\n",
       "      <th>1</th>\n",
       "      <td>nab-in-collaboration-with-positive-thinking-co...</td>\n",
       "      <td>NAB in collaboration with Positive Thinking Co...</td>\n",
       "      <td>4.4</td>\n",
       "      <td>11 Reviews</td>\n",
       "      <td>Ho Chi Minh</td>\n",
       "      <td>Product</td>\n",
       "      <td>501-1000</td>\n",
       "      <td>Australia</td>\n",
       "      <td>Monday - Friday</td>\n",
       "      <td>No OT</td>\n",
       "      <td>NAB in collaboration with Positive Thinking Co...</td>\n",
       "      <td>Languages &amp;amp; Frameworks\\n\\n\\nJavaScript ES6...</td>\n",
       "      <td>THE BENEFITS AND PERKS\\n\\n\\n\\n\\nVery competiti...</td>\n",
       "      <td>https://itviec.com/rails/active_storage/repres...</td>\n",
       "    </tr>\n",
       "    <tr>\n",
       "      <th>2</th>\n",
       "      <td>robert-bosch-engineering-and-business-solutions</td>\n",
       "      <td>Robert Bosch Engineering And Business Solutions</td>\n",
       "      <td>3.2</td>\n",
       "      <td>217 Reviews</td>\n",
       "      <td>Ho Chi Minh, Ha Noi</td>\n",
       "      <td>Product</td>\n",
       "      <td>1-50</td>\n",
       "      <td>Germany</td>\n",
       "      <td>Monday - Friday</td>\n",
       "      <td>No OT</td>\n",
       "      <td>Robert BOSCH Engineering and Business Solution...</td>\n",
       "      <td>Embedded Software for Automotive Applications\\...</td>\n",
       "      <td>Why \\nBOSCH\\n?\\n\\nBecause we don't just follow...</td>\n",
       "      <td>https://itviec.com/rails/active_storage/repres...</td>\n",
       "    </tr>\n",
       "    <tr>\n",
       "      <th>3</th>\n",
       "      <td>gft-technologies-vietnam</td>\n",
       "      <td>GFT Technologies Vietnam</td>\n",
       "      <td>NaN</td>\n",
       "      <td>Reviews</td>\n",
       "      <td>Ho Chi Minh, Ha Noi</td>\n",
       "      <td>Outsourcing</td>\n",
       "      <td>51-150</td>\n",
       "      <td>Germany</td>\n",
       "      <td>Monday - Friday</td>\n",
       "      <td>No OT</td>\n",
       "      <td>Working at GFT Vietnam\\n\\n\\nGFT is driving the...</td>\n",
       "      <td>Technical frameworks\\n\\n\\nJava/Kotlin, Spring ...</td>\n",
       "      <td>HR benefits\\n\\n\\n\\n\\nCompetitive salary\\n\\n\\nS...</td>\n",
       "      <td>https://itviec.com/rails/active_storage/repres...</td>\n",
       "    </tr>\n",
       "    <tr>\n",
       "      <th>4</th>\n",
       "      <td>tyme</td>\n",
       "      <td>Tyme</td>\n",
       "      <td>4.6</td>\n",
       "      <td>29 Reviews</td>\n",
       "      <td>Ho Chi Minh, Ha Noi</td>\n",
       "      <td>Product</td>\n",
       "      <td>151-300</td>\n",
       "      <td>Vietnam</td>\n",
       "      <td>Monday - Friday</td>\n",
       "      <td>No OT</td>\n",
       "      <td>Tyme Vietnam\\n is the international arm of \\nT...</td>\n",
       "      <td>Mobile/ Tablet Development: \\nNative Android/i...</td>\n",
       "      <td>Our goal is simple: to be the #1 digital techn...</td>\n",
       "      <td>https://itviec.com/rails/active_storage/repres...</td>\n",
       "    </tr>\n",
       "  </tbody>\n",
       "</table>\n",
       "</div>"
      ],
      "text/plain": [
       "                                          company_id  \\\n",
       "0                                     kms-technology   \n",
       "1  nab-in-collaboration-with-positive-thinking-co...   \n",
       "2    robert-bosch-engineering-and-business-solutions   \n",
       "3                           gft-technologies-vietnam   \n",
       "4                                               tyme   \n",
       "\n",
       "                                        company_name  average_rating  \\\n",
       "0                                     KMS Technology             4.0   \n",
       "1  NAB in collaboration with Positive Thinking Co...             4.4   \n",
       "2    Robert Bosch Engineering And Business Solutions             3.2   \n",
       "3                           GFT Technologies Vietnam             NaN   \n",
       "4                                               Tyme             4.6   \n",
       "\n",
       "    num_review                          city         type num_employee  \\\n",
       "0  197 Reviews  Ho Chi Minh, Da Nang, Ha Noi  Outsourcing        1000+   \n",
       "1   11 Reviews                   Ho Chi Minh      Product     501-1000   \n",
       "2  217 Reviews           Ho Chi Minh, Ha Noi      Product         1-50   \n",
       "3      Reviews           Ho Chi Minh, Ha Noi  Outsourcing       51-150   \n",
       "4   29 Reviews           Ho Chi Minh, Ha Noi      Product      151-300   \n",
       "\n",
       "         country      working_day     OT  \\\n",
       "0  United States  Monday - Friday  No OT   \n",
       "1      Australia  Monday - Friday  No OT   \n",
       "2        Germany  Monday - Friday  No OT   \n",
       "3        Germany  Monday - Friday  No OT   \n",
       "4        Vietnam  Monday - Friday  No OT   \n",
       "\n",
       "                                            overview  \\\n",
       "0  Established in 2009, KMS Technology is a U.S.-...   \n",
       "1  NAB in collaboration with Positive Thinking Co...   \n",
       "2  Robert BOSCH Engineering and Business Solution...   \n",
       "3  Working at GFT Vietnam\\n\\n\\nGFT is driving the...   \n",
       "4  Tyme Vietnam\\n is the international arm of \\nT...   \n",
       "\n",
       "                                           expertise  \\\n",
       "0                                                NaN   \n",
       "1  Languages &amp; Frameworks\\n\\n\\nJavaScript ES6...   \n",
       "2  Embedded Software for Automotive Applications\\...   \n",
       "3  Technical frameworks\\n\\n\\nJava/Kotlin, Spring ...   \n",
       "4  Mobile/ Tablet Development: \\nNative Android/i...   \n",
       "\n",
       "                                             benifit  \\\n",
       "0  Want to be the Best? Join KMS!\\n\\n\\nIt’s posit...   \n",
       "1  THE BENEFITS AND PERKS\\n\\n\\n\\n\\nVery competiti...   \n",
       "2  Why \\nBOSCH\\n?\\n\\nBecause we don't just follow...   \n",
       "3  HR benefits\\n\\n\\n\\n\\nCompetitive salary\\n\\n\\nS...   \n",
       "4  Our goal is simple: to be the #1 digital techn...   \n",
       "\n",
       "                                           logo_link  \n",
       "0  https://itviec.com/rails/active_storage/repres...  \n",
       "1  https://itviec.com/rails/active_storage/repres...  \n",
       "2  https://itviec.com/rails/active_storage/repres...  \n",
       "3  https://itviec.com/rails/active_storage/repres...  \n",
       "4  https://itviec.com/rails/active_storage/repres...  "
      ]
     },
     "execution_count": 201,
     "metadata": {},
     "output_type": "execute_result"
    }
   ],
   "source": [
    "companies_df = pd.read_csv('dataset/companies.csv')\n",
    "companies_df.head()"
   ]
  },
  {
   "cell_type": "markdown",
   "id": "retained-advance",
   "metadata": {},
   "source": [
    "#### Số lượng dòng và cột"
   ]
  },
  {
   "cell_type": "code",
   "execution_count": 202,
   "id": "introductory-preference",
   "metadata": {},
   "outputs": [
    {
     "name": "stdout",
     "output_type": "stream",
     "text": [
      "Number of rows: 2041\n",
      "Number of columns: 14\n"
     ]
    }
   ],
   "source": [
    "print('Number of rows: {}\\nNumber of columns: {}'.format(*companies_df.shape))"
   ]
  },
  {
   "cell_type": "markdown",
   "id": "colonial-amateur",
   "metadata": {},
   "source": [
    "#### Các dòng có ý nghĩa gì?\n",
    "Mỗi dòng chứa thông tin của một công ty dựa theo trang ITviec. Mỗi công ty có một ID duy nhất."
   ]
  },
  {
   "cell_type": "markdown",
   "id": "valued-august",
   "metadata": {},
   "source": [
    "Kiểm tra có dòng nào bị lặp hay không."
   ]
  },
  {
   "cell_type": "code",
   "execution_count": 203,
   "id": "seeing-scholar",
   "metadata": {},
   "outputs": [
    {
     "data": {
      "text/plain": [
       "False"
      ]
     },
     "execution_count": 203,
     "metadata": {},
     "output_type": "execute_result"
    }
   ],
   "source": [
    "companies_df.duplicated().sum() != 0"
   ]
  },
  {
   "cell_type": "markdown",
   "id": "democratic-sunset",
   "metadata": {},
   "source": [
    "Kiểm tra có ID công ty nào bị lặp hay không."
   ]
  },
  {
   "cell_type": "code",
   "execution_count": 204,
   "id": "concrete-shakespeare",
   "metadata": {},
   "outputs": [
    {
     "data": {
      "text/plain": [
       "False"
      ]
     },
     "execution_count": 204,
     "metadata": {},
     "output_type": "execute_result"
    }
   ],
   "source": [
    "companies_df.duplicated('company_id').sum() != 0"
   ]
  },
  {
   "cell_type": "markdown",
   "id": "judicial-executive",
   "metadata": {},
   "source": [
    "#### Các cột có ý nghĩa gì?\n",
    "Tác giả của bộ dữ liệu không mô tả chi tiết về ý nghĩa của các một mà chỉ nói \"The column names are self-explained\". Do đó ta phải tự suy luận về ý nghĩa của các cột:\n",
    "* `company_id`: ID của công ty\n",
    "* `company_name`: tên công ty\n",
    "* `average_rating`: số điểm rating trung bình của công ty trên thang điểm 5\n",
    "* `num_review`: số lượt review công ty\n",
    "* `city`: thành phố\n",
    "* `type`: loại hình công ty (outsourcing hay product)\n",
    "* `num_employee`: số lượng nhân viên\n",
    "* `country`: quốc gia\n",
    "* `working_day`: ngày làm việc trong tuần\n",
    "* `OT`: các chính sách về làm thêm giờ\n",
    "* `overview`: tổng quan về công ty\n",
    "* `expertise`: lĩnh vực chuyên ngành\n",
    "* `benifit` (sai chính tả, phải là `benefit`): lợi ích khi tham gia công ty\n",
    "* `logo_link`: đường dẫn đến logo công ty\n",
    "\n",
    "Có một vấn đề về ý nghĩa các cột: cột `city` không thống nhất với cột `country` (có công ty có thành phố là `Ho Chi Minh` nhưng quốc gia là `Australia`). Do các công ty có thể có nhiều trụ sở đặt ở nhiều quốc gia, trong cùng quốc gia cũng được đặt ở nhiều thành phố khác nhau, cho nên trong các bước phân tích tiếp theo ta sẽ giả sử hai cột `city` và `country` có ý nghĩa như sau:\n",
    "* Cột `city` chứa các thành phố ở Việt Nam nơi các văn phòng của công ty được đặt.\n",
    "* Cột `country` chứa quốc gia nơi trụ sở chính của công ty được đặt.\n",
    "\n",
    "Các cột còn lại đều có ý nghĩa rõ ràng, không có gì gây khó hiểu."
   ]
  },
  {
   "cell_type": "markdown",
   "id": "major-flavor",
   "metadata": {},
   "source": [
    "Trước khi đến bước phân tích tiếp theo, ta thực hiện một số thay đổi về các cột như sau:\n",
    "* Đổi tên các cột cho hợp lý:\n",
    "    * Đổi tên cột `benifit` bị sai chính tả\n",
    "    * Đổi tên cột `city`, `num_review`, `num_employee` và `working_day` thành số nhiều\n",
    "    * Đổi tên cột `OT` thành `overtime` để thống nhất với các tên cột còn lại\n",
    "* Loại bỏ cột `logo_link` do không cần thiết"
   ]
  },
  {
   "cell_type": "code",
   "execution_count": 205,
   "id": "convinced-honolulu",
   "metadata": {},
   "outputs": [],
   "source": [
    "companies_df.rename(columns={'benifit': 'benefit',\n",
    "                             'city': 'cities',\n",
    "                             'num_review': 'num_reviews',\n",
    "                             'num_employee': 'num_employees',\n",
    "                             'working_day': 'working_days',\n",
    "                             'OT': 'overtime'}, inplace=True)\n",
    "companies_df.drop(columns='logo_link', inplace=True)"
   ]
  },
  {
   "cell_type": "markdown",
   "id": "practical-appointment",
   "metadata": {},
   "source": [
    "#### Mỗi cột có kiểu dữ liệu thế nào và có phù hợp để xử lý tiếp không?"
   ]
  },
  {
   "cell_type": "code",
   "execution_count": 206,
   "id": "available-review",
   "metadata": {},
   "outputs": [
    {
     "data": {
      "text/plain": [
       "company_id         object\n",
       "company_name       object\n",
       "average_rating    float64\n",
       "num_reviews        object\n",
       "cities             object\n",
       "type               object\n",
       "num_employees      object\n",
       "country            object\n",
       "working_days       object\n",
       "overtime           object\n",
       "overview           object\n",
       "expertise          object\n",
       "benefit            object\n",
       "dtype: object"
      ]
     },
     "execution_count": 206,
     "metadata": {},
     "output_type": "execute_result"
    }
   ],
   "source": [
    "companies_df.dtypes"
   ]
  },
  {
   "cell_type": "markdown",
   "id": "standing-symposium",
   "metadata": {},
   "source": [
    "Có hai cột có thể phải cân nhắc chuyển về dạng số là `num_reviews` và `num_employees`. Các cột khác đều đã có kiểu dữ liệu phù hợp.\n",
    "\n",
    "Đối với cột `num_employees`, dữ liệu của ta được thu thập theo dạng một khoảng giá trị. Việc chuyển đổi cột này về dạng số hay không phụ thuộc vào phân tích nào mà ta đang thực hiện. Do đó tạm thời ở bước này ta không thay đổi cột `num_employees`."
   ]
  },
  {
   "cell_type": "code",
   "execution_count": 207,
   "id": "dressed-force",
   "metadata": {},
   "outputs": [
    {
     "data": {
      "text/plain": [
       "array(['1000+', '501-1000', '1-50', '51-150', '151-300', '301-500'],\n",
       "      dtype=object)"
      ]
     },
     "execution_count": 207,
     "metadata": {},
     "output_type": "execute_result"
    }
   ],
   "source": [
    "companies_df.num_employees.unique()"
   ]
  },
  {
   "cell_type": "markdown",
   "id": "shared-maryland",
   "metadata": {},
   "source": [
    "Đối với `num_reviews`, kiểm tra các giá trị unique của nó, ta thấy các giá trị đều có dạng: `\"<một số> Review[s]\"`, ngoại trừ giá trị duy nhất không tuân theo pattern này là `Reviews`. Vì vậy, ta có thể lấy ra giá trị số, lọc bỏ chuỗi ` Reviews` dư thừa và chuyển kiểu dữ liệu cột thành dạng float. Đối với giá trị `Reviews`, ta gán bằng NaN."
   ]
  },
  {
   "cell_type": "code",
   "execution_count": 208,
   "id": "middle-annual",
   "metadata": {},
   "outputs": [
    {
     "data": {
      "text/plain": [
       "array(['197 Reviews', '11 Reviews', '217 Reviews', 'Reviews',\n",
       "       '29 Reviews', '16 Reviews', '8 Reviews', '60 Reviews', '9 Reviews',\n",
       "       '127 Reviews', '6 Reviews', '34 Reviews', '3 Reviews',\n",
       "       '20 Reviews', '185 Reviews', '1486 Reviews', '57 Reviews',\n",
       "       '22 Reviews', '68 Reviews', '1 Review', '21 Reviews', '12 Reviews',\n",
       "       '23 Reviews', '7 Reviews', '17 Reviews', '5 Reviews', '96 Reviews',\n",
       "       '37 Reviews', '207 Reviews', '109 Reviews', '4 Reviews',\n",
       "       '33 Reviews', '76 Reviews', '18 Reviews', '10 Reviews',\n",
       "       '2 Reviews', '65 Reviews', '15 Reviews', '41 Reviews',\n",
       "       '19 Reviews', '27 Reviews', '13 Reviews', '26 Reviews',\n",
       "       '42 Reviews', '183 Reviews', '24 Reviews', '54 Reviews',\n",
       "       '14 Reviews', '38 Reviews', '451 Reviews', '28 Reviews',\n",
       "       '36 Reviews', '52 Reviews', '31 Reviews', '92 Reviews',\n",
       "       '30 Reviews', '86 Reviews', '32 Reviews', '25 Reviews',\n",
       "       '43 Reviews', '46 Reviews', '97 Reviews', '44 Reviews',\n",
       "       '226 Reviews', '179 Reviews', '66 Reviews', '45 Reviews',\n",
       "       '49 Reviews', '58 Reviews', '232 Reviews', '87 Reviews'],\n",
       "      dtype=object)"
      ]
     },
     "execution_count": 208,
     "metadata": {},
     "output_type": "execute_result"
    }
   ],
   "source": [
    "companies_df.num_reviews.unique()"
   ]
  },
  {
   "cell_type": "code",
   "execution_count": 209,
   "id": "minute-picking",
   "metadata": {},
   "outputs": [
    {
     "data": {
      "text/plain": [
       "array([1.970e+02, 1.100e+01, 2.170e+02,       nan, 2.900e+01, 1.600e+01,\n",
       "       8.000e+00, 6.000e+01, 9.000e+00, 1.270e+02, 6.000e+00, 3.400e+01,\n",
       "       3.000e+00, 2.000e+01, 1.850e+02, 1.486e+03, 5.700e+01, 2.200e+01,\n",
       "       6.800e+01, 1.000e+00, 2.100e+01, 1.200e+01, 2.300e+01, 7.000e+00,\n",
       "       1.700e+01, 5.000e+00, 9.600e+01, 3.700e+01, 2.070e+02, 1.090e+02,\n",
       "       4.000e+00, 3.300e+01, 7.600e+01, 1.800e+01, 1.000e+01, 2.000e+00,\n",
       "       6.500e+01, 1.500e+01, 4.100e+01, 1.900e+01, 2.700e+01, 1.300e+01,\n",
       "       2.600e+01, 4.200e+01, 1.830e+02, 2.400e+01, 5.400e+01, 1.400e+01,\n",
       "       3.800e+01, 4.510e+02, 2.800e+01, 3.600e+01, 5.200e+01, 3.100e+01,\n",
       "       9.200e+01, 3.000e+01, 8.600e+01, 3.200e+01, 2.500e+01, 4.300e+01,\n",
       "       4.600e+01, 9.700e+01, 4.400e+01, 2.260e+02, 1.790e+02, 6.600e+01,\n",
       "       4.500e+01, 4.900e+01, 5.800e+01, 2.320e+02, 8.700e+01])"
      ]
     },
     "execution_count": 209,
     "metadata": {},
     "output_type": "execute_result"
    }
   ],
   "source": [
    "import re\n",
    "def get_num_reviews(x):\n",
    "    result = re.match('^(\\d+) Reviews?$', x)\n",
    "    return float(result.group(1)) if result != None else np.nan\n",
    "companies_df.num_reviews = companies_df.num_reviews.map(get_num_reviews, na_action='ignore')\n",
    "companies_df.num_reviews.unique()"
   ]
  },
  {
   "cell_type": "markdown",
   "id": "detailed-korea",
   "metadata": {},
   "source": [
    "#### Với mỗi cột kiểu dữ liệu dạng số, các giá trị được phân bố như thế nào?"
   ]
  },
  {
   "cell_type": "code",
   "execution_count": 210,
   "id": "juvenile-feedback",
   "metadata": {},
   "outputs": [],
   "source": [
    "numerical_columns = ['average_rating', 'num_reviews']\n",
    "categorical_columns = companies_df.columns.to_list()\n",
    "categorical_columns.remove('average_rating')\n",
    "categorical_columns.remove('num_reviews')"
   ]
  },
  {
   "cell_type": "code",
   "execution_count": 211,
   "id": "bottom-traveler",
   "metadata": {},
   "outputs": [
    {
     "data": {
      "text/html": [
       "<div>\n",
       "<style scoped>\n",
       "    .dataframe tbody tr th:only-of-type {\n",
       "        vertical-align: middle;\n",
       "    }\n",
       "\n",
       "    .dataframe tbody tr th {\n",
       "        vertical-align: top;\n",
       "    }\n",
       "\n",
       "    .dataframe thead th {\n",
       "        text-align: right;\n",
       "    }\n",
       "</style>\n",
       "<table border=\"1\" class=\"dataframe\">\n",
       "  <thead>\n",
       "    <tr style=\"text-align: right;\">\n",
       "      <th></th>\n",
       "      <th>average_rating</th>\n",
       "      <th>num_reviews</th>\n",
       "    </tr>\n",
       "  </thead>\n",
       "  <tbody>\n",
       "    <tr>\n",
       "      <th>count</th>\n",
       "      <td>563.000000</td>\n",
       "      <td>869.000000</td>\n",
       "    </tr>\n",
       "    <tr>\n",
       "      <th>mean</th>\n",
       "      <td>3.987034</td>\n",
       "      <td>12.989643</td>\n",
       "    </tr>\n",
       "    <tr>\n",
       "      <th>std</th>\n",
       "      <td>0.597378</td>\n",
       "      <td>57.202636</td>\n",
       "    </tr>\n",
       "    <tr>\n",
       "      <th>min</th>\n",
       "      <td>2.000000</td>\n",
       "      <td>1.000000</td>\n",
       "    </tr>\n",
       "    <tr>\n",
       "      <th>25%</th>\n",
       "      <td>3.600000</td>\n",
       "      <td>2.000000</td>\n",
       "    </tr>\n",
       "    <tr>\n",
       "      <th>50%</th>\n",
       "      <td>4.000000</td>\n",
       "      <td>4.000000</td>\n",
       "    </tr>\n",
       "    <tr>\n",
       "      <th>75%</th>\n",
       "      <td>4.400000</td>\n",
       "      <td>10.000000</td>\n",
       "    </tr>\n",
       "    <tr>\n",
       "      <th>max</th>\n",
       "      <td>5.000000</td>\n",
       "      <td>1486.000000</td>\n",
       "    </tr>\n",
       "  </tbody>\n",
       "</table>\n",
       "</div>"
      ],
      "text/plain": [
       "       average_rating  num_reviews\n",
       "count      563.000000   869.000000\n",
       "mean         3.987034    12.989643\n",
       "std          0.597378    57.202636\n",
       "min          2.000000     1.000000\n",
       "25%          3.600000     2.000000\n",
       "50%          4.000000     4.000000\n",
       "75%          4.400000    10.000000\n",
       "max          5.000000  1486.000000"
      ]
     },
     "execution_count": 211,
     "metadata": {},
     "output_type": "execute_result"
    }
   ],
   "source": [
    "companies_df[numerical_columns].describe()"
   ]
  },
  {
   "cell_type": "code",
   "execution_count": 212,
   "id": "joint-midwest",
   "metadata": {},
   "outputs": [
    {
     "data": {
      "text/plain": [
       "average_rating    72.415483\n",
       "num_reviews       57.422832\n",
       "dtype: float64"
      ]
     },
     "execution_count": 212,
     "metadata": {},
     "output_type": "execute_result"
    }
   ],
   "source": [
    "companies_df[numerical_columns].isna().sum() / companies_df[numerical_columns].shape[0] * 100"
   ]
  },
  {
   "cell_type": "markdown",
   "id": "expressed-chapter",
   "metadata": {},
   "source": [
    "Có thể thấy, số lượng giá trị thiếu của các cột số là khá lớn. Còn lại, các số liệu thống kê khác đều ổn, không có điều gì bất thường."
   ]
  },
  {
   "cell_type": "markdown",
   "id": "accepting-gibson",
   "metadata": {},
   "source": [
    "#### Với mỗi cột dạng phân loại, các giá trị được phân bố thế nào"
   ]
  },
  {
   "cell_type": "code",
   "execution_count": 213,
   "id": "exclusive-transparency",
   "metadata": {},
   "outputs": [
    {
     "data": {
      "text/html": [
       "<div>\n",
       "<style scoped>\n",
       "    .dataframe tbody tr th:only-of-type {\n",
       "        vertical-align: middle;\n",
       "    }\n",
       "\n",
       "    .dataframe tbody tr th {\n",
       "        vertical-align: top;\n",
       "    }\n",
       "\n",
       "    .dataframe thead th {\n",
       "        text-align: right;\n",
       "    }\n",
       "</style>\n",
       "<table border=\"1\" class=\"dataframe\">\n",
       "  <thead>\n",
       "    <tr style=\"text-align: right;\">\n",
       "      <th></th>\n",
       "      <th>company_id</th>\n",
       "      <th>company_name</th>\n",
       "      <th>cities</th>\n",
       "      <th>type</th>\n",
       "      <th>num_employees</th>\n",
       "      <th>country</th>\n",
       "      <th>working_days</th>\n",
       "      <th>overtime</th>\n",
       "      <th>overview</th>\n",
       "      <th>expertise</th>\n",
       "      <th>benefit</th>\n",
       "    </tr>\n",
       "  </thead>\n",
       "  <tbody>\n",
       "    <tr>\n",
       "      <th>count</th>\n",
       "      <td>2041</td>\n",
       "      <td>2041</td>\n",
       "      <td>2041</td>\n",
       "      <td>2041</td>\n",
       "      <td>2041</td>\n",
       "      <td>2041</td>\n",
       "      <td>2026</td>\n",
       "      <td>1865</td>\n",
       "      <td>2040</td>\n",
       "      <td>477</td>\n",
       "      <td>1576</td>\n",
       "    </tr>\n",
       "    <tr>\n",
       "      <th>unique</th>\n",
       "      <td>2041</td>\n",
       "      <td>2041</td>\n",
       "      <td>71</td>\n",
       "      <td>2</td>\n",
       "      <td>6</td>\n",
       "      <td>39</td>\n",
       "      <td>2</td>\n",
       "      <td>4</td>\n",
       "      <td>2022</td>\n",
       "      <td>474</td>\n",
       "      <td>1573</td>\n",
       "    </tr>\n",
       "    <tr>\n",
       "      <th>top</th>\n",
       "      <td>kms-technology</td>\n",
       "      <td>KMS Technology</td>\n",
       "      <td>District 1, Ho Chi Minh</td>\n",
       "      <td>Product</td>\n",
       "      <td>1-50</td>\n",
       "      <td>Vietnam</td>\n",
       "      <td>Monday - Friday</td>\n",
       "      <td>No OT</td>\n",
       "      <td>.</td>\n",
       "      <td>C++, VC++, C# .NET Framework Web Framework Jav...</td>\n",
       "      <td>Salary: Competitive (based on skills and exper...</td>\n",
       "    </tr>\n",
       "    <tr>\n",
       "      <th>freq</th>\n",
       "      <td>1</td>\n",
       "      <td>1</td>\n",
       "      <td>190</td>\n",
       "      <td>1534</td>\n",
       "      <td>1054</td>\n",
       "      <td>1202</td>\n",
       "      <td>1855</td>\n",
       "      <td>1589</td>\n",
       "      <td>12</td>\n",
       "      <td>2</td>\n",
       "      <td>2</td>\n",
       "    </tr>\n",
       "  </tbody>\n",
       "</table>\n",
       "</div>"
      ],
      "text/plain": [
       "            company_id    company_name                   cities     type  \\\n",
       "count             2041            2041                     2041     2041   \n",
       "unique            2041            2041                       71        2   \n",
       "top     kms-technology  KMS Technology  District 1, Ho Chi Minh  Product   \n",
       "freq                 1               1                      190     1534   \n",
       "\n",
       "       num_employees  country     working_days overtime overview  \\\n",
       "count           2041     2041             2026     1865     2040   \n",
       "unique             6       39                2        4     2022   \n",
       "top             1-50  Vietnam  Monday - Friday    No OT        .   \n",
       "freq            1054     1202             1855     1589       12   \n",
       "\n",
       "                                                expertise  \\\n",
       "count                                                 477   \n",
       "unique                                                474   \n",
       "top     C++, VC++, C# .NET Framework Web Framework Jav...   \n",
       "freq                                                    2   \n",
       "\n",
       "                                                  benefit  \n",
       "count                                                1576  \n",
       "unique                                               1573  \n",
       "top     Salary: Competitive (based on skills and exper...  \n",
       "freq                                                    2  "
      ]
     },
     "execution_count": 213,
     "metadata": {},
     "output_type": "execute_result"
    }
   ],
   "source": [
    "desc = companies_df[categorical_columns].describe()\n",
    "desc"
   ]
  },
  {
   "cell_type": "markdown",
   "id": "nervous-special",
   "metadata": {},
   "source": [
    "Tỷ lệ giá trị thiếu"
   ]
  },
  {
   "cell_type": "code",
   "execution_count": 214,
   "id": "hired-cherry",
   "metadata": {},
   "outputs": [
    {
     "data": {
      "text/plain": [
       "company_id             0.0\n",
       "company_name           0.0\n",
       "cities                 0.0\n",
       "type                   0.0\n",
       "num_employees          0.0\n",
       "country                0.0\n",
       "working_days      0.734934\n",
       "overtime          8.623224\n",
       "overview          0.048996\n",
       "expertise        76.629103\n",
       "benefit           22.78295\n",
       "Name: count, dtype: object"
      ]
     },
     "execution_count": 214,
     "metadata": {},
     "output_type": "execute_result"
    }
   ],
   "source": [
    "(1 - desc.loc['count'] / companies_df.shape[0]) * 100"
   ]
  },
  {
   "cell_type": "markdown",
   "id": "exposed-classroom",
   "metadata": {},
   "source": [
    "Một số giá trị ngẫu nhiên"
   ]
  },
  {
   "cell_type": "code",
   "execution_count": 215,
   "id": "needed-parliament",
   "metadata": {},
   "outputs": [
    {
     "data": {
      "text/html": [
       "<div>\n",
       "<style scoped>\n",
       "    .dataframe tbody tr th:only-of-type {\n",
       "        vertical-align: middle;\n",
       "    }\n",
       "\n",
       "    .dataframe tbody tr th {\n",
       "        vertical-align: top;\n",
       "    }\n",
       "\n",
       "    .dataframe thead th {\n",
       "        text-align: right;\n",
       "    }\n",
       "</style>\n",
       "<table border=\"1\" class=\"dataframe\">\n",
       "  <thead>\n",
       "    <tr style=\"text-align: right;\">\n",
       "      <th></th>\n",
       "      <th>company_id</th>\n",
       "      <th>company_name</th>\n",
       "      <th>cities</th>\n",
       "      <th>type</th>\n",
       "      <th>num_employees</th>\n",
       "      <th>country</th>\n",
       "      <th>working_days</th>\n",
       "      <th>overtime</th>\n",
       "      <th>overview</th>\n",
       "      <th>expertise</th>\n",
       "      <th>benefit</th>\n",
       "    </tr>\n",
       "  </thead>\n",
       "  <tbody>\n",
       "    <tr>\n",
       "      <th>400</th>\n",
       "      <td>ecotek</td>\n",
       "      <td>Ecotek</td>\n",
       "      <td>Ha Noi, Others</td>\n",
       "      <td>Product</td>\n",
       "      <td>1-50</td>\n",
       "      <td>Vietnam</td>\n",
       "      <td>Monday - Friday</td>\n",
       "      <td>No OT</td>\n",
       "      <td>Ecotek was founded in 2018 under Ecopark Group...</td>\n",
       "      <td>NaN</td>\n",
       "      <td>NaN</td>\n",
       "    </tr>\n",
       "    <tr>\n",
       "      <th>1206</th>\n",
       "      <td>alliex-vietnam</td>\n",
       "      <td>Alliex Vietnam</td>\n",
       "      <td>Nam Tu Liem, Ha Noi</td>\n",
       "      <td>Product</td>\n",
       "      <td>51-150</td>\n",
       "      <td>Korea, Republic of</td>\n",
       "      <td>Monday - Friday</td>\n",
       "      <td>No OT</td>\n",
       "      <td>We provide card processing system development,...</td>\n",
       "      <td>NaN</td>\n",
       "      <td>NaN</td>\n",
       "    </tr>\n",
       "    <tr>\n",
       "      <th>1307</th>\n",
       "      <td>ariadirect</td>\n",
       "      <td>AriaDirect</td>\n",
       "      <td>Phu Nhuan, Ho Chi Minh</td>\n",
       "      <td>Product</td>\n",
       "      <td>1-50</td>\n",
       "      <td>United States</td>\n",
       "      <td>Monday - Friday</td>\n",
       "      <td>No OT</td>\n",
       "      <td>Elevate your travel experience into the future...</td>\n",
       "      <td>NaN</td>\n",
       "      <td>- Well compensation package based on performan...</td>\n",
       "    </tr>\n",
       "    <tr>\n",
       "      <th>1424</th>\n",
       "      <td>teamobi</td>\n",
       "      <td>Teamobi</td>\n",
       "      <td>Binh Thanh, Ho Chi Minh</td>\n",
       "      <td>Product</td>\n",
       "      <td>51-150</td>\n",
       "      <td>Vietnam</td>\n",
       "      <td>Monday - Friday</td>\n",
       "      <td>No OT</td>\n",
       "      <td>TEAMOBI là một công ty trẻ, hoạt động chuyên n...</td>\n",
       "      <td>NaN</td>\n",
       "      <td>NaN</td>\n",
       "    </tr>\n",
       "    <tr>\n",
       "      <th>2004</th>\n",
       "      <td>ab-media</td>\n",
       "      <td>AB MEDIA</td>\n",
       "      <td>Hai Chau, Da Nang</td>\n",
       "      <td>Product</td>\n",
       "      <td>51-150</td>\n",
       "      <td>Vietnam</td>\n",
       "      <td>Monday - Friday</td>\n",
       "      <td>No OT</td>\n",
       "      <td>AB Media với mong muốn đem lại những giá trị l...</td>\n",
       "      <td>NaN</td>\n",
       "      <td>Salary and benefits\\n\\n\\n\\n\\n\\nSalary can be d...</td>\n",
       "    </tr>\n",
       "    <tr>\n",
       "      <th>876</th>\n",
       "      <td>quantic</td>\n",
       "      <td>Quantic</td>\n",
       "      <td>Phu Nhuan, Ho Chi Minh</td>\n",
       "      <td>Outsourcing</td>\n",
       "      <td>51-150</td>\n",
       "      <td>Vietnam</td>\n",
       "      <td>Monday - Friday</td>\n",
       "      <td>No OT</td>\n",
       "      <td>Quantic is a leading company in Vietnam which ...</td>\n",
       "      <td>NaN</td>\n",
       "      <td>Successful candidates will have the following ...</td>\n",
       "    </tr>\n",
       "    <tr>\n",
       "      <th>1448</th>\n",
       "      <td>zynovo</td>\n",
       "      <td>Zynovo</td>\n",
       "      <td>Dong Da, Ha Noi</td>\n",
       "      <td>Product</td>\n",
       "      <td>1-50</td>\n",
       "      <td>United States</td>\n",
       "      <td>Monday - Friday</td>\n",
       "      <td>No OT</td>\n",
       "      <td>Based in Los Angeles, Zynovo is a fast-growing...</td>\n",
       "      <td>NaN</td>\n",
       "      <td>Competitive pay and bonuses\\n\\n\\nPerformance i...</td>\n",
       "    </tr>\n",
       "    <tr>\n",
       "      <th>1433</th>\n",
       "      <td>playstudios</td>\n",
       "      <td>PLAYSTUDIOS</td>\n",
       "      <td>Cau Giay, Ha Noi</td>\n",
       "      <td>Product</td>\n",
       "      <td>151-300</td>\n",
       "      <td>United States</td>\n",
       "      <td>Monday - Friday</td>\n",
       "      <td>No OT</td>\n",
       "      <td>PLAYSTUDIOS VIETNAM is a Vietnam subsidiary of...</td>\n",
       "      <td>NaN</td>\n",
       "      <td>Work directly with a team of young and talente...</td>\n",
       "    </tr>\n",
       "  </tbody>\n",
       "</table>\n",
       "</div>"
      ],
      "text/plain": [
       "          company_id    company_name                   cities         type  \\\n",
       "400           ecotek          Ecotek           Ha Noi, Others      Product   \n",
       "1206  alliex-vietnam  Alliex Vietnam      Nam Tu Liem, Ha Noi      Product   \n",
       "1307      ariadirect      AriaDirect   Phu Nhuan, Ho Chi Minh      Product   \n",
       "1424         teamobi         Teamobi  Binh Thanh, Ho Chi Minh      Product   \n",
       "2004        ab-media        AB MEDIA        Hai Chau, Da Nang      Product   \n",
       "876          quantic         Quantic   Phu Nhuan, Ho Chi Minh  Outsourcing   \n",
       "1448          zynovo          Zynovo          Dong Da, Ha Noi      Product   \n",
       "1433     playstudios     PLAYSTUDIOS         Cau Giay, Ha Noi      Product   \n",
       "\n",
       "     num_employees             country     working_days overtime  \\\n",
       "400           1-50             Vietnam  Monday - Friday    No OT   \n",
       "1206        51-150  Korea, Republic of  Monday - Friday    No OT   \n",
       "1307          1-50       United States  Monday - Friday    No OT   \n",
       "1424        51-150             Vietnam  Monday - Friday    No OT   \n",
       "2004        51-150             Vietnam  Monday - Friday    No OT   \n",
       "876         51-150             Vietnam  Monday - Friday    No OT   \n",
       "1448          1-50       United States  Monday - Friday    No OT   \n",
       "1433       151-300       United States  Monday - Friday    No OT   \n",
       "\n",
       "                                               overview expertise  \\\n",
       "400   Ecotek was founded in 2018 under Ecopark Group...       NaN   \n",
       "1206  We provide card processing system development,...       NaN   \n",
       "1307  Elevate your travel experience into the future...       NaN   \n",
       "1424  TEAMOBI là một công ty trẻ, hoạt động chuyên n...       NaN   \n",
       "2004  AB Media với mong muốn đem lại những giá trị l...       NaN   \n",
       "876   Quantic is a leading company in Vietnam which ...       NaN   \n",
       "1448  Based in Los Angeles, Zynovo is a fast-growing...       NaN   \n",
       "1433  PLAYSTUDIOS VIETNAM is a Vietnam subsidiary of...       NaN   \n",
       "\n",
       "                                                benefit  \n",
       "400                                                 NaN  \n",
       "1206                                                NaN  \n",
       "1307  - Well compensation package based on performan...  \n",
       "1424                                                NaN  \n",
       "2004  Salary and benefits\\n\\n\\n\\n\\n\\nSalary can be d...  \n",
       "876   Successful candidates will have the following ...  \n",
       "1448  Competitive pay and bonuses\\n\\n\\nPerformance i...  \n",
       "1433  Work directly with a team of young and talente...  "
      ]
     },
     "execution_count": 215,
     "metadata": {},
     "output_type": "execute_result"
    }
   ],
   "source": [
    "companies_df[categorical_columns].sample(8)"
   ]
  },
  {
   "cell_type": "markdown",
   "id": "heard-testing",
   "metadata": {},
   "source": [
    "Có thể thấy dữ liệu dạng phân loại khá đầy đủ (ngoại trừ cột `expertise` số lượng giá trị thiếu lên đến 70%)."
   ]
  },
  {
   "cell_type": "markdown",
   "id": "7a6f95ff",
   "metadata": {},
   "source": [
    "### 2.2.2 `jobs`"
   ]
  },
  {
   "cell_type": "markdown",
   "id": "3e5a417a",
   "metadata": {},
   "source": [
    "#### Nạp dữ liệu"
   ]
  },
  {
   "cell_type": "code",
   "execution_count": 216,
   "id": "8c1b72bd",
   "metadata": {},
   "outputs": [
    {
     "data": {
      "text/html": [
       "<div>\n",
       "<style scoped>\n",
       "    .dataframe tbody tr th:only-of-type {\n",
       "        vertical-align: middle;\n",
       "    }\n",
       "\n",
       "    .dataframe tbody tr th {\n",
       "        vertical-align: top;\n",
       "    }\n",
       "\n",
       "    .dataframe thead th {\n",
       "        text-align: right;\n",
       "    }\n",
       "</style>\n",
       "<table border=\"1\" class=\"dataframe\">\n",
       "  <thead>\n",
       "    <tr style=\"text-align: right;\">\n",
       "      <th></th>\n",
       "      <th>job_id</th>\n",
       "      <th>company_id</th>\n",
       "      <th>job_name</th>\n",
       "      <th>taglist</th>\n",
       "      <th>location</th>\n",
       "      <th>three_reasons</th>\n",
       "      <th>description</th>\n",
       "    </tr>\n",
       "  </thead>\n",
       "  <tbody>\n",
       "    <tr>\n",
       "      <th>0</th>\n",
       "      <td>kms-technology:jrsr_qa_engineer_kms_labs_bonus</td>\n",
       "      <td>kms-technology</td>\n",
       "      <td>(Jr/Sr) QA Engineer, KMS Labs - BONUS</td>\n",
       "      <td>QA QC   English   Tester</td>\n",
       "      <td>290/26 Nam Ky Khoi Nghia, ward 8, District 3, ...</td>\n",
       "      <td>Inspired Leadership Team and Talented Colleagu...</td>\n",
       "      <td>KMS Labs is the startup incubation arm of KMS ...</td>\n",
       "    </tr>\n",
       "    <tr>\n",
       "      <th>1</th>\n",
       "      <td>kms-technology:engineering_manager_bonus</td>\n",
       "      <td>kms-technology</td>\n",
       "      <td>Engineering Manager - BONUS</td>\n",
       "      <td>Project Manager   Agile   English</td>\n",
       "      <td>02 Tan Vien, ward 2, Tan Binh, Ho Chi Minh</td>\n",
       "      <td>Inspired Leadership Team and Talented Colleagu...</td>\n",
       "      <td>Full 13th Month Salary. ***Apply and Join in S...</td>\n",
       "    </tr>\n",
       "    <tr>\n",
       "      <th>2</th>\n",
       "      <td>kms-technology:fullstack_mobile_mobilenodejs_k...</td>\n",
       "      <td>kms-technology</td>\n",
       "      <td>Fullstack Mobile (Mobile,NodeJs) Kobiton</td>\n",
       "      <td>NodeJS   React Native   Fresher Accepted</td>\n",
       "      <td>02 Tan Vien, ward 2, Tan Binh, Ho Chi Minh</td>\n",
       "      <td>Inspired Leadership Team and Talented Colleagu...</td>\n",
       "      <td>is the mobile experience platform trusted by l...</td>\n",
       "    </tr>\n",
       "    <tr>\n",
       "      <th>3</th>\n",
       "      <td>kms-technology:jrsrprincipal_java_developer_bonus</td>\n",
       "      <td>kms-technology</td>\n",
       "      <td>(Jr/Sr/Principal) Java Developer- BONUS</td>\n",
       "      <td>Java   JavaScript   Spring</td>\n",
       "      <td>174 Thai Ha, Dong Da, Ha Noi</td>\n",
       "      <td>Inspired Leadership Team and Talented Colleagu...</td>\n",
       "      <td>Full 13th Month Salary ***Apply and Join in Se...</td>\n",
       "    </tr>\n",
       "    <tr>\n",
       "      <th>4</th>\n",
       "      <td>kms-technology:product_manager_kms_labs_bonus</td>\n",
       "      <td>kms-technology</td>\n",
       "      <td>Product Manager, KMS Labs - BONUS</td>\n",
       "      <td>Product Manager   English   Manager</td>\n",
       "      <td>290/26 Nam Ky Khoi Nghia, ward 8, District 3, ...</td>\n",
       "      <td>Inspired Leadership Team and Talented Colleagu...</td>\n",
       "      <td>KMS Labs\\n is the startup incubation arm of KM...</td>\n",
       "    </tr>\n",
       "  </tbody>\n",
       "</table>\n",
       "</div>"
      ],
      "text/plain": [
       "                                              job_id      company_id  \\\n",
       "0     kms-technology:jrsr_qa_engineer_kms_labs_bonus  kms-technology   \n",
       "1           kms-technology:engineering_manager_bonus  kms-technology   \n",
       "2  kms-technology:fullstack_mobile_mobilenodejs_k...  kms-technology   \n",
       "3  kms-technology:jrsrprincipal_java_developer_bonus  kms-technology   \n",
       "4      kms-technology:product_manager_kms_labs_bonus  kms-technology   \n",
       "\n",
       "                                   job_name  \\\n",
       "0     (Jr/Sr) QA Engineer, KMS Labs - BONUS   \n",
       "1               Engineering Manager - BONUS   \n",
       "2  Fullstack Mobile (Mobile,NodeJs) Kobiton   \n",
       "3   (Jr/Sr/Principal) Java Developer- BONUS   \n",
       "4         Product Manager, KMS Labs - BONUS   \n",
       "\n",
       "                                      taglist  \\\n",
       "0                   QA QC   English   Tester    \n",
       "1          Project Manager   Agile   English    \n",
       "2   NodeJS   React Native   Fresher Accepted    \n",
       "3                 Java   JavaScript   Spring    \n",
       "4        Product Manager   English   Manager    \n",
       "\n",
       "                                            location  \\\n",
       "0  290/26 Nam Ky Khoi Nghia, ward 8, District 3, ...   \n",
       "1         02 Tan Vien, ward 2, Tan Binh, Ho Chi Minh   \n",
       "2         02 Tan Vien, ward 2, Tan Binh, Ho Chi Minh   \n",
       "3                       174 Thai Ha, Dong Da, Ha Noi   \n",
       "4  290/26 Nam Ky Khoi Nghia, ward 8, District 3, ...   \n",
       "\n",
       "                                       three_reasons  \\\n",
       "0  Inspired Leadership Team and Talented Colleagu...   \n",
       "1  Inspired Leadership Team and Talented Colleagu...   \n",
       "2  Inspired Leadership Team and Talented Colleagu...   \n",
       "3  Inspired Leadership Team and Talented Colleagu...   \n",
       "4  Inspired Leadership Team and Talented Colleagu...   \n",
       "\n",
       "                                         description  \n",
       "0  KMS Labs is the startup incubation arm of KMS ...  \n",
       "1  Full 13th Month Salary. ***Apply and Join in S...  \n",
       "2  is the mobile experience platform trusted by l...  \n",
       "3  Full 13th Month Salary ***Apply and Join in Se...  \n",
       "4  KMS Labs\\n is the startup incubation arm of KM...  "
      ]
     },
     "execution_count": 216,
     "metadata": {},
     "output_type": "execute_result"
    }
   ],
   "source": [
    "jobs_df = pd.read_csv('dataset/jobs.csv')\n",
    "jobs_df.head()"
   ]
  },
  {
   "cell_type": "markdown",
   "id": "d4b5e67d",
   "metadata": {},
   "source": [
    "#### Số lượng dòng và cột"
   ]
  },
  {
   "cell_type": "code",
   "execution_count": 217,
   "id": "d863156d",
   "metadata": {},
   "outputs": [
    {
     "name": "stdout",
     "output_type": "stream",
     "text": [
      "Number of rows:  1412\n",
      "Number of columns:  7\n"
     ]
    }
   ],
   "source": [
    "print('Number of rows: ', jobs_df.shape[0])\n",
    "print('Number of columns: ', jobs_df.shape[1])"
   ]
  },
  {
   "cell_type": "markdown",
   "id": "af58ba45",
   "metadata": {},
   "source": [
    "#### Mỗi dòng có ý nghĩa gì ?"
   ]
  },
  {
   "cell_type": "markdown",
   "id": "fe3a78e7",
   "metadata": {},
   "source": [
    "Mỗi dòng là thông tin của một công việc đang được đăng tin tuyển dụng trên ITViec."
   ]
  },
  {
   "cell_type": "markdown",
   "id": "973b3dc4",
   "metadata": {},
   "source": [
    "Mỗi dòng được phân biệt bởi `job_id`"
   ]
  },
  {
   "cell_type": "markdown",
   "id": "ecb18c49",
   "metadata": {},
   "source": [
    "#### Dữ liệu có bị lặp không?"
   ]
  },
  {
   "cell_type": "code",
   "execution_count": 218,
   "id": "c50a7ceb",
   "metadata": {},
   "outputs": [
    {
     "data": {
      "text/plain": [
       "False"
      ]
     },
     "execution_count": 218,
     "metadata": {},
     "output_type": "execute_result"
    }
   ],
   "source": [
    "jobs_df.duplicated().sum() != 0"
   ]
  },
  {
   "cell_type": "markdown",
   "id": "1ac90dc0",
   "metadata": {},
   "source": [
    "Như vậy dữ liệu không bị trùng lặp giữa các dòng."
   ]
  },
  {
   "cell_type": "markdown",
   "id": "716c7507",
   "metadata": {},
   "source": [
    "Kiểm tra cột `job_id` có bị lặp không?"
   ]
  },
  {
   "cell_type": "code",
   "execution_count": 219,
   "id": "e1073974",
   "metadata": {},
   "outputs": [
    {
     "data": {
      "text/plain": [
       "True"
      ]
     },
     "execution_count": 219,
     "metadata": {},
     "output_type": "execute_result"
    }
   ],
   "source": [
    "jobs_df.duplicated('job_id').sum() != 0"
   ]
  },
  {
   "cell_type": "markdown",
   "id": "e29010ab",
   "metadata": {},
   "source": [
    "Như vậy ở cột `job_id` có dữ liệu trùng lặp. Ta sẽ kiểm tra tiếp ở dưới."
   ]
  },
  {
   "cell_type": "markdown",
   "id": "7b722b0c",
   "metadata": {},
   "source": [
    "Trích xuất các dòng có dữ liệu lặp:"
   ]
  },
  {
   "cell_type": "code",
   "execution_count": 220,
   "id": "7a4bba5b",
   "metadata": {},
   "outputs": [
    {
     "data": {
      "text/html": [
       "<div>\n",
       "<style scoped>\n",
       "    .dataframe tbody tr th:only-of-type {\n",
       "        vertical-align: middle;\n",
       "    }\n",
       "\n",
       "    .dataframe tbody tr th {\n",
       "        vertical-align: top;\n",
       "    }\n",
       "\n",
       "    .dataframe thead th {\n",
       "        text-align: right;\n",
       "    }\n",
       "</style>\n",
       "<table border=\"1\" class=\"dataframe\">\n",
       "  <thead>\n",
       "    <tr style=\"text-align: right;\">\n",
       "      <th></th>\n",
       "      <th>job_id</th>\n",
       "      <th>company_id</th>\n",
       "      <th>job_name</th>\n",
       "      <th>taglist</th>\n",
       "      <th>location</th>\n",
       "      <th>three_reasons</th>\n",
       "      <th>description</th>\n",
       "    </tr>\n",
       "  </thead>\n",
       "  <tbody>\n",
       "    <tr>\n",
       "      <th>301</th>\n",
       "      <td>houze-group:backend_lead_pythongolangnodejs</td>\n",
       "      <td>houze-group</td>\n",
       "      <td>Backend Lead ( Python/Golang/NodeJS)</td>\n",
       "      <td>NodeJS   Python   Golang</td>\n",
       "      <td>114-116 Ngô Quyền, Phường 8, District 5, Ho Ch...</td>\n",
       "      <td>Attractive salary and benefits package\\nCareer...</td>\n",
       "      <td>Define, code, test, and deploy new features to...</td>\n",
       "    </tr>\n",
       "    <tr>\n",
       "      <th>303</th>\n",
       "      <td>houze-group:backend_lead_pythongolangnodejs</td>\n",
       "      <td>houze-group</td>\n",
       "      <td>Backend Lead ( Python/Golang/NodeJS/...)</td>\n",
       "      <td>Team Leader   Python   Golang</td>\n",
       "      <td>114-116 Ngô Quyền, Phường 8, District 5, Ho Ch...</td>\n",
       "      <td>Attractive salary and benefits package\\nCareer...</td>\n",
       "      <td>Define, code, test, and deploy new features to...</td>\n",
       "    </tr>\n",
       "  </tbody>\n",
       "</table>\n",
       "</div>"
      ],
      "text/plain": [
       "                                          job_id   company_id  \\\n",
       "301  houze-group:backend_lead_pythongolangnodejs  houze-group   \n",
       "303  houze-group:backend_lead_pythongolangnodejs  houze-group   \n",
       "\n",
       "                                     job_name  \\\n",
       "301      Backend Lead ( Python/Golang/NodeJS)   \n",
       "303  Backend Lead ( Python/Golang/NodeJS/...)   \n",
       "\n",
       "                             taglist  \\\n",
       "301        NodeJS   Python   Golang    \n",
       "303   Team Leader   Python   Golang    \n",
       "\n",
       "                                              location  \\\n",
       "301  114-116 Ngô Quyền, Phường 8, District 5, Ho Ch...   \n",
       "303  114-116 Ngô Quyền, Phường 8, District 5, Ho Ch...   \n",
       "\n",
       "                                         three_reasons  \\\n",
       "301  Attractive salary and benefits package\\nCareer...   \n",
       "303  Attractive salary and benefits package\\nCareer...   \n",
       "\n",
       "                                           description  \n",
       "301  Define, code, test, and deploy new features to...  \n",
       "303  Define, code, test, and deploy new features to...  "
      ]
     },
     "execution_count": 220,
     "metadata": {},
     "output_type": "execute_result"
    }
   ],
   "source": [
    "jobs_df[jobs_df.duplicated('job_id', keep=False)]"
   ]
  },
  {
   "cell_type": "markdown",
   "id": "4edf33cc",
   "metadata": {},
   "source": [
    "Như vậy theo quan sát, ta thấy giữa 2 dòng chỉ khác biệt ở cột `taglist`, tất cả các cột còn lại đều giống nhau.\n",
    "\n",
    "Ở đây cả bộ dữ liệu chỉ duy nhất 1 `job_id` bị trùng lặp. Để tiện xử lý ta sẽ loại bỏ 1 hàng (cụ thể hàng cuối)."
   ]
  },
  {
   "cell_type": "code",
   "execution_count": 221,
   "id": "9c5684e5",
   "metadata": {},
   "outputs": [],
   "source": [
    "jobs_df = jobs_df.drop_duplicates('job_id', keep = 'first')"
   ]
  },
  {
   "cell_type": "markdown",
   "id": "652fcda9",
   "metadata": {},
   "source": [
    "Số lượng dòng sau khi xử lý:"
   ]
  },
  {
   "cell_type": "code",
   "execution_count": 222,
   "id": "e7603538",
   "metadata": {},
   "outputs": [
    {
     "name": "stdout",
     "output_type": "stream",
     "text": [
      "Number of rows:  1411\n"
     ]
    }
   ],
   "source": [
    "print('Number of rows: ', len(jobs_df))"
   ]
  },
  {
   "cell_type": "markdown",
   "id": "fae88d57",
   "metadata": {},
   "source": [
    "#### Mỗi cột có ý nghĩa gì?"
   ]
  },
  {
   "cell_type": "markdown",
   "id": "96ba71e4",
   "metadata": {},
   "source": [
    "Bởi dữ liệu được thu thập trên Kaggle, tuy nhiên tác giả không cung cấp thông tin về ý nghĩa của các cột, chính vì thế, dựa vào ý nghĩa của dữ liệu ta sẽ định nghĩa các cột như sau:\n",
    "   * `job_id`: ID của công việc\n",
    "   * `company_id`: ID của công ty đăng tuyển công việc\n",
    "   * `job_name`: tên công việc\n",
    "   * `taglist`: danh sách tag liên quan đến công việc\n",
    "   * `location`: địa điểm làm việc\n",
    "   * `three_reasons`: phúc lợi/lý do nên làm việc ở đây\n",
    "   * `description`: mô tả công việc"
   ]
  },
  {
   "cell_type": "markdown",
   "id": "0c810423",
   "metadata": {},
   "source": [
    "#### Mỗi cột có kiểu dữ liệu gì? Có phù hợp để xử lý tiếp không?"
   ]
  },
  {
   "cell_type": "code",
   "execution_count": 223,
   "id": "91e49f89",
   "metadata": {},
   "outputs": [
    {
     "data": {
      "text/plain": [
       "job_id           object\n",
       "company_id       object\n",
       "job_name         object\n",
       "taglist          object\n",
       "location         object\n",
       "three_reasons    object\n",
       "description      object\n",
       "dtype: object"
      ]
     },
     "execution_count": 223,
     "metadata": {},
     "output_type": "execute_result"
    }
   ],
   "source": [
    "jobs_df.dtypes"
   ]
  },
  {
   "cell_type": "markdown",
   "id": "51e37fb3",
   "metadata": {},
   "source": [
    "Như đã thấy tất cả thông tin về công việc không có cột nào nên đưa về dạng số nên ta không cần xử lý gì thêm ở bước này, tất cả dữ liệu đã có kiểu dữ liệu phù hợp để xử lý."
   ]
  },
  {
   "cell_type": "markdown",
   "id": "c28f75ad",
   "metadata": {},
   "source": [
    "#### Phân tích các cột dữ liệu dạng số"
   ]
  },
  {
   "cell_type": "markdown",
   "id": "ea0d3d0b",
   "metadata": {},
   "source": [
    "Trong các cột dữ liệu trên, không có cột dữ liệu nào dạng số nên ta không thể thống kê các giá trị được."
   ]
  },
  {
   "cell_type": "markdown",
   "id": "4448bb6b",
   "metadata": {},
   "source": [
    "#### Với mỗi cột dang phân loại, các giá trị được phân bố như thế nào?"
   ]
  },
  {
   "cell_type": "code",
   "execution_count": 224,
   "id": "fb918bab",
   "metadata": {},
   "outputs": [
    {
     "data": {
      "text/html": [
       "<div>\n",
       "<style scoped>\n",
       "    .dataframe tbody tr th:only-of-type {\n",
       "        vertical-align: middle;\n",
       "    }\n",
       "\n",
       "    .dataframe tbody tr th {\n",
       "        vertical-align: top;\n",
       "    }\n",
       "\n",
       "    .dataframe thead th {\n",
       "        text-align: right;\n",
       "    }\n",
       "</style>\n",
       "<table border=\"1\" class=\"dataframe\">\n",
       "  <thead>\n",
       "    <tr style=\"text-align: right;\">\n",
       "      <th></th>\n",
       "      <th>job_id</th>\n",
       "      <th>company_id</th>\n",
       "      <th>job_name</th>\n",
       "      <th>taglist</th>\n",
       "      <th>location</th>\n",
       "      <th>three_reasons</th>\n",
       "      <th>description</th>\n",
       "    </tr>\n",
       "  </thead>\n",
       "  <tbody>\n",
       "    <tr>\n",
       "      <th>count</th>\n",
       "      <td>1411</td>\n",
       "      <td>1411</td>\n",
       "      <td>1411</td>\n",
       "      <td>1411</td>\n",
       "      <td>1411</td>\n",
       "      <td>1097</td>\n",
       "      <td>1411</td>\n",
       "    </tr>\n",
       "    <tr>\n",
       "      <th>unique</th>\n",
       "      <td>1411</td>\n",
       "      <td>682</td>\n",
       "      <td>1358</td>\n",
       "      <td>923</td>\n",
       "      <td>696</td>\n",
       "      <td>492</td>\n",
       "      <td>1408</td>\n",
       "    </tr>\n",
       "    <tr>\n",
       "      <th>top</th>\n",
       "      <td>kms-technology:jrsr_qa_engineer_kms_labs_bonus</td>\n",
       "      <td>vietnam-international-bank-vib</td>\n",
       "      <td>Frontend Dev (JavaScript, HTML5, CSS)</td>\n",
       "      <td>JavaScript   HTML5   CSS</td>\n",
       "      <td>Sailing Tower Building, District 1, Ho Chi Minh</td>\n",
       "      <td>Global Exposure\\nFast Track Career\\nDiversifie...</td>\n",
       "      <td>Asilla là một startup công nghệ tiên phong phá...</td>\n",
       "    </tr>\n",
       "    <tr>\n",
       "      <th>freq</th>\n",
       "      <td>1</td>\n",
       "      <td>27</td>\n",
       "      <td>8</td>\n",
       "      <td>20</td>\n",
       "      <td>19</td>\n",
       "      <td>17</td>\n",
       "      <td>2</td>\n",
       "    </tr>\n",
       "  </tbody>\n",
       "</table>\n",
       "</div>"
      ],
      "text/plain": [
       "                                                job_id  \\\n",
       "count                                             1411   \n",
       "unique                                            1411   \n",
       "top     kms-technology:jrsr_qa_engineer_kms_labs_bonus   \n",
       "freq                                                 1   \n",
       "\n",
       "                            company_id                               job_name  \\\n",
       "count                             1411                                   1411   \n",
       "unique                             682                                   1358   \n",
       "top     vietnam-international-bank-vib  Frontend Dev (JavaScript, HTML5, CSS)   \n",
       "freq                                27                                      8   \n",
       "\n",
       "                           taglist  \\\n",
       "count                         1411   \n",
       "unique                         923   \n",
       "top      JavaScript   HTML5   CSS    \n",
       "freq                            20   \n",
       "\n",
       "                                               location  \\\n",
       "count                                              1411   \n",
       "unique                                              696   \n",
       "top     Sailing Tower Building, District 1, Ho Chi Minh   \n",
       "freq                                                 19   \n",
       "\n",
       "                                            three_reasons  \\\n",
       "count                                                1097   \n",
       "unique                                                492   \n",
       "top     Global Exposure\\nFast Track Career\\nDiversifie...   \n",
       "freq                                                   17   \n",
       "\n",
       "                                              description  \n",
       "count                                                1411  \n",
       "unique                                               1408  \n",
       "top     Asilla là một startup công nghệ tiên phong phá...  \n",
       "freq                                                    2  "
      ]
     },
     "execution_count": 224,
     "metadata": {},
     "output_type": "execute_result"
    }
   ],
   "source": [
    "statistic = jobs_df.describe()\n",
    "statistic"
   ]
  },
  {
   "cell_type": "markdown",
   "id": "5918ac86",
   "metadata": {},
   "source": [
    "Số lượng giá trị thiếu ở mỗi cột:"
   ]
  },
  {
   "cell_type": "code",
   "execution_count": 225,
   "id": "f2a96ada",
   "metadata": {},
   "outputs": [
    {
     "data": {
      "text/plain": [
       "job_id             0\n",
       "company_id         0\n",
       "job_name           0\n",
       "taglist            0\n",
       "location           0\n",
       "three_reasons    314\n",
       "description        0\n",
       "Name: count, dtype: object"
      ]
     },
     "execution_count": 225,
     "metadata": {},
     "output_type": "execute_result"
    }
   ],
   "source": [
    "miss_info = len(jobs_df) - statistic.loc['count']\n",
    "miss_info"
   ]
  },
  {
   "cell_type": "markdown",
   "id": "c2aaa2b9",
   "metadata": {},
   "source": [
    "Tỉ lệ giá trị thiếu:"
   ]
  },
  {
   "cell_type": "code",
   "execution_count": 226,
   "id": "2126834f",
   "metadata": {},
   "outputs": [
    {
     "data": {
      "text/plain": [
       "job_id                 0.0\n",
       "company_id             0.0\n",
       "job_name               0.0\n",
       "taglist                0.0\n",
       "location               0.0\n",
       "three_reasons    22.253721\n",
       "description            0.0\n",
       "Name: count, dtype: object"
      ]
     },
     "execution_count": 226,
     "metadata": {},
     "output_type": "execute_result"
    }
   ],
   "source": [
    "miss_info/len(jobs_df) * 100"
   ]
  },
  {
   "cell_type": "markdown",
   "id": "94014be7",
   "metadata": {},
   "source": [
    "Như đã thống kê, đa phần các cột có đầy đủ các dữ liệu trừ cột `three_reason` tỉ lệ thiếu lên tới 22,25\\%.\n",
    "Nhìn vào hàng `unique`, đa phần có giá trị khá lớn, cho thấy được sự đa dạng của việc tuyển dụng ở lĩnh vực IT."
   ]
  },
  {
   "cell_type": "markdown",
   "id": "e317816d",
   "metadata": {},
   "source": [
    "Một số giá trị ngẫu nhiên:"
   ]
  },
  {
   "cell_type": "code",
   "execution_count": 227,
   "id": "96a76e3a",
   "metadata": {},
   "outputs": [
    {
     "data": {
      "text/html": [
       "<div>\n",
       "<style scoped>\n",
       "    .dataframe tbody tr th:only-of-type {\n",
       "        vertical-align: middle;\n",
       "    }\n",
       "\n",
       "    .dataframe tbody tr th {\n",
       "        vertical-align: top;\n",
       "    }\n",
       "\n",
       "    .dataframe thead th {\n",
       "        text-align: right;\n",
       "    }\n",
       "</style>\n",
       "<table border=\"1\" class=\"dataframe\">\n",
       "  <thead>\n",
       "    <tr style=\"text-align: right;\">\n",
       "      <th></th>\n",
       "      <th>job_id</th>\n",
       "      <th>company_id</th>\n",
       "      <th>job_name</th>\n",
       "      <th>taglist</th>\n",
       "      <th>location</th>\n",
       "      <th>three_reasons</th>\n",
       "      <th>description</th>\n",
       "    </tr>\n",
       "  </thead>\n",
       "  <tbody>\n",
       "    <tr>\n",
       "      <th>483</th>\n",
       "      <td>datvietvac:frontend_developer_reactjsnodejs</td>\n",
       "      <td>datvietvac</td>\n",
       "      <td>FRONTEND DEVELOPER (ReactJS/NodeJS)</td>\n",
       "      <td>ReactJS   HTML5   NodeJS</td>\n",
       "      <td>222 Pasteur, District 3, Ho Chi Minh</td>\n",
       "      <td>NaN</td>\n",
       "      <td>•\\nDeveloping features for VieON app (web app)...</td>\n",
       "    </tr>\n",
       "    <tr>\n",
       "      <th>883</th>\n",
       "      <td>relyon-it-services:sr_java_developer_spring_linux</td>\n",
       "      <td>relyon-it-services</td>\n",
       "      <td>Sr. Java Developer (Spring, Linux)</td>\n",
       "      <td>Java   Linux   Spring</td>\n",
       "      <td>Tầng 9, Tòa nhà Detech Tower II, Số 107 Nguyễn...</td>\n",
       "      <td>Attractive salary &amp; bonus quaterly\\nImproving ...</td>\n",
       "      <td>We are RELYON IT SERVICES, one of the fastest ...</td>\n",
       "    </tr>\n",
       "    <tr>\n",
       "      <th>206</th>\n",
       "      <td>capgemini-vietnam:implementation_consultant_fo...</td>\n",
       "      <td>capgemini-vietnam</td>\n",
       "      <td>Implementation consultant for APM (ELK)</td>\n",
       "      <td>System Admin   Linux   English</td>\n",
       "      <td>106 Nguyen Van Troi, Phu Nhuan, Ho Chi Minh</td>\n",
       "      <td>Work with international clients and experts\\nA...</td>\n",
       "      <td>Job Role: Implementation consultant for APM (E...</td>\n",
       "    </tr>\n",
       "    <tr>\n",
       "      <th>854</th>\n",
       "      <td>javac-technology-software-company-ltd:7_senior...</td>\n",
       "      <td>javac-technology-software-company-ltd</td>\n",
       "      <td>7 Senior PHP Developer (Laravel, MySQL)</td>\n",
       "      <td>PHP   MySQL   Laravel</td>\n",
       "      <td>Tòa nhà Scetpa, 19A Cộng Hòa, P.12, Q.Tân Bình...</td>\n",
       "      <td>We always listen your thinkings and ideas\\nCoz...</td>\n",
       "      <td>Implementing High Quality web site/application...</td>\n",
       "    </tr>\n",
       "    <tr>\n",
       "      <th>924</th>\n",
       "      <td>hiker-games:unity_games_developer_sql</td>\n",
       "      <td>hiker-games</td>\n",
       "      <td>Unity Games Developer (SQL)</td>\n",
       "      <td>Unity   SQL   Games   Fresher Accepted</td>\n",
       "      <td>Lô 19-20, Ngõ 35 Lê Văn Thiêm, Thanh Xuan, Ha Noi</td>\n",
       "      <td>Môi trường dân chủ, lành mạnh, minh bạch\\nTham...</td>\n",
       "      <td>Sử dụng Unity phát triển các tính năng của gam...</td>\n",
       "    </tr>\n",
       "    <tr>\n",
       "      <th>1139</th>\n",
       "      <td>seabank:developers_angularjavaandroidios</td>\n",
       "      <td>seabank</td>\n",
       "      <td>Developers ( Angular/Java/Android/iOS )</td>\n",
       "      <td>Java   Android   iOS   Fresher Accepted</td>\n",
       "      <td>25 Trần Hưng Đạo, Hoan Kiem, Ha Noi</td>\n",
       "      <td>Bảo hiểm sức khỏe\\nChương trình đào tạo từ Sea...</td>\n",
       "      <td>Tuân thủ nghiêm túc nội quy lao động của Ngân ...</td>\n",
       "    </tr>\n",
       "    <tr>\n",
       "      <th>1221</th>\n",
       "      <td>toyota-financial-services-vietnam:robotic_proc...</td>\n",
       "      <td>toyota-financial-services-vietnam</td>\n",
       "      <td>Robotic Process Automation_RPA (C# .NET)</td>\n",
       "      <td>C#   Project Manager   .NET</td>\n",
       "      <td>F12, Saigon Centre, 67 Le Loi, Ben Nghe, Distr...</td>\n",
       "      <td>13th month salary, KPI bonus, allowance\\nHealt...</td>\n",
       "      <td>Job Objective:\\n\\n\\nThe Robotic Process Automa...</td>\n",
       "    </tr>\n",
       "    <tr>\n",
       "      <th>118</th>\n",
       "      <td>dirox:5_senior_php_developer_mysql_oop</td>\n",
       "      <td>dirox</td>\n",
       "      <td>5 Senior PHP Developer (MySQL, OOP)</td>\n",
       "      <td>PHP   MySQL   OOP</td>\n",
       "      <td>69 D2, Binh Thanh, Ho Chi Minh</td>\n",
       "      <td>WE will open your EYES to the WORLD!\\nWE will ...</td>\n",
       "      <td>Developing new complex UI components from scra...</td>\n",
       "    </tr>\n",
       "    <tr>\n",
       "      <th>1188</th>\n",
       "      <td>cong-ty-co-phan-dich-vu-di-dong-the-he-moi-nms...</td>\n",
       "      <td>cong-ty-co-phan-dich-vu-di-dong-the-he-moi-nms</td>\n",
       "      <td>Business Analyst (IT)</td>\n",
       "      <td>Business Analyst   Agile</td>\n",
       "      <td>138 Tran Binh, Nam Tu Liem, Ha Noi</td>\n",
       "      <td>Nguyên tắc tôn trọng\\nNguyên tắc đồng hành phá...</td>\n",
       "      <td>Tiếp nhận, khảo sát, thu thập yêu cầu từ khách...</td>\n",
       "    </tr>\n",
       "    <tr>\n",
       "      <th>1348</th>\n",
       "      <td>gotecq-viet-nam:02_backend_dev_python_sql_linux</td>\n",
       "      <td>gotecq-viet-nam</td>\n",
       "      <td>02 Backend Dev (Python, SQL, Linux)</td>\n",
       "      <td>Python   Linux   SQL</td>\n",
       "      <td>𝐿𝑜̂ 𝐴4-17 𝑁𝑔𝑢𝑦𝑒̂̃𝑛 𝑆𝑖𝑛ℎ 𝑆𝑎̆́𝑐, 𝑃ℎ𝑢̛𝑜̛̀𝑛𝑔 𝐻𝑜̀𝑎 ...</td>\n",
       "      <td>NaN</td>\n",
       "      <td>Phân tích các yêu cầu hệ thống và triển khai A...</td>\n",
       "    </tr>\n",
       "  </tbody>\n",
       "</table>\n",
       "</div>"
      ],
      "text/plain": [
       "                                                 job_id  \\\n",
       "483         datvietvac:frontend_developer_reactjsnodejs   \n",
       "883   relyon-it-services:sr_java_developer_spring_linux   \n",
       "206   capgemini-vietnam:implementation_consultant_fo...   \n",
       "854   javac-technology-software-company-ltd:7_senior...   \n",
       "924               hiker-games:unity_games_developer_sql   \n",
       "1139           seabank:developers_angularjavaandroidios   \n",
       "1221  toyota-financial-services-vietnam:robotic_proc...   \n",
       "118              dirox:5_senior_php_developer_mysql_oop   \n",
       "1188  cong-ty-co-phan-dich-vu-di-dong-the-he-moi-nms...   \n",
       "1348    gotecq-viet-nam:02_backend_dev_python_sql_linux   \n",
       "\n",
       "                                          company_id  \\\n",
       "483                                       datvietvac   \n",
       "883                               relyon-it-services   \n",
       "206                                capgemini-vietnam   \n",
       "854            javac-technology-software-company-ltd   \n",
       "924                                      hiker-games   \n",
       "1139                                         seabank   \n",
       "1221               toyota-financial-services-vietnam   \n",
       "118                                            dirox   \n",
       "1188  cong-ty-co-phan-dich-vu-di-dong-the-he-moi-nms   \n",
       "1348                                 gotecq-viet-nam   \n",
       "\n",
       "                                      job_name  \\\n",
       "483        FRONTEND DEVELOPER (ReactJS/NodeJS)   \n",
       "883         Sr. Java Developer (Spring, Linux)   \n",
       "206    Implementation consultant for APM (ELK)   \n",
       "854    7 Senior PHP Developer (Laravel, MySQL)   \n",
       "924                Unity Games Developer (SQL)   \n",
       "1139   Developers ( Angular/Java/Android/iOS )   \n",
       "1221  Robotic Process Automation_RPA (C# .NET)   \n",
       "118        5 Senior PHP Developer (MySQL, OOP)   \n",
       "1188                     Business Analyst (IT)   \n",
       "1348       02 Backend Dev (Python, SQL, Linux)   \n",
       "\n",
       "                                        taglist  \\\n",
       "483                   ReactJS   HTML5   NodeJS    \n",
       "883                      Java   Linux   Spring    \n",
       "206             System Admin   Linux   English    \n",
       "854                      PHP   MySQL   Laravel    \n",
       "924     Unity   SQL   Games   Fresher Accepted    \n",
       "1139   Java   Android   iOS   Fresher Accepted    \n",
       "1221               C#   Project Manager   .NET    \n",
       "118                          PHP   MySQL   OOP    \n",
       "1188                  Business Analyst   Agile    \n",
       "1348                      Python   Linux   SQL    \n",
       "\n",
       "                                               location  \\\n",
       "483                222 Pasteur, District 3, Ho Chi Minh   \n",
       "883   Tầng 9, Tòa nhà Detech Tower II, Số 107 Nguyễn...   \n",
       "206         106 Nguyen Van Troi, Phu Nhuan, Ho Chi Minh   \n",
       "854   Tòa nhà Scetpa, 19A Cộng Hòa, P.12, Q.Tân Bình...   \n",
       "924   Lô 19-20, Ngõ 35 Lê Văn Thiêm, Thanh Xuan, Ha Noi   \n",
       "1139                25 Trần Hưng Đạo, Hoan Kiem, Ha Noi   \n",
       "1221  F12, Saigon Centre, 67 Le Loi, Ben Nghe, Distr...   \n",
       "118                      69 D2, Binh Thanh, Ho Chi Minh   \n",
       "1188                 138 Tran Binh, Nam Tu Liem, Ha Noi   \n",
       "1348  𝐿𝑜̂ 𝐴4-17 𝑁𝑔𝑢𝑦𝑒̂̃𝑛 𝑆𝑖𝑛ℎ 𝑆𝑎̆́𝑐, 𝑃ℎ𝑢̛𝑜̛̀𝑛𝑔 𝐻𝑜̀𝑎 ...   \n",
       "\n",
       "                                          three_reasons  \\\n",
       "483                                                 NaN   \n",
       "883   Attractive salary & bonus quaterly\\nImproving ...   \n",
       "206   Work with international clients and experts\\nA...   \n",
       "854   We always listen your thinkings and ideas\\nCoz...   \n",
       "924   Môi trường dân chủ, lành mạnh, minh bạch\\nTham...   \n",
       "1139  Bảo hiểm sức khỏe\\nChương trình đào tạo từ Sea...   \n",
       "1221  13th month salary, KPI bonus, allowance\\nHealt...   \n",
       "118   WE will open your EYES to the WORLD!\\nWE will ...   \n",
       "1188  Nguyên tắc tôn trọng\\nNguyên tắc đồng hành phá...   \n",
       "1348                                                NaN   \n",
       "\n",
       "                                            description  \n",
       "483   •\\nDeveloping features for VieON app (web app)...  \n",
       "883   We are RELYON IT SERVICES, one of the fastest ...  \n",
       "206   Job Role: Implementation consultant for APM (E...  \n",
       "854   Implementing High Quality web site/application...  \n",
       "924   Sử dụng Unity phát triển các tính năng của gam...  \n",
       "1139  Tuân thủ nghiêm túc nội quy lao động của Ngân ...  \n",
       "1221  Job Objective:\\n\\n\\nThe Robotic Process Automa...  \n",
       "118   Developing new complex UI components from scra...  \n",
       "1188  Tiếp nhận, khảo sát, thu thập yêu cầu từ khách...  \n",
       "1348  Phân tích các yêu cầu hệ thống và triển khai A...  "
      ]
     },
     "execution_count": 227,
     "metadata": {},
     "output_type": "execute_result"
    }
   ],
   "source": [
    "jobs_df.sample(10)"
   ]
  },
  {
   "cell_type": "markdown",
   "id": "9945a99b",
   "metadata": {},
   "source": [
    "Dữ liệu cho thấy được không có sự bất thường ở bộ dữ liệu này.\n",
    "Tuy nhiên dữ liệu ở 2 cột `three_reasons` và `description` có các dòng dữ liệu thuộc 2 ngôn ngữ khác nhau (Việt và Anh) có thể gây khó khăn trong việc phân tích."
   ]
  },
  {
   "cell_type": "markdown",
   "id": "76ab1bc8",
   "metadata": {},
   "source": [
    "# 3. Câu hỏi cần trả lời"
   ]
  },
  {
   "cell_type": "markdown",
   "id": "aa2162b3",
   "metadata": {},
   "source": [
    "## 3.1 Các kiến thức/kỹ năng nào đang được các công ty tuyển dụng nhiều nhất?"
   ]
  },
  {
   "cell_type": "markdown",
   "id": "5db3855a",
   "metadata": {},
   "source": [
    "### 3.1.1 Nêu vấn đề"
   ]
  },
  {
   "cell_type": "markdown",
   "id": "e6294032",
   "metadata": {},
   "source": [
    "Trên thực tế, nhiều người chọn học ngành IT nghĩ rằng vì ngành này hot, lương cao, nhiều việc làm. Tuy nhiên ngành IT lại quá nhiều định hướng, dẫn đến đại đa số sinh viên theo học ngành này nếu không đam mê hay định hướng cụ thể thì sẽ bị mông lung không biết nên học theo hướng nào? và họ luôn suy nghĩ rằng học hướng đó liệu có tìm được việc làm hay không? nên học kỹ năng nào, kiến thức nào để có thể dễ dàng tìm được việc làm?"
   ]
  },
  {
   "cell_type": "markdown",
   "id": "83b41d00",
   "metadata": {},
   "source": [
    "Chính vì thế, câu hỏi này ra đời nhằm mục đích cho biết hiện nay, trên thị trường ngành IT, người ta đang tuyển nhân sự có những kỹ năng gì là chủ yếu, giúp cho sinh viên có thể lựa chọn được những hướng đi phù hợp, có thể dễ dàng tìm kiếm việc làm vì nhu cầu cần thiết của xã hội cao."
   ]
  },
  {
   "cell_type": "markdown",
   "id": "325fd600",
   "metadata": {},
   "source": [
    "### 3.1.2 Data Preprocessing"
   ]
  },
  {
   "cell_type": "markdown",
   "id": "53bdf89e",
   "metadata": {},
   "source": [
    "Qua quá trình quan sát dữ liệu, ta biết được thông tin cột `taglist` thể hiện những kỹ năng/kiến thức liên quan đến ngành nghề IT đang được tuyển dụng.\n",
    "Quá trình xử lý dữ liệu:\n",
    "* Lấy các giá trị cột `taglist` và bỏ đi các giá trị rỗng.\n",
    "* Do cấu trúc dữ liệu cột này chưa phù hợp, ta sẽ biến các tag này thành dạng list.\n",
    "* Gom nhóm"
   ]
  },
  {
   "cell_type": "markdown",
   "id": "86a9bff6",
   "metadata": {},
   "source": [
    "Đầu tiên, ta lấy dữ liệu cột `taglist` và bỏ các giá trị rỗng."
   ]
  },
  {
   "cell_type": "code",
   "execution_count": 228,
   "id": "93550b10",
   "metadata": {},
   "outputs": [
    {
     "data": {
      "text/plain": [
       "0                        QA QC   English   Tester \n",
       "1               Project Manager   Agile   English \n",
       "2        NodeJS   React Native   Fresher Accepted \n",
       "3                      Java   JavaScript   Spring \n",
       "4             Product Manager   English   Manager \n",
       "                           ...                    \n",
       "1407                           Unity   C#   Games \n",
       "1408       .NET   C#   ASP.NET   Fresher Accepted \n",
       "1409                          .NET   C#   ASP.NET \n",
       "1410                JavaScript   NodeJS   ReactJS \n",
       "1411                    Python   Django   ReactJS \n",
       "Name: taglist, Length: 1411, dtype: object"
      ]
     },
     "execution_count": 228,
     "metadata": {},
     "output_type": "execute_result"
    }
   ],
   "source": [
    "#Do giá trị rỗng không có (đã khám phá ở trên) nên ta không cần bước bỏ các dòng dữ liệu thiếu.\n",
    "taglist = jobs_df[\"taglist\"]\n",
    "taglist"
   ]
  },
  {
   "cell_type": "markdown",
   "id": "77312eee",
   "metadata": {},
   "source": [
    "Kiểu dữ liệu hiện tại của mỗi hàng là gì?"
   ]
  },
  {
   "cell_type": "code",
   "execution_count": 229,
   "id": "daf193aa",
   "metadata": {},
   "outputs": [
    {
     "data": {
      "text/plain": [
       "{str}"
      ]
     },
     "execution_count": 229,
     "metadata": {},
     "output_type": "execute_result"
    }
   ],
   "source": [
    "def open_object_dtype(s):\n",
    "    dtypes = set(s.apply(type))  \n",
    "    return dtypes\n",
    "\n",
    "open_object_dtype(taglist)"
   ]
  },
  {
   "cell_type": "markdown",
   "id": "bbcdc3cc",
   "metadata": {},
   "source": [
    "Như đã thấy phía trên, dữ liệu hiện tại của các hàng taglist là string.\n",
    "\n",
    "Ta cần đưa về dạng list để dễ dàng phân tích, thống kê."
   ]
  },
  {
   "cell_type": "code",
   "execution_count": 230,
   "id": "85560dab",
   "metadata": {},
   "outputs": [
    {
     "data": {
      "text/plain": [
       "0                       [QA QC, English, Tester]\n",
       "1              [Project Manager, Agile, English]\n",
       "2       [NodeJS, React Native, Fresher Accepted]\n",
       "3                     [Java, JavaScript, Spring]\n",
       "4            [Product Manager, English, Manager]\n",
       "                          ...                   \n",
       "1407                          [Unity, C#, Games]\n",
       "1408       [.NET, C#, ASP.NET, Fresher Accepted]\n",
       "1409                         [.NET, C#, ASP.NET]\n",
       "1410               [JavaScript, NodeJS, ReactJS]\n",
       "1411                   [Python, Django, ReactJS]\n",
       "Name: taglist, Length: 1411, dtype: object"
      ]
     },
     "execution_count": 230,
     "metadata": {},
     "output_type": "execute_result"
    }
   ],
   "source": [
    "taglist = taglist.str.strip().str.split('\\s{2,}')\n",
    "taglist"
   ]
  },
  {
   "cell_type": "markdown",
   "id": "764f1bea",
   "metadata": {},
   "source": [
    "Sau khi chuyển về dạng list, ta sẽ tách các phần tử mỗi list ra thành dòng để tiện cho việc thống kê."
   ]
  },
  {
   "cell_type": "code",
   "execution_count": 231,
   "id": "4bc26a90",
   "metadata": {},
   "outputs": [
    {
     "data": {
      "text/plain": [
       "0                 QA QC\n",
       "0               English\n",
       "0                Tester\n",
       "1       Project Manager\n",
       "1                 Agile\n",
       "             ...       \n",
       "1410             NodeJS\n",
       "1410            ReactJS\n",
       "1411             Python\n",
       "1411             Django\n",
       "1411            ReactJS\n",
       "Name: taglist, Length: 4262, dtype: object"
      ]
     },
     "execution_count": 231,
     "metadata": {},
     "output_type": "execute_result"
    }
   ],
   "source": [
    "taglist = taglist.explode()\n",
    "taglist"
   ]
  },
  {
   "cell_type": "markdown",
   "id": "df04f840",
   "metadata": {},
   "source": [
    "Số các giá trị khác nhau mà dữ liệu đưa ra:"
   ]
  },
  {
   "cell_type": "code",
   "execution_count": 232,
   "id": "68e7e19c",
   "metadata": {},
   "outputs": [
    {
     "data": {
      "text/plain": [
       "79"
      ]
     },
     "execution_count": 232,
     "metadata": {},
     "output_type": "execute_result"
    }
   ],
   "source": [
    "len(taglist.unique())"
   ]
  },
  {
   "cell_type": "code",
   "execution_count": 233,
   "id": "26443016",
   "metadata": {},
   "outputs": [
    {
     "data": {
      "text/plain": [
       "array(['QA QC', 'English', 'Tester', 'Project Manager', 'Agile', 'NodeJS',\n",
       "       'React Native', 'Fresher Accepted', 'Java', 'JavaScript', 'Spring',\n",
       "       'Product Manager', 'Manager', 'Business Analyst', 'ReactJS',\n",
       "       'Ruby on Rails', 'AWS', 'Database', 'SQL', '.NET', 'C#', 'ASP.NET',\n",
       "       'Scrum', 'Python', 'C++', 'Linux', 'Embedded', 'C language',\n",
       "       'Software Architect', 'OOP', 'Django', 'JQuery', 'Team Leader',\n",
       "       'Cloud', 'Kotlin', 'Blockchain', 'Data Analyst', 'Android', 'iOS',\n",
       "       'DevOps', 'Swift', 'ERP', 'Oracle', 'System Engineer',\n",
       "       'Networking', 'MySQL', 'Scala', 'System Admin', 'PHP', 'Laravel',\n",
       "       'Angular', 'VueJS', 'Sharepoint', 'UI-UX', 'PostgreSql',\n",
       "       'Designer', 'IT Support', 'Objective C', 'Golang', 'Xamarin',\n",
       "       'CSS', 'HTML5', 'SAP', 'Flutter', 'NoSQL', 'JSON', 'MVC', 'J2EE',\n",
       "       'Ruby', 'Unity', 'Drupal', 'Wordpress', 'AngularJS', 'Hybrid',\n",
       "       'Games', 'Bridge Engineer', 'Magento', 'Japanese', 'Cocos'],\n",
       "      dtype=object)"
      ]
     },
     "execution_count": 233,
     "metadata": {},
     "output_type": "execute_result"
    }
   ],
   "source": [
    "taglist.unique()"
   ]
  },
  {
   "cell_type": "markdown",
   "id": "93d23d2b",
   "metadata": {},
   "source": [
    "Như đã thấy ở phía trên, các giá trị của taglist là các tag về kỹ năng/ kiến thức cần để có thể ứng tuyển công việc. \n",
    "\n",
    "Tuy nhiên ở đây có 1 giá trị là `Fresher Accepted` không phải là kỹ năng, cũng không phải là kiến thức cần có mà nó chỉ là một điều kiện có thể ứng tuyển công việc. Vì vậy ta sẽ loại bỏ giá trị này đi."
   ]
  },
  {
   "cell_type": "code",
   "execution_count": 234,
   "id": "28c2ef67",
   "metadata": {},
   "outputs": [
    {
     "data": {
      "text/plain": [
       "0                 QA QC\n",
       "0               English\n",
       "0                Tester\n",
       "1       Project Manager\n",
       "1                 Agile\n",
       "             ...       \n",
       "1410             NodeJS\n",
       "1410            ReactJS\n",
       "1411             Python\n",
       "1411             Django\n",
       "1411            ReactJS\n",
       "Name: taglist, Length: 4046, dtype: object"
      ]
     },
     "execution_count": 234,
     "metadata": {},
     "output_type": "execute_result"
    }
   ],
   "source": [
    "taglist = taglist[taglist != \"Fresher Accepted\"]\n",
    "taglist"
   ]
  },
  {
   "cell_type": "markdown",
   "id": "7af28333",
   "metadata": {},
   "source": [
    "Như vậy là hoàn thành bước tiền xử lý dữ liệu."
   ]
  },
  {
   "cell_type": "markdown",
   "id": "afa8628d",
   "metadata": {},
   "source": [
    "### 3.1.3 Analysis, Visualization"
   ]
  },
  {
   "cell_type": "markdown",
   "id": "40241da3",
   "metadata": {},
   "source": [
    "Đầu tiên ta phải đếm số lượng các giá trị để có thể trực quan bằng các biểu đồ."
   ]
  },
  {
   "cell_type": "code",
   "execution_count": 235,
   "id": "027600d9",
   "metadata": {},
   "outputs": [
    {
     "data": {
      "text/plain": [
       "Java               265\n",
       "JavaScript         244\n",
       "QA QC              169\n",
       "Tester             169\n",
       "ReactJS            164\n",
       "                  ... \n",
       "Hybrid               2\n",
       "Japanese             2\n",
       "Xamarin              1\n",
       "Bridge Engineer      1\n",
       "Cocos                1\n",
       "Name: taglist, Length: 78, dtype: int64"
      ]
     },
     "execution_count": 235,
     "metadata": {},
     "output_type": "execute_result"
    }
   ],
   "source": [
    "taglist = taglist.value_counts()\n",
    "taglist"
   ]
  },
  {
   "cell_type": "markdown",
   "id": "27bc49b0",
   "metadata": {},
   "source": [
    "Sử dụng `barh` chart để so sánh số lượng được đề cập tới giữa các kỹ năng."
   ]
  },
  {
   "cell_type": "code",
   "execution_count": 36,
   "id": "42e9a081",
   "metadata": {},
   "outputs": [
    {
     "data": {
      "text/plain": [
       "<AxesSubplot:ylabel='Skill'>"
      ]
     },
     "execution_count": 36,
     "metadata": {},
     "output_type": "execute_result"
    },
    {
     "data": {
      "image/png": "[encoded data removed]",
      "text/plain": [
       "<Figure size 1440x720 with 1 Axes>"
      ]
     },
     "metadata": {
      "needs_background": "light"
     },
     "output_type": "display_data"
    }
   ],
   "source": [
    "taglist[0:30].plot(kind = 'barh', figsize = (20,10), ylabel = \"Amount\", xlabel = \"Skill\")"
   ]
  },
  {
   "cell_type": "markdown",
   "id": "9e81b748",
   "metadata": {},
   "source": [
    "Với một vài bước biến đổi đơn giản, ta đã có thể trực quan hóa được tính thiết yếu của các kỹ năng.\n",
    "\n",
    "Số lượng càng cao nghĩa là càng có nhiều công việc cần kỹ năng đó và ngược lại.\n",
    "\n",
    "Qua việc visualization ở trên, dễ dàng ta có thể nhận ra:\n",
    "* Về mặt ngôn ngữ lập trình: Java, Javascript là 2 ngôn ngữ được tuyển dụng nhiều nhất, với trên 200 lượt tuyển dụng.\n",
    "* Về mặt kỹ năng: các kỹ năng về QA QC, Tester là 2 vị trí đang được tuyển dụng nhiều nhất với trên 150 lượt tuyển dụng.\n",
    "* Về mặt ngôn ngữ: English luôn là lựa chọn hàng đầu với trên 150 lượt."
   ]
  },
  {
   "cell_type": "markdown",
   "id": "3a46a20e",
   "metadata": {},
   "source": [
    "### 3.1.4 Kết luận"
   ]
  },
  {
   "cell_type": "markdown",
   "id": "cb687636",
   "metadata": {},
   "source": [
    "Quay trở lại câu hỏi, như vậy các kỹ năng/kiến thức nào được các công ty tuyển dụng nhiều nhất?\n",
    "\n",
    "Java, JavaScript, QA QC, Tester, ReactJS, English,... là các kiến thức, kỹ năng được tuyển dụng nhiều nhất. Bởi lẽ do tính đa dụng của nó. Ví dụ như Java hay JavaScript vừa có thể code web mà cũng có thể code app và có thể làm thêm nhiều thứ nữa.\n",
    "\n",
    "Như vậy, cần học gì để không thất nghiệp, dễ dàng có việc làm?\n",
    "\n",
    "Trong tương lai gần, thì ta có thể chọn học các ngôn ngữ như Java, JavaScript, rèn luyện thêm ngoại ngữ như English bởi lẽ nhu cầu tuyển dụng của các công ty về các kỹ năng này rất cao, mà nhân lực có kỹ năng tại Việt Nam hiện tại vẫn chưa đáp ứng đủ. Chính vì vậy, dựa vô thống kê, trực quan ở trên, ta có thể xác định được hướng đi để có thể dễ dàng kiếm được công việc sau khi ra trường."
   ]
  },
  {
   "cell_type": "markdown",
   "id": "55c97ef7",
   "metadata": {},
   "source": [
    "## 3.2 Những quốc gia nào có số lượng tuyển nhân lực ngành IT ở Việt Nam lớn nhất?"
   ]
  },
  {
   "cell_type": "markdown",
   "id": "20355d57",
   "metadata": {},
   "source": [
    "### 3.2.1 Nêu vấn đề"
   ]
  },
  {
   "cell_type": "markdown",
   "id": "cb70e31a",
   "metadata": {},
   "source": [
    "Giữa một thị trường hiện đang rất màu mỡ như IT khiến cho người người nhà nhà chạy đua nhau học. Để cạnh tranh cơ hội có việc làm tốt ở một công ty thuộc nước ngoài là điều càng ngày khó khăn hơn.\n",
    "\n",
    "Vậy khi tuyển dụng, giữa 2 ứng viên có technical skill ngang nhau thì người ta sẽ ưu tiên ai? Câu trả lời là nhà tuyển dụng sẽ ưu tiên người có ngoại ngữ tốt, giao tiếp tốt, phù hợp với công ty, văn hóa của họ và có thể giao tiếp trao đổi trực tiếp với người nước ngoài.\n",
    "\n",
    "Đối với một nhân viên thì việc biết được văn hóa công ty đó, có khả năng giao tiếp trực tiếp với sếp của họ bằng chính tiếng của họ sẽ có khả năng thăng tiến cao hơn bởi họ sẽ là người làm việc trực tiếp với sếp mà không cần thông qua người khác.\n",
    "\n",
    "Như vậy, nếu biết được những quốc gia đang đầu tư mạnh về lĩnh vực IT ở Việt Nam, ta sẽ tìm hiểu về văn hóa đất nước đó để tìm hiểu về cách làm việc cũng như chọn ngôn ngữ đó làm ngoại ngữ thứ 2 để có thể học, tạo lợi thế cho bản thân khi ứng tuyển và cơ hội thăng chức khi đã làm việc là một điều cần làm."
   ]
  },
  {
   "cell_type": "markdown",
   "id": "b1cfcee6",
   "metadata": {},
   "source": [
    "### 3.2.2 Data Preprocessing"
   ]
  },
  {
   "cell_type": "markdown",
   "id": "9b803109",
   "metadata": {},
   "source": [
    "Trước tiên ta phải merge 2 bộ dữ liệu với nhau để gắn kết công việc nào thuộc công tin nào, dựa vào cột `company_id`"
   ]
  },
  {
   "cell_type": "code",
   "execution_count": 40,
   "id": "9e44461d",
   "metadata": {},
   "outputs": [
    {
     "data": {
      "text/html": [
       "<div>\n",
       "<style scoped>\n",
       "    .dataframe tbody tr th:only-of-type {\n",
       "        vertical-align: middle;\n",
       "    }\n",
       "\n",
       "    .dataframe tbody tr th {\n",
       "        vertical-align: top;\n",
       "    }\n",
       "\n",
       "    .dataframe thead th {\n",
       "        text-align: right;\n",
       "    }\n",
       "</style>\n",
       "<table border=\"1\" class=\"dataframe\">\n",
       "  <thead>\n",
       "    <tr style=\"text-align: right;\">\n",
       "      <th></th>\n",
       "      <th>job_id</th>\n",
       "      <th>company_id</th>\n",
       "      <th>job_name</th>\n",
       "      <th>taglist</th>\n",
       "      <th>location</th>\n",
       "      <th>three_reasons</th>\n",
       "      <th>description</th>\n",
       "      <th>company_name</th>\n",
       "      <th>average_rating</th>\n",
       "      <th>num_reviews</th>\n",
       "      <th>cities</th>\n",
       "      <th>type</th>\n",
       "      <th>num_employees</th>\n",
       "      <th>country</th>\n",
       "      <th>working_days</th>\n",
       "      <th>overtime</th>\n",
       "      <th>overview</th>\n",
       "      <th>expertise</th>\n",
       "      <th>benefit</th>\n",
       "    </tr>\n",
       "  </thead>\n",
       "  <tbody>\n",
       "    <tr>\n",
       "      <th>0</th>\n",
       "      <td>kms-technology:jrsr_qa_engineer_kms_labs_bonus</td>\n",
       "      <td>kms-technology</td>\n",
       "      <td>(Jr/Sr) QA Engineer, KMS Labs - BONUS</td>\n",
       "      <td>QA QC   English   Tester</td>\n",
       "      <td>290/26 Nam Ky Khoi Nghia, ward 8, District 3, ...</td>\n",
       "      <td>Inspired Leadership Team and Talented Colleagu...</td>\n",
       "      <td>KMS Labs is the startup incubation arm of KMS ...</td>\n",
       "      <td>KMS Technology</td>\n",
       "      <td>4.0</td>\n",
       "      <td>197.0</td>\n",
       "      <td>Ho Chi Minh, Da Nang, Ha Noi</td>\n",
       "      <td>Outsourcing</td>\n",
       "      <td>1000+</td>\n",
       "      <td>United States</td>\n",
       "      <td>Monday - Friday</td>\n",
       "      <td>No OT</td>\n",
       "      <td>Established in 2009, KMS Technology is a U.S.-...</td>\n",
       "      <td>NaN</td>\n",
       "      <td>Want to be the Best? Join KMS!\\n\\n\\nIt’s posit...</td>\n",
       "    </tr>\n",
       "    <tr>\n",
       "      <th>1</th>\n",
       "      <td>kms-technology:engineering_manager_bonus</td>\n",
       "      <td>kms-technology</td>\n",
       "      <td>Engineering Manager - BONUS</td>\n",
       "      <td>Project Manager   Agile   English</td>\n",
       "      <td>02 Tan Vien, ward 2, Tan Binh, Ho Chi Minh</td>\n",
       "      <td>Inspired Leadership Team and Talented Colleagu...</td>\n",
       "      <td>Full 13th Month Salary. ***Apply and Join in S...</td>\n",
       "      <td>KMS Technology</td>\n",
       "      <td>4.0</td>\n",
       "      <td>197.0</td>\n",
       "      <td>Ho Chi Minh, Da Nang, Ha Noi</td>\n",
       "      <td>Outsourcing</td>\n",
       "      <td>1000+</td>\n",
       "      <td>United States</td>\n",
       "      <td>Monday - Friday</td>\n",
       "      <td>No OT</td>\n",
       "      <td>Established in 2009, KMS Technology is a U.S.-...</td>\n",
       "      <td>NaN</td>\n",
       "      <td>Want to be the Best? Join KMS!\\n\\n\\nIt’s posit...</td>\n",
       "    </tr>\n",
       "    <tr>\n",
       "      <th>2</th>\n",
       "      <td>kms-technology:fullstack_mobile_mobilenodejs_k...</td>\n",
       "      <td>kms-technology</td>\n",
       "      <td>Fullstack Mobile (Mobile,NodeJs) Kobiton</td>\n",
       "      <td>NodeJS   React Native   Fresher Accepted</td>\n",
       "      <td>02 Tan Vien, ward 2, Tan Binh, Ho Chi Minh</td>\n",
       "      <td>Inspired Leadership Team and Talented Colleagu...</td>\n",
       "      <td>is the mobile experience platform trusted by l...</td>\n",
       "      <td>KMS Technology</td>\n",
       "      <td>4.0</td>\n",
       "      <td>197.0</td>\n",
       "      <td>Ho Chi Minh, Da Nang, Ha Noi</td>\n",
       "      <td>Outsourcing</td>\n",
       "      <td>1000+</td>\n",
       "      <td>United States</td>\n",
       "      <td>Monday - Friday</td>\n",
       "      <td>No OT</td>\n",
       "      <td>Established in 2009, KMS Technology is a U.S.-...</td>\n",
       "      <td>NaN</td>\n",
       "      <td>Want to be the Best? Join KMS!\\n\\n\\nIt’s posit...</td>\n",
       "    </tr>\n",
       "    <tr>\n",
       "      <th>3</th>\n",
       "      <td>kms-technology:jrsrprincipal_java_developer_bonus</td>\n",
       "      <td>kms-technology</td>\n",
       "      <td>(Jr/Sr/Principal) Java Developer- BONUS</td>\n",
       "      <td>Java   JavaScript   Spring</td>\n",
       "      <td>174 Thai Ha, Dong Da, Ha Noi</td>\n",
       "      <td>Inspired Leadership Team and Talented Colleagu...</td>\n",
       "      <td>Full 13th Month Salary ***Apply and Join in Se...</td>\n",
       "      <td>KMS Technology</td>\n",
       "      <td>4.0</td>\n",
       "      <td>197.0</td>\n",
       "      <td>Ho Chi Minh, Da Nang, Ha Noi</td>\n",
       "      <td>Outsourcing</td>\n",
       "      <td>1000+</td>\n",
       "      <td>United States</td>\n",
       "      <td>Monday - Friday</td>\n",
       "      <td>No OT</td>\n",
       "      <td>Established in 2009, KMS Technology is a U.S.-...</td>\n",
       "      <td>NaN</td>\n",
       "      <td>Want to be the Best? Join KMS!\\n\\n\\nIt’s posit...</td>\n",
       "    </tr>\n",
       "    <tr>\n",
       "      <th>4</th>\n",
       "      <td>kms-technology:product_manager_kms_labs_bonus</td>\n",
       "      <td>kms-technology</td>\n",
       "      <td>Product Manager, KMS Labs - BONUS</td>\n",
       "      <td>Product Manager   English   Manager</td>\n",
       "      <td>290/26 Nam Ky Khoi Nghia, ward 8, District 3, ...</td>\n",
       "      <td>Inspired Leadership Team and Talented Colleagu...</td>\n",
       "      <td>KMS Labs\\n is the startup incubation arm of KM...</td>\n",
       "      <td>KMS Technology</td>\n",
       "      <td>4.0</td>\n",
       "      <td>197.0</td>\n",
       "      <td>Ho Chi Minh, Da Nang, Ha Noi</td>\n",
       "      <td>Outsourcing</td>\n",
       "      <td>1000+</td>\n",
       "      <td>United States</td>\n",
       "      <td>Monday - Friday</td>\n",
       "      <td>No OT</td>\n",
       "      <td>Established in 2009, KMS Technology is a U.S.-...</td>\n",
       "      <td>NaN</td>\n",
       "      <td>Want to be the Best? Join KMS!\\n\\n\\nIt’s posit...</td>\n",
       "    </tr>\n",
       "  </tbody>\n",
       "</table>\n",
       "</div>"
      ],
      "text/plain": [
       "                                              job_id      company_id  \\\n",
       "0     kms-technology:jrsr_qa_engineer_kms_labs_bonus  kms-technology   \n",
       "1           kms-technology:engineering_manager_bonus  kms-technology   \n",
       "2  kms-technology:fullstack_mobile_mobilenodejs_k...  kms-technology   \n",
       "3  kms-technology:jrsrprincipal_java_developer_bonus  kms-technology   \n",
       "4      kms-technology:product_manager_kms_labs_bonus  kms-technology   \n",
       "\n",
       "                                   job_name  \\\n",
       "0     (Jr/Sr) QA Engineer, KMS Labs - BONUS   \n",
       "1               Engineering Manager - BONUS   \n",
       "2  Fullstack Mobile (Mobile,NodeJs) Kobiton   \n",
       "3   (Jr/Sr/Principal) Java Developer- BONUS   \n",
       "4         Product Manager, KMS Labs - BONUS   \n",
       "\n",
       "                                      taglist  \\\n",
       "0                   QA QC   English   Tester    \n",
       "1          Project Manager   Agile   English    \n",
       "2   NodeJS   React Native   Fresher Accepted    \n",
       "3                 Java   JavaScript   Spring    \n",
       "4        Product Manager   English   Manager    \n",
       "\n",
       "                                            location  \\\n",
       "0  290/26 Nam Ky Khoi Nghia, ward 8, District 3, ...   \n",
       "1         02 Tan Vien, ward 2, Tan Binh, Ho Chi Minh   \n",
       "2         02 Tan Vien, ward 2, Tan Binh, Ho Chi Minh   \n",
       "3                       174 Thai Ha, Dong Da, Ha Noi   \n",
       "4  290/26 Nam Ky Khoi Nghia, ward 8, District 3, ...   \n",
       "\n",
       "                                       three_reasons  \\\n",
       "0  Inspired Leadership Team and Talented Colleagu...   \n",
       "1  Inspired Leadership Team and Talented Colleagu...   \n",
       "2  Inspired Leadership Team and Talented Colleagu...   \n",
       "3  Inspired Leadership Team and Talented Colleagu...   \n",
       "4  Inspired Leadership Team and Talented Colleagu...   \n",
       "\n",
       "                                         description    company_name  \\\n",
       "0  KMS Labs is the startup incubation arm of KMS ...  KMS Technology   \n",
       "1  Full 13th Month Salary. ***Apply and Join in S...  KMS Technology   \n",
       "2  is the mobile experience platform trusted by l...  KMS Technology   \n",
       "3  Full 13th Month Salary ***Apply and Join in Se...  KMS Technology   \n",
       "4  KMS Labs\\n is the startup incubation arm of KM...  KMS Technology   \n",
       "\n",
       "   average_rating  num_reviews                        cities         type  \\\n",
       "0             4.0        197.0  Ho Chi Minh, Da Nang, Ha Noi  Outsourcing   \n",
       "1             4.0        197.0  Ho Chi Minh, Da Nang, Ha Noi  Outsourcing   \n",
       "2             4.0        197.0  Ho Chi Minh, Da Nang, Ha Noi  Outsourcing   \n",
       "3             4.0        197.0  Ho Chi Minh, Da Nang, Ha Noi  Outsourcing   \n",
       "4             4.0        197.0  Ho Chi Minh, Da Nang, Ha Noi  Outsourcing   \n",
       "\n",
       "  num_employees        country     working_days overtime  \\\n",
       "0         1000+  United States  Monday - Friday    No OT   \n",
       "1         1000+  United States  Monday - Friday    No OT   \n",
       "2         1000+  United States  Monday - Friday    No OT   \n",
       "3         1000+  United States  Monday - Friday    No OT   \n",
       "4         1000+  United States  Monday - Friday    No OT   \n",
       "\n",
       "                                            overview expertise  \\\n",
       "0  Established in 2009, KMS Technology is a U.S.-...       NaN   \n",
       "1  Established in 2009, KMS Technology is a U.S.-...       NaN   \n",
       "2  Established in 2009, KMS Technology is a U.S.-...       NaN   \n",
       "3  Established in 2009, KMS Technology is a U.S.-...       NaN   \n",
       "4  Established in 2009, KMS Technology is a U.S.-...       NaN   \n",
       "\n",
       "                                             benefit  \n",
       "0  Want to be the Best? Join KMS!\\n\\n\\nIt’s posit...  \n",
       "1  Want to be the Best? Join KMS!\\n\\n\\nIt’s posit...  \n",
       "2  Want to be the Best? Join KMS!\\n\\n\\nIt’s posit...  \n",
       "3  Want to be the Best? Join KMS!\\n\\n\\nIt’s posit...  \n",
       "4  Want to be the Best? Join KMS!\\n\\n\\nIt’s posit...  "
      ]
     },
     "execution_count": 40,
     "metadata": {},
     "output_type": "execute_result"
    }
   ],
   "source": [
    "jobs_companies_df = pd.merge(jobs_df, companies_df, on = \"company_id\")\n",
    "jobs_companies_df.head()"
   ]
  },
  {
   "cell_type": "markdown",
   "id": "c076c1f0",
   "metadata": {},
   "source": [
    "Loại bỏ những cột không liên quan, chỉ sử dụng cột cần thiết."
   ]
  },
  {
   "cell_type": "code",
   "execution_count": 104,
   "id": "110d0396",
   "metadata": {},
   "outputs": [
    {
     "data": {
      "text/html": [
       "<div>\n",
       "<style scoped>\n",
       "    .dataframe tbody tr th:only-of-type {\n",
       "        vertical-align: middle;\n",
       "    }\n",
       "\n",
       "    .dataframe tbody tr th {\n",
       "        vertical-align: top;\n",
       "    }\n",
       "\n",
       "    .dataframe thead th {\n",
       "        text-align: right;\n",
       "    }\n",
       "</style>\n",
       "<table border=\"1\" class=\"dataframe\">\n",
       "  <thead>\n",
       "    <tr style=\"text-align: right;\">\n",
       "      <th></th>\n",
       "      <th>company_name</th>\n",
       "      <th>num_employees</th>\n",
       "      <th>country</th>\n",
       "      <th>job_id</th>\n",
       "    </tr>\n",
       "  </thead>\n",
       "  <tbody>\n",
       "    <tr>\n",
       "      <th>0</th>\n",
       "      <td>KMS Technology</td>\n",
       "      <td>1000+</td>\n",
       "      <td>United States</td>\n",
       "      <td>kms-technology:jrsr_qa_engineer_kms_labs_bonus</td>\n",
       "    </tr>\n",
       "    <tr>\n",
       "      <th>1</th>\n",
       "      <td>KMS Technology</td>\n",
       "      <td>1000+</td>\n",
       "      <td>United States</td>\n",
       "      <td>kms-technology:engineering_manager_bonus</td>\n",
       "    </tr>\n",
       "    <tr>\n",
       "      <th>2</th>\n",
       "      <td>KMS Technology</td>\n",
       "      <td>1000+</td>\n",
       "      <td>United States</td>\n",
       "      <td>kms-technology:fullstack_mobile_mobilenodejs_k...</td>\n",
       "    </tr>\n",
       "    <tr>\n",
       "      <th>3</th>\n",
       "      <td>KMS Technology</td>\n",
       "      <td>1000+</td>\n",
       "      <td>United States</td>\n",
       "      <td>kms-technology:jrsrprincipal_java_developer_bonus</td>\n",
       "    </tr>\n",
       "    <tr>\n",
       "      <th>4</th>\n",
       "      <td>KMS Technology</td>\n",
       "      <td>1000+</td>\n",
       "      <td>United States</td>\n",
       "      <td>kms-technology:product_manager_kms_labs_bonus</td>\n",
       "    </tr>\n",
       "    <tr>\n",
       "      <th>...</th>\n",
       "      <td>...</td>\n",
       "      <td>...</td>\n",
       "      <td>...</td>\n",
       "      <td>...</td>\n",
       "    </tr>\n",
       "    <tr>\n",
       "      <th>1406</th>\n",
       "      <td>Go Game Vietnam Limited Liability Company</td>\n",
       "      <td>1-50</td>\n",
       "      <td>Singapore</td>\n",
       "      <td>go-game-vietnam-limited-liability-company:unit...</td>\n",
       "    </tr>\n",
       "    <tr>\n",
       "      <th>1407</th>\n",
       "      <td>Đại Việt Group</td>\n",
       "      <td>501-1000</td>\n",
       "      <td>Vietnam</td>\n",
       "      <td>dai-viet-group:software_developer_net_c_aspnet</td>\n",
       "    </tr>\n",
       "    <tr>\n",
       "      <th>1408</th>\n",
       "      <td>MISA SOFTWARE</td>\n",
       "      <td>1000+</td>\n",
       "      <td>Vietnam</td>\n",
       "      <td>misa-software:net_dev_net_core_c_signon_bonus</td>\n",
       "    </tr>\n",
       "    <tr>\n",
       "      <th>1409</th>\n",
       "      <td>Thuocsi.vn</td>\n",
       "      <td>151-300</td>\n",
       "      <td>Vietnam</td>\n",
       "      <td>thuocsi-vn:remote_fullstack_dev_javascript</td>\n",
       "    </tr>\n",
       "    <tr>\n",
       "      <th>1410</th>\n",
       "      <td>MOBILE HEALTH VIETNAM</td>\n",
       "      <td>1-50</td>\n",
       "      <td>Singapore</td>\n",
       "      <td>mobile-health-vietnam:senior_python_developer</td>\n",
       "    </tr>\n",
       "  </tbody>\n",
       "</table>\n",
       "<p>1411 rows × 4 columns</p>\n",
       "</div>"
      ],
      "text/plain": [
       "                                   company_name num_employees        country  \\\n",
       "0                                KMS Technology         1000+  United States   \n",
       "1                                KMS Technology         1000+  United States   \n",
       "2                                KMS Technology         1000+  United States   \n",
       "3                                KMS Technology         1000+  United States   \n",
       "4                                KMS Technology         1000+  United States   \n",
       "...                                         ...           ...            ...   \n",
       "1406  Go Game Vietnam Limited Liability Company          1-50      Singapore   \n",
       "1407                             Đại Việt Group      501-1000        Vietnam   \n",
       "1408                              MISA SOFTWARE         1000+        Vietnam   \n",
       "1409                                 Thuocsi.vn       151-300        Vietnam   \n",
       "1410                      MOBILE HEALTH VIETNAM          1-50      Singapore   \n",
       "\n",
       "                                                 job_id  \n",
       "0        kms-technology:jrsr_qa_engineer_kms_labs_bonus  \n",
       "1              kms-technology:engineering_manager_bonus  \n",
       "2     kms-technology:fullstack_mobile_mobilenodejs_k...  \n",
       "3     kms-technology:jrsrprincipal_java_developer_bonus  \n",
       "4         kms-technology:product_manager_kms_labs_bonus  \n",
       "...                                                 ...  \n",
       "1406  go-game-vietnam-limited-liability-company:unit...  \n",
       "1407     dai-viet-group:software_developer_net_c_aspnet  \n",
       "1408      misa-software:net_dev_net_core_c_signon_bonus  \n",
       "1409         thuocsi-vn:remote_fullstack_dev_javascript  \n",
       "1410      mobile-health-vietnam:senior_python_developer  \n",
       "\n",
       "[1411 rows x 4 columns]"
      ]
     },
     "execution_count": 104,
     "metadata": {},
     "output_type": "execute_result"
    }
   ],
   "source": [
    "columns = [\"company_name\", \"num_employees\", \"country\",\"job_id\"]\n",
    "jobs_companies_df = jobs_companies_df[columns]\n",
    "jobs_companies_df"
   ]
  },
  {
   "cell_type": "markdown",
   "id": "cc510787",
   "metadata": {},
   "source": [
    "Dữ liệu đã sẵn sàng để phân tích và trực quan."
   ]
  },
  {
   "cell_type": "markdown",
   "id": "2169811d",
   "metadata": {},
   "source": [
    "### 3.2.3 Analysis, Visualization"
   ]
  },
  {
   "cell_type": "markdown",
   "id": "60e25bbc",
   "metadata": {},
   "source": [
    "Trước hết, ta phải thống kê số lượng các tuyển dụng theo quy mô công ty và quốc gia (`num_employees` và `country`)"
   ]
  },
  {
   "cell_type": "code",
   "execution_count": 108,
   "id": "53a29d24",
   "metadata": {},
   "outputs": [
    {
     "data": {
      "text/plain": [
       "country             num_employees\n",
       "Vietnam             1-50             262\n",
       "                    51-150           167\n",
       "                    1000+            129\n",
       "                    151-300          122\n",
       "Singapore           51-150            65\n",
       "                    1-50              61\n",
       "Vietnam             301-500           42\n",
       "United States       51-150            39\n",
       "Japan               1-50              37\n",
       "                    51-150            36\n",
       "United States       1-50              36\n",
       "Vietnam             501-1000          28\n",
       "Australia           51-150            21\n",
       "United States       1000+             20\n",
       "Korea, Republic of  51-150            20\n",
       "Germany             51-150            15\n",
       "Korea, Republic of  1-50              15\n",
       "Germany             1-50              15\n",
       "United States       151-300           14\n",
       "Australia           1-50              14\n",
       "Japan               301-500           12\n",
       "France              301-500           11\n",
       "Switzerland         51-150            11\n",
       "United States       301-500           11\n",
       "Norway              51-150            10\n",
       "Australia           301-500            9\n",
       "France              51-150             8\n",
       "                    1-50               8\n",
       "Germany             301-500            8\n",
       "Sweden              151-300            7\n",
       "dtype: int64"
      ]
     },
     "execution_count": 108,
     "metadata": {},
     "output_type": "execute_result"
    }
   ],
   "source": [
    "country_size_num = jobs_companies_df.groupby([\"country\",\"num_employees\"]).size().sort_values(ascending=False)\n",
    "country_size_num = country_size_num[0:30]\n",
    "country_size_num"
   ]
  },
  {
   "cell_type": "markdown",
   "id": "279d5784",
   "metadata": {},
   "source": [
    "Mục tiêu của công hỏi này nhằm hỏi về các công ty nước ngoài nên ta sẽ loại bỏ `Vietnam` để dữ liệu cân đối, không bị lệch quá về `Vietnam` và trực quan hóa cũng sẽ đẹp hơn.\n",
    "\n",
    "Ngoài ra ta còn phải sắp xếp lại các cột cho đúng với thứ tự ý nghĩa của nó."
   ]
  },
  {
   "cell_type": "code",
   "execution_count": 109,
   "id": "9c9a155b",
   "metadata": {},
   "outputs": [
    {
     "data": {
      "text/html": [
       "<div>\n",
       "<style scoped>\n",
       "    .dataframe tbody tr th:only-of-type {\n",
       "        vertical-align: middle;\n",
       "    }\n",
       "\n",
       "    .dataframe tbody tr th {\n",
       "        vertical-align: top;\n",
       "    }\n",
       "\n",
       "    .dataframe thead th {\n",
       "        text-align: right;\n",
       "    }\n",
       "</style>\n",
       "<table border=\"1\" class=\"dataframe\">\n",
       "  <thead>\n",
       "    <tr style=\"text-align: right;\">\n",
       "      <th>num_employees</th>\n",
       "      <th>1-50</th>\n",
       "      <th>51-150</th>\n",
       "      <th>151-300</th>\n",
       "      <th>301-500</th>\n",
       "      <th>501-1000</th>\n",
       "      <th>1000+</th>\n",
       "    </tr>\n",
       "    <tr>\n",
       "      <th>country</th>\n",
       "      <th></th>\n",
       "      <th></th>\n",
       "      <th></th>\n",
       "      <th></th>\n",
       "      <th></th>\n",
       "      <th></th>\n",
       "    </tr>\n",
       "  </thead>\n",
       "  <tbody>\n",
       "    <tr>\n",
       "      <th>Singapore</th>\n",
       "      <td>61.0</td>\n",
       "      <td>65.0</td>\n",
       "      <td>NaN</td>\n",
       "      <td>NaN</td>\n",
       "      <td>NaN</td>\n",
       "      <td>NaN</td>\n",
       "    </tr>\n",
       "    <tr>\n",
       "      <th>United States</th>\n",
       "      <td>36.0</td>\n",
       "      <td>39.0</td>\n",
       "      <td>14.0</td>\n",
       "      <td>11.0</td>\n",
       "      <td>NaN</td>\n",
       "      <td>20.0</td>\n",
       "    </tr>\n",
       "    <tr>\n",
       "      <th>Japan</th>\n",
       "      <td>37.0</td>\n",
       "      <td>36.0</td>\n",
       "      <td>NaN</td>\n",
       "      <td>12.0</td>\n",
       "      <td>NaN</td>\n",
       "      <td>NaN</td>\n",
       "    </tr>\n",
       "    <tr>\n",
       "      <th>Australia</th>\n",
       "      <td>14.0</td>\n",
       "      <td>21.0</td>\n",
       "      <td>NaN</td>\n",
       "      <td>9.0</td>\n",
       "      <td>NaN</td>\n",
       "      <td>NaN</td>\n",
       "    </tr>\n",
       "    <tr>\n",
       "      <th>Korea, Republic of</th>\n",
       "      <td>15.0</td>\n",
       "      <td>20.0</td>\n",
       "      <td>NaN</td>\n",
       "      <td>NaN</td>\n",
       "      <td>NaN</td>\n",
       "      <td>NaN</td>\n",
       "    </tr>\n",
       "    <tr>\n",
       "      <th>Germany</th>\n",
       "      <td>15.0</td>\n",
       "      <td>15.0</td>\n",
       "      <td>NaN</td>\n",
       "      <td>8.0</td>\n",
       "      <td>NaN</td>\n",
       "      <td>NaN</td>\n",
       "    </tr>\n",
       "    <tr>\n",
       "      <th>France</th>\n",
       "      <td>8.0</td>\n",
       "      <td>8.0</td>\n",
       "      <td>NaN</td>\n",
       "      <td>11.0</td>\n",
       "      <td>NaN</td>\n",
       "      <td>NaN</td>\n",
       "    </tr>\n",
       "    <tr>\n",
       "      <th>Switzerland</th>\n",
       "      <td>NaN</td>\n",
       "      <td>11.0</td>\n",
       "      <td>NaN</td>\n",
       "      <td>NaN</td>\n",
       "      <td>NaN</td>\n",
       "      <td>NaN</td>\n",
       "    </tr>\n",
       "    <tr>\n",
       "      <th>Norway</th>\n",
       "      <td>NaN</td>\n",
       "      <td>10.0</td>\n",
       "      <td>NaN</td>\n",
       "      <td>NaN</td>\n",
       "      <td>NaN</td>\n",
       "      <td>NaN</td>\n",
       "    </tr>\n",
       "    <tr>\n",
       "      <th>Sweden</th>\n",
       "      <td>NaN</td>\n",
       "      <td>NaN</td>\n",
       "      <td>7.0</td>\n",
       "      <td>NaN</td>\n",
       "      <td>NaN</td>\n",
       "      <td>NaN</td>\n",
       "    </tr>\n",
       "  </tbody>\n",
       "</table>\n",
       "</div>"
      ],
      "text/plain": [
       "num_employees       1-50  51-150  151-300  301-500  501-1000  1000+\n",
       "country                                                            \n",
       "Singapore           61.0    65.0      NaN      NaN       NaN    NaN\n",
       "United States       36.0    39.0     14.0     11.0       NaN   20.0\n",
       "Japan               37.0    36.0      NaN     12.0       NaN    NaN\n",
       "Australia           14.0    21.0      NaN      9.0       NaN    NaN\n",
       "Korea, Republic of  15.0    20.0      NaN      NaN       NaN    NaN\n",
       "Germany             15.0    15.0      NaN      8.0       NaN    NaN\n",
       "France               8.0     8.0      NaN     11.0       NaN    NaN\n",
       "Switzerland          NaN    11.0      NaN      NaN       NaN    NaN\n",
       "Norway               NaN    10.0      NaN      NaN       NaN    NaN\n",
       "Sweden               NaN     NaN      7.0      NaN       NaN    NaN"
      ]
     },
     "execution_count": 109,
     "metadata": {},
     "output_type": "execute_result"
    }
   ],
   "source": [
    "country_size_num = country_size_num.unstack().drop(\"Vietnam\")\n",
    "country_size_num = country_size_num[[\"1-50\",\"51-150\",\"151-300\",\"301-500\",\"501-1000\",\"1000+\"]]\n",
    "country_size_num"
   ]
  },
  {
   "cell_type": "markdown",
   "id": "83e1063f",
   "metadata": {},
   "source": [
    "Sử dụng biểu đồ cột chồng (stacked bar chart) để thể hiện được mối quan hệ thành phần, số lượng công việc tuyển dụng của các quốc gia theo các quy mô công ty."
   ]
  },
  {
   "cell_type": "code",
   "execution_count": 110,
   "id": "5ae186b7",
   "metadata": {},
   "outputs": [
    {
     "data": {
      "text/plain": [
       "<AxesSubplot:xlabel='country'>"
      ]
     },
     "execution_count": 110,
     "metadata": {},
     "output_type": "execute_result"
    },
    {
     "data": {
      "image/png": "[encoded data removed]",
      "text/plain": [
       "<Figure size 432x288 with 1 Axes>"
      ]
     },
     "metadata": {
      "needs_background": "light"
     },
     "output_type": "display_data"
    }
   ],
   "source": [
    "country_size_num.plot(kind = \"bar\", stacked = True)"
   ]
  },
  {
   "cell_type": "markdown",
   "id": "d44c5a11",
   "metadata": {},
   "source": [
    "### 3.2.4 Kết luận"
   ]
  },
  {
   "cell_type": "markdown",
   "id": "116fdbee",
   "metadata": {},
   "source": [
    "Như vậy, ta đã có thể trả lời được câu hỏi: \"Quốc gia nào đang tuyển dụng nhân lực ngành IT nhiều nhất tại Việt Nam?\"\n",
    "\n",
    "Qua trực quan thì dễ dàng thấy được `Singapore`, `United States` và `Japan` là 3 quốc gia hiện tại đang tuyển dụng nhiều nhân lực ngành IT ở Việt Nam với hơn 80 job hiện tại. Tuy nhiên thì các công ty đang tuyển dụng nhân lực đa phần còn non trẻ, có quy mô nhỏ, quy mô chủ yếu khoảng `1-50` và `51-150`. Điều này càng phản ánh 1 điều, càng ngày các quốc gia nước ngoài đang có xu hướng đầu từ dần sang Việt Nam bằng cách mở các chi nhánh nhỏ rồi dần quy mô hóa công ty. Cho thấy được khả năng ngoại ngữ có mức độ quan trọng rất lớn. \n",
    "\n",
    "Nhìn chung đa phần các quốc gia đều sử dụng tiếng Anh để có thể làm việc chung. Tuy nhiên ngoài các quốc gia sử dụng thuần tiếng Anh thì `Japan`,`Korea`, `Germany` hay `France` còn sử dụng ngôn ngữ gốc. Việc chọn một trong các ngôn ngữ này học sẽ là một lợi thế lớn trong việc tuyển dụng, làm việc và thăng tiến sau này nếu làm trong các công ty thuộc quốc gia đó."
   ]
  },
  {
   "cell_type": "markdown",
   "id": "62b26be3",
   "metadata": {},
   "source": [
    "## 3.3 Phương hướng phát triển nếu còn thời gian"
   ]
  },
  {
   "cell_type": "markdown",
   "id": "0aeaed66",
   "metadata": {},
   "source": [
    "# 4. Cảm nhận sau khi kết thúc môn học"
   ]
  },
  {
   "cell_type": "markdown",
   "id": "68872f4a",
   "metadata": {},
   "source": [
    "## 4.1 Lê Đức Huy - 19120080"
   ]
  },
  {
   "cell_type": "markdown",
   "id": "8a1c94ab",
   "metadata": {},
   "source": [
    "Trước hết là về giảng viên hướng dẫn là thầy Trần Trung Kiên:\n",
    "\n",
    "Không phải em cố tình khen nhưng thực sự thầy dạy học rất nhiệt tình, thầy rất thân thiện với sinh viên đôi khi còn hay đùa để tạo tiếng cười giúp buổi học đỡ căng thẳng mệt mỏi, bài học của thầy rất cụ thể với từng bước demo rất rõ ràng, dễ hình dùng và hiểu bài rõ hơn.\n",
    "\n",
    "Thứ 2 là về môn học \"Lập trình cho khoa học dữ liệu\":\n",
    "\n",
    "Với một người dần mất định hướng về nghề nghiệp như em thì khi đăng ký học môn này quả là một lựa chọn đúng đắn. Kiến thức môn học này tuy chỉ ở mức \"basic\" nhưng thực sự rất hay, mở ra một con đường mới mà em có thể theo đuổi.\n",
    "\n",
    "Từ khi bắt đầu với xuất phát điểm hơi thấp như là mới biết về cơ bản Python, chỉ sử dụng Windows thì qua môn học này thì em có thêm nhiều kiến thức mới, dần làm quen với vài câu lệnh Linux, làm việc nhiều hơn với Python, với các thư viện về dữ liệu và càng ngày kỹ năng càng được cải thiện rõ rệt qua các bài tập lab. Nếu xui xui rớt môn thì chắc chắn em sẽ đăng ký học lại ><! =)\n",
    "\n",
    "Chung quy lại là môn học này hay, kiến thức bổ ích, giảng viên nhiệt tình, nên học dù là có theo hướng data science hay không vì tính ứng dụng có nó mang lại, có thể sử dụng trong nhiều công việc sau này."
   ]
  },
  {
   "cell_type": "markdown",
   "id": "d941c710",
   "metadata": {},
   "source": [
    "## 4.2 Mai Duy Nam - 19120298"
   ]
  },
  {
   "cell_type": "markdown",
   "id": "a108f516",
   "metadata": {},
   "source": [
    "# 5. Tài liệu tham khảo"
   ]
  },
  {
   "cell_type": "markdown",
   "id": "c817c2ed",
   "metadata": {},
   "source": [
    "Link dataset: https://www.kaggle.com/halhuynh/it-jobs-dataset \n",
    "\n",
    "Pandas: https://pandas.pydata.org/docs/ "
   ]
  }
 ],
 "metadata": {
  "kernelspec": {
   "display_name": "Python 3 (ipykernel)",
   "language": "python",
   "name": "python3"
  },
  "language_info": {
   "codemirror_mode": {
    "name": "ipython",
    "version": 3
   },
   "file_extension": ".py",
   "mimetype": "text/x-python",
   "name": "python",
   "nbconvert_exporter": "python",
   "pygments_lexer": "ipython3",
   "version": "3.8.8"
  },
  "toc": {
   "base_numbering": 1,
   "nav_menu": {},
   "number_sections": true,
   "sideBar": true,
   "skip_h1_title": false,
   "title_cell": "Table of Contents",
   "title_sidebar": "Contents",
   "toc_cell": false,
   "toc_position": {},
   "toc_section_display": true,
   "toc_window_display": false
  }
 },
 "nbformat": 4,
 "nbformat_minor": 5
}

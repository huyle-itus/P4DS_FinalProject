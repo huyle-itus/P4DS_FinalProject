{
 "cells": [
  {
   "cell_type": "markdown",
   "id": "21d2e44e",
   "metadata": {
    "heading_collapsed": true
   },
   "source": [
    "# 1. Thông tin chung\n",
    "Thành viên:\n",
    "\n",
    "|MSSV|Họ tên|\n",
    "|----|-----|\n",
    "|19120080|Lê Đức Huy|\n",
    "|19120298|Mai Duy Nam|\n",
    "\n",
    "Kế hoạch làm việc: [Trello](https://trello.com/b/GkFmpb7h/p4dsfinalproject)\n",
    "\n",
    "Repo đồ án: [Github](https://github.com/huyle-itus/P4DS_FinalProject)"
   ]
  },
  {
   "cell_type": "markdown",
   "id": "8455cd55",
   "metadata": {},
   "source": [
    "# 2. Thông tin về dữ liệu"
   ]
  },
  {
   "cell_type": "markdown",
   "id": "1f188c02",
   "metadata": {
    "heading_collapsed": true
   },
   "source": [
    "## 2.1 Thông tin chung\n",
    "Dataset trong đồ án này được lấy từ Kaggle tại [đây](https://www.kaggle.com/halhuynh/it-jobs-dataset).\n",
    "\n",
    "Dataset này chứa thông tin về các công ty IT ở Việt Nam và các công việc được đăng tải bởi các công ty này. Dữ liệu này được tác giả crawl từ trang web [ITviec](https://itviec.com/). Dataset này bao gồm 2 file:\n",
    "* `companies.csv` chứa thông tin về các công ty (tên công ty, lượt rating, lượt review, địa chỉ, v.v.) có tăng tải việc làm trên ITviec\n",
    "* `jobs.csv` chứa thông tin về việc làm được đăng tải bởi các công ty (tên công việc, mô tả, yêu cầu kỹ năng, v.v.)\n",
    "\n",
    "Hai tập dữ liệu này có mối liên hệ với nhau thông qua cột `company_id`."
   ]
  },
  {
   "cell_type": "markdown",
   "id": "3d1d7568",
   "metadata": {},
   "source": [
    "## 2.2 Khám phá dữ liệu"
   ]
  },
  {
   "cell_type": "markdown",
   "id": "9b1edf6b",
   "metadata": {},
   "source": [
    "Ở các phần sau, ta lần lượt khám phá 2 bộ dữ liệu `companies` và `jobs` thu thập được"
   ]
  },
  {
   "cell_type": "markdown",
   "id": "f8cc9c1b",
   "metadata": {},
   "source": [
    "### 2.2.1 `companies`"
   ]
  },
  {
   "cell_type": "markdown",
   "id": "04583859",
   "metadata": {},
   "source": [
    "#### Nạp dữ liệu"
   ]
  },
  {
   "cell_type": "code",
   "execution_count": 1,
   "id": "ffa6b318",
   "metadata": {},
   "outputs": [],
   "source": [
    "import numpy as np\n",
    "import pandas as pd\n",
    "import matplotlib.pyplot as plt\n",
    "\n",
    "pd.options.display.float_format = '{:,.2f}'.format"
   ]
  },
  {
   "cell_type": "code",
   "execution_count": 2,
   "id": "b484c21c",
   "metadata": {},
   "outputs": [
    {
     "data": {
      "text/html": [
       "<div>\n",
       "<style scoped>\n",
       "    .dataframe tbody tr th:only-of-type {\n",
       "        vertical-align: middle;\n",
       "    }\n",
       "\n",
       "    .dataframe tbody tr th {\n",
       "        vertical-align: top;\n",
       "    }\n",
       "\n",
       "    .dataframe thead th {\n",
       "        text-align: right;\n",
       "    }\n",
       "</style>\n",
       "<table border=\"1\" class=\"dataframe\">\n",
       "  <thead>\n",
       "    <tr style=\"text-align: right;\">\n",
       "      <th></th>\n",
       "      <th>company_id</th>\n",
       "      <th>company_name</th>\n",
       "      <th>average_rating</th>\n",
       "      <th>num_review</th>\n",
       "      <th>city</th>\n",
       "      <th>type</th>\n",
       "      <th>num_employee</th>\n",
       "      <th>country</th>\n",
       "      <th>working_day</th>\n",
       "      <th>OT</th>\n",
       "      <th>overview</th>\n",
       "      <th>expertise</th>\n",
       "      <th>benifit</th>\n",
       "      <th>logo_link</th>\n",
       "    </tr>\n",
       "  </thead>\n",
       "  <tbody>\n",
       "    <tr>\n",
       "      <th>0</th>\n",
       "      <td>kms-technology</td>\n",
       "      <td>KMS Technology</td>\n",
       "      <td>4.00</td>\n",
       "      <td>197 Reviews</td>\n",
       "      <td>Ho Chi Minh, Da Nang, Ha Noi</td>\n",
       "      <td>Outsourcing</td>\n",
       "      <td>1000+</td>\n",
       "      <td>United States</td>\n",
       "      <td>Monday - Friday</td>\n",
       "      <td>No OT</td>\n",
       "      <td>Established in 2009, KMS Technology is a U.S.-...</td>\n",
       "      <td>NaN</td>\n",
       "      <td>Want to be the Best? Join KMS!\\n\\n\\nIt’s posit...</td>\n",
       "      <td>https://itviec.com/rails/active_storage/repres...</td>\n",
       "    </tr>\n",
       "    <tr>\n",
       "      <th>1</th>\n",
       "      <td>nab-in-collaboration-with-positive-thinking-co...</td>\n",
       "      <td>NAB in collaboration with Positive Thinking Co...</td>\n",
       "      <td>4.40</td>\n",
       "      <td>11 Reviews</td>\n",
       "      <td>Ho Chi Minh</td>\n",
       "      <td>Product</td>\n",
       "      <td>501-1000</td>\n",
       "      <td>Australia</td>\n",
       "      <td>Monday - Friday</td>\n",
       "      <td>No OT</td>\n",
       "      <td>NAB in collaboration with Positive Thinking Co...</td>\n",
       "      <td>Languages &amp;amp; Frameworks\\n\\n\\nJavaScript ES6...</td>\n",
       "      <td>THE BENEFITS AND PERKS\\n\\n\\n\\n\\nVery competiti...</td>\n",
       "      <td>https://itviec.com/rails/active_storage/repres...</td>\n",
       "    </tr>\n",
       "    <tr>\n",
       "      <th>2</th>\n",
       "      <td>robert-bosch-engineering-and-business-solutions</td>\n",
       "      <td>Robert Bosch Engineering And Business Solutions</td>\n",
       "      <td>3.20</td>\n",
       "      <td>217 Reviews</td>\n",
       "      <td>Ho Chi Minh, Ha Noi</td>\n",
       "      <td>Product</td>\n",
       "      <td>1-50</td>\n",
       "      <td>Germany</td>\n",
       "      <td>Monday - Friday</td>\n",
       "      <td>No OT</td>\n",
       "      <td>Robert BOSCH Engineering and Business Solution...</td>\n",
       "      <td>Embedded Software for Automotive Applications\\...</td>\n",
       "      <td>Why \\nBOSCH\\n?\\n\\nBecause we don't just follow...</td>\n",
       "      <td>https://itviec.com/rails/active_storage/repres...</td>\n",
       "    </tr>\n",
       "    <tr>\n",
       "      <th>3</th>\n",
       "      <td>gft-technologies-vietnam</td>\n",
       "      <td>GFT Technologies Vietnam</td>\n",
       "      <td>NaN</td>\n",
       "      <td>Reviews</td>\n",
       "      <td>Ho Chi Minh, Ha Noi</td>\n",
       "      <td>Outsourcing</td>\n",
       "      <td>51-150</td>\n",
       "      <td>Germany</td>\n",
       "      <td>Monday - Friday</td>\n",
       "      <td>No OT</td>\n",
       "      <td>Working at GFT Vietnam\\n\\n\\nGFT is driving the...</td>\n",
       "      <td>Technical frameworks\\n\\n\\nJava/Kotlin, Spring ...</td>\n",
       "      <td>HR benefits\\n\\n\\n\\n\\nCompetitive salary\\n\\n\\nS...</td>\n",
       "      <td>https://itviec.com/rails/active_storage/repres...</td>\n",
       "    </tr>\n",
       "    <tr>\n",
       "      <th>4</th>\n",
       "      <td>tyme</td>\n",
       "      <td>Tyme</td>\n",
       "      <td>4.60</td>\n",
       "      <td>29 Reviews</td>\n",
       "      <td>Ho Chi Minh, Ha Noi</td>\n",
       "      <td>Product</td>\n",
       "      <td>151-300</td>\n",
       "      <td>Vietnam</td>\n",
       "      <td>Monday - Friday</td>\n",
       "      <td>No OT</td>\n",
       "      <td>Tyme Vietnam\\n is the international arm of \\nT...</td>\n",
       "      <td>Mobile/ Tablet Development: \\nNative Android/i...</td>\n",
       "      <td>Our goal is simple: to be the #1 digital techn...</td>\n",
       "      <td>https://itviec.com/rails/active_storage/repres...</td>\n",
       "    </tr>\n",
       "  </tbody>\n",
       "</table>\n",
       "</div>"
      ],
      "text/plain": [
       "                                          company_id  \\\n",
       "0                                     kms-technology   \n",
       "1  nab-in-collaboration-with-positive-thinking-co...   \n",
       "2    robert-bosch-engineering-and-business-solutions   \n",
       "3                           gft-technologies-vietnam   \n",
       "4                                               tyme   \n",
       "\n",
       "                                        company_name  average_rating  \\\n",
       "0                                     KMS Technology            4.00   \n",
       "1  NAB in collaboration with Positive Thinking Co...            4.40   \n",
       "2    Robert Bosch Engineering And Business Solutions            3.20   \n",
       "3                           GFT Technologies Vietnam             NaN   \n",
       "4                                               Tyme            4.60   \n",
       "\n",
       "    num_review                          city         type num_employee  \\\n",
       "0  197 Reviews  Ho Chi Minh, Da Nang, Ha Noi  Outsourcing        1000+   \n",
       "1   11 Reviews                   Ho Chi Minh      Product     501-1000   \n",
       "2  217 Reviews           Ho Chi Minh, Ha Noi      Product         1-50   \n",
       "3      Reviews           Ho Chi Minh, Ha Noi  Outsourcing       51-150   \n",
       "4   29 Reviews           Ho Chi Minh, Ha Noi      Product      151-300   \n",
       "\n",
       "         country      working_day     OT  \\\n",
       "0  United States  Monday - Friday  No OT   \n",
       "1      Australia  Monday - Friday  No OT   \n",
       "2        Germany  Monday - Friday  No OT   \n",
       "3        Germany  Monday - Friday  No OT   \n",
       "4        Vietnam  Monday - Friday  No OT   \n",
       "\n",
       "                                            overview  \\\n",
       "0  Established in 2009, KMS Technology is a U.S.-...   \n",
       "1  NAB in collaboration with Positive Thinking Co...   \n",
       "2  Robert BOSCH Engineering and Business Solution...   \n",
       "3  Working at GFT Vietnam\\n\\n\\nGFT is driving the...   \n",
       "4  Tyme Vietnam\\n is the international arm of \\nT...   \n",
       "\n",
       "                                           expertise  \\\n",
       "0                                                NaN   \n",
       "1  Languages &amp; Frameworks\\n\\n\\nJavaScript ES6...   \n",
       "2  Embedded Software for Automotive Applications\\...   \n",
       "3  Technical frameworks\\n\\n\\nJava/Kotlin, Spring ...   \n",
       "4  Mobile/ Tablet Development: \\nNative Android/i...   \n",
       "\n",
       "                                             benifit  \\\n",
       "0  Want to be the Best? Join KMS!\\n\\n\\nIt’s posit...   \n",
       "1  THE BENEFITS AND PERKS\\n\\n\\n\\n\\nVery competiti...   \n",
       "2  Why \\nBOSCH\\n?\\n\\nBecause we don't just follow...   \n",
       "3  HR benefits\\n\\n\\n\\n\\nCompetitive salary\\n\\n\\nS...   \n",
       "4  Our goal is simple: to be the #1 digital techn...   \n",
       "\n",
       "                                           logo_link  \n",
       "0  https://itviec.com/rails/active_storage/repres...  \n",
       "1  https://itviec.com/rails/active_storage/repres...  \n",
       "2  https://itviec.com/rails/active_storage/repres...  \n",
       "3  https://itviec.com/rails/active_storage/repres...  \n",
       "4  https://itviec.com/rails/active_storage/repres...  "
      ]
     },
     "execution_count": 2,
     "metadata": {},
     "output_type": "execute_result"
    }
   ],
   "source": [
    "companies_df = pd.read_csv('dataset/companies.csv')\n",
    "companies_df.head()"
   ]
  },
  {
   "cell_type": "markdown",
   "id": "e1bfd900",
   "metadata": {
    "heading_collapsed": true
   },
   "source": [
    "#### Số lượng dòng và cột"
   ]
  },
  {
   "cell_type": "code",
   "execution_count": 3,
   "id": "7b29e186",
   "metadata": {
    "hidden": true
   },
   "outputs": [
    {
     "name": "stdout",
     "output_type": "stream",
     "text": [
      "Number of rows: 2041\n",
      "Number of columns: 14\n"
     ]
    }
   ],
   "source": [
    "print('Number of rows: {}\\nNumber of columns: {}'.format(*companies_df.shape))"
   ]
  },
  {
   "cell_type": "markdown",
   "id": "9cc064ed",
   "metadata": {
    "heading_collapsed": true
   },
   "source": [
    "#### Các dòng có ý nghĩa gì?\n",
    "Mỗi dòng chứa thông tin của một công ty dựa theo trang ITviec. Mỗi công ty có một ID duy nhất."
   ]
  },
  {
   "cell_type": "markdown",
   "id": "d87b05a8",
   "metadata": {
    "hidden": true
   },
   "source": [
    "Kiểm tra có dòng nào bị lặp hay không."
   ]
  },
  {
   "cell_type": "code",
   "execution_count": 4,
   "id": "e58d138c",
   "metadata": {
    "hidden": true
   },
   "outputs": [
    {
     "data": {
      "text/plain": [
       "False"
      ]
     },
     "execution_count": 4,
     "metadata": {},
     "output_type": "execute_result"
    }
   ],
   "source": [
    "companies_df.duplicated().sum() != 0"
   ]
  },
  {
   "cell_type": "markdown",
   "id": "c124f400",
   "metadata": {
    "hidden": true
   },
   "source": [
    "Kiểm tra có ID công ty nào bị lặp hay không."
   ]
  },
  {
   "cell_type": "code",
   "execution_count": 5,
   "id": "f48fff36",
   "metadata": {
    "hidden": true
   },
   "outputs": [
    {
     "data": {
      "text/plain": [
       "False"
      ]
     },
     "execution_count": 5,
     "metadata": {},
     "output_type": "execute_result"
    }
   ],
   "source": [
    "companies_df.duplicated('company_id').sum() != 0"
   ]
  },
  {
   "cell_type": "markdown",
   "id": "f1d0dcf0",
   "metadata": {
    "heading_collapsed": true
   },
   "source": [
    "#### Các cột có ý nghĩa gì?\n",
    "Tác giả của bộ dữ liệu không mô tả chi tiết về ý nghĩa của các một mà chỉ nói \"The column names are self-explained\". Do đó ta phải tự suy luận về ý nghĩa của các cột:\n",
    "* `company_id`: ID của công ty\n",
    "* `company_name`: tên công ty\n",
    "* `average_rating`: số điểm rating trung bình của công ty trên thang điểm 5\n",
    "* `num_review`: số lượt review công ty\n",
    "* `city`: thành phố\n",
    "* `type`: loại hình công ty (outsourcing hay product)\n",
    "* `num_employee`: số lượng nhân viên\n",
    "* `country`: quốc gia\n",
    "* `working_day`: ngày làm việc trong tuần\n",
    "* `OT`: các chính sách về làm thêm giờ\n",
    "* `overview`: tổng quan về công ty\n",
    "* `expertise`: lĩnh vực chuyên ngành\n",
    "* `benifit` (sai chính tả, phải là `benefit`): lợi ích khi tham gia công ty\n",
    "* `logo_link`: đường dẫn đến logo công ty\n",
    "\n",
    "Có một vấn đề về ý nghĩa các cột: cột `city` không thống nhất với cột `country` (có công ty có thành phố là `Ho Chi Minh` nhưng quốc gia là `Australia`). Do các công ty có thể có nhiều trụ sở đặt ở nhiều quốc gia, trong cùng quốc gia cũng được đặt ở nhiều thành phố khác nhau, cho nên trong các bước phân tích tiếp theo ta sẽ giả sử hai cột `city` và `country` có ý nghĩa như sau:\n",
    "* Cột `city` chứa các thành phố ở Việt Nam nơi các văn phòng của công ty được đặt.\n",
    "* Cột `country` chứa quốc gia nơi trụ sở chính của công ty được đặt.\n",
    "\n",
    "Các cột còn lại đều có ý nghĩa rõ ràng, không có gì gây khó hiểu."
   ]
  },
  {
   "cell_type": "markdown",
   "id": "9598a760",
   "metadata": {
    "hidden": true
   },
   "source": [
    "Trước khi đến bước phân tích tiếp theo, ta thực hiện một số thay đổi về các cột như sau:\n",
    "* Đổi tên các cột cho hợp lý:\n",
    "    * Đổi tên cột `benifit` bị sai chính tả\n",
    "    * Đổi tên cột `city`, `num_review`, `num_employee` và `working_day` thành số nhiều\n",
    "    * Đổi tên cột `OT` thành `overtime` để thống nhất với các tên cột còn lại\n",
    "* Loại bỏ cột `logo_link` do không cần thiết"
   ]
  },
  {
   "cell_type": "code",
   "execution_count": 6,
   "id": "069ad747",
   "metadata": {
    "hidden": true
   },
   "outputs": [],
   "source": [
    "companies_df.rename(columns={'benifit': 'benefit',\n",
    "                             'city': 'cities',\n",
    "                             'num_review': 'num_reviews',\n",
    "                             'num_employee': 'num_employees',\n",
    "                             'working_day': 'working_days',\n",
    "                             'OT': 'overtime'}, inplace=True)\n",
    "companies_df.drop(columns='logo_link', inplace=True)"
   ]
  },
  {
   "cell_type": "markdown",
   "id": "6971bae2",
   "metadata": {
    "heading_collapsed": true
   },
   "source": [
    "#### Mỗi cột có kiểu dữ liệu thế nào và có phù hợp để xử lý tiếp không?"
   ]
  },
  {
   "cell_type": "code",
   "execution_count": 7,
   "id": "4fd32c46",
   "metadata": {
    "hidden": true
   },
   "outputs": [
    {
     "data": {
      "text/plain": [
       "company_id         object\n",
       "company_name       object\n",
       "average_rating    float64\n",
       "num_reviews        object\n",
       "cities             object\n",
       "type               object\n",
       "num_employees      object\n",
       "country            object\n",
       "working_days       object\n",
       "overtime           object\n",
       "overview           object\n",
       "expertise          object\n",
       "benefit            object\n",
       "dtype: object"
      ]
     },
     "execution_count": 7,
     "metadata": {},
     "output_type": "execute_result"
    }
   ],
   "source": [
    "companies_df.dtypes"
   ]
  },
  {
   "cell_type": "markdown",
   "id": "dc26fd92",
   "metadata": {
    "hidden": true
   },
   "source": [
    "Có hai cột có thể phải cân nhắc chuyển về dạng số là `num_reviews` và `num_employees`. Các cột khác đều đã có kiểu dữ liệu phù hợp.\n",
    "\n",
    "Đối với cột `num_employees`, dữ liệu của ta được thu thập theo dạng một khoảng giá trị. Việc chuyển đổi cột này về dạng số hay không phụ thuộc vào phân tích nào mà ta đang thực hiện. Do đó tạm thời ở bước này ta không thay đổi cột `num_employees`."
   ]
  },
  {
   "cell_type": "code",
   "execution_count": 8,
   "id": "1361a6a0",
   "metadata": {
    "hidden": true
   },
   "outputs": [
    {
     "data": {
      "text/plain": [
       "array(['1000+', '501-1000', '1-50', '51-150', '151-300', '301-500'],\n",
       "      dtype=object)"
      ]
     },
     "execution_count": 8,
     "metadata": {},
     "output_type": "execute_result"
    }
   ],
   "source": [
    "companies_df.num_employees.unique()"
   ]
  },
  {
   "cell_type": "markdown",
   "id": "4f64c97b",
   "metadata": {
    "hidden": true
   },
   "source": [
    "Đối với `num_reviews`, kiểm tra các giá trị unique của nó, ta thấy các giá trị đều có dạng: `\"<một số> Review[s]\"`, ngoại trừ giá trị duy nhất không tuân theo pattern này là `Reviews`. Vì vậy, ta có thể lấy ra giá trị số, lọc bỏ chuỗi ` Reviews` dư thừa và chuyển kiểu dữ liệu cột thành dạng float. Đối với giá trị `Reviews`, ta gán bằng 0."
   ]
  },
  {
   "cell_type": "code",
   "execution_count": 9,
   "id": "a71faf57",
   "metadata": {
    "hidden": true
   },
   "outputs": [
    {
     "data": {
      "text/plain": [
       "array(['197 Reviews', '11 Reviews', '217 Reviews', 'Reviews',\n",
       "       '29 Reviews', '16 Reviews', '8 Reviews', '60 Reviews', '9 Reviews',\n",
       "       '127 Reviews', '6 Reviews', '34 Reviews', '3 Reviews',\n",
       "       '20 Reviews', '185 Reviews', '1486 Reviews', '57 Reviews',\n",
       "       '22 Reviews', '68 Reviews', '1 Review', '21 Reviews', '12 Reviews',\n",
       "       '23 Reviews', '7 Reviews', '17 Reviews', '5 Reviews', '96 Reviews',\n",
       "       '37 Reviews', '207 Reviews', '109 Reviews', '4 Reviews',\n",
       "       '33 Reviews', '76 Reviews', '18 Reviews', '10 Reviews',\n",
       "       '2 Reviews', '65 Reviews', '15 Reviews', '41 Reviews',\n",
       "       '19 Reviews', '27 Reviews', '13 Reviews', '26 Reviews',\n",
       "       '42 Reviews', '183 Reviews', '24 Reviews', '54 Reviews',\n",
       "       '14 Reviews', '38 Reviews', '451 Reviews', '28 Reviews',\n",
       "       '36 Reviews', '52 Reviews', '31 Reviews', '92 Reviews',\n",
       "       '30 Reviews', '86 Reviews', '32 Reviews', '25 Reviews',\n",
       "       '43 Reviews', '46 Reviews', '97 Reviews', '44 Reviews',\n",
       "       '226 Reviews', '179 Reviews', '66 Reviews', '45 Reviews',\n",
       "       '49 Reviews', '58 Reviews', '232 Reviews', '87 Reviews'],\n",
       "      dtype=object)"
      ]
     },
     "execution_count": 9,
     "metadata": {},
     "output_type": "execute_result"
    }
   ],
   "source": [
    "companies_df.num_reviews.unique()"
   ]
  },
  {
   "cell_type": "code",
   "execution_count": 10,
   "id": "42fbca45",
   "metadata": {
    "hidden": true
   },
   "outputs": [
    {
     "data": {
      "text/plain": [
       "array([1.970e+02, 1.100e+01, 2.170e+02, 0.000e+00, 2.900e+01, 1.600e+01,\n",
       "       8.000e+00, 6.000e+01, 9.000e+00, 1.270e+02, 6.000e+00, 3.400e+01,\n",
       "       3.000e+00, 2.000e+01, 1.850e+02, 1.486e+03, 5.700e+01, 2.200e+01,\n",
       "       6.800e+01, 1.000e+00, 2.100e+01, 1.200e+01, 2.300e+01, 7.000e+00,\n",
       "       1.700e+01, 5.000e+00, 9.600e+01, 3.700e+01, 2.070e+02, 1.090e+02,\n",
       "       4.000e+00, 3.300e+01, 7.600e+01, 1.800e+01, 1.000e+01, 2.000e+00,\n",
       "       6.500e+01, 1.500e+01, 4.100e+01, 1.900e+01, 2.700e+01, 1.300e+01,\n",
       "       2.600e+01, 4.200e+01, 1.830e+02, 2.400e+01, 5.400e+01, 1.400e+01,\n",
       "       3.800e+01, 4.510e+02, 2.800e+01, 3.600e+01, 5.200e+01, 3.100e+01,\n",
       "       9.200e+01, 3.000e+01, 8.600e+01, 3.200e+01, 2.500e+01, 4.300e+01,\n",
       "       4.600e+01, 9.700e+01, 4.400e+01, 2.260e+02, 1.790e+02, 6.600e+01,\n",
       "       4.500e+01, 4.900e+01, 5.800e+01, 2.320e+02, 8.700e+01])"
      ]
     },
     "execution_count": 10,
     "metadata": {},
     "output_type": "execute_result"
    }
   ],
   "source": [
    "import re\n",
    "def get_num_reviews(x):\n",
    "    result = re.match('^(\\d+) Reviews?$', x)\n",
    "    return float(result.group(1)) if result != None else 0\n",
    "companies_df.num_reviews = companies_df.num_reviews.map(get_num_reviews, na_action='ignore')\n",
    "companies_df.num_reviews.unique()"
   ]
  },
  {
   "cell_type": "markdown",
   "id": "d77431ec",
   "metadata": {
    "heading_collapsed": true
   },
   "source": [
    "#### Với mỗi cột kiểu dữ liệu dạng số, các giá trị được phân bố như thế nào?"
   ]
  },
  {
   "cell_type": "code",
   "execution_count": 11,
   "id": "b75221df",
   "metadata": {
    "hidden": true
   },
   "outputs": [],
   "source": [
    "numerical_columns = ['average_rating', 'num_reviews']\n",
    "categorical_columns = companies_df.columns.to_list()\n",
    "categorical_columns.remove('average_rating')\n",
    "categorical_columns.remove('num_reviews')"
   ]
  },
  {
   "cell_type": "code",
   "execution_count": 12,
   "id": "816f2daa",
   "metadata": {
    "hidden": true
   },
   "outputs": [
    {
     "data": {
      "text/html": [
       "<div>\n",
       "<style scoped>\n",
       "    .dataframe tbody tr th:only-of-type {\n",
       "        vertical-align: middle;\n",
       "    }\n",
       "\n",
       "    .dataframe tbody tr th {\n",
       "        vertical-align: top;\n",
       "    }\n",
       "\n",
       "    .dataframe thead th {\n",
       "        text-align: right;\n",
       "    }\n",
       "</style>\n",
       "<table border=\"1\" class=\"dataframe\">\n",
       "  <thead>\n",
       "    <tr style=\"text-align: right;\">\n",
       "      <th></th>\n",
       "      <th>average_rating</th>\n",
       "      <th>num_reviews</th>\n",
       "    </tr>\n",
       "  </thead>\n",
       "  <tbody>\n",
       "    <tr>\n",
       "      <th>count</th>\n",
       "      <td>563.00</td>\n",
       "      <td>2,041.00</td>\n",
       "    </tr>\n",
       "    <tr>\n",
       "      <th>mean</th>\n",
       "      <td>3.99</td>\n",
       "      <td>5.53</td>\n",
       "    </tr>\n",
       "    <tr>\n",
       "      <th>std</th>\n",
       "      <td>0.60</td>\n",
       "      <td>37.86</td>\n",
       "    </tr>\n",
       "    <tr>\n",
       "      <th>min</th>\n",
       "      <td>2.00</td>\n",
       "      <td>0.00</td>\n",
       "    </tr>\n",
       "    <tr>\n",
       "      <th>25%</th>\n",
       "      <td>3.60</td>\n",
       "      <td>0.00</td>\n",
       "    </tr>\n",
       "    <tr>\n",
       "      <th>50%</th>\n",
       "      <td>4.00</td>\n",
       "      <td>0.00</td>\n",
       "    </tr>\n",
       "    <tr>\n",
       "      <th>75%</th>\n",
       "      <td>4.40</td>\n",
       "      <td>3.00</td>\n",
       "    </tr>\n",
       "    <tr>\n",
       "      <th>max</th>\n",
       "      <td>5.00</td>\n",
       "      <td>1,486.00</td>\n",
       "    </tr>\n",
       "  </tbody>\n",
       "</table>\n",
       "</div>"
      ],
      "text/plain": [
       "       average_rating  num_reviews\n",
       "count          563.00     2,041.00\n",
       "mean             3.99         5.53\n",
       "std              0.60        37.86\n",
       "min              2.00         0.00\n",
       "25%              3.60         0.00\n",
       "50%              4.00         0.00\n",
       "75%              4.40         3.00\n",
       "max              5.00     1,486.00"
      ]
     },
     "execution_count": 12,
     "metadata": {},
     "output_type": "execute_result"
    }
   ],
   "source": [
    "companies_df[numerical_columns].describe()"
   ]
  },
  {
   "cell_type": "code",
   "execution_count": 13,
   "id": "f051ed99",
   "metadata": {
    "hidden": true
   },
   "outputs": [
    {
     "data": {
      "text/plain": [
       "average_rating   72.42\n",
       "num_reviews       0.00\n",
       "dtype: float64"
      ]
     },
     "execution_count": 13,
     "metadata": {},
     "output_type": "execute_result"
    }
   ],
   "source": [
    "companies_df[numerical_columns].isna().sum() / companies_df[numerical_columns].shape[0] * 100"
   ]
  },
  {
   "cell_type": "markdown",
   "id": "6c27850b",
   "metadata": {
    "hidden": true
   },
   "source": [
    "Có thể thấy, số lượng giá trị thiếu của các cột số là khá lớn. Còn lại, các số liệu thống kê khác đều ổn, không có điều gì bất thường."
   ]
  },
  {
   "cell_type": "markdown",
   "id": "90708892",
   "metadata": {
    "heading_collapsed": true
   },
   "source": [
    "#### Với mỗi cột dạng phân loại, các giá trị được phân bố thế nào"
   ]
  },
  {
   "cell_type": "code",
   "execution_count": 14,
   "id": "33c9ae6c",
   "metadata": {
    "hidden": true
   },
   "outputs": [
    {
     "data": {
      "text/html": [
       "<div>\n",
       "<style scoped>\n",
       "    .dataframe tbody tr th:only-of-type {\n",
       "        vertical-align: middle;\n",
       "    }\n",
       "\n",
       "    .dataframe tbody tr th {\n",
       "        vertical-align: top;\n",
       "    }\n",
       "\n",
       "    .dataframe thead th {\n",
       "        text-align: right;\n",
       "    }\n",
       "</style>\n",
       "<table border=\"1\" class=\"dataframe\">\n",
       "  <thead>\n",
       "    <tr style=\"text-align: right;\">\n",
       "      <th></th>\n",
       "      <th>company_id</th>\n",
       "      <th>company_name</th>\n",
       "      <th>cities</th>\n",
       "      <th>type</th>\n",
       "      <th>num_employees</th>\n",
       "      <th>country</th>\n",
       "      <th>working_days</th>\n",
       "      <th>overtime</th>\n",
       "      <th>overview</th>\n",
       "      <th>expertise</th>\n",
       "      <th>benefit</th>\n",
       "    </tr>\n",
       "  </thead>\n",
       "  <tbody>\n",
       "    <tr>\n",
       "      <th>count</th>\n",
       "      <td>2041</td>\n",
       "      <td>2041</td>\n",
       "      <td>2041</td>\n",
       "      <td>2041</td>\n",
       "      <td>2041</td>\n",
       "      <td>2041</td>\n",
       "      <td>2026</td>\n",
       "      <td>1865</td>\n",
       "      <td>2040</td>\n",
       "      <td>477</td>\n",
       "      <td>1576</td>\n",
       "    </tr>\n",
       "    <tr>\n",
       "      <th>unique</th>\n",
       "      <td>2041</td>\n",
       "      <td>2041</td>\n",
       "      <td>71</td>\n",
       "      <td>2</td>\n",
       "      <td>6</td>\n",
       "      <td>39</td>\n",
       "      <td>2</td>\n",
       "      <td>4</td>\n",
       "      <td>2022</td>\n",
       "      <td>474</td>\n",
       "      <td>1573</td>\n",
       "    </tr>\n",
       "    <tr>\n",
       "      <th>top</th>\n",
       "      <td>kms-technology</td>\n",
       "      <td>KMS Technology</td>\n",
       "      <td>District 1, Ho Chi Minh</td>\n",
       "      <td>Product</td>\n",
       "      <td>1-50</td>\n",
       "      <td>Vietnam</td>\n",
       "      <td>Monday - Friday</td>\n",
       "      <td>No OT</td>\n",
       "      <td>.</td>\n",
       "      <td>C++, VC++, C# .NET Framework Web Framework Jav...</td>\n",
       "      <td>Salary: Competitive (based on skills and exper...</td>\n",
       "    </tr>\n",
       "    <tr>\n",
       "      <th>freq</th>\n",
       "      <td>1</td>\n",
       "      <td>1</td>\n",
       "      <td>190</td>\n",
       "      <td>1534</td>\n",
       "      <td>1054</td>\n",
       "      <td>1202</td>\n",
       "      <td>1855</td>\n",
       "      <td>1589</td>\n",
       "      <td>12</td>\n",
       "      <td>2</td>\n",
       "      <td>2</td>\n",
       "    </tr>\n",
       "  </tbody>\n",
       "</table>\n",
       "</div>"
      ],
      "text/plain": [
       "            company_id    company_name                   cities     type  \\\n",
       "count             2041            2041                     2041     2041   \n",
       "unique            2041            2041                       71        2   \n",
       "top     kms-technology  KMS Technology  District 1, Ho Chi Minh  Product   \n",
       "freq                 1               1                      190     1534   \n",
       "\n",
       "       num_employees  country     working_days overtime overview  \\\n",
       "count           2041     2041             2026     1865     2040   \n",
       "unique             6       39                2        4     2022   \n",
       "top             1-50  Vietnam  Monday - Friday    No OT        .   \n",
       "freq            1054     1202             1855     1589       12   \n",
       "\n",
       "                                                expertise  \\\n",
       "count                                                 477   \n",
       "unique                                                474   \n",
       "top     C++, VC++, C# .NET Framework Web Framework Jav...   \n",
       "freq                                                    2   \n",
       "\n",
       "                                                  benefit  \n",
       "count                                                1576  \n",
       "unique                                               1573  \n",
       "top     Salary: Competitive (based on skills and exper...  \n",
       "freq                                                    2  "
      ]
     },
     "execution_count": 14,
     "metadata": {},
     "output_type": "execute_result"
    }
   ],
   "source": [
    "desc = companies_df[categorical_columns].describe()\n",
    "desc"
   ]
  },
  {
   "cell_type": "markdown",
   "id": "8dc59f65",
   "metadata": {
    "hidden": true
   },
   "source": [
    "Tỷ lệ giá trị thiếu"
   ]
  },
  {
   "cell_type": "code",
   "execution_count": 15,
   "id": "96c77c84",
   "metadata": {
    "hidden": true
   },
   "outputs": [
    {
     "data": {
      "text/plain": [
       "company_id       0.00\n",
       "company_name     0.00\n",
       "cities           0.00\n",
       "type             0.00\n",
       "num_employees    0.00\n",
       "country          0.00\n",
       "working_days     0.73\n",
       "overtime         8.62\n",
       "overview         0.05\n",
       "expertise       76.63\n",
       "benefit         22.78\n",
       "Name: count, dtype: object"
      ]
     },
     "execution_count": 15,
     "metadata": {},
     "output_type": "execute_result"
    }
   ],
   "source": [
    "(1 - desc.loc['count'] / companies_df.shape[0]) * 100"
   ]
  },
  {
   "cell_type": "markdown",
   "id": "5111abae",
   "metadata": {
    "hidden": true
   },
   "source": [
    "Một số giá trị ngẫu nhiên"
   ]
  },
  {
   "cell_type": "code",
   "execution_count": 16,
   "id": "35598239",
   "metadata": {
    "hidden": true
   },
   "outputs": [
    {
     "data": {
      "text/html": [
       "<div>\n",
       "<style scoped>\n",
       "    .dataframe tbody tr th:only-of-type {\n",
       "        vertical-align: middle;\n",
       "    }\n",
       "\n",
       "    .dataframe tbody tr th {\n",
       "        vertical-align: top;\n",
       "    }\n",
       "\n",
       "    .dataframe thead th {\n",
       "        text-align: right;\n",
       "    }\n",
       "</style>\n",
       "<table border=\"1\" class=\"dataframe\">\n",
       "  <thead>\n",
       "    <tr style=\"text-align: right;\">\n",
       "      <th></th>\n",
       "      <th>company_id</th>\n",
       "      <th>company_name</th>\n",
       "      <th>cities</th>\n",
       "      <th>type</th>\n",
       "      <th>num_employees</th>\n",
       "      <th>country</th>\n",
       "      <th>working_days</th>\n",
       "      <th>overtime</th>\n",
       "      <th>overview</th>\n",
       "      <th>expertise</th>\n",
       "      <th>benefit</th>\n",
       "    </tr>\n",
       "  </thead>\n",
       "  <tbody>\n",
       "    <tr>\n",
       "      <th>84</th>\n",
       "      <td>tecalliance-vietnam</td>\n",
       "      <td>TECALLIANCE VIETNAM</td>\n",
       "      <td>District 3, Ho Chi Minh</td>\n",
       "      <td>Outsourcing</td>\n",
       "      <td>1-50</td>\n",
       "      <td>Germany</td>\n",
       "      <td>Monday - Friday</td>\n",
       "      <td>No OT</td>\n",
       "      <td>\"We are helping to shape the digital conversio...</td>\n",
       "      <td>NaN</td>\n",
       "      <td>Why TecAlliance? \\n\\n\\n\\n\\nA real global team ...</td>\n",
       "    </tr>\n",
       "    <tr>\n",
       "      <th>203</th>\n",
       "      <td>poc-pharma-vietnam</td>\n",
       "      <td>POC Pharma VietNam</td>\n",
       "      <td>District 1, Ho Chi Minh</td>\n",
       "      <td>Product</td>\n",
       "      <td>1-50</td>\n",
       "      <td>Hong Kong</td>\n",
       "      <td>Monday - Friday</td>\n",
       "      <td>No OT</td>\n",
       "      <td>POC PHARMA VIETNAM \\nprovides \\nInformation So...</td>\n",
       "      <td>NaN</td>\n",
       "      <td>NET salary\\n\\n\\n\\n\\n13rd salary\\n\\n\\n\\n\\nGood ...</td>\n",
       "    </tr>\n",
       "    <tr>\n",
       "      <th>474</th>\n",
       "      <td>serdao</td>\n",
       "      <td>Serdao</td>\n",
       "      <td>Ho Chi Minh, Ha Noi</td>\n",
       "      <td>Outsourcing</td>\n",
       "      <td>51-150</td>\n",
       "      <td>France</td>\n",
       "      <td>Monday - Friday</td>\n",
       "      <td>No OT</td>\n",
       "      <td>SERDAO founded in 2009 is developing and regul...</td>\n",
       "      <td>NaN</td>\n",
       "      <td>A friendly work environment with international...</td>\n",
       "    </tr>\n",
       "    <tr>\n",
       "      <th>1976</th>\n",
       "      <td>red-airship</td>\n",
       "      <td>Red Airship</td>\n",
       "      <td>Other, Ho Chi Minh</td>\n",
       "      <td>Product</td>\n",
       "      <td>1-50</td>\n",
       "      <td>Singapore</td>\n",
       "      <td>Monday - Friday</td>\n",
       "      <td>No OT</td>\n",
       "      <td>We are a fast-moving team of interactive produ...</td>\n",
       "      <td>NaN</td>\n",
       "      <td>NaN</td>\n",
       "    </tr>\n",
       "    <tr>\n",
       "      <th>696</th>\n",
       "      <td>cong-ty-tnhh-quoc-te-daiwa-lance</td>\n",
       "      <td>CÔNG TY TNHH QUỐC TẾ DAIWA LANCE</td>\n",
       "      <td>District 7, Ho Chi Minh</td>\n",
       "      <td>Product</td>\n",
       "      <td>51-150</td>\n",
       "      <td>Japan</td>\n",
       "      <td>Monday - Friday</td>\n",
       "      <td>No OT</td>\n",
       "      <td>Established in 1997, Daiwa International Lance...</td>\n",
       "      <td>NaN</td>\n",
       "      <td>NaN</td>\n",
       "    </tr>\n",
       "    <tr>\n",
       "      <th>1193</th>\n",
       "      <td>thinh-tien-tech</td>\n",
       "      <td>Thịnh Tiến Tech</td>\n",
       "      <td>Cau Giay, Ha Noi</td>\n",
       "      <td>Outsourcing</td>\n",
       "      <td>1-50</td>\n",
       "      <td>Vietnam</td>\n",
       "      <td>Monday - Friday</td>\n",
       "      <td>No OT</td>\n",
       "      <td>Lĩnh vực hoạt động:\\n- Phần mềm\\n- Dịch vụ côn...</td>\n",
       "      <td>NaN</td>\n",
       "      <td>NaN</td>\n",
       "    </tr>\n",
       "    <tr>\n",
       "      <th>32</th>\n",
       "      <td>viettel-group</td>\n",
       "      <td>Viettel Group</td>\n",
       "      <td>Ha Noi, Ho Chi Minh</td>\n",
       "      <td>Product</td>\n",
       "      <td>1000+</td>\n",
       "      <td>Vietnam</td>\n",
       "      <td>Monday - Friday</td>\n",
       "      <td>NaN</td>\n",
       "      <td>Tập đoàn Công nghiệp – Viễn thông Quân đội Vie...</td>\n",
       "      <td>NaN</td>\n",
       "      <td>Đãi ngộ\\n\\n\\n# Dẫn đầu thị trường\\n\\n\\n\\n\\nCơ ...</td>\n",
       "    </tr>\n",
       "    <tr>\n",
       "      <th>1669</th>\n",
       "      <td>monstaz</td>\n",
       "      <td>MONSTAZ</td>\n",
       "      <td>District 2, Ho Chi Minh</td>\n",
       "      <td>Product</td>\n",
       "      <td>1-50</td>\n",
       "      <td>Korea, Republic of</td>\n",
       "      <td>Monday - Saturday</td>\n",
       "      <td>No OT</td>\n",
       "      <td>MONSTAZ was established in 2019, our main busi...</td>\n",
       "      <td>NaN</td>\n",
       "      <td>Candidate can work in international environmen...</td>\n",
       "    </tr>\n",
       "  </tbody>\n",
       "</table>\n",
       "</div>"
      ],
      "text/plain": [
       "                            company_id                      company_name  \\\n",
       "84                 tecalliance-vietnam               TECALLIANCE VIETNAM   \n",
       "203                 poc-pharma-vietnam                POC Pharma VietNam   \n",
       "474                             serdao                            Serdao   \n",
       "1976                       red-airship                       Red Airship   \n",
       "696   cong-ty-tnhh-quoc-te-daiwa-lance  CÔNG TY TNHH QUỐC TẾ DAIWA LANCE   \n",
       "1193                   thinh-tien-tech                   Thịnh Tiến Tech   \n",
       "32                       viettel-group                     Viettel Group   \n",
       "1669                           monstaz                           MONSTAZ   \n",
       "\n",
       "                       cities         type num_employees             country  \\\n",
       "84    District 3, Ho Chi Minh  Outsourcing          1-50             Germany   \n",
       "203   District 1, Ho Chi Minh      Product          1-50           Hong Kong   \n",
       "474       Ho Chi Minh, Ha Noi  Outsourcing        51-150              France   \n",
       "1976       Other, Ho Chi Minh      Product          1-50           Singapore   \n",
       "696   District 7, Ho Chi Minh      Product        51-150               Japan   \n",
       "1193         Cau Giay, Ha Noi  Outsourcing          1-50             Vietnam   \n",
       "32        Ha Noi, Ho Chi Minh      Product         1000+             Vietnam   \n",
       "1669  District 2, Ho Chi Minh      Product          1-50  Korea, Republic of   \n",
       "\n",
       "           working_days overtime  \\\n",
       "84      Monday - Friday    No OT   \n",
       "203     Monday - Friday    No OT   \n",
       "474     Monday - Friday    No OT   \n",
       "1976    Monday - Friday    No OT   \n",
       "696     Monday - Friday    No OT   \n",
       "1193    Monday - Friday    No OT   \n",
       "32      Monday - Friday      NaN   \n",
       "1669  Monday - Saturday    No OT   \n",
       "\n",
       "                                               overview expertise  \\\n",
       "84    \"We are helping to shape the digital conversio...       NaN   \n",
       "203   POC PHARMA VIETNAM \\nprovides \\nInformation So...       NaN   \n",
       "474   SERDAO founded in 2009 is developing and regul...       NaN   \n",
       "1976  We are a fast-moving team of interactive produ...       NaN   \n",
       "696   Established in 1997, Daiwa International Lance...       NaN   \n",
       "1193  Lĩnh vực hoạt động:\\n- Phần mềm\\n- Dịch vụ côn...       NaN   \n",
       "32    Tập đoàn Công nghiệp – Viễn thông Quân đội Vie...       NaN   \n",
       "1669  MONSTAZ was established in 2019, our main busi...       NaN   \n",
       "\n",
       "                                                benefit  \n",
       "84    Why TecAlliance? \\n\\n\\n\\n\\nA real global team ...  \n",
       "203   NET salary\\n\\n\\n\\n\\n13rd salary\\n\\n\\n\\n\\nGood ...  \n",
       "474   A friendly work environment with international...  \n",
       "1976                                                NaN  \n",
       "696                                                 NaN  \n",
       "1193                                                NaN  \n",
       "32    Đãi ngộ\\n\\n\\n# Dẫn đầu thị trường\\n\\n\\n\\n\\nCơ ...  \n",
       "1669  Candidate can work in international environmen...  "
      ]
     },
     "execution_count": 16,
     "metadata": {},
     "output_type": "execute_result"
    }
   ],
   "source": [
    "companies_df[categorical_columns].sample(8)"
   ]
  },
  {
   "cell_type": "markdown",
   "id": "d0470c44",
   "metadata": {
    "hidden": true
   },
   "source": [
    "Có thể thấy dữ liệu dạng phân loại khá đầy đủ (ngoại trừ cột `expertise` số lượng giá trị thiếu lên đến 70%)."
   ]
  },
  {
   "cell_type": "markdown",
   "id": "523b7f52",
   "metadata": {},
   "source": [
    "### 2.2.2 `jobs`"
   ]
  },
  {
   "cell_type": "markdown",
   "id": "6d6997d8",
   "metadata": {
    "heading_collapsed": true
   },
   "source": [
    "#### Nạp dữ liệu"
   ]
  },
  {
   "cell_type": "code",
   "execution_count": 17,
   "id": "fd3d3f70",
   "metadata": {
    "hidden": true
   },
   "outputs": [
    {
     "data": {
      "text/html": [
       "<div>\n",
       "<style scoped>\n",
       "    .dataframe tbody tr th:only-of-type {\n",
       "        vertical-align: middle;\n",
       "    }\n",
       "\n",
       "    .dataframe tbody tr th {\n",
       "        vertical-align: top;\n",
       "    }\n",
       "\n",
       "    .dataframe thead th {\n",
       "        text-align: right;\n",
       "    }\n",
       "</style>\n",
       "<table border=\"1\" class=\"dataframe\">\n",
       "  <thead>\n",
       "    <tr style=\"text-align: right;\">\n",
       "      <th></th>\n",
       "      <th>job_id</th>\n",
       "      <th>company_id</th>\n",
       "      <th>job_name</th>\n",
       "      <th>taglist</th>\n",
       "      <th>location</th>\n",
       "      <th>three_reasons</th>\n",
       "      <th>description</th>\n",
       "    </tr>\n",
       "  </thead>\n",
       "  <tbody>\n",
       "    <tr>\n",
       "      <th>0</th>\n",
       "      <td>kms-technology:jrsr_qa_engineer_kms_labs_bonus</td>\n",
       "      <td>kms-technology</td>\n",
       "      <td>(Jr/Sr) QA Engineer, KMS Labs - BONUS</td>\n",
       "      <td>QA QC   English   Tester</td>\n",
       "      <td>290/26 Nam Ky Khoi Nghia, ward 8, District 3, ...</td>\n",
       "      <td>Inspired Leadership Team and Talented Colleagu...</td>\n",
       "      <td>KMS Labs is the startup incubation arm of KMS ...</td>\n",
       "    </tr>\n",
       "    <tr>\n",
       "      <th>1</th>\n",
       "      <td>kms-technology:engineering_manager_bonus</td>\n",
       "      <td>kms-technology</td>\n",
       "      <td>Engineering Manager - BONUS</td>\n",
       "      <td>Project Manager   Agile   English</td>\n",
       "      <td>02 Tan Vien, ward 2, Tan Binh, Ho Chi Minh</td>\n",
       "      <td>Inspired Leadership Team and Talented Colleagu...</td>\n",
       "      <td>Full 13th Month Salary. ***Apply and Join in S...</td>\n",
       "    </tr>\n",
       "    <tr>\n",
       "      <th>2</th>\n",
       "      <td>kms-technology:fullstack_mobile_mobilenodejs_k...</td>\n",
       "      <td>kms-technology</td>\n",
       "      <td>Fullstack Mobile (Mobile,NodeJs) Kobiton</td>\n",
       "      <td>NodeJS   React Native   Fresher Accepted</td>\n",
       "      <td>02 Tan Vien, ward 2, Tan Binh, Ho Chi Minh</td>\n",
       "      <td>Inspired Leadership Team and Talented Colleagu...</td>\n",
       "      <td>is the mobile experience platform trusted by l...</td>\n",
       "    </tr>\n",
       "    <tr>\n",
       "      <th>3</th>\n",
       "      <td>kms-technology:jrsrprincipal_java_developer_bonus</td>\n",
       "      <td>kms-technology</td>\n",
       "      <td>(Jr/Sr/Principal) Java Developer- BONUS</td>\n",
       "      <td>Java   JavaScript   Spring</td>\n",
       "      <td>174 Thai Ha, Dong Da, Ha Noi</td>\n",
       "      <td>Inspired Leadership Team and Talented Colleagu...</td>\n",
       "      <td>Full 13th Month Salary ***Apply and Join in Se...</td>\n",
       "    </tr>\n",
       "    <tr>\n",
       "      <th>4</th>\n",
       "      <td>kms-technology:product_manager_kms_labs_bonus</td>\n",
       "      <td>kms-technology</td>\n",
       "      <td>Product Manager, KMS Labs - BONUS</td>\n",
       "      <td>Product Manager   English   Manager</td>\n",
       "      <td>290/26 Nam Ky Khoi Nghia, ward 8, District 3, ...</td>\n",
       "      <td>Inspired Leadership Team and Talented Colleagu...</td>\n",
       "      <td>KMS Labs\\n is the startup incubation arm of KM...</td>\n",
       "    </tr>\n",
       "  </tbody>\n",
       "</table>\n",
       "</div>"
      ],
      "text/plain": [
       "                                              job_id      company_id  \\\n",
       "0     kms-technology:jrsr_qa_engineer_kms_labs_bonus  kms-technology   \n",
       "1           kms-technology:engineering_manager_bonus  kms-technology   \n",
       "2  kms-technology:fullstack_mobile_mobilenodejs_k...  kms-technology   \n",
       "3  kms-technology:jrsrprincipal_java_developer_bonus  kms-technology   \n",
       "4      kms-technology:product_manager_kms_labs_bonus  kms-technology   \n",
       "\n",
       "                                   job_name  \\\n",
       "0     (Jr/Sr) QA Engineer, KMS Labs - BONUS   \n",
       "1               Engineering Manager - BONUS   \n",
       "2  Fullstack Mobile (Mobile,NodeJs) Kobiton   \n",
       "3   (Jr/Sr/Principal) Java Developer- BONUS   \n",
       "4         Product Manager, KMS Labs - BONUS   \n",
       "\n",
       "                                      taglist  \\\n",
       "0                   QA QC   English   Tester    \n",
       "1          Project Manager   Agile   English    \n",
       "2   NodeJS   React Native   Fresher Accepted    \n",
       "3                 Java   JavaScript   Spring    \n",
       "4        Product Manager   English   Manager    \n",
       "\n",
       "                                            location  \\\n",
       "0  290/26 Nam Ky Khoi Nghia, ward 8, District 3, ...   \n",
       "1         02 Tan Vien, ward 2, Tan Binh, Ho Chi Minh   \n",
       "2         02 Tan Vien, ward 2, Tan Binh, Ho Chi Minh   \n",
       "3                       174 Thai Ha, Dong Da, Ha Noi   \n",
       "4  290/26 Nam Ky Khoi Nghia, ward 8, District 3, ...   \n",
       "\n",
       "                                       three_reasons  \\\n",
       "0  Inspired Leadership Team and Talented Colleagu...   \n",
       "1  Inspired Leadership Team and Talented Colleagu...   \n",
       "2  Inspired Leadership Team and Talented Colleagu...   \n",
       "3  Inspired Leadership Team and Talented Colleagu...   \n",
       "4  Inspired Leadership Team and Talented Colleagu...   \n",
       "\n",
       "                                         description  \n",
       "0  KMS Labs is the startup incubation arm of KMS ...  \n",
       "1  Full 13th Month Salary. ***Apply and Join in S...  \n",
       "2  is the mobile experience platform trusted by l...  \n",
       "3  Full 13th Month Salary ***Apply and Join in Se...  \n",
       "4  KMS Labs\\n is the startup incubation arm of KM...  "
      ]
     },
     "execution_count": 17,
     "metadata": {},
     "output_type": "execute_result"
    }
   ],
   "source": [
    "jobs_df = pd.read_csv('dataset/jobs.csv')\n",
    "jobs_df.head()"
   ]
  },
  {
   "cell_type": "markdown",
   "id": "6f78aa1d",
   "metadata": {
    "heading_collapsed": true
   },
   "source": [
    "#### Số lượng dòng và cột"
   ]
  },
  {
   "cell_type": "code",
   "execution_count": 18,
   "id": "5ca7d230",
   "metadata": {
    "hidden": true
   },
   "outputs": [
    {
     "name": "stdout",
     "output_type": "stream",
     "text": [
      "Number of rows:  1412\n",
      "Number of columns:  7\n"
     ]
    }
   ],
   "source": [
    "print('Number of rows: ', jobs_df.shape[0])\n",
    "print('Number of columns: ', jobs_df.shape[1])"
   ]
  },
  {
   "cell_type": "markdown",
   "id": "3fcdc4b3",
   "metadata": {
    "heading_collapsed": true
   },
   "source": [
    "#### Mỗi dòng có ý nghĩa gì ?"
   ]
  },
  {
   "cell_type": "markdown",
   "id": "2b0995f7",
   "metadata": {
    "hidden": true
   },
   "source": [
    "Mỗi dòng là thông tin của một công việc đang được đăng tin tuyển dụng trên ITViec."
   ]
  },
  {
   "cell_type": "markdown",
   "id": "c9913f73",
   "metadata": {
    "hidden": true
   },
   "source": [
    "Mỗi dòng được phân biệt bởi `job_id`"
   ]
  },
  {
   "cell_type": "markdown",
   "id": "4ae1435c",
   "metadata": {
    "heading_collapsed": true
   },
   "source": [
    "#### Dữ liệu có bị lặp không?"
   ]
  },
  {
   "cell_type": "code",
   "execution_count": 19,
   "id": "baa9c2af",
   "metadata": {
    "hidden": true
   },
   "outputs": [
    {
     "data": {
      "text/plain": [
       "False"
      ]
     },
     "execution_count": 19,
     "metadata": {},
     "output_type": "execute_result"
    }
   ],
   "source": [
    "jobs_df.duplicated().sum() != 0"
   ]
  },
  {
   "cell_type": "markdown",
   "id": "0aafb80f",
   "metadata": {
    "hidden": true
   },
   "source": [
    "Như vậy dữ liệu không bị trùng lặp giữa các dòng."
   ]
  },
  {
   "cell_type": "markdown",
   "id": "629f5ae9",
   "metadata": {
    "hidden": true
   },
   "source": [
    "Kiểm tra cột `job_id` có bị lặp không?"
   ]
  },
  {
   "cell_type": "code",
   "execution_count": 20,
   "id": "0d5b6096",
   "metadata": {
    "hidden": true
   },
   "outputs": [
    {
     "data": {
      "text/plain": [
       "True"
      ]
     },
     "execution_count": 20,
     "metadata": {},
     "output_type": "execute_result"
    }
   ],
   "source": [
    "jobs_df.duplicated('job_id').sum() != 0"
   ]
  },
  {
   "cell_type": "markdown",
   "id": "30a07e3a",
   "metadata": {
    "hidden": true
   },
   "source": [
    "Như vậy ở cột `job_id` có dữ liệu trùng lặp. Ta sẽ kiểm tra tiếp ở dưới."
   ]
  },
  {
   "cell_type": "markdown",
   "id": "93bb694a",
   "metadata": {
    "hidden": true
   },
   "source": [
    "Trích xuất các dòng có dữ liệu lặp:"
   ]
  },
  {
   "cell_type": "code",
   "execution_count": 21,
   "id": "bfac6689",
   "metadata": {
    "hidden": true
   },
   "outputs": [
    {
     "data": {
      "text/html": [
       "<div>\n",
       "<style scoped>\n",
       "    .dataframe tbody tr th:only-of-type {\n",
       "        vertical-align: middle;\n",
       "    }\n",
       "\n",
       "    .dataframe tbody tr th {\n",
       "        vertical-align: top;\n",
       "    }\n",
       "\n",
       "    .dataframe thead th {\n",
       "        text-align: right;\n",
       "    }\n",
       "</style>\n",
       "<table border=\"1\" class=\"dataframe\">\n",
       "  <thead>\n",
       "    <tr style=\"text-align: right;\">\n",
       "      <th></th>\n",
       "      <th>job_id</th>\n",
       "      <th>company_id</th>\n",
       "      <th>job_name</th>\n",
       "      <th>taglist</th>\n",
       "      <th>location</th>\n",
       "      <th>three_reasons</th>\n",
       "      <th>description</th>\n",
       "    </tr>\n",
       "  </thead>\n",
       "  <tbody>\n",
       "    <tr>\n",
       "      <th>301</th>\n",
       "      <td>houze-group:backend_lead_pythongolangnodejs</td>\n",
       "      <td>houze-group</td>\n",
       "      <td>Backend Lead ( Python/Golang/NodeJS)</td>\n",
       "      <td>NodeJS   Python   Golang</td>\n",
       "      <td>114-116 Ngô Quyền, Phường 8, District 5, Ho Ch...</td>\n",
       "      <td>Attractive salary and benefits package\\nCareer...</td>\n",
       "      <td>Define, code, test, and deploy new features to...</td>\n",
       "    </tr>\n",
       "    <tr>\n",
       "      <th>303</th>\n",
       "      <td>houze-group:backend_lead_pythongolangnodejs</td>\n",
       "      <td>houze-group</td>\n",
       "      <td>Backend Lead ( Python/Golang/NodeJS/...)</td>\n",
       "      <td>Team Leader   Python   Golang</td>\n",
       "      <td>114-116 Ngô Quyền, Phường 8, District 5, Ho Ch...</td>\n",
       "      <td>Attractive salary and benefits package\\nCareer...</td>\n",
       "      <td>Define, code, test, and deploy new features to...</td>\n",
       "    </tr>\n",
       "  </tbody>\n",
       "</table>\n",
       "</div>"
      ],
      "text/plain": [
       "                                          job_id   company_id  \\\n",
       "301  houze-group:backend_lead_pythongolangnodejs  houze-group   \n",
       "303  houze-group:backend_lead_pythongolangnodejs  houze-group   \n",
       "\n",
       "                                     job_name  \\\n",
       "301      Backend Lead ( Python/Golang/NodeJS)   \n",
       "303  Backend Lead ( Python/Golang/NodeJS/...)   \n",
       "\n",
       "                             taglist  \\\n",
       "301        NodeJS   Python   Golang    \n",
       "303   Team Leader   Python   Golang    \n",
       "\n",
       "                                              location  \\\n",
       "301  114-116 Ngô Quyền, Phường 8, District 5, Ho Ch...   \n",
       "303  114-116 Ngô Quyền, Phường 8, District 5, Ho Ch...   \n",
       "\n",
       "                                         three_reasons  \\\n",
       "301  Attractive salary and benefits package\\nCareer...   \n",
       "303  Attractive salary and benefits package\\nCareer...   \n",
       "\n",
       "                                           description  \n",
       "301  Define, code, test, and deploy new features to...  \n",
       "303  Define, code, test, and deploy new features to...  "
      ]
     },
     "execution_count": 21,
     "metadata": {},
     "output_type": "execute_result"
    }
   ],
   "source": [
    "jobs_df[jobs_df.duplicated('job_id', keep=False)]"
   ]
  },
  {
   "cell_type": "markdown",
   "id": "28c9c244",
   "metadata": {
    "hidden": true
   },
   "source": [
    "Như vậy theo quan sát, ta thấy giữa 2 dòng chỉ khác biệt ở cột `taglist`, tất cả các cột còn lại đều giống nhau.\n",
    "\n",
    "Ở đây cả bộ dữ liệu chỉ duy nhất 1 `job_id` bị trùng lặp. Để tiện xử lý ta sẽ loại bỏ 1 hàng (cụ thể hàng cuối)."
   ]
  },
  {
   "cell_type": "code",
   "execution_count": 22,
   "id": "535e154d",
   "metadata": {
    "hidden": true
   },
   "outputs": [],
   "source": [
    "jobs_df = jobs_df.drop_duplicates('job_id', keep = 'first')"
   ]
  },
  {
   "cell_type": "markdown",
   "id": "f405e0b4",
   "metadata": {
    "hidden": true
   },
   "source": [
    "Số lượng dòng sau khi xử lý:"
   ]
  },
  {
   "cell_type": "code",
   "execution_count": 23,
   "id": "98b8b21b",
   "metadata": {
    "hidden": true
   },
   "outputs": [
    {
     "name": "stdout",
     "output_type": "stream",
     "text": [
      "Number of rows:  1411\n"
     ]
    }
   ],
   "source": [
    "print('Number of rows: ', len(jobs_df))"
   ]
  },
  {
   "cell_type": "markdown",
   "id": "ad83fdce",
   "metadata": {
    "heading_collapsed": true
   },
   "source": [
    "#### Mỗi cột có ý nghĩa gì?"
   ]
  },
  {
   "cell_type": "markdown",
   "id": "41cac3c7",
   "metadata": {
    "hidden": true
   },
   "source": [
    "Bởi dữ liệu được thu thập trên Kaggle, tuy nhiên tác giả không cung cấp thông tin về ý nghĩa của các cột, chính vì thế, dựa vào ý nghĩa của dữ liệu ta sẽ định nghĩa các cột như sau:\n",
    "   * `job_id`: ID của công việc\n",
    "   * `company_id`: ID của công ty đăng tuyển công việc\n",
    "   * `job_name`: tên công việc\n",
    "   * `taglist`: danh sách tag liên quan đến công việc\n",
    "   * `location`: địa điểm làm việc\n",
    "   * `three_reasons`: phúc lợi/lý do nên làm việc ở đây\n",
    "   * `description`: mô tả công việc"
   ]
  },
  {
   "cell_type": "markdown",
   "id": "b6f87c98",
   "metadata": {
    "heading_collapsed": true
   },
   "source": [
    "#### Mỗi cột có kiểu dữ liệu gì? Có phù hợp để xử lý tiếp không?"
   ]
  },
  {
   "cell_type": "code",
   "execution_count": 24,
   "id": "62a941ab",
   "metadata": {
    "hidden": true
   },
   "outputs": [
    {
     "data": {
      "text/plain": [
       "job_id           object\n",
       "company_id       object\n",
       "job_name         object\n",
       "taglist          object\n",
       "location         object\n",
       "three_reasons    object\n",
       "description      object\n",
       "dtype: object"
      ]
     },
     "execution_count": 24,
     "metadata": {},
     "output_type": "execute_result"
    }
   ],
   "source": [
    "jobs_df.dtypes"
   ]
  },
  {
   "cell_type": "markdown",
   "id": "6099d38c",
   "metadata": {
    "hidden": true
   },
   "source": [
    "Như đã thấy tất cả thông tin về công việc không có cột nào nên đưa về dạng số nên ta không cần xử lý gì thêm ở bước này, tất cả dữ liệu đã có kiểu dữ liệu phù hợp để xử lý."
   ]
  },
  {
   "cell_type": "markdown",
   "id": "82fc27d6",
   "metadata": {
    "heading_collapsed": true
   },
   "source": [
    "#### Phân tích các cột dữ liệu dạng số"
   ]
  },
  {
   "cell_type": "markdown",
   "id": "e7a227da",
   "metadata": {
    "hidden": true
   },
   "source": [
    "Trong các cột dữ liệu trên, không có cột dữ liệu nào dạng số nên ta không thể thống kê các giá trị được."
   ]
  },
  {
   "cell_type": "markdown",
   "id": "839a7d1e",
   "metadata": {},
   "source": [
    "#### Với mỗi cột dang phân loại, các giá trị được phân bố như thế nào?"
   ]
  },
  {
   "cell_type": "code",
   "execution_count": 25,
   "id": "96db134b",
   "metadata": {},
   "outputs": [
    {
     "data": {
      "text/html": [
       "<div>\n",
       "<style scoped>\n",
       "    .dataframe tbody tr th:only-of-type {\n",
       "        vertical-align: middle;\n",
       "    }\n",
       "\n",
       "    .dataframe tbody tr th {\n",
       "        vertical-align: top;\n",
       "    }\n",
       "\n",
       "    .dataframe thead th {\n",
       "        text-align: right;\n",
       "    }\n",
       "</style>\n",
       "<table border=\"1\" class=\"dataframe\">\n",
       "  <thead>\n",
       "    <tr style=\"text-align: right;\">\n",
       "      <th></th>\n",
       "      <th>job_id</th>\n",
       "      <th>company_id</th>\n",
       "      <th>job_name</th>\n",
       "      <th>taglist</th>\n",
       "      <th>location</th>\n",
       "      <th>three_reasons</th>\n",
       "      <th>description</th>\n",
       "    </tr>\n",
       "  </thead>\n",
       "  <tbody>\n",
       "    <tr>\n",
       "      <th>count</th>\n",
       "      <td>1411</td>\n",
       "      <td>1411</td>\n",
       "      <td>1411</td>\n",
       "      <td>1411</td>\n",
       "      <td>1411</td>\n",
       "      <td>1097</td>\n",
       "      <td>1411</td>\n",
       "    </tr>\n",
       "    <tr>\n",
       "      <th>unique</th>\n",
       "      <td>1411</td>\n",
       "      <td>682</td>\n",
       "      <td>1358</td>\n",
       "      <td>923</td>\n",
       "      <td>696</td>\n",
       "      <td>492</td>\n",
       "      <td>1408</td>\n",
       "    </tr>\n",
       "    <tr>\n",
       "      <th>top</th>\n",
       "      <td>kms-technology:jrsr_qa_engineer_kms_labs_bonus</td>\n",
       "      <td>vietnam-international-bank-vib</td>\n",
       "      <td>Frontend Dev (JavaScript, HTML5, CSS)</td>\n",
       "      <td>JavaScript   HTML5   CSS</td>\n",
       "      <td>Sailing Tower Building, District 1, Ho Chi Minh</td>\n",
       "      <td>Global Exposure\\nFast Track Career\\nDiversifie...</td>\n",
       "      <td>Asilla là một startup công nghệ tiên phong phá...</td>\n",
       "    </tr>\n",
       "    <tr>\n",
       "      <th>freq</th>\n",
       "      <td>1</td>\n",
       "      <td>27</td>\n",
       "      <td>8</td>\n",
       "      <td>20</td>\n",
       "      <td>19</td>\n",
       "      <td>17</td>\n",
       "      <td>2</td>\n",
       "    </tr>\n",
       "  </tbody>\n",
       "</table>\n",
       "</div>"
      ],
      "text/plain": [
       "                                                job_id  \\\n",
       "count                                             1411   \n",
       "unique                                            1411   \n",
       "top     kms-technology:jrsr_qa_engineer_kms_labs_bonus   \n",
       "freq                                                 1   \n",
       "\n",
       "                            company_id                               job_name  \\\n",
       "count                             1411                                   1411   \n",
       "unique                             682                                   1358   \n",
       "top     vietnam-international-bank-vib  Frontend Dev (JavaScript, HTML5, CSS)   \n",
       "freq                                27                                      8   \n",
       "\n",
       "                           taglist  \\\n",
       "count                         1411   \n",
       "unique                         923   \n",
       "top      JavaScript   HTML5   CSS    \n",
       "freq                            20   \n",
       "\n",
       "                                               location  \\\n",
       "count                                              1411   \n",
       "unique                                              696   \n",
       "top     Sailing Tower Building, District 1, Ho Chi Minh   \n",
       "freq                                                 19   \n",
       "\n",
       "                                            three_reasons  \\\n",
       "count                                                1097   \n",
       "unique                                                492   \n",
       "top     Global Exposure\\nFast Track Career\\nDiversifie...   \n",
       "freq                                                   17   \n",
       "\n",
       "                                              description  \n",
       "count                                                1411  \n",
       "unique                                               1408  \n",
       "top     Asilla là một startup công nghệ tiên phong phá...  \n",
       "freq                                                    2  "
      ]
     },
     "execution_count": 25,
     "metadata": {},
     "output_type": "execute_result"
    }
   ],
   "source": [
    "statistic = jobs_df.describe()\n",
    "statistic"
   ]
  },
  {
   "cell_type": "markdown",
   "id": "78314876",
   "metadata": {},
   "source": [
    "Số lượng giá trị thiếu ở mỗi cột:"
   ]
  },
  {
   "cell_type": "code",
   "execution_count": 26,
   "id": "f2a3fed6",
   "metadata": {},
   "outputs": [
    {
     "data": {
      "text/plain": [
       "job_id             0\n",
       "company_id         0\n",
       "job_name           0\n",
       "taglist            0\n",
       "location           0\n",
       "three_reasons    314\n",
       "description        0\n",
       "Name: count, dtype: object"
      ]
     },
     "execution_count": 26,
     "metadata": {},
     "output_type": "execute_result"
    }
   ],
   "source": [
    "miss_info = len(jobs_df) - statistic.loc['count']\n",
    "miss_info"
   ]
  },
  {
   "cell_type": "markdown",
   "id": "ef29250a",
   "metadata": {},
   "source": [
    "Tỉ lệ giá trị thiếu:"
   ]
  },
  {
   "cell_type": "code",
   "execution_count": 27,
   "id": "a8ba255a",
   "metadata": {},
   "outputs": [
    {
     "data": {
      "text/plain": [
       "job_id           0.00\n",
       "company_id       0.00\n",
       "job_name         0.00\n",
       "taglist          0.00\n",
       "location         0.00\n",
       "three_reasons   22.25\n",
       "description      0.00\n",
       "Name: count, dtype: object"
      ]
     },
     "execution_count": 27,
     "metadata": {},
     "output_type": "execute_result"
    }
   ],
   "source": [
    "miss_info/len(jobs_df) * 100"
   ]
  },
  {
   "cell_type": "markdown",
   "id": "e02482c7",
   "metadata": {},
   "source": [
    "Như đã thống kê, đa phần các cột có đầy đủ các dữ liệu trừ cột `three_reason` tỉ lệ thiếu lên tới 22,25\\%.\n",
    "Nhìn vào hàng `unique`, đa phần có giá trị khá lớn, cho thấy được sự đa dạng của việc tuyển dụng ở lĩnh vực IT."
   ]
  },
  {
   "cell_type": "markdown",
   "id": "00023255",
   "metadata": {},
   "source": [
    "Một số giá trị ngẫu nhiên:"
   ]
  },
  {
   "cell_type": "code",
   "execution_count": 28,
   "id": "97636787",
   "metadata": {},
   "outputs": [
    {
     "data": {
      "text/html": [
       "<div>\n",
       "<style scoped>\n",
       "    .dataframe tbody tr th:only-of-type {\n",
       "        vertical-align: middle;\n",
       "    }\n",
       "\n",
       "    .dataframe tbody tr th {\n",
       "        vertical-align: top;\n",
       "    }\n",
       "\n",
       "    .dataframe thead th {\n",
       "        text-align: right;\n",
       "    }\n",
       "</style>\n",
       "<table border=\"1\" class=\"dataframe\">\n",
       "  <thead>\n",
       "    <tr style=\"text-align: right;\">\n",
       "      <th></th>\n",
       "      <th>job_id</th>\n",
       "      <th>company_id</th>\n",
       "      <th>job_name</th>\n",
       "      <th>taglist</th>\n",
       "      <th>location</th>\n",
       "      <th>three_reasons</th>\n",
       "      <th>description</th>\n",
       "    </tr>\n",
       "  </thead>\n",
       "  <tbody>\n",
       "    <tr>\n",
       "      <th>1202</th>\n",
       "      <td>9pmp:net_developer_aspnet_sql</td>\n",
       "      <td>9pmp</td>\n",
       "      <td>.NET Developer (ASP.NET, SQL)</td>\n",
       "      <td>.NET   SQL   ASP.NET</td>\n",
       "      <td>Level 8, Doxaco Building, 307B Nguyen Van Troi...</td>\n",
       "      <td>Competitive Salary\\nFriendly Colleagues\\nDevel...</td>\n",
       "      <td>Write clean, scalable code using .NET programm...</td>\n",
       "    </tr>\n",
       "    <tr>\n",
       "      <th>493</th>\n",
       "      <td>silentium-vietnam:business_analyst</td>\n",
       "      <td>silentium-vietnam</td>\n",
       "      <td>Business Analyst</td>\n",
       "      <td>Business Analyst   Database   Data Analyst</td>\n",
       "      <td>President Place - 93 Nguyen Du , District 1, H...</td>\n",
       "      <td>At Silentium, we value attitude the most\\nWe s...</td>\n",
       "      <td>Silentium is a software consulting company foc...</td>\n",
       "    </tr>\n",
       "    <tr>\n",
       "      <th>195</th>\n",
       "      <td>contemi-vietnam:sr_fullstack_angularnodejs_sig...</td>\n",
       "      <td>contemi-vietnam</td>\n",
       "      <td>Sr Fullstack Angular/NodeJS Signon bonus</td>\n",
       "      <td>Angular   NodeJS   English</td>\n",
       "      <td>Tầng 6, Toà nhà PJICO Tower, 186 Điện Biên Phủ...</td>\n",
       "      <td>Attractive salary + 13th salary + bonus \\nHeal...</td>\n",
       "      <td>Join with a dynamic team to build up high qual...</td>\n",
       "    </tr>\n",
       "    <tr>\n",
       "      <th>446</th>\n",
       "      <td>powergate-software:ui_ux_designer_upto_1500</td>\n",
       "      <td>powergate-software</td>\n",
       "      <td>UI UX Designer (Upto 1500$)</td>\n",
       "      <td>UI-UX   Designer</td>\n",
       "      <td>PowerGate Software,Trung Yên Plaza, số 1 Trung...</td>\n",
       "      <td>Attractive salary &amp; benefits\\nGlobal Exposure\\...</td>\n",
       "      <td>Chúng tôi đang xây dựng SOFTWARE PRODUCT STUDI...</td>\n",
       "    </tr>\n",
       "    <tr>\n",
       "      <th>461</th>\n",
       "      <td>unit-corp:uiux_designer</td>\n",
       "      <td>unit-corp</td>\n",
       "      <td>UI-UX Designer</td>\n",
       "      <td>UI-UX   CSS   Designer</td>\n",
       "      <td>374 Vo Van Tan Street, District 3, Ho Chi Minh</td>\n",
       "      <td>Rewards on projects and personal performance;\\...</td>\n",
       "      <td>Build ideas for designing UI/UX interfacing fo...</td>\n",
       "    </tr>\n",
       "    <tr>\n",
       "      <th>720</th>\n",
       "      <td>huepress:2_tester_qaqc_upto_25tr</td>\n",
       "      <td>huepress</td>\n",
       "      <td>2 Tester QA/QC - Upto 25Tr</td>\n",
       "      <td>Tester   QA QC   Fresher Accepted</td>\n",
       "      <td>Ngõ 73 Nguyễn Trãi, Khương Trung, Thanh Xuan, ...</td>\n",
       "      <td>NaN</td>\n",
       "      <td>• Làm việc cùng Team Kỹ thuật 10 thành viên xu...</td>\n",
       "    </tr>\n",
       "    <tr>\n",
       "      <th>662</th>\n",
       "      <td>ahasoft:frontend_dev_javascript_html5_css</td>\n",
       "      <td>ahasoft</td>\n",
       "      <td>Front-end Dev (JavaScript, HTML5, CSS)</td>\n",
       "      <td>JavaScript   HTML5   CSS</td>\n",
       "      <td>TEDI Building,15A , Hoang Hoa Tham, Binh Than...</td>\n",
       "      <td>Private Healthcare insurance\\nAnnual company t...</td>\n",
       "      <td>- Work closely with programmers/developers to ...</td>\n",
       "    </tr>\n",
       "    <tr>\n",
       "      <th>657</th>\n",
       "      <td>leapxpert:leadsenior_reactjs_engineer_2000</td>\n",
       "      <td>leapxpert</td>\n",
       "      <td>Lead/Senior ReactJS Engineer ($2000+)</td>\n",
       "      <td>ReactJS   JavaScript   English</td>\n",
       "      <td>21 Nguyen Trung Ngan street, Ben Nghe ward, Di...</td>\n",
       "      <td>Awesome job with attractive remuneration packa...</td>\n",
       "      <td>We are looking for a Front-end Lead who is pro...</td>\n",
       "    </tr>\n",
       "    <tr>\n",
       "      <th>1116</th>\n",
       "      <td>ivs:4_project_leaders_japaneseenglish</td>\n",
       "      <td>ivs</td>\n",
       "      <td>4 Project Leaders (Japanese/English)</td>\n",
       "      <td>Project Manager   Japanese   English</td>\n",
       "      <td>180 Lý Chính Thắng, District 3, Ho Chi Minh</td>\n",
       "      <td>Work in team\\nWork smart\\nTogether we achieve ...</td>\n",
       "      <td>Manage progress and quality of the project. Un...</td>\n",
       "    </tr>\n",
       "    <tr>\n",
       "      <th>33</th>\n",
       "      <td>gft-technologies-vietnam:sr_java_developer_spr...</td>\n",
       "      <td>gft-technologies-vietnam</td>\n",
       "      <td>Sr. Java Developer (Spring Boot/Kafka)</td>\n",
       "      <td>Java   AWS   Kotlin</td>\n",
       "      <td>29A Nguyen Dinh Chieu, District 1, Ho Chi Minh</td>\n",
       "      <td>We build a professional &amp; fun working environm...</td>\n",
       "      <td>Design, develop, implement and maintain Java a...</td>\n",
       "    </tr>\n",
       "  </tbody>\n",
       "</table>\n",
       "</div>"
      ],
      "text/plain": [
       "                                                 job_id  \\\n",
       "1202                      9pmp:net_developer_aspnet_sql   \n",
       "493                  silentium-vietnam:business_analyst   \n",
       "195   contemi-vietnam:sr_fullstack_angularnodejs_sig...   \n",
       "446         powergate-software:ui_ux_designer_upto_1500   \n",
       "461                             unit-corp:uiux_designer   \n",
       "720                    huepress:2_tester_qaqc_upto_25tr   \n",
       "662           ahasoft:frontend_dev_javascript_html5_css   \n",
       "657          leapxpert:leadsenior_reactjs_engineer_2000   \n",
       "1116              ivs:4_project_leaders_japaneseenglish   \n",
       "33    gft-technologies-vietnam:sr_java_developer_spr...   \n",
       "\n",
       "                    company_id                                  job_name  \\\n",
       "1202                      9pmp             .NET Developer (ASP.NET, SQL)   \n",
       "493          silentium-vietnam                         Business Analyst    \n",
       "195            contemi-vietnam  Sr Fullstack Angular/NodeJS Signon bonus   \n",
       "446         powergate-software               UI UX Designer (Upto 1500$)   \n",
       "461                  unit-corp                            UI-UX Designer   \n",
       "720                   huepress                2 Tester QA/QC - Upto 25Tr   \n",
       "662                    ahasoft    Front-end Dev (JavaScript, HTML5, CSS)   \n",
       "657                  leapxpert     Lead/Senior ReactJS Engineer ($2000+)   \n",
       "1116                       ivs      4 Project Leaders (Japanese/English)   \n",
       "33    gft-technologies-vietnam    Sr. Java Developer (Spring Boot/Kafka)   \n",
       "\n",
       "                                           taglist  \\\n",
       "1202                         .NET   SQL   ASP.NET    \n",
       "493    Business Analyst   Database   Data Analyst    \n",
       "195                    Angular   NodeJS   English    \n",
       "446                              UI-UX   Designer    \n",
       "461                        UI-UX   CSS   Designer    \n",
       "720             Tester   QA QC   Fresher Accepted    \n",
       "662                      JavaScript   HTML5   CSS    \n",
       "657                ReactJS   JavaScript   English    \n",
       "1116         Project Manager   Japanese   English    \n",
       "33                            Java   AWS   Kotlin    \n",
       "\n",
       "                                               location  \\\n",
       "1202  Level 8, Doxaco Building, 307B Nguyen Van Troi...   \n",
       "493   President Place - 93 Nguyen Du , District 1, H...   \n",
       "195   Tầng 6, Toà nhà PJICO Tower, 186 Điện Biên Phủ...   \n",
       "446   PowerGate Software,Trung Yên Plaza, số 1 Trung...   \n",
       "461      374 Vo Van Tan Street, District 3, Ho Chi Minh   \n",
       "720   Ngõ 73 Nguyễn Trãi, Khương Trung, Thanh Xuan, ...   \n",
       "662    TEDI Building,15A , Hoang Hoa Tham, Binh Than...   \n",
       "657   21 Nguyen Trung Ngan street, Ben Nghe ward, Di...   \n",
       "1116        180 Lý Chính Thắng, District 3, Ho Chi Minh   \n",
       "33       29A Nguyen Dinh Chieu, District 1, Ho Chi Minh   \n",
       "\n",
       "                                          three_reasons  \\\n",
       "1202  Competitive Salary\\nFriendly Colleagues\\nDevel...   \n",
       "493   At Silentium, we value attitude the most\\nWe s...   \n",
       "195   Attractive salary + 13th salary + bonus \\nHeal...   \n",
       "446   Attractive salary & benefits\\nGlobal Exposure\\...   \n",
       "461   Rewards on projects and personal performance;\\...   \n",
       "720                                                 NaN   \n",
       "662   Private Healthcare insurance\\nAnnual company t...   \n",
       "657   Awesome job with attractive remuneration packa...   \n",
       "1116  Work in team\\nWork smart\\nTogether we achieve ...   \n",
       "33    We build a professional & fun working environm...   \n",
       "\n",
       "                                            description  \n",
       "1202  Write clean, scalable code using .NET programm...  \n",
       "493   Silentium is a software consulting company foc...  \n",
       "195   Join with a dynamic team to build up high qual...  \n",
       "446   Chúng tôi đang xây dựng SOFTWARE PRODUCT STUDI...  \n",
       "461   Build ideas for designing UI/UX interfacing fo...  \n",
       "720   • Làm việc cùng Team Kỹ thuật 10 thành viên xu...  \n",
       "662   - Work closely with programmers/developers to ...  \n",
       "657   We are looking for a Front-end Lead who is pro...  \n",
       "1116  Manage progress and quality of the project. Un...  \n",
       "33    Design, develop, implement and maintain Java a...  "
      ]
     },
     "execution_count": 28,
     "metadata": {},
     "output_type": "execute_result"
    }
   ],
   "source": [
    "jobs_df.sample(10)"
   ]
  },
  {
   "cell_type": "markdown",
   "id": "c6d1cf90",
   "metadata": {},
   "source": [
    "Dữ liệu cho thấy được không có sự bất thường ở bộ dữ liệu này.\n",
    "Tuy nhiên dữ liệu ở 2 cột `three_reasons` và `description` có các dòng dữ liệu thuộc 2 ngôn ngữ khác nhau (Việt và Anh) có thể gây khó khăn trong việc phân tích."
   ]
  },
  {
   "cell_type": "code",
   "execution_count": 29,
   "id": "existing-telephone",
   "metadata": {},
   "outputs": [],
   "source": [
    "a = jobs_df.taglist.map(lambda x: x.strip().split('   '))"
   ]
  },
  {
   "cell_type": "code",
   "execution_count": 30,
   "id": "appropriate-roberts",
   "metadata": {},
   "outputs": [],
   "source": [
    "b = a.explode()"
   ]
  },
  {
   "cell_type": "code",
   "execution_count": 31,
   "id": "tutorial-corner",
   "metadata": {},
   "outputs": [
    {
     "data": {
      "image/png": "[encoded data removed]",
      "text/plain": [
       "<Figure size 1080x576 with 1 Axes>"
      ]
     },
     "metadata": {
      "needs_background": "light"
     },
     "output_type": "display_data"
    }
   ],
   "source": [
    "fig, ax = plt.subplots(figsize=(15, 8))\n",
    "vc = b.value_counts(normalize=True)\n",
    "ax.bar(vc.index[:15], vc[:15])\n",
    "plt.show()"
   ]
  },
  {
   "cell_type": "markdown",
   "id": "1eb5959a",
   "metadata": {},
   "source": [
    "# 3. Câu hỏi cần trả lời"
   ]
  },
  {
   "cell_type": "markdown",
   "id": "computational-consolidation",
   "metadata": {},
   "source": [
    "## 3.1 Các kiến thức/kỹ năng nào đang được các công ty tuyển dụng nhiều nhất?"
   ]
  },
  {
   "cell_type": "markdown",
   "id": "c89d950a",
   "metadata": {
    "heading_collapsed": true
   },
   "source": [
    "### 3.1.1 Nêu vấn đề"
   ]
  },
  {
   "cell_type": "markdown",
   "id": "addressed-airplane",
   "metadata": {
    "hidden": true
   },
   "source": [
    "Trên thực tế, nhiều người chọn học ngành IT nghĩ rằng vì ngành này hot, lương cao, nhiều việc làm. Tuy nhiên ngành IT lại quá nhiều định hướng, dẫn đến đại đa số sinh viên theo học ngành này nếu không đam mê hay định hướng cụ thể thì sẽ bị mông lung không biết nên học theo hướng nào? và họ luôn suy nghĩ rằng học hướng đó liệu có tìm được việc làm hay không? nên học kỹ năng nào, kiến thức nào để có thể dễ dàng tìm được việc làm?"
   ]
  },
  {
   "cell_type": "markdown",
   "id": "strategic-validation",
   "metadata": {
    "hidden": true
   },
   "source": [
    "Chính vì thế, câu hỏi này ra đời nhằm mục đích cho biết hiện nay, trên thị trường ngành IT, người ta đang tuyển nhân sự có những kỹ năng gì là chủ yếu, giúp cho sinh viên có thể lựa chọn được những hướng đi phù hợp, có thể dễ dàng tìm kiếm việc làm vì nhu cầu cần thiết của xã hội cao."
   ]
  },
  {
   "cell_type": "markdown",
   "id": "1dd78bc4",
   "metadata": {
    "heading_collapsed": true
   },
   "source": [
    "### 3.1.2 Data Preprocessing"
   ]
  },
  {
   "cell_type": "markdown",
   "id": "younger-implementation",
   "metadata": {
    "hidden": true
   },
   "source": [
    "Qua quá trình quan sát dữ liệu, ta biết được thông tin cột `taglist` thể hiện những kỹ năng/kiến thức liên quan đến ngành nghề IT đang được tuyển dụng.\n",
    "Quá trình xử lý dữ liệu:\n",
    "* Lấy các giá trị cột `taglist` và bỏ đi các giá trị rỗng.\n",
    "* Do cấu trúc dữ liệu cột này chưa phù hợp, ta sẽ biến các tag này thành dạng list.\n",
    "* Gom nhóm"
   ]
  },
  {
   "cell_type": "markdown",
   "id": "caroline-appliance",
   "metadata": {
    "hidden": true
   },
   "source": [
    "Đầu tiên, ta lấy dữ liệu cột `taglist` và bỏ các giá trị rỗng."
   ]
  },
  {
   "cell_type": "code",
   "execution_count": 32,
   "id": "identified-pressure",
   "metadata": {
    "hidden": true
   },
   "outputs": [
    {
     "data": {
      "text/plain": [
       "0                        QA QC   English   Tester \n",
       "1               Project Manager   Agile   English \n",
       "2        NodeJS   React Native   Fresher Accepted \n",
       "3                      Java   JavaScript   Spring \n",
       "4             Product Manager   English   Manager \n",
       "                           ...                    \n",
       "1407                           Unity   C#   Games \n",
       "1408       .NET   C#   ASP.NET   Fresher Accepted \n",
       "1409                          .NET   C#   ASP.NET \n",
       "1410                JavaScript   NodeJS   ReactJS \n",
       "1411                    Python   Django   ReactJS \n",
       "Name: taglist, Length: 1411, dtype: object"
      ]
     },
     "execution_count": 32,
     "metadata": {},
     "output_type": "execute_result"
    }
   ],
   "source": [
    "#Do giá trị rỗng không có (đã khám phá ở trên) nên ta không cần bước bỏ các dòng dữ liệu thiếu.\n",
    "taglist = jobs_df[\"taglist\"]\n",
    "taglist"
   ]
  },
  {
   "cell_type": "markdown",
   "id": "revised-calculator",
   "metadata": {
    "hidden": true
   },
   "source": [
    "Kiểu dữ liệu hiện tại của mỗi hàng là gì?"
   ]
  },
  {
   "cell_type": "code",
   "execution_count": 33,
   "id": "hindu-taylor",
   "metadata": {
    "hidden": true
   },
   "outputs": [
    {
     "data": {
      "text/plain": [
       "{str}"
      ]
     },
     "execution_count": 33,
     "metadata": {},
     "output_type": "execute_result"
    }
   ],
   "source": [
    "def open_object_dtype(s):\n",
    "    dtypes = set(s.apply(type))  \n",
    "    return dtypes\n",
    "\n",
    "open_object_dtype(taglist)"
   ]
  },
  {
   "cell_type": "markdown",
   "id": "cooperative-negotiation",
   "metadata": {
    "hidden": true
   },
   "source": [
    "Như đã thấy phía trên, dữ liệu hiện tại của các hàng taglist là string.\n",
    "\n",
    "Ta cần đưa về dạng list để dễ dàng phân tích, thống kê."
   ]
  },
  {
   "cell_type": "code",
   "execution_count": 34,
   "id": "actual-tourism",
   "metadata": {
    "hidden": true
   },
   "outputs": [
    {
     "data": {
      "text/plain": [
       "0                       [QA QC, English, Tester]\n",
       "1              [Project Manager, Agile, English]\n",
       "2       [NodeJS, React Native, Fresher Accepted]\n",
       "3                     [Java, JavaScript, Spring]\n",
       "4            [Product Manager, English, Manager]\n",
       "                          ...                   \n",
       "1407                          [Unity, C#, Games]\n",
       "1408       [.NET, C#, ASP.NET, Fresher Accepted]\n",
       "1409                         [.NET, C#, ASP.NET]\n",
       "1410               [JavaScript, NodeJS, ReactJS]\n",
       "1411                   [Python, Django, ReactJS]\n",
       "Name: taglist, Length: 1411, dtype: object"
      ]
     },
     "execution_count": 34,
     "metadata": {},
     "output_type": "execute_result"
    }
   ],
   "source": [
    "taglist = taglist.str.strip().str.split('\\s{2,}')\n",
    "taglist"
   ]
  },
  {
   "cell_type": "markdown",
   "id": "aquatic-community",
   "metadata": {
    "hidden": true
   },
   "source": [
    "Sau khi chuyển về dạng list, ta sẽ tách các phần tử mỗi list ra thành dòng để tiện cho việc thống kê."
   ]
  },
  {
   "cell_type": "code",
   "execution_count": 35,
   "id": "numeric-department",
   "metadata": {
    "hidden": true
   },
   "outputs": [
    {
     "data": {
      "text/plain": [
       "0                 QA QC\n",
       "0               English\n",
       "0                Tester\n",
       "1       Project Manager\n",
       "1                 Agile\n",
       "             ...       \n",
       "1410             NodeJS\n",
       "1410            ReactJS\n",
       "1411             Python\n",
       "1411             Django\n",
       "1411            ReactJS\n",
       "Name: taglist, Length: 4262, dtype: object"
      ]
     },
     "execution_count": 35,
     "metadata": {},
     "output_type": "execute_result"
    }
   ],
   "source": [
    "taglist = taglist.explode()\n",
    "taglist"
   ]
  },
  {
   "cell_type": "markdown",
   "id": "civilian-fundamental",
   "metadata": {
    "hidden": true
   },
   "source": [
    "Số các giá trị khác nhau mà dữ liệu đưa ra:"
   ]
  },
  {
   "cell_type": "code",
   "execution_count": 36,
   "id": "surprised-stanley",
   "metadata": {
    "hidden": true
   },
   "outputs": [
    {
     "data": {
      "text/plain": [
       "79"
      ]
     },
     "execution_count": 36,
     "metadata": {},
     "output_type": "execute_result"
    }
   ],
   "source": [
    "len(taglist.unique())"
   ]
  },
  {
   "cell_type": "code",
   "execution_count": 37,
   "id": "operational-pierce",
   "metadata": {
    "hidden": true
   },
   "outputs": [
    {
     "data": {
      "text/plain": [
       "array(['QA QC', 'English', 'Tester', 'Project Manager', 'Agile', 'NodeJS',\n",
       "       'React Native', 'Fresher Accepted', 'Java', 'JavaScript', 'Spring',\n",
       "       'Product Manager', 'Manager', 'Business Analyst', 'ReactJS',\n",
       "       'Ruby on Rails', 'AWS', 'Database', 'SQL', '.NET', 'C#', 'ASP.NET',\n",
       "       'Scrum', 'Python', 'C++', 'Linux', 'Embedded', 'C language',\n",
       "       'Software Architect', 'OOP', 'Django', 'JQuery', 'Team Leader',\n",
       "       'Cloud', 'Kotlin', 'Blockchain', 'Data Analyst', 'Android', 'iOS',\n",
       "       'DevOps', 'Swift', 'ERP', 'Oracle', 'System Engineer',\n",
       "       'Networking', 'MySQL', 'Scala', 'System Admin', 'PHP', 'Laravel',\n",
       "       'Angular', 'VueJS', 'Sharepoint', 'UI-UX', 'PostgreSql',\n",
       "       'Designer', 'IT Support', 'Objective C', 'Golang', 'Xamarin',\n",
       "       'CSS', 'HTML5', 'SAP', 'Flutter', 'NoSQL', 'JSON', 'MVC', 'J2EE',\n",
       "       'Ruby', 'Unity', 'Drupal', 'Wordpress', 'AngularJS', 'Hybrid',\n",
       "       'Games', 'Bridge Engineer', 'Magento', 'Japanese', 'Cocos'],\n",
       "      dtype=object)"
      ]
     },
     "execution_count": 37,
     "metadata": {},
     "output_type": "execute_result"
    }
   ],
   "source": [
    "taglist.unique()"
   ]
  },
  {
   "cell_type": "markdown",
   "id": "crucial-kitty",
   "metadata": {
    "hidden": true
   },
   "source": [
    "Như đã thấy ở phía trên, các giá trị của taglist là các tag về kỹ năng/ kiến thức cần để có thể ứng tuyển công việc. \n",
    "\n",
    "Tuy nhiên ở đây có 1 giá trị là `Fresher Accepted` không phải là kỹ năng, cũng không phải là kiến thức cần có mà nó chỉ là một điều kiện có thể ứng tuyển công việc. Vì vậy ta sẽ loại bỏ giá trị này đi."
   ]
  },
  {
   "cell_type": "code",
   "execution_count": 38,
   "id": "requested-devices",
   "metadata": {
    "hidden": true
   },
   "outputs": [
    {
     "data": {
      "text/plain": [
       "0                 QA QC\n",
       "0               English\n",
       "0                Tester\n",
       "1       Project Manager\n",
       "1                 Agile\n",
       "             ...       \n",
       "1410             NodeJS\n",
       "1410            ReactJS\n",
       "1411             Python\n",
       "1411             Django\n",
       "1411            ReactJS\n",
       "Name: taglist, Length: 4046, dtype: object"
      ]
     },
     "execution_count": 38,
     "metadata": {},
     "output_type": "execute_result"
    }
   ],
   "source": [
    "taglist = taglist[taglist != \"Fresher Accepted\"]\n",
    "taglist"
   ]
  },
  {
   "cell_type": "markdown",
   "id": "above-contrary",
   "metadata": {
    "hidden": true
   },
   "source": [
    "Như vậy là hoàn thành bước tiền xử lý dữ liệu."
   ]
  },
  {
   "cell_type": "markdown",
   "id": "20623b04",
   "metadata": {
    "heading_collapsed": true
   },
   "source": [
    "### 3.1.3 Analysis, Visualization"
   ]
  },
  {
   "cell_type": "markdown",
   "id": "prepared-footage",
   "metadata": {
    "hidden": true
   },
   "source": [
    "Đầu tiên ta phải đếm số lượng các giá trị để có thể trực quan bằng các biểu đồ."
   ]
  },
  {
   "cell_type": "code",
   "execution_count": 39,
   "id": "painful-worth",
   "metadata": {
    "hidden": true
   },
   "outputs": [
    {
     "data": {
      "text/plain": [
       "Java               265\n",
       "JavaScript         244\n",
       "QA QC              169\n",
       "Tester             169\n",
       "ReactJS            164\n",
       "                  ... \n",
       "Hybrid               2\n",
       "Japanese             2\n",
       "Xamarin              1\n",
       "Bridge Engineer      1\n",
       "Cocos                1\n",
       "Name: taglist, Length: 78, dtype: int64"
      ]
     },
     "execution_count": 39,
     "metadata": {},
     "output_type": "execute_result"
    }
   ],
   "source": [
    "taglist = taglist.value_counts()\n",
    "taglist"
   ]
  },
  {
   "cell_type": "markdown",
   "id": "trained-providence",
   "metadata": {
    "hidden": true
   },
   "source": [
    "Sử dụng `barh` chart để so sánh số lượng được đề cập tới giữa các kỹ năng."
   ]
  },
  {
   "cell_type": "code",
   "execution_count": 40,
   "id": "living-vampire",
   "metadata": {
    "hidden": true
   },
   "outputs": [
    {
     "data": {
      "text/plain": [
       "<AxesSubplot:title={'center':'Số lượng tuyển dụng công việc theo các kỹ năng'}, ylabel='Skill'>"
      ]
     },
     "execution_count": 40,
     "metadata": {},
     "output_type": "execute_result"
    },
    {
     "data": {
      "image/png": "[encoded data removed]",
      "text/plain": [
       "<Figure size 1440x720 with 1 Axes>"
      ]
     },
     "metadata": {
      "needs_background": "light"
     },
     "output_type": "display_data"
    }
   ],
   "source": [
    "taglist[0:30].plot(kind = 'barh', figsize = (20,10), ylabel = \"Amount\", xlabel = \"Skill\", title = \"Số lượng tuyển dụng công việc theo các kỹ năng\")"
   ]
  },
  {
   "cell_type": "markdown",
   "id": "missing-malta",
   "metadata": {
    "hidden": true
   },
   "source": [
    "Với một vài bước biến đổi đơn giản, ta đã có thể trực quan hóa được tính thiết yếu của các kỹ năng.\n",
    "\n",
    "Số lượng càng cao nghĩa là càng có nhiều công việc cần kỹ năng đó và ngược lại.\n",
    "\n",
    "Qua việc visualization ở trên, dễ dàng ta có thể nhận ra:\n",
    "* Về mặt ngôn ngữ lập trình: Java, Javascript là 2 ngôn ngữ được tuyển dụng nhiều nhất, với trên 200 lượt tuyển dụng.\n",
    "* Về mặt kỹ năng: các kỹ năng về QA QC, Tester là 2 vị trí đang được tuyển dụng nhiều nhất với trên 150 lượt tuyển dụng.\n",
    "* Về mặt ngôn ngữ: English luôn là lựa chọn hàng đầu với trên 150 lượt."
   ]
  },
  {
   "cell_type": "markdown",
   "id": "b8666657",
   "metadata": {
    "heading_collapsed": true
   },
   "source": [
    "### 3.1.4 Kết luận"
   ]
  },
  {
   "cell_type": "markdown",
   "id": "allied-lancaster",
   "metadata": {
    "hidden": true
   },
   "source": [
    "Quay trở lại câu hỏi, như vậy các kỹ năng/kiến thức nào được các công ty tuyển dụng nhiều nhất?\n",
    "\n",
    "Java, JavaScript, QA QC, Tester, ReactJS, English,... là các kiến thức, kỹ năng được tuyển dụng nhiều nhất. Bởi lẽ do tính đa dụng của nó. Ví dụ như Java hay JavaScript vừa có thể code web mà cũng có thể code app và có thể làm thêm nhiều thứ nữa.\n",
    "\n",
    "Như vậy, cần học gì để không thất nghiệp, dễ dàng có việc làm?\n",
    "\n",
    "Trong tương lai gần, thì ta có thể chọn học các ngôn ngữ như Java, JavaScript, rèn luyện thêm ngoại ngữ như English bởi lẽ nhu cầu tuyển dụng của các công ty về các kỹ năng này rất cao, mà nhân lực có kỹ năng tại Việt Nam hiện tại vẫn chưa đáp ứng đủ. Chính vì vậy, dựa vô thống kê, trực quan ở trên, ta có thể xác định được hướng đi để có thể dễ dàng kiếm được công việc sau khi ra trường."
   ]
  },
  {
   "cell_type": "markdown",
   "id": "phantom-buffalo",
   "metadata": {},
   "source": [
    "## 3.2 Những quốc gia nào có số lượng tuyển nhân lực ngành IT ở Việt Nam lớn nhất?"
   ]
  },
  {
   "cell_type": "markdown",
   "id": "b0346710",
   "metadata": {
    "heading_collapsed": true
   },
   "source": [
    "### 3.2.1 Nêu vấn đề"
   ]
  },
  {
   "cell_type": "markdown",
   "id": "frozen-arbor",
   "metadata": {
    "hidden": true
   },
   "source": [
    "Giữa một thị trường hiện đang rất màu mỡ như IT khiến cho người người nhà nhà chạy đua nhau học. Để cạnh tranh cơ hội có việc làm tốt ở một công ty thuộc nước ngoài là điều càng ngày khó khăn hơn.\n",
    "\n",
    "Vậy khi tuyển dụng, giữa 2 ứng viên có technical skill ngang nhau thì người ta sẽ ưu tiên ai? Câu trả lời là nhà tuyển dụng sẽ ưu tiên người có ngoại ngữ tốt, giao tiếp tốt, phù hợp với công ty, văn hóa của họ và có thể giao tiếp trao đổi trực tiếp với người nước ngoài.\n",
    "\n",
    "Đối với một nhân viên thì việc biết được văn hóa công ty đó, có khả năng giao tiếp trực tiếp với sếp của họ bằng chính tiếng của họ sẽ có khả năng thăng tiến cao hơn bởi họ sẽ là người làm việc trực tiếp với sếp mà không cần thông qua người khác.\n",
    "\n",
    "Như vậy, nếu biết được những quốc gia đang đầu tư mạnh về lĩnh vực IT ở Việt Nam, ta sẽ tìm hiểu về văn hóa đất nước đó để tìm hiểu về cách làm việc cũng như chọn ngôn ngữ đó làm ngoại ngữ thứ 2 để có thể học, tạo lợi thế cho bản thân khi ứng tuyển và cơ hội thăng chức khi đã làm việc là một điều cần làm."
   ]
  },
  {
   "cell_type": "markdown",
   "id": "b12a7f73",
   "metadata": {
    "heading_collapsed": true
   },
   "source": [
    "### 3.2.2 Data Preprocessing"
   ]
  },
  {
   "cell_type": "markdown",
   "id": "greatest-fluid",
   "metadata": {
    "hidden": true
   },
   "source": [
    "Trước tiên ta phải merge 2 bộ dữ liệu với nhau để gắn kết công việc nào thuộc công tin nào, dựa vào cột `company_id`"
   ]
  },
  {
   "cell_type": "code",
   "execution_count": 41,
   "id": "covered-fitness",
   "metadata": {
    "hidden": true
   },
   "outputs": [
    {
     "data": {
      "text/html": [
       "<div>\n",
       "<style scoped>\n",
       "    .dataframe tbody tr th:only-of-type {\n",
       "        vertical-align: middle;\n",
       "    }\n",
       "\n",
       "    .dataframe tbody tr th {\n",
       "        vertical-align: top;\n",
       "    }\n",
       "\n",
       "    .dataframe thead th {\n",
       "        text-align: right;\n",
       "    }\n",
       "</style>\n",
       "<table border=\"1\" class=\"dataframe\">\n",
       "  <thead>\n",
       "    <tr style=\"text-align: right;\">\n",
       "      <th></th>\n",
       "      <th>job_id</th>\n",
       "      <th>company_id</th>\n",
       "      <th>job_name</th>\n",
       "      <th>taglist</th>\n",
       "      <th>location</th>\n",
       "      <th>three_reasons</th>\n",
       "      <th>description</th>\n",
       "      <th>company_name</th>\n",
       "      <th>average_rating</th>\n",
       "      <th>num_reviews</th>\n",
       "      <th>cities</th>\n",
       "      <th>type</th>\n",
       "      <th>num_employees</th>\n",
       "      <th>country</th>\n",
       "      <th>working_days</th>\n",
       "      <th>overtime</th>\n",
       "      <th>overview</th>\n",
       "      <th>expertise</th>\n",
       "      <th>benefit</th>\n",
       "    </tr>\n",
       "  </thead>\n",
       "  <tbody>\n",
       "    <tr>\n",
       "      <th>0</th>\n",
       "      <td>kms-technology:jrsr_qa_engineer_kms_labs_bonus</td>\n",
       "      <td>kms-technology</td>\n",
       "      <td>(Jr/Sr) QA Engineer, KMS Labs - BONUS</td>\n",
       "      <td>QA QC   English   Tester</td>\n",
       "      <td>290/26 Nam Ky Khoi Nghia, ward 8, District 3, ...</td>\n",
       "      <td>Inspired Leadership Team and Talented Colleagu...</td>\n",
       "      <td>KMS Labs is the startup incubation arm of KMS ...</td>\n",
       "      <td>KMS Technology</td>\n",
       "      <td>4.00</td>\n",
       "      <td>197.00</td>\n",
       "      <td>Ho Chi Minh, Da Nang, Ha Noi</td>\n",
       "      <td>Outsourcing</td>\n",
       "      <td>1000+</td>\n",
       "      <td>United States</td>\n",
       "      <td>Monday - Friday</td>\n",
       "      <td>No OT</td>\n",
       "      <td>Established in 2009, KMS Technology is a U.S.-...</td>\n",
       "      <td>NaN</td>\n",
       "      <td>Want to be the Best? Join KMS!\\n\\n\\nIt’s posit...</td>\n",
       "    </tr>\n",
       "    <tr>\n",
       "      <th>1</th>\n",
       "      <td>kms-technology:engineering_manager_bonus</td>\n",
       "      <td>kms-technology</td>\n",
       "      <td>Engineering Manager - BONUS</td>\n",
       "      <td>Project Manager   Agile   English</td>\n",
       "      <td>02 Tan Vien, ward 2, Tan Binh, Ho Chi Minh</td>\n",
       "      <td>Inspired Leadership Team and Talented Colleagu...</td>\n",
       "      <td>Full 13th Month Salary. ***Apply and Join in S...</td>\n",
       "      <td>KMS Technology</td>\n",
       "      <td>4.00</td>\n",
       "      <td>197.00</td>\n",
       "      <td>Ho Chi Minh, Da Nang, Ha Noi</td>\n",
       "      <td>Outsourcing</td>\n",
       "      <td>1000+</td>\n",
       "      <td>United States</td>\n",
       "      <td>Monday - Friday</td>\n",
       "      <td>No OT</td>\n",
       "      <td>Established in 2009, KMS Technology is a U.S.-...</td>\n",
       "      <td>NaN</td>\n",
       "      <td>Want to be the Best? Join KMS!\\n\\n\\nIt’s posit...</td>\n",
       "    </tr>\n",
       "    <tr>\n",
       "      <th>2</th>\n",
       "      <td>kms-technology:fullstack_mobile_mobilenodejs_k...</td>\n",
       "      <td>kms-technology</td>\n",
       "      <td>Fullstack Mobile (Mobile,NodeJs) Kobiton</td>\n",
       "      <td>NodeJS   React Native   Fresher Accepted</td>\n",
       "      <td>02 Tan Vien, ward 2, Tan Binh, Ho Chi Minh</td>\n",
       "      <td>Inspired Leadership Team and Talented Colleagu...</td>\n",
       "      <td>is the mobile experience platform trusted by l...</td>\n",
       "      <td>KMS Technology</td>\n",
       "      <td>4.00</td>\n",
       "      <td>197.00</td>\n",
       "      <td>Ho Chi Minh, Da Nang, Ha Noi</td>\n",
       "      <td>Outsourcing</td>\n",
       "      <td>1000+</td>\n",
       "      <td>United States</td>\n",
       "      <td>Monday - Friday</td>\n",
       "      <td>No OT</td>\n",
       "      <td>Established in 2009, KMS Technology is a U.S.-...</td>\n",
       "      <td>NaN</td>\n",
       "      <td>Want to be the Best? Join KMS!\\n\\n\\nIt’s posit...</td>\n",
       "    </tr>\n",
       "    <tr>\n",
       "      <th>3</th>\n",
       "      <td>kms-technology:jrsrprincipal_java_developer_bonus</td>\n",
       "      <td>kms-technology</td>\n",
       "      <td>(Jr/Sr/Principal) Java Developer- BONUS</td>\n",
       "      <td>Java   JavaScript   Spring</td>\n",
       "      <td>174 Thai Ha, Dong Da, Ha Noi</td>\n",
       "      <td>Inspired Leadership Team and Talented Colleagu...</td>\n",
       "      <td>Full 13th Month Salary ***Apply and Join in Se...</td>\n",
       "      <td>KMS Technology</td>\n",
       "      <td>4.00</td>\n",
       "      <td>197.00</td>\n",
       "      <td>Ho Chi Minh, Da Nang, Ha Noi</td>\n",
       "      <td>Outsourcing</td>\n",
       "      <td>1000+</td>\n",
       "      <td>United States</td>\n",
       "      <td>Monday - Friday</td>\n",
       "      <td>No OT</td>\n",
       "      <td>Established in 2009, KMS Technology is a U.S.-...</td>\n",
       "      <td>NaN</td>\n",
       "      <td>Want to be the Best? Join KMS!\\n\\n\\nIt’s posit...</td>\n",
       "    </tr>\n",
       "    <tr>\n",
       "      <th>4</th>\n",
       "      <td>kms-technology:product_manager_kms_labs_bonus</td>\n",
       "      <td>kms-technology</td>\n",
       "      <td>Product Manager, KMS Labs - BONUS</td>\n",
       "      <td>Product Manager   English   Manager</td>\n",
       "      <td>290/26 Nam Ky Khoi Nghia, ward 8, District 3, ...</td>\n",
       "      <td>Inspired Leadership Team and Talented Colleagu...</td>\n",
       "      <td>KMS Labs\\n is the startup incubation arm of KM...</td>\n",
       "      <td>KMS Technology</td>\n",
       "      <td>4.00</td>\n",
       "      <td>197.00</td>\n",
       "      <td>Ho Chi Minh, Da Nang, Ha Noi</td>\n",
       "      <td>Outsourcing</td>\n",
       "      <td>1000+</td>\n",
       "      <td>United States</td>\n",
       "      <td>Monday - Friday</td>\n",
       "      <td>No OT</td>\n",
       "      <td>Established in 2009, KMS Technology is a U.S.-...</td>\n",
       "      <td>NaN</td>\n",
       "      <td>Want to be the Best? Join KMS!\\n\\n\\nIt’s posit...</td>\n",
       "    </tr>\n",
       "  </tbody>\n",
       "</table>\n",
       "</div>"
      ],
      "text/plain": [
       "                                              job_id      company_id  \\\n",
       "0     kms-technology:jrsr_qa_engineer_kms_labs_bonus  kms-technology   \n",
       "1           kms-technology:engineering_manager_bonus  kms-technology   \n",
       "2  kms-technology:fullstack_mobile_mobilenodejs_k...  kms-technology   \n",
       "3  kms-technology:jrsrprincipal_java_developer_bonus  kms-technology   \n",
       "4      kms-technology:product_manager_kms_labs_bonus  kms-technology   \n",
       "\n",
       "                                   job_name  \\\n",
       "0     (Jr/Sr) QA Engineer, KMS Labs - BONUS   \n",
       "1               Engineering Manager - BONUS   \n",
       "2  Fullstack Mobile (Mobile,NodeJs) Kobiton   \n",
       "3   (Jr/Sr/Principal) Java Developer- BONUS   \n",
       "4         Product Manager, KMS Labs - BONUS   \n",
       "\n",
       "                                      taglist  \\\n",
       "0                   QA QC   English   Tester    \n",
       "1          Project Manager   Agile   English    \n",
       "2   NodeJS   React Native   Fresher Accepted    \n",
       "3                 Java   JavaScript   Spring    \n",
       "4        Product Manager   English   Manager    \n",
       "\n",
       "                                            location  \\\n",
       "0  290/26 Nam Ky Khoi Nghia, ward 8, District 3, ...   \n",
       "1         02 Tan Vien, ward 2, Tan Binh, Ho Chi Minh   \n",
       "2         02 Tan Vien, ward 2, Tan Binh, Ho Chi Minh   \n",
       "3                       174 Thai Ha, Dong Da, Ha Noi   \n",
       "4  290/26 Nam Ky Khoi Nghia, ward 8, District 3, ...   \n",
       "\n",
       "                                       three_reasons  \\\n",
       "0  Inspired Leadership Team and Talented Colleagu...   \n",
       "1  Inspired Leadership Team and Talented Colleagu...   \n",
       "2  Inspired Leadership Team and Talented Colleagu...   \n",
       "3  Inspired Leadership Team and Talented Colleagu...   \n",
       "4  Inspired Leadership Team and Talented Colleagu...   \n",
       "\n",
       "                                         description    company_name  \\\n",
       "0  KMS Labs is the startup incubation arm of KMS ...  KMS Technology   \n",
       "1  Full 13th Month Salary. ***Apply and Join in S...  KMS Technology   \n",
       "2  is the mobile experience platform trusted by l...  KMS Technology   \n",
       "3  Full 13th Month Salary ***Apply and Join in Se...  KMS Technology   \n",
       "4  KMS Labs\\n is the startup incubation arm of KM...  KMS Technology   \n",
       "\n",
       "   average_rating  num_reviews                        cities         type  \\\n",
       "0            4.00       197.00  Ho Chi Minh, Da Nang, Ha Noi  Outsourcing   \n",
       "1            4.00       197.00  Ho Chi Minh, Da Nang, Ha Noi  Outsourcing   \n",
       "2            4.00       197.00  Ho Chi Minh, Da Nang, Ha Noi  Outsourcing   \n",
       "3            4.00       197.00  Ho Chi Minh, Da Nang, Ha Noi  Outsourcing   \n",
       "4            4.00       197.00  Ho Chi Minh, Da Nang, Ha Noi  Outsourcing   \n",
       "\n",
       "  num_employees        country     working_days overtime  \\\n",
       "0         1000+  United States  Monday - Friday    No OT   \n",
       "1         1000+  United States  Monday - Friday    No OT   \n",
       "2         1000+  United States  Monday - Friday    No OT   \n",
       "3         1000+  United States  Monday - Friday    No OT   \n",
       "4         1000+  United States  Monday - Friday    No OT   \n",
       "\n",
       "                                            overview expertise  \\\n",
       "0  Established in 2009, KMS Technology is a U.S.-...       NaN   \n",
       "1  Established in 2009, KMS Technology is a U.S.-...       NaN   \n",
       "2  Established in 2009, KMS Technology is a U.S.-...       NaN   \n",
       "3  Established in 2009, KMS Technology is a U.S.-...       NaN   \n",
       "4  Established in 2009, KMS Technology is a U.S.-...       NaN   \n",
       "\n",
       "                                             benefit  \n",
       "0  Want to be the Best? Join KMS!\\n\\n\\nIt’s posit...  \n",
       "1  Want to be the Best? Join KMS!\\n\\n\\nIt’s posit...  \n",
       "2  Want to be the Best? Join KMS!\\n\\n\\nIt’s posit...  \n",
       "3  Want to be the Best? Join KMS!\\n\\n\\nIt’s posit...  \n",
       "4  Want to be the Best? Join KMS!\\n\\n\\nIt’s posit...  "
      ]
     },
     "execution_count": 41,
     "metadata": {},
     "output_type": "execute_result"
    }
   ],
   "source": [
    "jobs_companies_df = pd.merge(jobs_df, companies_df, on = \"company_id\")\n",
    "jobs_companies_df.head()"
   ]
  },
  {
   "cell_type": "markdown",
   "id": "military-tractor",
   "metadata": {
    "hidden": true
   },
   "source": [
    "Loại bỏ những cột không liên quan, chỉ sử dụng cột cần thiết."
   ]
  },
  {
   "cell_type": "code",
   "execution_count": 42,
   "id": "neither-gentleman",
   "metadata": {
    "hidden": true
   },
   "outputs": [
    {
     "data": {
      "text/html": [
       "<div>\n",
       "<style scoped>\n",
       "    .dataframe tbody tr th:only-of-type {\n",
       "        vertical-align: middle;\n",
       "    }\n",
       "\n",
       "    .dataframe tbody tr th {\n",
       "        vertical-align: top;\n",
       "    }\n",
       "\n",
       "    .dataframe thead th {\n",
       "        text-align: right;\n",
       "    }\n",
       "</style>\n",
       "<table border=\"1\" class=\"dataframe\">\n",
       "  <thead>\n",
       "    <tr style=\"text-align: right;\">\n",
       "      <th></th>\n",
       "      <th>company_name</th>\n",
       "      <th>num_employees</th>\n",
       "      <th>country</th>\n",
       "      <th>job_id</th>\n",
       "    </tr>\n",
       "  </thead>\n",
       "  <tbody>\n",
       "    <tr>\n",
       "      <th>0</th>\n",
       "      <td>KMS Technology</td>\n",
       "      <td>1000+</td>\n",
       "      <td>United States</td>\n",
       "      <td>kms-technology:jrsr_qa_engineer_kms_labs_bonus</td>\n",
       "    </tr>\n",
       "    <tr>\n",
       "      <th>1</th>\n",
       "      <td>KMS Technology</td>\n",
       "      <td>1000+</td>\n",
       "      <td>United States</td>\n",
       "      <td>kms-technology:engineering_manager_bonus</td>\n",
       "    </tr>\n",
       "    <tr>\n",
       "      <th>2</th>\n",
       "      <td>KMS Technology</td>\n",
       "      <td>1000+</td>\n",
       "      <td>United States</td>\n",
       "      <td>kms-technology:fullstack_mobile_mobilenodejs_k...</td>\n",
       "    </tr>\n",
       "    <tr>\n",
       "      <th>3</th>\n",
       "      <td>KMS Technology</td>\n",
       "      <td>1000+</td>\n",
       "      <td>United States</td>\n",
       "      <td>kms-technology:jrsrprincipal_java_developer_bonus</td>\n",
       "    </tr>\n",
       "    <tr>\n",
       "      <th>4</th>\n",
       "      <td>KMS Technology</td>\n",
       "      <td>1000+</td>\n",
       "      <td>United States</td>\n",
       "      <td>kms-technology:product_manager_kms_labs_bonus</td>\n",
       "    </tr>\n",
       "    <tr>\n",
       "      <th>...</th>\n",
       "      <td>...</td>\n",
       "      <td>...</td>\n",
       "      <td>...</td>\n",
       "      <td>...</td>\n",
       "    </tr>\n",
       "    <tr>\n",
       "      <th>1406</th>\n",
       "      <td>Go Game Vietnam Limited Liability Company</td>\n",
       "      <td>1-50</td>\n",
       "      <td>Singapore</td>\n",
       "      <td>go-game-vietnam-limited-liability-company:unit...</td>\n",
       "    </tr>\n",
       "    <tr>\n",
       "      <th>1407</th>\n",
       "      <td>Đại Việt Group</td>\n",
       "      <td>501-1000</td>\n",
       "      <td>Vietnam</td>\n",
       "      <td>dai-viet-group:software_developer_net_c_aspnet</td>\n",
       "    </tr>\n",
       "    <tr>\n",
       "      <th>1408</th>\n",
       "      <td>MISA SOFTWARE</td>\n",
       "      <td>1000+</td>\n",
       "      <td>Vietnam</td>\n",
       "      <td>misa-software:net_dev_net_core_c_signon_bonus</td>\n",
       "    </tr>\n",
       "    <tr>\n",
       "      <th>1409</th>\n",
       "      <td>Thuocsi.vn</td>\n",
       "      <td>151-300</td>\n",
       "      <td>Vietnam</td>\n",
       "      <td>thuocsi-vn:remote_fullstack_dev_javascript</td>\n",
       "    </tr>\n",
       "    <tr>\n",
       "      <th>1410</th>\n",
       "      <td>MOBILE HEALTH VIETNAM</td>\n",
       "      <td>1-50</td>\n",
       "      <td>Singapore</td>\n",
       "      <td>mobile-health-vietnam:senior_python_developer</td>\n",
       "    </tr>\n",
       "  </tbody>\n",
       "</table>\n",
       "<p>1411 rows × 4 columns</p>\n",
       "</div>"
      ],
      "text/plain": [
       "                                   company_name num_employees        country  \\\n",
       "0                                KMS Technology         1000+  United States   \n",
       "1                                KMS Technology         1000+  United States   \n",
       "2                                KMS Technology         1000+  United States   \n",
       "3                                KMS Technology         1000+  United States   \n",
       "4                                KMS Technology         1000+  United States   \n",
       "...                                         ...           ...            ...   \n",
       "1406  Go Game Vietnam Limited Liability Company          1-50      Singapore   \n",
       "1407                             Đại Việt Group      501-1000        Vietnam   \n",
       "1408                              MISA SOFTWARE         1000+        Vietnam   \n",
       "1409                                 Thuocsi.vn       151-300        Vietnam   \n",
       "1410                      MOBILE HEALTH VIETNAM          1-50      Singapore   \n",
       "\n",
       "                                                 job_id  \n",
       "0        kms-technology:jrsr_qa_engineer_kms_labs_bonus  \n",
       "1              kms-technology:engineering_manager_bonus  \n",
       "2     kms-technology:fullstack_mobile_mobilenodejs_k...  \n",
       "3     kms-technology:jrsrprincipal_java_developer_bonus  \n",
       "4         kms-technology:product_manager_kms_labs_bonus  \n",
       "...                                                 ...  \n",
       "1406  go-game-vietnam-limited-liability-company:unit...  \n",
       "1407     dai-viet-group:software_developer_net_c_aspnet  \n",
       "1408      misa-software:net_dev_net_core_c_signon_bonus  \n",
       "1409         thuocsi-vn:remote_fullstack_dev_javascript  \n",
       "1410      mobile-health-vietnam:senior_python_developer  \n",
       "\n",
       "[1411 rows x 4 columns]"
      ]
     },
     "execution_count": 42,
     "metadata": {},
     "output_type": "execute_result"
    }
   ],
   "source": [
    "columns = [\"company_name\", \"num_employees\", \"country\",\"job_id\"]\n",
    "jobs_companies_df = jobs_companies_df[columns]\n",
    "jobs_companies_df"
   ]
  },
  {
   "cell_type": "markdown",
   "id": "mechanical-winner",
   "metadata": {
    "hidden": true
   },
   "source": [
    "Dữ liệu đã sẵn sàng để phân tích và trực quan."
   ]
  },
  {
   "cell_type": "markdown",
   "id": "741592bb",
   "metadata": {
    "heading_collapsed": true
   },
   "source": [
    "### 3.2.3 Analysis, Visualization"
   ]
  },
  {
   "cell_type": "markdown",
   "id": "detected-customs",
   "metadata": {
    "hidden": true
   },
   "source": [
    "Trước hết, ta phải thống kê số lượng các tuyển dụng theo quy mô công ty và quốc gia (`num_employees` và `country`)"
   ]
  },
  {
   "cell_type": "code",
   "execution_count": 43,
   "id": "creative-attention",
   "metadata": {
    "hidden": true
   },
   "outputs": [
    {
     "data": {
      "text/plain": [
       "country             num_employees\n",
       "Vietnam             1-50             262\n",
       "                    51-150           167\n",
       "                    1000+            129\n",
       "                    151-300          122\n",
       "Singapore           51-150            65\n",
       "                    1-50              61\n",
       "Vietnam             301-500           42\n",
       "United States       51-150            39\n",
       "Japan               1-50              37\n",
       "                    51-150            36\n",
       "United States       1-50              36\n",
       "Vietnam             501-1000          28\n",
       "Australia           51-150            21\n",
       "United States       1000+             20\n",
       "Korea, Republic of  51-150            20\n",
       "Germany             51-150            15\n",
       "Korea, Republic of  1-50              15\n",
       "Germany             1-50              15\n",
       "United States       151-300           14\n",
       "Australia           1-50              14\n",
       "Japan               301-500           12\n",
       "France              301-500           11\n",
       "Switzerland         51-150            11\n",
       "United States       301-500           11\n",
       "Norway              51-150            10\n",
       "Australia           301-500            9\n",
       "France              51-150             8\n",
       "                    1-50               8\n",
       "Germany             301-500            8\n",
       "Sweden              151-300            7\n",
       "dtype: int64"
      ]
     },
     "execution_count": 43,
     "metadata": {},
     "output_type": "execute_result"
    }
   ],
   "source": [
    "country_size_num = jobs_companies_df.groupby([\"country\",\"num_employees\"]).size().sort_values(ascending=False)\n",
    "country_size_num = country_size_num[0:30]\n",
    "country_size_num"
   ]
  },
  {
   "cell_type": "markdown",
   "id": "changed-album",
   "metadata": {
    "hidden": true
   },
   "source": [
    "Mục tiêu của công hỏi này nhằm hỏi về các công ty nước ngoài nên ta sẽ loại bỏ `Vietnam` để dữ liệu cân đối, không bị lệch quá về `Vietnam` và trực quan hóa cũng sẽ đẹp hơn.\n",
    "\n",
    "Ngoài ra ta còn phải sắp xếp lại các cột cho đúng với thứ tự ý nghĩa của nó."
   ]
  },
  {
   "cell_type": "code",
   "execution_count": 44,
   "id": "introductory-season",
   "metadata": {
    "hidden": true
   },
   "outputs": [
    {
     "data": {
      "text/html": [
       "<div>\n",
       "<style scoped>\n",
       "    .dataframe tbody tr th:only-of-type {\n",
       "        vertical-align: middle;\n",
       "    }\n",
       "\n",
       "    .dataframe tbody tr th {\n",
       "        vertical-align: top;\n",
       "    }\n",
       "\n",
       "    .dataframe thead th {\n",
       "        text-align: right;\n",
       "    }\n",
       "</style>\n",
       "<table border=\"1\" class=\"dataframe\">\n",
       "  <thead>\n",
       "    <tr style=\"text-align: right;\">\n",
       "      <th>num_employees</th>\n",
       "      <th>1-50</th>\n",
       "      <th>51-150</th>\n",
       "      <th>151-300</th>\n",
       "      <th>301-500</th>\n",
       "      <th>501-1000</th>\n",
       "      <th>1000+</th>\n",
       "    </tr>\n",
       "    <tr>\n",
       "      <th>country</th>\n",
       "      <th></th>\n",
       "      <th></th>\n",
       "      <th></th>\n",
       "      <th></th>\n",
       "      <th></th>\n",
       "      <th></th>\n",
       "    </tr>\n",
       "  </thead>\n",
       "  <tbody>\n",
       "    <tr>\n",
       "      <th>Singapore</th>\n",
       "      <td>61.00</td>\n",
       "      <td>65.00</td>\n",
       "      <td>NaN</td>\n",
       "      <td>NaN</td>\n",
       "      <td>NaN</td>\n",
       "      <td>NaN</td>\n",
       "    </tr>\n",
       "    <tr>\n",
       "      <th>United States</th>\n",
       "      <td>36.00</td>\n",
       "      <td>39.00</td>\n",
       "      <td>14.00</td>\n",
       "      <td>11.00</td>\n",
       "      <td>NaN</td>\n",
       "      <td>20.00</td>\n",
       "    </tr>\n",
       "    <tr>\n",
       "      <th>Japan</th>\n",
       "      <td>37.00</td>\n",
       "      <td>36.00</td>\n",
       "      <td>NaN</td>\n",
       "      <td>12.00</td>\n",
       "      <td>NaN</td>\n",
       "      <td>NaN</td>\n",
       "    </tr>\n",
       "    <tr>\n",
       "      <th>Australia</th>\n",
       "      <td>14.00</td>\n",
       "      <td>21.00</td>\n",
       "      <td>NaN</td>\n",
       "      <td>9.00</td>\n",
       "      <td>NaN</td>\n",
       "      <td>NaN</td>\n",
       "    </tr>\n",
       "    <tr>\n",
       "      <th>Korea, Republic of</th>\n",
       "      <td>15.00</td>\n",
       "      <td>20.00</td>\n",
       "      <td>NaN</td>\n",
       "      <td>NaN</td>\n",
       "      <td>NaN</td>\n",
       "      <td>NaN</td>\n",
       "    </tr>\n",
       "    <tr>\n",
       "      <th>Germany</th>\n",
       "      <td>15.00</td>\n",
       "      <td>15.00</td>\n",
       "      <td>NaN</td>\n",
       "      <td>8.00</td>\n",
       "      <td>NaN</td>\n",
       "      <td>NaN</td>\n",
       "    </tr>\n",
       "    <tr>\n",
       "      <th>France</th>\n",
       "      <td>8.00</td>\n",
       "      <td>8.00</td>\n",
       "      <td>NaN</td>\n",
       "      <td>11.00</td>\n",
       "      <td>NaN</td>\n",
       "      <td>NaN</td>\n",
       "    </tr>\n",
       "    <tr>\n",
       "      <th>Switzerland</th>\n",
       "      <td>NaN</td>\n",
       "      <td>11.00</td>\n",
       "      <td>NaN</td>\n",
       "      <td>NaN</td>\n",
       "      <td>NaN</td>\n",
       "      <td>NaN</td>\n",
       "    </tr>\n",
       "    <tr>\n",
       "      <th>Norway</th>\n",
       "      <td>NaN</td>\n",
       "      <td>10.00</td>\n",
       "      <td>NaN</td>\n",
       "      <td>NaN</td>\n",
       "      <td>NaN</td>\n",
       "      <td>NaN</td>\n",
       "    </tr>\n",
       "    <tr>\n",
       "      <th>Sweden</th>\n",
       "      <td>NaN</td>\n",
       "      <td>NaN</td>\n",
       "      <td>7.00</td>\n",
       "      <td>NaN</td>\n",
       "      <td>NaN</td>\n",
       "      <td>NaN</td>\n",
       "    </tr>\n",
       "  </tbody>\n",
       "</table>\n",
       "</div>"
      ],
      "text/plain": [
       "num_employees       1-50  51-150  151-300  301-500  501-1000  1000+\n",
       "country                                                            \n",
       "Singapore          61.00   65.00      NaN      NaN       NaN    NaN\n",
       "United States      36.00   39.00    14.00    11.00       NaN  20.00\n",
       "Japan              37.00   36.00      NaN    12.00       NaN    NaN\n",
       "Australia          14.00   21.00      NaN     9.00       NaN    NaN\n",
       "Korea, Republic of 15.00   20.00      NaN      NaN       NaN    NaN\n",
       "Germany            15.00   15.00      NaN     8.00       NaN    NaN\n",
       "France              8.00    8.00      NaN    11.00       NaN    NaN\n",
       "Switzerland          NaN   11.00      NaN      NaN       NaN    NaN\n",
       "Norway               NaN   10.00      NaN      NaN       NaN    NaN\n",
       "Sweden               NaN     NaN     7.00      NaN       NaN    NaN"
      ]
     },
     "execution_count": 44,
     "metadata": {},
     "output_type": "execute_result"
    }
   ],
   "source": [
    "country_size_num = country_size_num.unstack().drop(\"Vietnam\")\n",
    "country_size_num = country_size_num[[\"1-50\",\"51-150\",\"151-300\",\"301-500\",\"501-1000\",\"1000+\"]]\n",
    "country_size_num"
   ]
  },
  {
   "cell_type": "markdown",
   "id": "backed-equivalent",
   "metadata": {
    "hidden": true
   },
   "source": [
    "Sử dụng biểu đồ cột chồng (stacked bar chart) để thể hiện được mối quan hệ thành phần, số lượng công việc tuyển dụng của các quốc gia theo các quy mô công ty."
   ]
  },
  {
   "cell_type": "code",
   "execution_count": 45,
   "id": "attempted-brand",
   "metadata": {
    "hidden": true
   },
   "outputs": [
    {
     "data": {
      "text/plain": [
       "<AxesSubplot:title={'center':'Số lượng tuyển dụng theo quy mô công ty phân bổ theo các quốc gia'}, xlabel='country'>"
      ]
     },
     "execution_count": 45,
     "metadata": {},
     "output_type": "execute_result"
    },
    {
     "data": {
      "image/png": "[encoded data removed]",
      "text/plain": [
       "<Figure size 432x288 with 1 Axes>"
      ]
     },
     "metadata": {
      "needs_background": "light"
     },
     "output_type": "display_data"
    }
   ],
   "source": [
    "country_size_num.plot(kind = \"bar\", stacked = True, rot = 70, title = \"Số lượng tuyển dụng theo quy mô công ty phân bổ theo các quốc gia\")"
   ]
  },
  {
   "cell_type": "markdown",
   "id": "2d2fb36b",
   "metadata": {
    "heading_collapsed": true
   },
   "source": [
    "### 3.2.4 Kết luận"
   ]
  },
  {
   "cell_type": "markdown",
   "id": "engaged-negotiation",
   "metadata": {
    "hidden": true
   },
   "source": [
    "Như vậy, ta đã có thể trả lời được câu hỏi: \"Quốc gia nào đang tuyển dụng nhân lực ngành IT nhiều nhất tại Việt Nam?\"\n",
    "\n",
    "Qua trực quan thì dễ dàng thấy được `Singapore`, `United States` và `Japan` là 3 quốc gia hiện tại đang tuyển dụng nhiều nhân lực ngành IT ở Việt Nam với hơn 80 job hiện tại. Tuy nhiên thì các công ty đang tuyển dụng nhân lực đa phần còn non trẻ, có quy mô nhỏ, quy mô chủ yếu khoảng `1-50` và `51-150`. Điều này càng phản ánh 1 điều, càng ngày các quốc gia nước ngoài đang có xu hướng đầu từ dần sang Việt Nam bằng cách mở các chi nhánh nhỏ rồi dần quy mô hóa công ty. Cho thấy được khả năng ngoại ngữ có mức độ quan trọng rất lớn. \n",
    "\n",
    "Nhìn chung đa phần các quốc gia đều sử dụng tiếng Anh để có thể làm việc chung. Tuy nhiên ngoài các quốc gia sử dụng thuần tiếng Anh thì `Japan`,`Korea`, `Germany` hay `France` còn sử dụng ngôn ngữ gốc. Việc chọn một trong các ngôn ngữ này học sẽ là một lợi thế lớn trong việc tuyển dụng, làm việc và thăng tiến sau này nếu làm trong các công ty thuộc quốc gia đó."
   ]
  },
  {
   "cell_type": "markdown",
   "id": "cleared-point",
   "metadata": {},
   "source": [
    "## 3.3 Tìm những công việc tốt nhất liên quan đến ngành Khoa học dữ liệu"
   ]
  },
  {
   "cell_type": "markdown",
   "id": "certain-orientation",
   "metadata": {},
   "source": [
    "### 3.3.1 Nêu vấn đề"
   ]
  },
  {
   "cell_type": "markdown",
   "id": "9bc63839",
   "metadata": {},
   "source": [
    "Với lượng dữ liệu công việc lớn như hiện tại, việc lọc ra một công việc tốt về khoa học dữ liệu là một việc tương đối khó khăn. Trong phần này, ta sẽ phân tích và biến đổi trên dữ liệu để trả lời về vấn đề: _Tìm ra trên tập dữ liệu này những công việc nào tốt nhất liên quan đến khoa học dữ liệu_. Trả lời được cho vấn đề này sẽ giúp cho những người có mong muốn ứng tuyển vào vị trí liên quan đến khoa học dữ liệu tìm cho mình công việc được đánh giá tốt nhất. Ngoài ra, các trang web đăng tải thông tin tuyển dụng có thể ứng dụng phương thức này để gợi ý cho người dùng có nhu cầu được tuyển dụng vào lĩnh vực khoa học dữ liệu.\n",
    "\n",
    "Để trả lời được cho câu hỏi trên, ta cần trả lời được hai câu hỏi phụ sau:\n",
    "1. Công việc như thế nào là có liên quan đến khoa học dữ liệu?\n",
    "2. Trong những công việc đó, công việc nào là tốt nhất?"
   ]
  },
  {
   "cell_type": "markdown",
   "id": "sustained-prior",
   "metadata": {
    "heading_collapsed": true
   },
   "source": [
    "### 3.3.2 Data Preprocessing"
   ]
  },
  {
   "cell_type": "markdown",
   "id": "hidden-interest",
   "metadata": {
    "hidden": true
   },
   "source": [
    "Hướng tiếp cận chung của ta như sau:\n",
    "1. Ta sẽ cố gắng đánh giá _độ liên quan_ của một công việc đối với ngành khoa học dữ liệu. Cụ thể, ta sẽ dựa vào tiêu đề, taglist và mô tả của công việc để đánh giá và đưa ra một con số cho biết công việc đó liên quan nhiều hay ít đến khoa học dữ liệu.\n",
    "2. Từ tập công việc này, ta đánh giá mức độ tốt hay không tốt dựa trên điểm đánh giá trung bình và số lượt đánh giá của công ty đăng tải bài ứng tuyển. Để gợi ý đến cho người dùng, ta sẽ sắp xếp tập công việc này lần lượt theo các giá trị: độ liên quan, điểm đánh giá trung bình của công ty, và số lượt đánh giá công ty."
   ]
  },
  {
   "cell_type": "markdown",
   "id": "willing-radiation",
   "metadata": {
    "hidden": true
   },
   "source": [
    "Đầu tiên, ta tách ra những trường cần thiết để đánh giá và tiền xử lý."
   ]
  },
  {
   "cell_type": "code",
   "execution_count": 46,
   "id": "possible-harvest",
   "metadata": {
    "hidden": true
   },
   "outputs": [],
   "source": [
    "job_list_df = jobs_df[['job_id', 'job_name', 'description', 'taglist']].copy()"
   ]
  },
  {
   "cell_type": "markdown",
   "id": "brave-charge",
   "metadata": {
    "hidden": true
   },
   "source": [
    "Ta thực hiện bước tiền xử lý như sau:\n",
    "1. Vì ta đang xử lý trên chuỗi, ta đưa chúng về dạng chữ viết thường để tiện lợi. \n",
    "2. Ta nhận thấy cột `taglist` có cấu trúc cụ thể - các tag cách nhau bằng 3 ký tự khoảng trắng, do đó ta chuyển các giá trị của cột này về dạng list.\n",
    "3. Đặt `job_id` làm index"
   ]
  },
  {
   "cell_type": "code",
   "execution_count": 47,
   "id": "hearing-genome",
   "metadata": {
    "hidden": true
   },
   "outputs": [],
   "source": [
    "job_list_df.job_name = job_list_df.job_name.map(lambda x: x.lower())\n",
    "job_list_df.description = job_list_df.description.map(lambda x: x.lower())\n",
    "job_list_df.taglist = job_list_df.taglist.map(lambda x: x.lower().split('   '))\n",
    "job_list_df = job_list_df.set_index('job_id')"
   ]
  },
  {
   "cell_type": "markdown",
   "id": "aggressive-regard",
   "metadata": {
    "hidden": true
   },
   "source": [
    "Để đánh giá độ liên quan đến khoa học dữ liệu của một công việc, ý tưởng chính như sau: ta kiểm tra xem các trường `job_name`, `taglist` và `description` có chứa những từ khóa nào liên quan đến khoa học dữ liệu hay không\n",
    "* Ta chọn ra các từ khóa đặc trưng cho ngành khoa học dữ liệu. Ta phân chúng thành 5 tier, `t1` đến `t5`.\n",
    "* Gán cho mỗi tier một trọng số đánh giá _mức độ đặc trưng_ của tier đối với ngành khoa học dữ liệu. Gán `t1` điểm 1, ..., `t5` điểm 5.\n",
    "\n",
    "Dưới đây em đã chọn ra và sắp xếp các từ khóa đặc trưng cho ngành khoa học dữ liệu. Các từ khóa này được em chọn thông qua việc đọc description của công việc từ dữ liệu, tham khảo, tìm kiếm trên Internet và cảm nhận của bản thân. Cách chia các tier này là hoàn toàn chủ quan."
   ]
  },
  {
   "cell_type": "code",
   "execution_count": 48,
   "id": "ultimate-limit",
   "metadata": {
    "hidden": true
   },
   "outputs": [],
   "source": [
    "t5 = ['data science', 'data scientist', 'khoa học dữ liệu'] \n",
    "t4 = ['data analysis', 'data analyst', 'data analytics', 'phân tích dữ liệu',\n",
    "      'data visualization', 'data preprocessing', 'data mining', 'trực quan hóa', 'xử lý dữ liệu', 'khai thác dữ liệu',\n",
    "      'data engineer', 'data warehouse', 'kỹ sư dữ liệu', 'nhà kho dữ liệu',\n",
    "      'data pipelining', 'aws', 'business intelligence',\n",
    "      'ssps', 'tableau',\n",
    "      'pytorch', 'tensorflow',\n",
    "      'pandas', 'numpy', 'scikit-learn', 'scipy', \n",
    "      'spark', 'keras', 'hadoop',\n",
    "      'nltk', 'scala']\n",
    "t3 = ['statistics', 'thống kê',\n",
    "      'ai', 'artificial intelligence', 'trí tuệ nhân tạo',\n",
    "      'big data', 'machine learning', 'học máy', 'máy học', 'dữ liệu lớn',\n",
    "      'deep learning', 'học sâu',\n",
    "      'data architect']\n",
    "t2 = ['sql', 'nosql', 'julia',\n",
    "      'cloud computing', 'điện toán đám mây']\n",
    "t1 = ['data', 'database', 'dữ liệu', 'cơ sở dữ liệu',\n",
    "      'english', 'python', 'tiếng anh',\n",
    "      'analyst', 'phân tích', 'cloud', 'đám mây'\n",
    "      'java']\n",
    "\n",
    "weights = np.array([1, 2, 3, 4, 5])"
   ]
  },
  {
   "cell_type": "markdown",
   "id": "possible-identity",
   "metadata": {
    "heading_collapsed": true
   },
   "source": [
    "### 3.3.3 Analysis, Visualization"
   ]
  },
  {
   "cell_type": "markdown",
   "id": "ethical-contrast",
   "metadata": {
    "hidden": true
   },
   "source": [
    "Ta chấm điểm cho các trường như sau:\n",
    "* Với mỗi tier, ta kiểm tra từng trường `job_name`, `taglist` và `description`, nếu trường có chứa ít nhất 1 từ khóa trong tier, ta chấm điểm cho trường đó bằng trọng số của tier. Nếu không, ta chấm điểm 0.\n",
    "\t* Ví dụ, giả sử ta xét trên tier 5, trường `job_name` và `description` có chứa từ khóa `\"data science\"`, trường `taglist` thì không => điểm của các trường lần lượt là `[5, 0, 5]`.\n",
    "* _Độ liên quan_ của một công việc được tính bằng tổng số điểm của các trường, trên tất cả các tier. Số điểm càng cao thì độ liên quan càng lớn. Cách tính tổng này sẽ được trình bày ở phần dưới.\n",
    "\n",
    "Dưới đây, hàm `contains()` kiểm tra xem một giá trị có chứa keyword nào trong danh sách các keyword hay không. Hàm `grade()` chấm điểm cho từng giá trị của các trường (lưu ý `tier` trong `grade` là chỉ số). Sau đó, ta xây dựng một mảng 3 chiều `grade_board`, sao cho `grade_board[:, :, x]` là một ma trận điểm của các trường xét trên `tier[x]`. Các hàm `reshape` chuyển đổi `shape` của các ma trận sao cho phù hợp để broadcast.\n"
   ]
  },
  {
   "cell_type": "code",
   "execution_count": 49,
   "id": "joined-geology",
   "metadata": {
    "hidden": true
   },
   "outputs": [],
   "source": [
    "tiers = [t1, t2, t3, t4, t5]\n",
    "\n",
    "def contains(x, tier):\n",
    "    return any(keyword in x for keyword in tier)\n",
    "\n",
    "def grade(x, tier):\n",
    "    return contains(x, tiers[tier]) * weights[tier]\n",
    "\n",
    "f = np.vectorize(grade)\n",
    "grade_board = f(job_list_df.values.reshape((*job_list_df.shape, 1)), np.arange(5).reshape((1, 1, 5)))"
   ]
  },
  {
   "cell_type": "markdown",
   "id": "worthy-program",
   "metadata": {
    "hidden": true
   },
   "source": [
    "Có được ma trận điểm, ta sẽ tiến hành tính tổng số điểm cho các công việc. Ở đây ta định nghĩa thêm một loại trọng số nữa cho ba trường `job_name`, `taglist`, `description`, cụ thể là `[0.5, 0.3, 0.2]`. Lý do là vì:\n",
    "* Thông thường tiêu đề của công việc có ý nghĩa quan trọng nhất cho việc xác định lĩnh vực của công việc đó.\n",
    "* `taglist` chỉ có tối đa 3 tag, không đủ để xác định lĩnh vực của công việc, do đó không quan trọng bằng `job_name`.\n",
    "* Một số mô tả công việc có thể chứa các từ khóa có liên quan đến khoa học dữ liệu, nhưng với mục đích chỉ là nhắc đến lĩnh vực khoa học dữ liệu, chứ không phải mô tả những vấn đề cụ thể của công việc.\n",
    "\t* Ví dụ trong mô tả công việc về mobile developer có thể có đoạn như sau: \"Knowledge in machine learning or artificial intelligence is a plus\". Mô tả này có chứa hai keyword thuộc tier 3 (machine learning và artificial intelligence), tuy nhiên mục đích chỉ là nhắc đến hai kỹ năng là điểm cộng, nội dung chính của mô tả vẫn là về mobile developer. Do đó, đặt trọng số thấp cho trường `description` sẽ giúp giảm thiểu khả năng gặp trường hợp này.\n",
    "\n",
    "Ta tiến hành tính tổng cho các trường trên các tier, sau đó gom tất cả các trường lại theo trọng số để ra được độ liên quan của từng công việc. Ta thêm kết quả này vào cột `score` trong `job_list_df`."
   ]
  },
  {
   "cell_type": "code",
   "execution_count": 50,
   "id": "legitimate-immune",
   "metadata": {
    "hidden": true
   },
   "outputs": [],
   "source": [
    "field_weights = np.array([0.5, 0.3, 0.2])\n",
    "scores = ((grade_board).sum(axis=2) * field_weights).sum(axis=1)\n",
    "job_list_df['score'] = scores"
   ]
  },
  {
   "cell_type": "markdown",
   "id": "retired-mechanics",
   "metadata": {
    "hidden": true
   },
   "source": [
    "Dưới đây là phân bố số điểm của các công việc. Có thể thấy hầu hết các số điểm công việc rơi vào khoảng 0 đến 4 (lưu ý, số điểm tối đa cho một công việc là 15 (1 + 2 + ... + 5)), không có nhiều công việc liên quan đến khoa học dữ liệu trong dữ liệu này."
   ]
  },
  {
   "cell_type": "code",
   "execution_count": 51,
   "id": "sonic-chrome",
   "metadata": {
    "hidden": true
   },
   "outputs": [
    {
     "data": {
      "image/png": "[encoded data removed]",
      "text/plain": [
       "<Figure size 432x288 with 1 Axes>"
      ]
     },
     "metadata": {
      "needs_background": "light"
     },
     "output_type": "display_data"
    }
   ],
   "source": [
    "job_list_df['score'].plot(\n",
    "    kind='hist',\n",
    "    edgecolor='black',\n",
    "    title='Phân bố điểm độ liên quan đến ngành khoa học dữ liệu của các công việc',\n",
    "    xlim=(0, 15)\n",
    ")\n",
    "plt.show()"
   ]
  },
  {
   "cell_type": "markdown",
   "id": "piano-calgary",
   "metadata": {
    "hidden": true
   },
   "source": [
    "Dưới đây là top 15 công việc có liên quan nhất đến ngành khoa học dữ liệu. Có thể thấy phương pháp ta thực hiện cho ra kết quả tương đối khả quan."
   ]
  },
  {
   "cell_type": "code",
   "execution_count": 52,
   "id": "upset-registration",
   "metadata": {
    "hidden": true
   },
   "outputs": [
    {
     "data": {
      "text/html": [
       "<div>\n",
       "<style scoped>\n",
       "    .dataframe tbody tr th:only-of-type {\n",
       "        vertical-align: middle;\n",
       "    }\n",
       "\n",
       "    .dataframe tbody tr th {\n",
       "        vertical-align: top;\n",
       "    }\n",
       "\n",
       "    .dataframe thead th {\n",
       "        text-align: right;\n",
       "    }\n",
       "</style>\n",
       "<table border=\"1\" class=\"dataframe\">\n",
       "  <thead>\n",
       "    <tr style=\"text-align: right;\">\n",
       "      <th></th>\n",
       "      <th>job_name</th>\n",
       "      <th>description</th>\n",
       "      <th>taglist</th>\n",
       "      <th>score</th>\n",
       "    </tr>\n",
       "    <tr>\n",
       "      <th>job_id</th>\n",
       "      <th></th>\n",
       "      <th></th>\n",
       "      <th></th>\n",
       "      <th></th>\n",
       "    </tr>\n",
       "  </thead>\n",
       "  <tbody>\n",
       "    <tr>\n",
       "      <th>adverttu:data_scientist_python_sql_aws_remote</th>\n",
       "      <td>data scientist (python, sql, aws) remote</td>\n",
       "      <td>adverttu is hiring an experienced data scienti...</td>\n",
       "      <td>[ python, sql, aws ]</td>\n",
       "      <td>10.00</td>\n",
       "    </tr>\n",
       "    <tr>\n",
       "      <th>zalora-group:sr_data_scientist_machine_learning_r</th>\n",
       "      <td>sr data scientist (machine learning, r)</td>\n",
       "      <td>we are looking for an exceptional senior data ...</td>\n",
       "      <td>[ java, python, scala ]</td>\n",
       "      <td>9.20</td>\n",
       "    </tr>\n",
       "    <tr>\n",
       "      <th>viettel-group:10_bigdata_engineers_java_scala_sql</th>\n",
       "      <td>10 bigdata engineers (java, scala, sql)</td>\n",
       "      <td>khối cntt trực thuộc tổng công ty (tct) viễn t...</td>\n",
       "      <td>[ java, sql, scala ]</td>\n",
       "      <td>8.40</td>\n",
       "    </tr>\n",
       "    <tr>\n",
       "      <th>haravan:senior_data_engineer_bi_python_sql</th>\n",
       "      <td>senior data engineer (bi, python, sql)</td>\n",
       "      <td>we are looking for a senior business intellige...</td>\n",
       "      <td>[ business analyst, sql, data analyst ]</td>\n",
       "      <td>8.40</td>\n",
       "    </tr>\n",
       "    <tr>\n",
       "      <th>parcel-perform:data_engineer_database_sql_python</th>\n",
       "      <td>data engineer (database, sql, python)</td>\n",
       "      <td>parcel perform is looking for an amazing team ...</td>\n",
       "      <td>[ database, python, sql ]</td>\n",
       "      <td>8.20</td>\n",
       "    </tr>\n",
       "    <tr>\n",
       "      <th>chotot:data_engineer_sql_python</th>\n",
       "      <td>data engineer (sql, python)</td>\n",
       "      <td>cho tot technology foundation is growing and e...</td>\n",
       "      <td>[ database, python, sql ]</td>\n",
       "      <td>8.20</td>\n",
       "    </tr>\n",
       "    <tr>\n",
       "      <th>ihouzz-tech:data_analyst_python_java_sql</th>\n",
       "      <td>data analyst (python, java, sql)</td>\n",
       "      <td>·       understand business processes, applica...</td>\n",
       "      <td>[ java, python, sql ]</td>\n",
       "      <td>8.20</td>\n",
       "    </tr>\n",
       "    <tr>\n",
       "      <th>eplus-research:data_analyst_sql_online_interview</th>\n",
       "      <td>data analyst (sql) - (online interview)</td>\n",
       "      <td>công ty \\neplus research\\n là đơn vị cung cấp ...</td>\n",
       "      <td>[ python, database, sql ]</td>\n",
       "      <td>8.20</td>\n",
       "    </tr>\n",
       "    <tr>\n",
       "      <th>deliveree-on-demand-logistics:data_scientist</th>\n",
       "      <td>data scientist</td>\n",
       "      <td>company description\\n\\n\\nwe own and operate so...</td>\n",
       "      <td>[ database, python, postgresql ]</td>\n",
       "      <td>7.70</td>\n",
       "    </tr>\n",
       "    <tr>\n",
       "      <th>treehouse-finance:data_scientist_data_quant_analyst</th>\n",
       "      <td>data scientist / data quant analyst</td>\n",
       "      <td>treehouse provides defi users with live analyt...</td>\n",
       "      <td>[ data analyst, database, blockchain ]</td>\n",
       "      <td>7.70</td>\n",
       "    </tr>\n",
       "    <tr>\n",
       "      <th>vietnam-international-bank-vib:data_science_data_analyst_bi</th>\n",
       "      <td>data science/ data analyst (bi)</td>\n",
       "      <td>mục đích công việc:\\n\\n\\nchịu trách nhiệm xây ...</td>\n",
       "      <td>[ english, cloud, scrum ]</td>\n",
       "      <td>7.60</td>\n",
       "    </tr>\n",
       "    <tr>\n",
       "      <th>mb-bank:jrsr_data_scientist_javapythonscala</th>\n",
       "      <td>jr/sr data scientist (java/python/scala)</td>\n",
       "      <td>- làm việc với các đơn vị nghiệp vụ để xác địn...</td>\n",
       "      <td>[ java, python, scala ]</td>\n",
       "      <td>7.60</td>\n",
       "    </tr>\n",
       "    <tr>\n",
       "      <th>greenfeed:sap_data_engineer</th>\n",
       "      <td>sap data engineer</td>\n",
       "      <td>designs, develops, modifies, configures, debug...</td>\n",
       "      <td>[ sap, database, erp ]</td>\n",
       "      <td>7.20</td>\n",
       "    </tr>\n",
       "    <tr>\n",
       "      <th>gft-technologies-vietnam:python_developer_data_engineerairflow</th>\n",
       "      <td>python developer (data engineer/airflow)</td>\n",
       "      <td>we are looking for a candidate with 5+ years o...</td>\n",
       "      <td>[ python, database, data analyst ]</td>\n",
       "      <td>7.20</td>\n",
       "    </tr>\n",
       "    <tr>\n",
       "      <th>quoine:data_engineer</th>\n",
       "      <td>data engineer</td>\n",
       "      <td>create and maintain optimal data pipeline arch...</td>\n",
       "      <td>[ sql, database, postgresql ]</td>\n",
       "      <td>7.20</td>\n",
       "    </tr>\n",
       "  </tbody>\n",
       "</table>\n",
       "</div>"
      ],
      "text/plain": [
       "                                                                                    job_name  \\\n",
       "job_id                                                                                         \n",
       "adverttu:data_scientist_python_sql_aws_remote       data scientist (python, sql, aws) remote   \n",
       "zalora-group:sr_data_scientist_machine_learning_r    sr data scientist (machine learning, r)   \n",
       "viettel-group:10_bigdata_engineers_java_scala_sql    10 bigdata engineers (java, scala, sql)   \n",
       "haravan:senior_data_engineer_bi_python_sql            senior data engineer (bi, python, sql)   \n",
       "parcel-perform:data_engineer_database_sql_python       data engineer (database, sql, python)   \n",
       "chotot:data_engineer_sql_python                                  data engineer (sql, python)   \n",
       "ihouzz-tech:data_analyst_python_java_sql                    data analyst (python, java, sql)   \n",
       "eplus-research:data_analyst_sql_online_interview     data analyst (sql) - (online interview)   \n",
       "deliveree-on-demand-logistics:data_scientist                                  data scientist   \n",
       "treehouse-finance:data_scientist_data_quant_ana...       data scientist / data quant analyst   \n",
       "vietnam-international-bank-vib:data_science_dat...           data science/ data analyst (bi)   \n",
       "mb-bank:jrsr_data_scientist_javapythonscala         jr/sr data scientist (java/python/scala)   \n",
       "greenfeed:sap_data_engineer                                                sap data engineer   \n",
       "gft-technologies-vietnam:python_developer_data_...  python developer (data engineer/airflow)   \n",
       "quoine:data_engineer                                                           data engineer   \n",
       "\n",
       "                                                                                          description  \\\n",
       "job_id                                                                                                  \n",
       "adverttu:data_scientist_python_sql_aws_remote       adverttu is hiring an experienced data scienti...   \n",
       "zalora-group:sr_data_scientist_machine_learning_r   we are looking for an exceptional senior data ...   \n",
       "viettel-group:10_bigdata_engineers_java_scala_sql   khối cntt trực thuộc tổng công ty (tct) viễn t...   \n",
       "haravan:senior_data_engineer_bi_python_sql          we are looking for a senior business intellige...   \n",
       "parcel-perform:data_engineer_database_sql_python    parcel perform is looking for an amazing team ...   \n",
       "chotot:data_engineer_sql_python                     cho tot technology foundation is growing and e...   \n",
       "ihouzz-tech:data_analyst_python_java_sql            ·       understand business processes, applica...   \n",
       "eplus-research:data_analyst_sql_online_interview    công ty \\neplus research\\n là đơn vị cung cấp ...   \n",
       "deliveree-on-demand-logistics:data_scientist        company description\\n\\n\\nwe own and operate so...   \n",
       "treehouse-finance:data_scientist_data_quant_ana...  treehouse provides defi users with live analyt...   \n",
       "vietnam-international-bank-vib:data_science_dat...  mục đích công việc:\\n\\n\\nchịu trách nhiệm xây ...   \n",
       "mb-bank:jrsr_data_scientist_javapythonscala         - làm việc với các đơn vị nghiệp vụ để xác địn...   \n",
       "greenfeed:sap_data_engineer                         designs, develops, modifies, configures, debug...   \n",
       "gft-technologies-vietnam:python_developer_data_...  we are looking for a candidate with 5+ years o...   \n",
       "quoine:data_engineer                                create and maintain optimal data pipeline arch...   \n",
       "\n",
       "                                                                                    taglist  \\\n",
       "job_id                                                                                        \n",
       "adverttu:data_scientist_python_sql_aws_remote                          [ python, sql, aws ]   \n",
       "zalora-group:sr_data_scientist_machine_learning_r                   [ java, python, scala ]   \n",
       "viettel-group:10_bigdata_engineers_java_scala_sql                      [ java, sql, scala ]   \n",
       "haravan:senior_data_engineer_bi_python_sql          [ business analyst, sql, data analyst ]   \n",
       "parcel-perform:data_engineer_database_sql_python                  [ database, python, sql ]   \n",
       "chotot:data_engineer_sql_python                                   [ database, python, sql ]   \n",
       "ihouzz-tech:data_analyst_python_java_sql                              [ java, python, sql ]   \n",
       "eplus-research:data_analyst_sql_online_interview                  [ python, database, sql ]   \n",
       "deliveree-on-demand-logistics:data_scientist               [ database, python, postgresql ]   \n",
       "treehouse-finance:data_scientist_data_quant_ana...   [ data analyst, database, blockchain ]   \n",
       "vietnam-international-bank-vib:data_science_dat...                [ english, cloud, scrum ]   \n",
       "mb-bank:jrsr_data_scientist_javapythonscala                         [ java, python, scala ]   \n",
       "greenfeed:sap_data_engineer                                          [ sap, database, erp ]   \n",
       "gft-technologies-vietnam:python_developer_data_...       [ python, database, data analyst ]   \n",
       "quoine:data_engineer                                          [ sql, database, postgresql ]   \n",
       "\n",
       "                                                    score  \n",
       "job_id                                                     \n",
       "adverttu:data_scientist_python_sql_aws_remote       10.00  \n",
       "zalora-group:sr_data_scientist_machine_learning_r    9.20  \n",
       "viettel-group:10_bigdata_engineers_java_scala_sql    8.40  \n",
       "haravan:senior_data_engineer_bi_python_sql           8.40  \n",
       "parcel-perform:data_engineer_database_sql_python     8.20  \n",
       "chotot:data_engineer_sql_python                      8.20  \n",
       "ihouzz-tech:data_analyst_python_java_sql             8.20  \n",
       "eplus-research:data_analyst_sql_online_interview     8.20  \n",
       "deliveree-on-demand-logistics:data_scientist         7.70  \n",
       "treehouse-finance:data_scientist_data_quant_ana...   7.70  \n",
       "vietnam-international-bank-vib:data_science_dat...   7.60  \n",
       "mb-bank:jrsr_data_scientist_javapythonscala          7.60  \n",
       "greenfeed:sap_data_engineer                          7.20  \n",
       "gft-technologies-vietnam:python_developer_data_...   7.20  \n",
       "quoine:data_engineer                                 7.20  "
      ]
     },
     "execution_count": 52,
     "metadata": {},
     "output_type": "execute_result"
    }
   ],
   "source": [
    "job_list_df.sort_values('score', ascending=False)[:15]"
   ]
  },
  {
   "cell_type": "markdown",
   "id": "warming-actor",
   "metadata": {
    "hidden": true
   },
   "source": [
    "Để dễ sắp xếp, ta làm tròn giá trị cột `score` thành số nguyên."
   ]
  },
  {
   "cell_type": "code",
   "execution_count": 53,
   "id": "cathedral-pharmacology",
   "metadata": {
    "hidden": true
   },
   "outputs": [],
   "source": [
    "job_list_df['score'] = job_list_df['score'].round().map(int)"
   ]
  },
  {
   "cell_type": "markdown",
   "id": "integrated-consciousness",
   "metadata": {
    "hidden": true
   },
   "source": [
    "Ta join cột `score` vào cùng với các thông tin gốc về công ty và công việc để chuẩn bị cho bước kết luận."
   ]
  },
  {
   "cell_type": "code",
   "execution_count": 54,
   "id": "hearing-encoding",
   "metadata": {
    "hidden": true
   },
   "outputs": [],
   "source": [
    "final = jobs_df[['job_id', 'company_id', 'job_name', 'description']]\\\n",
    "    .merge(companies_df[['company_id', 'company_name', 'average_rating', 'num_reviews']], on='company_id', how='inner')\\\n",
    "    .merge(job_list_df['score'], on='job_id', how='inner')"
   ]
  },
  {
   "cell_type": "markdown",
   "id": "coordinated-evanescence",
   "metadata": {},
   "source": [
    "### 3.3.4 Kết luận"
   ]
  },
  {
   "cell_type": "markdown",
   "id": "adverse-couple",
   "metadata": {},
   "source": [
    "Dưới đây là top 10 công việc tốt nhất liên quan đến khoa học dữ liệu dựa theo phương thức đánh giá của ta. Theo đó, công việc của công ty  Adverttu được xếp lên trên cùng do có độ liên quan lớn nhất. Nhưng có vẻ như công việc tốt nhất phải là công việc của công ty ZALORA Group với độ hợp cao, điểm đánh giá trung bình cùng số lượt đánh giá cũng khả quan. Các công việc còn lại trong nhóm 8 điểm cũng tương đối ổn."
   ]
  },
  {
   "cell_type": "code",
   "execution_count": 55,
   "id": "athletic-murder",
   "metadata": {},
   "outputs": [
    {
     "data": {
      "text/html": [
       "<div>\n",
       "<style scoped>\n",
       "    .dataframe tbody tr th:only-of-type {\n",
       "        vertical-align: middle;\n",
       "    }\n",
       "\n",
       "    .dataframe tbody tr th {\n",
       "        vertical-align: top;\n",
       "    }\n",
       "\n",
       "    .dataframe thead th {\n",
       "        text-align: right;\n",
       "    }\n",
       "</style>\n",
       "<table border=\"1\" class=\"dataframe\">\n",
       "  <thead>\n",
       "    <tr style=\"text-align: right;\">\n",
       "      <th></th>\n",
       "      <th>job_name</th>\n",
       "      <th>score</th>\n",
       "      <th>company_name</th>\n",
       "      <th>average_rating</th>\n",
       "      <th>num_reviews</th>\n",
       "      <th>description</th>\n",
       "    </tr>\n",
       "  </thead>\n",
       "  <tbody>\n",
       "    <tr>\n",
       "      <th>1317</th>\n",
       "      <td>Data Scientist (Python, SQL, AWS) REMOTE</td>\n",
       "      <td>10</td>\n",
       "      <td>Adverttu</td>\n",
       "      <td>NaN</td>\n",
       "      <td>0.00</td>\n",
       "      <td>Adverttu is hiring an experienced Data Scienti...</td>\n",
       "    </tr>\n",
       "    <tr>\n",
       "      <th>583</th>\n",
       "      <td>Sr Data Scientist (Machine Learning, R)</td>\n",
       "      <td>9</td>\n",
       "      <td>ZALORA Group</td>\n",
       "      <td>4.60</td>\n",
       "      <td>54.00</td>\n",
       "      <td>We are looking for an exceptional Senior Data ...</td>\n",
       "    </tr>\n",
       "    <tr>\n",
       "      <th>287</th>\n",
       "      <td>Data Engineer (Database, SQL, Python)</td>\n",
       "      <td>8</td>\n",
       "      <td>Parcel Perform</td>\n",
       "      <td>4.90</td>\n",
       "      <td>17.00</td>\n",
       "      <td>Parcel Perform is looking for an amazing team ...</td>\n",
       "    </tr>\n",
       "    <tr>\n",
       "      <th>620</th>\n",
       "      <td>Senior Data Engineer (BI, Python, SQL)</td>\n",
       "      <td>8</td>\n",
       "      <td>HARAVAN</td>\n",
       "      <td>4.30</td>\n",
       "      <td>38.00</td>\n",
       "      <td>We are looking for a Senior Business Intellige...</td>\n",
       "    </tr>\n",
       "    <tr>\n",
       "      <th>239</th>\n",
       "      <td>Data Scientist</td>\n",
       "      <td>8</td>\n",
       "      <td>Deliveree On-Demand Logistics</td>\n",
       "      <td>4.00</td>\n",
       "      <td>12.00</td>\n",
       "      <td>Company Description\\n\\n\\nWe own and operate So...</td>\n",
       "    </tr>\n",
       "    <tr>\n",
       "      <th>241</th>\n",
       "      <td>Data Engineer (SQL, Python)</td>\n",
       "      <td>8</td>\n",
       "      <td>Chotot</td>\n",
       "      <td>3.60</td>\n",
       "      <td>20.00</td>\n",
       "      <td>Cho Tot technology foundation is growing and e...</td>\n",
       "    </tr>\n",
       "    <tr>\n",
       "      <th>226</th>\n",
       "      <td>10 BigData Engineers (Java, Scala, SQL)</td>\n",
       "      <td>8</td>\n",
       "      <td>Viettel Group</td>\n",
       "      <td>3.50</td>\n",
       "      <td>22.00</td>\n",
       "      <td>Khối CNTT trực thuộc Tổng công ty (TCT) Viễn T...</td>\n",
       "    </tr>\n",
       "    <tr>\n",
       "      <th>89</th>\n",
       "      <td>Data Science/ Data Analyst (BI)</td>\n",
       "      <td>8</td>\n",
       "      <td>Vietnam International Bank (VIB)</td>\n",
       "      <td>2.80</td>\n",
       "      <td>6.00</td>\n",
       "      <td>Mục đích công việc:\\n\\n\\nChịu trách nhiệm xây ...</td>\n",
       "    </tr>\n",
       "    <tr>\n",
       "      <th>401</th>\n",
       "      <td>Data Analyst (Python, Java, SQL)</td>\n",
       "      <td>8</td>\n",
       "      <td>IHOUZZ TECH</td>\n",
       "      <td>NaN</td>\n",
       "      <td>4.00</td>\n",
       "      <td>·       Understand business processes, applica...</td>\n",
       "    </tr>\n",
       "    <tr>\n",
       "      <th>1074</th>\n",
       "      <td>Jr/Sr Data Scientist (Java/Python/Scala)</td>\n",
       "      <td>8</td>\n",
       "      <td>MB Bank</td>\n",
       "      <td>NaN</td>\n",
       "      <td>1.00</td>\n",
       "      <td>- Làm việc với các đơn vị nghiệp vụ để xác địn...</td>\n",
       "    </tr>\n",
       "  </tbody>\n",
       "</table>\n",
       "</div>"
      ],
      "text/plain": [
       "                                      job_name  score  \\\n",
       "1317  Data Scientist (Python, SQL, AWS) REMOTE     10   \n",
       "583    Sr Data Scientist (Machine Learning, R)      9   \n",
       "287      Data Engineer (Database, SQL, Python)      8   \n",
       "620     Senior Data Engineer (BI, Python, SQL)      8   \n",
       "239                             Data Scientist      8   \n",
       "241                Data Engineer (SQL, Python)      8   \n",
       "226    10 BigData Engineers (Java, Scala, SQL)      8   \n",
       "89             Data Science/ Data Analyst (BI)      8   \n",
       "401           Data Analyst (Python, Java, SQL)      8   \n",
       "1074  Jr/Sr Data Scientist (Java/Python/Scala)      8   \n",
       "\n",
       "                          company_name  average_rating  num_reviews  \\\n",
       "1317                          Adverttu             NaN         0.00   \n",
       "583                       ZALORA Group            4.60        54.00   \n",
       "287                     Parcel Perform            4.90        17.00   \n",
       "620                            HARAVAN            4.30        38.00   \n",
       "239      Deliveree On-Demand Logistics            4.00        12.00   \n",
       "241                             Chotot            3.60        20.00   \n",
       "226                      Viettel Group            3.50        22.00   \n",
       "89    Vietnam International Bank (VIB)            2.80         6.00   \n",
       "401                        IHOUZZ TECH             NaN         4.00   \n",
       "1074                           MB Bank             NaN         1.00   \n",
       "\n",
       "                                            description  \n",
       "1317  Adverttu is hiring an experienced Data Scienti...  \n",
       "583   We are looking for an exceptional Senior Data ...  \n",
       "287   Parcel Perform is looking for an amazing team ...  \n",
       "620   We are looking for a Senior Business Intellige...  \n",
       "239   Company Description\\n\\n\\nWe own and operate So...  \n",
       "241   Cho Tot technology foundation is growing and e...  \n",
       "226   Khối CNTT trực thuộc Tổng công ty (TCT) Viễn T...  \n",
       "89    Mục đích công việc:\\n\\n\\nChịu trách nhiệm xây ...  \n",
       "401   ·       Understand business processes, applica...  \n",
       "1074  - Làm việc với các đơn vị nghiệp vụ để xác địn...  "
      ]
     },
     "execution_count": 55,
     "metadata": {},
     "output_type": "execute_result"
    }
   ],
   "source": [
    "final.sort_values(\n",
    "    ['score', 'average_rating', 'num_reviews'],\n",
    "    ascending=[False, False, False])[['job_name', 'score', 'company_name', 'average_rating', 'num_reviews', 'description']][:10]"
   ]
  },
  {
   "cell_type": "markdown",
   "id": "talented-secret",
   "metadata": {},
   "source": [
    "Như vậy ta đã trả lời được cho câu hỏi công việc nào tốt nhất liên quan đến khoa học dữ liệu. Bên cạnh đó, ta cũng tạo ra được một phương pháp đánh giá độ liên quan của công việc đến một lĩnh vực. Việc sử dụng lại phương pháp này cũng đơn giản, ta có thể:\n",
    "* Thay đổi các từ khóa trong từng tier theo lĩnh vực mong muốn\n",
    "* Thêm hoặc xóa bớt tier\n",
    "* Thay đổi trọng số cho các tier\n",
    "* Thay đổi trọng số cho các trường"
   ]
  },
  {
   "cell_type": "markdown",
   "id": "7058d57a",
   "metadata": {
    "heading_collapsed": true
   },
   "source": [
    "# 4. Cảm nhận sau khi kết thúc đồ án và môn học"
   ]
  },
  {
   "cell_type": "markdown",
   "id": "5ff35629",
   "metadata": {
    "heading_collapsed": true,
    "hidden": true
   },
   "source": [
    "## 4.1 Lê Đức Huy - 19120080"
   ]
  },
  {
   "cell_type": "markdown",
   "id": "cubic-thompson",
   "metadata": {
    "hidden": true
   },
   "source": [
    "**SAU KHI KẾT THÚC ĐỒ ÁN**\n",
    "\n",
    "Xuyên suốt đồ án, từ lúc cả 2 thành viên tìm đề tài cho đến lúc phân chia công việc rồi hoàn thành công việc thì diễn ra khá suông sẻ. Khó khăn lớn nhất đối với em có lẽ là việc tìm ra _\"insight\"_ hay nói cách khác là tìm ra câu hỏi cần trả lời. Điều này thực sự cần có nhiều kinh nghiệm hoặc có độ nhạy bén với dữ liệu mới có thể cải thiện dần việc tìm ra câu hỏi cần giải quyết khi đứng trước một bộ dữ liệu mới.\n",
    "\n",
    "Tuy quá trình làm không quá khó khăn (có lẽ là do câu hỏi chưa đủ khó cần để xử lý dữ liệu nhiều ><) nên việc học thêm kiến thức mới không đáng kể. Nhưng hơn cả, đối với một người mới như em thì việc rèn dũa, ôn luyện lại những gì đã được học là điều rất quan trọng, những kiến thức căn bản là nền tảng cho những kiến thức sau này.\n",
    "\n",
    "**SAU KHI KẾT THÚC MÔN HỌC**\n",
    "\n",
    "Trước hết là về giảng viên hướng dẫn là thầy _Trần Trung Kiên_:\n",
    "\n",
    "Không phải em cố tình khen nhưng thực sự thầy dạy học rất nhiệt tình, thầy rất thân thiện với sinh viên đôi khi còn hay đùa để tạo tiếng cười giúp buổi học đỡ căng thẳng mệt mỏi, bài học của thầy rất cụ thể với từng bước demo rất rõ ràng, dễ hình dùng và hiểu bài rõ hơn.\n",
    "\n",
    "Thứ 2 là về môn học _Lập trình cho khoa học dữ liệu_:\n",
    "\n",
    "Với một người dần mất định hướng về nghề nghiệp như em thì khi đăng ký học môn này quả là một lựa chọn đúng đắn. Kiến thức môn học này tuy chỉ ở mức \"basic\" nhưng thực sự rất hay, mở ra một con đường mới mà em có thể theo đuổi.\n",
    "\n",
    "Từ khi bắt đầu với xuất phát điểm hơi thấp như là mới biết về cơ bản Python, chỉ sử dụng Windows thì qua môn học này thì em có thêm nhiều kiến thức mới, dần làm quen với vài câu lệnh Linux, làm việc nhiều hơn với Python, với các thư viện về dữ liệu và càng ngày kỹ năng càng được cải thiện rõ rệt qua các bài tập lab. Nếu xui xui rớt môn thì chắc chắn em sẽ đăng ký học lại ><! =)\n",
    "\n",
    "Chung quy lại là môn học này hay, kiến thức bổ ích, giảng viên nhiệt tình, nên học dù là có theo hướng data science hay không thì rất nên học vì tính ứng dụng của nó mang lại, có thể sử dụng trong nhiều công việc sau này."
   ]
  },
  {
   "cell_type": "markdown",
   "id": "alert-asbestos",
   "metadata": {
    "heading_collapsed": true,
    "hidden": true
   },
   "source": [
    "## 4.2 Mai Duy Nam - 19120298\n",
    "Đối với em, quá trình làm đồ án diễn ra tương đối thuận lợi. Các bước làm đồ án, từ tìm kiếm dữ liệu, phân chia việc với Huy, khám phá, phân tích dữ liệu đều diễn ra suôn sẻ. Em chỉ gặp khó khăn trong giai đoạn suy nghĩ câu hỏi có ý nghĩa để trả lời, vì bộ dữ liệu này có tương đối ít dữ liệu số. Tuy nhiên sau khi tìm ra được bài toán ưng ý để giải thì mọi bước sau đó diễn ra thuận lợi và không gặp trở ngại gì lớn.\n",
    "\n",
    "Trong quá trình làm đồ án, em không thực sự học thêm kiến thức mới ngoài những kỹ năng đã học trên lớp (NumPy, pandas, matplotlib). Tuy nhiên em được dịp luyện tập sử dụng các công cụ quan trọng này, luyện tập các kiến thức như xử lý dữ liệu nhiều chiều, array programming. Có thể nói, sau đồ án này em cũng đạt được độ thành thạo nhất định trong việc làm việc với các công cụ quan trọng của khoa học dữ liệu."
   ]
  },
  {
   "cell_type": "markdown",
   "id": "classified-fabric",
   "metadata": {
    "heading_collapsed": true,
    "hidden": true
   },
   "source": [
    "## 4.3 Phương hướng phát triển nếu còn thời gian"
   ]
  },
  {
   "cell_type": "markdown",
   "id": "horizontal-handle",
   "metadata": {
    "hidden": true
   },
   "source": [
    "Nếu có thêm thời gian, có thể sẽ phân tích sâu về description tìm kiếm những thông tin về salary, mở rộng thêm về những kỹ năng nào sẽ ứng với các mức lương như nào,..."
   ]
  },
  {
   "cell_type": "markdown",
   "id": "general-current",
   "metadata": {
    "hidden": true
   },
   "source": [
    "Đối với câu hỏi của Nam, nếu có thêm thời gian, em sẽ cải thiện một số điều như sau:\n",
    "* Trong phân tích này, các từ khóa được lựa chọn và sắp xếp một cách chủ quan. Em có thể thay đổi điều này bằng cách áp dụng các mô hình học máy để xác định các từ khóa đặc trưng cho từng lĩnh vực.\n",
    "* Làm tốt hơn trong việc tiền xử lý chuỗi bằng tokenization và lemmatization.\n",
    "* Thêm các cách đánh giá mới cho một trường, thay vì chỉ xác định xem có từ khóa nào nằm trong trường hay không, ví dụ: kiểm tra trường có chứa một _bộ_ các từ khóa hay không."
   ]
  },
  {
   "cell_type": "markdown",
   "id": "cd07db76",
   "metadata": {},
   "source": [
    "# 5. Tài liệu tham khảo"
   ]
  },
  {
   "cell_type": "markdown",
   "id": "unique-extension",
   "metadata": {},
   "source": [
    "* [Dataset](https://www.kaggle.com/halhuynh/it-jobs-dataset)\n",
    "* [pandas documentation](https://pandas.pydata.org/docs/)\n",
    "* [NumPy Documentation](https://numpy.org/doc/)\n",
    "* [Matplotlib 3.5.1 documentation](https://matplotlib.org/stable/)"
   ]
  }
 ],
 "metadata": {
  "jupytext": {
   "formats": "ipynb,md"
  },
  "kernelspec": {
   "display_name": "Python 3 (ipykernel)",
   "language": "python",
   "name": "python3"
  },
  "language_info": {
   "codemirror_mode": {
    "name": "ipython",
    "version": 3
   },
   "file_extension": ".py",
   "mimetype": "text/x-python",
   "name": "python",
   "nbconvert_exporter": "python",
   "pygments_lexer": "ipython3",
   "version": "3.8.8"
  },
  "toc": {
   "base_numbering": 1,
   "nav_menu": {},
   "number_sections": true,
   "sideBar": true,
   "skip_h1_title": false,
   "title_cell": "Table of Contents",
   "title_sidebar": "Contents",
   "toc_cell": false,
   "toc_position": {},
   "toc_section_display": true,
   "toc_window_display": false
  }
 },
 "nbformat": 4,
 "nbformat_minor": 5
}
